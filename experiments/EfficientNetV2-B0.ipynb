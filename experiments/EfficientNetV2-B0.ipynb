{
  "metadata": {
    "kernelspec": {
      "language": "python",
      "display_name": "Python 3",
      "name": "python3"
    },
    "language_info": {
      "name": "python",
      "version": "3.7.12",
      "mimetype": "text/x-python",
      "codemirror_mode": {
        "name": "ipython",
        "version": 3
      },
      "pygments_lexer": "ipython3",
      "nbconvert_exporter": "python",
      "file_extension": ".py"
    },
    "colab": {
      "name": "Model Optimization.ipynb",
      "provenance": [],
      "include_colab_link": true
    },
    "accelerator": "GPU"
  },
  "nbformat_minor": 0,
  "nbformat": 4,
  "cells": [
    {
      "cell_type": "markdown",
      "metadata": {
        "id": "view-in-github",
        "colab_type": "text"
      },
      "source": [
        "<a href=\"https://colab.research.google.com/github/acg12/corona-disease-detector/blob/master/experiments/EfficientNetV2-B0.ipynb\" target=\"_parent\"><img src=\"https://colab.research.google.com/assets/colab-badge.svg\" alt=\"Open In Colab\"/></a>"
      ]
    },
    {
      "cell_type": "code",
      "metadata": {
        "execution": {
          "iopub.status.busy": "2021-10-25T04:14:30.289324Z",
          "iopub.execute_input": "2021-10-25T04:14:30.289878Z",
          "iopub.status.idle": "2021-10-25T04:14:39.480719Z",
          "shell.execute_reply.started": "2021-10-25T04:14:30.28984Z",
          "shell.execute_reply": "2021-10-25T04:14:39.479824Z"
        },
        "trusted": true,
        "id": "ePxe06HF4kBG",
        "colab": {
          "base_uri": "https://localhost:8080/"
        },
        "outputId": "3415ce9f-fdf5-4322-b76c-552ffa6b75d1"
      },
      "source": [
        "!pip install openpyxl\n",
        "!pip install kaggle"
      ],
      "execution_count": 12,
      "outputs": [
        {
          "output_type": "stream",
          "name": "stdout",
          "text": [
            "Requirement already satisfied: openpyxl in /usr/local/lib/python3.7/dist-packages (2.5.9)\n",
            "Requirement already satisfied: jdcal in /usr/local/lib/python3.7/dist-packages (from openpyxl) (1.4.1)\n",
            "Requirement already satisfied: et-xmlfile in /usr/local/lib/python3.7/dist-packages (from openpyxl) (1.1.0)\n",
            "Requirement already satisfied: kaggle in /usr/local/lib/python3.7/dist-packages (1.5.12)\n",
            "Requirement already satisfied: tqdm in /usr/local/lib/python3.7/dist-packages (from kaggle) (4.62.3)\n",
            "Requirement already satisfied: certifi in /usr/local/lib/python3.7/dist-packages (from kaggle) (2021.10.8)\n",
            "Requirement already satisfied: python-slugify in /usr/local/lib/python3.7/dist-packages (from kaggle) (5.0.2)\n",
            "Requirement already satisfied: urllib3 in /usr/local/lib/python3.7/dist-packages (from kaggle) (1.24.3)\n",
            "Requirement already satisfied: python-dateutil in /usr/local/lib/python3.7/dist-packages (from kaggle) (2.8.2)\n",
            "Requirement already satisfied: six>=1.10 in /usr/local/lib/python3.7/dist-packages (from kaggle) (1.15.0)\n",
            "Requirement already satisfied: requests in /usr/local/lib/python3.7/dist-packages (from kaggle) (2.23.0)\n",
            "Requirement already satisfied: text-unidecode>=1.3 in /usr/local/lib/python3.7/dist-packages (from python-slugify->kaggle) (1.3)\n",
            "Requirement already satisfied: idna<3,>=2.5 in /usr/local/lib/python3.7/dist-packages (from requests->kaggle) (2.10)\n",
            "Requirement already satisfied: chardet<4,>=3.0.2 in /usr/local/lib/python3.7/dist-packages (from requests->kaggle) (3.0.4)\n"
          ]
        }
      ]
    },
    {
      "cell_type": "code",
      "source": [
        "import numpy as np # linear algebra\n",
        "import pandas as pd # data processing, CSV file I/O (e.g. pd.read_csv)\n",
        "\n",
        "from sklearn.model_selection import train_test_split\n",
        "\n",
        "# For visualizing images\n",
        "import matplotlib.pyplot as plt\n",
        "import seaborn as sns\n",
        "import matplotlib.image as mpimg\n",
        "import random\n",
        "from plotly.subplots import make_subplots\n",
        "import plotly.graph_objects as go\n",
        "\n",
        "# For augmenting data\n",
        "from tensorflow.keras.preprocessing.image import ImageDataGenerator\n",
        "\n",
        "# For modelling\n",
        "import tensorflow as tf\n",
        "from tensorflow import keras\n",
        "from tensorflow.keras.optimizers import Adam, SGD\n",
        "from tensorflow.keras.layers import Dense, Flatten, Conv2D, MaxPool2D, Activation\n",
        "from tensorflow.keras import Sequential, layers\n",
        "import tensorflow_hub as hub\n",
        "from sklearn.model_selection import StratifiedKFold\n",
        "\n",
        "# For evaluation\n",
        "from tensorflow.keras.models import load_model\n",
        "from sklearn.metrics import classification_report, confusion_matrix, roc_curve\n",
        "\n",
        "import os"
      ],
      "metadata": {
        "_uuid": "8f2839f25d086af736a60e9eeb907d3b93b6e0e5",
        "_cell_guid": "b1076dfc-b9ad-4769-8c92-a6c4dae69d19",
        "execution": {
          "iopub.status.busy": "2022-01-13T05:39:18.760050Z",
          "iopub.execute_input": "2022-01-13T05:39:18.760359Z",
          "iopub.status.idle": "2022-01-13T05:39:24.615555Z",
          "shell.execute_reply.started": "2022-01-13T05:39:18.760325Z",
          "shell.execute_reply": "2022-01-13T05:39:24.614829Z"
        },
        "trusted": true,
        "id": "JY6lJRF7Zg7l"
      },
      "execution_count": 13,
      "outputs": []
    },
    {
      "cell_type": "code",
      "metadata": {
        "id": "png93YD65PJH"
      },
      "source": [
        "!rm -r ~/.kaggle\n",
        "!mkdir ~/.kaggle\n",
        "!mv ./kaggle.json ~/.kaggle/\n",
        "!chmod 600 ~/.kaggle/kaggle.json"
      ],
      "execution_count": 18,
      "outputs": []
    },
    {
      "cell_type": "code",
      "metadata": {
        "colab": {
          "base_uri": "https://localhost:8080/"
        },
        "id": "e8u8SEqQ5y1T",
        "outputId": "0faa7329-468b-4f30-fb3c-4d3c6f696483"
      },
      "source": [
        "!kaggle datasets download -d tawsifurrahman/covid19-radiography-database"
      ],
      "execution_count": 19,
      "outputs": [
        {
          "output_type": "stream",
          "name": "stdout",
          "text": [
            "Downloading covid19-radiography-database.zip to /content\n",
            "100% 742M/745M [00:13<00:00, 41.4MB/s]\n",
            "100% 745M/745M [00:13<00:00, 58.6MB/s]\n"
          ]
        }
      ]
    },
    {
      "cell_type": "code",
      "metadata": {
        "id": "ikLFtdyU5_IG"
      },
      "source": [
        "!unzip -q /content/covid19-radiography-database.zip"
      ],
      "execution_count": 20,
      "outputs": []
    },
    {
      "cell_type": "code",
      "metadata": {
        "execution": {
          "iopub.status.busy": "2021-10-25T04:14:52.571572Z",
          "iopub.execute_input": "2021-10-25T04:14:52.571834Z",
          "iopub.status.idle": "2021-10-25T04:14:54.00422Z",
          "shell.execute_reply.started": "2021-10-25T04:14:52.571801Z",
          "shell.execute_reply": "2021-10-25T04:14:54.003412Z"
        },
        "trusted": true,
        "id": "fqJUpd3w4kBI"
      },
      "source": [
        "covid_df = pd.read_excel(\"/content/COVID-19_Radiography_Dataset/COVID.metadata.xlsx\")\n",
        "normal_df = pd.read_excel(\"/content/COVID-19_Radiography_Dataset/Normal.metadata.xlsx\")"
      ],
      "execution_count": 21,
      "outputs": []
    },
    {
      "cell_type": "code",
      "source": [
        "covid_df['TARGET'] = 'Positive'\n",
        "normal_df['TARGET'] = 'Negative'\n",
        "normal_df.head()"
      ],
      "metadata": {
        "execution": {
          "iopub.status.busy": "2022-01-13T05:39:37.183028Z",
          "iopub.execute_input": "2022-01-13T05:39:37.183887Z",
          "iopub.status.idle": "2022-01-13T05:39:37.208582Z",
          "shell.execute_reply.started": "2022-01-13T05:39:37.183846Z",
          "shell.execute_reply": "2022-01-13T05:39:37.207942Z"
        },
        "trusted": true,
        "colab": {
          "base_uri": "https://localhost:8080/",
          "height": 206
        },
        "id": "Mwx65VroZg7u",
        "outputId": "1fd47852-bd97-48e4-e638-5b952081a5e0"
      },
      "execution_count": 22,
      "outputs": [
        {
          "output_type": "execute_result",
          "data": {
            "text/html": [
              "\n",
              "  <div id=\"df-9dcfe2bb-412f-44d6-ae58-afb3ed844a3a\">\n",
              "    <div class=\"colab-df-container\">\n",
              "      <div>\n",
              "<style scoped>\n",
              "    .dataframe tbody tr th:only-of-type {\n",
              "        vertical-align: middle;\n",
              "    }\n",
              "\n",
              "    .dataframe tbody tr th {\n",
              "        vertical-align: top;\n",
              "    }\n",
              "\n",
              "    .dataframe thead th {\n",
              "        text-align: right;\n",
              "    }\n",
              "</style>\n",
              "<table border=\"1\" class=\"dataframe\">\n",
              "  <thead>\n",
              "    <tr style=\"text-align: right;\">\n",
              "      <th></th>\n",
              "      <th>FILE NAME</th>\n",
              "      <th>FORMAT</th>\n",
              "      <th>SIZE</th>\n",
              "      <th>URL</th>\n",
              "      <th>TARGET</th>\n",
              "    </tr>\n",
              "  </thead>\n",
              "  <tbody>\n",
              "    <tr>\n",
              "      <th>0</th>\n",
              "      <td>NORMAL-1</td>\n",
              "      <td>PNG</td>\n",
              "      <td>256*256</td>\n",
              "      <td>https://www.kaggle.com/c/rsna-pneumonia-detect...</td>\n",
              "      <td>Negative</td>\n",
              "    </tr>\n",
              "    <tr>\n",
              "      <th>1</th>\n",
              "      <td>NORMAL-2</td>\n",
              "      <td>PNG</td>\n",
              "      <td>256*256</td>\n",
              "      <td>https://www.kaggle.com/c/rsna-pneumonia-detect...</td>\n",
              "      <td>Negative</td>\n",
              "    </tr>\n",
              "    <tr>\n",
              "      <th>2</th>\n",
              "      <td>NORMAL-3</td>\n",
              "      <td>PNG</td>\n",
              "      <td>256*256</td>\n",
              "      <td>https://www.kaggle.com/c/rsna-pneumonia-detect...</td>\n",
              "      <td>Negative</td>\n",
              "    </tr>\n",
              "    <tr>\n",
              "      <th>3</th>\n",
              "      <td>NORMAL-4</td>\n",
              "      <td>PNG</td>\n",
              "      <td>256*256</td>\n",
              "      <td>https://www.kaggle.com/c/rsna-pneumonia-detect...</td>\n",
              "      <td>Negative</td>\n",
              "    </tr>\n",
              "    <tr>\n",
              "      <th>4</th>\n",
              "      <td>NORMAL-5</td>\n",
              "      <td>PNG</td>\n",
              "      <td>256*256</td>\n",
              "      <td>https://www.kaggle.com/c/rsna-pneumonia-detect...</td>\n",
              "      <td>Negative</td>\n",
              "    </tr>\n",
              "  </tbody>\n",
              "</table>\n",
              "</div>\n",
              "      <button class=\"colab-df-convert\" onclick=\"convertToInteractive('df-9dcfe2bb-412f-44d6-ae58-afb3ed844a3a')\"\n",
              "              title=\"Convert this dataframe to an interactive table.\"\n",
              "              style=\"display:none;\">\n",
              "        \n",
              "  <svg xmlns=\"http://www.w3.org/2000/svg\" height=\"24px\"viewBox=\"0 0 24 24\"\n",
              "       width=\"24px\">\n",
              "    <path d=\"M0 0h24v24H0V0z\" fill=\"none\"/>\n",
              "    <path d=\"M18.56 5.44l.94 2.06.94-2.06 2.06-.94-2.06-.94-.94-2.06-.94 2.06-2.06.94zm-11 1L8.5 8.5l.94-2.06 2.06-.94-2.06-.94L8.5 2.5l-.94 2.06-2.06.94zm10 10l.94 2.06.94-2.06 2.06-.94-2.06-.94-.94-2.06-.94 2.06-2.06.94z\"/><path d=\"M17.41 7.96l-1.37-1.37c-.4-.4-.92-.59-1.43-.59-.52 0-1.04.2-1.43.59L10.3 9.45l-7.72 7.72c-.78.78-.78 2.05 0 2.83L4 21.41c.39.39.9.59 1.41.59.51 0 1.02-.2 1.41-.59l7.78-7.78 2.81-2.81c.8-.78.8-2.07 0-2.86zM5.41 20L4 18.59l7.72-7.72 1.47 1.35L5.41 20z\"/>\n",
              "  </svg>\n",
              "      </button>\n",
              "      \n",
              "  <style>\n",
              "    .colab-df-container {\n",
              "      display:flex;\n",
              "      flex-wrap:wrap;\n",
              "      gap: 12px;\n",
              "    }\n",
              "\n",
              "    .colab-df-convert {\n",
              "      background-color: #E8F0FE;\n",
              "      border: none;\n",
              "      border-radius: 50%;\n",
              "      cursor: pointer;\n",
              "      display: none;\n",
              "      fill: #1967D2;\n",
              "      height: 32px;\n",
              "      padding: 0 0 0 0;\n",
              "      width: 32px;\n",
              "    }\n",
              "\n",
              "    .colab-df-convert:hover {\n",
              "      background-color: #E2EBFA;\n",
              "      box-shadow: 0px 1px 2px rgba(60, 64, 67, 0.3), 0px 1px 3px 1px rgba(60, 64, 67, 0.15);\n",
              "      fill: #174EA6;\n",
              "    }\n",
              "\n",
              "    [theme=dark] .colab-df-convert {\n",
              "      background-color: #3B4455;\n",
              "      fill: #D2E3FC;\n",
              "    }\n",
              "\n",
              "    [theme=dark] .colab-df-convert:hover {\n",
              "      background-color: #434B5C;\n",
              "      box-shadow: 0px 1px 3px 1px rgba(0, 0, 0, 0.15);\n",
              "      filter: drop-shadow(0px 1px 2px rgba(0, 0, 0, 0.3));\n",
              "      fill: #FFFFFF;\n",
              "    }\n",
              "  </style>\n",
              "\n",
              "      <script>\n",
              "        const buttonEl =\n",
              "          document.querySelector('#df-9dcfe2bb-412f-44d6-ae58-afb3ed844a3a button.colab-df-convert');\n",
              "        buttonEl.style.display =\n",
              "          google.colab.kernel.accessAllowed ? 'block' : 'none';\n",
              "\n",
              "        async function convertToInteractive(key) {\n",
              "          const element = document.querySelector('#df-9dcfe2bb-412f-44d6-ae58-afb3ed844a3a');\n",
              "          const dataTable =\n",
              "            await google.colab.kernel.invokeFunction('convertToInteractive',\n",
              "                                                     [key], {});\n",
              "          if (!dataTable) return;\n",
              "\n",
              "          const docLinkHtml = 'Like what you see? Visit the ' +\n",
              "            '<a target=\"_blank\" href=https://colab.research.google.com/notebooks/data_table.ipynb>data table notebook</a>'\n",
              "            + ' to learn more about interactive tables.';\n",
              "          element.innerHTML = '';\n",
              "          dataTable['output_type'] = 'display_data';\n",
              "          await google.colab.output.renderOutput(dataTable, element);\n",
              "          const docLink = document.createElement('div');\n",
              "          docLink.innerHTML = docLinkHtml;\n",
              "          element.appendChild(docLink);\n",
              "        }\n",
              "      </script>\n",
              "    </div>\n",
              "  </div>\n",
              "  "
            ],
            "text/plain": [
              "  FILE NAME FORMAT  ...                                                URL    TARGET\n",
              "0  NORMAL-1    PNG  ...  https://www.kaggle.com/c/rsna-pneumonia-detect...  Negative\n",
              "1  NORMAL-2    PNG  ...  https://www.kaggle.com/c/rsna-pneumonia-detect...  Negative\n",
              "2  NORMAL-3    PNG  ...  https://www.kaggle.com/c/rsna-pneumonia-detect...  Negative\n",
              "3  NORMAL-4    PNG  ...  https://www.kaggle.com/c/rsna-pneumonia-detect...  Negative\n",
              "4  NORMAL-5    PNG  ...  https://www.kaggle.com/c/rsna-pneumonia-detect...  Negative\n",
              "\n",
              "[5 rows x 5 columns]"
            ]
          },
          "metadata": {},
          "execution_count": 22
        }
      ]
    },
    {
      "cell_type": "code",
      "source": [
        "covid_df['FILE NAME'] = covid_df.apply(lambda x: \"COVID/\" + x['FILE NAME'] + \".\" + str.lower(x['FORMAT']), axis=1)\n",
        "normal_df['FILE NAME'] = normal_df.apply(lambda x: \"Normal/\" + str.capitalize(x['FILE NAME']) + \".\" + str.lower(x['FORMAT']), axis=1)\n",
        "normal_df.head()"
      ],
      "metadata": {
        "execution": {
          "iopub.status.busy": "2022-01-13T05:39:37.209856Z",
          "iopub.execute_input": "2022-01-13T05:39:37.210132Z",
          "iopub.status.idle": "2022-01-13T05:39:37.454566Z",
          "shell.execute_reply.started": "2022-01-13T05:39:37.210099Z",
          "shell.execute_reply": "2022-01-13T05:39:37.453769Z"
        },
        "trusted": true,
        "colab": {
          "base_uri": "https://localhost:8080/",
          "height": 206
        },
        "id": "Wbw_xX5QZg7v",
        "outputId": "cd4bff42-0794-45b4-b0a2-a80270f8ade0"
      },
      "execution_count": 23,
      "outputs": [
        {
          "output_type": "execute_result",
          "data": {
            "text/html": [
              "\n",
              "  <div id=\"df-a5e78087-e249-4a33-b8f3-280ec3191c01\">\n",
              "    <div class=\"colab-df-container\">\n",
              "      <div>\n",
              "<style scoped>\n",
              "    .dataframe tbody tr th:only-of-type {\n",
              "        vertical-align: middle;\n",
              "    }\n",
              "\n",
              "    .dataframe tbody tr th {\n",
              "        vertical-align: top;\n",
              "    }\n",
              "\n",
              "    .dataframe thead th {\n",
              "        text-align: right;\n",
              "    }\n",
              "</style>\n",
              "<table border=\"1\" class=\"dataframe\">\n",
              "  <thead>\n",
              "    <tr style=\"text-align: right;\">\n",
              "      <th></th>\n",
              "      <th>FILE NAME</th>\n",
              "      <th>FORMAT</th>\n",
              "      <th>SIZE</th>\n",
              "      <th>URL</th>\n",
              "      <th>TARGET</th>\n",
              "    </tr>\n",
              "  </thead>\n",
              "  <tbody>\n",
              "    <tr>\n",
              "      <th>0</th>\n",
              "      <td>Normal/Normal-1.png</td>\n",
              "      <td>PNG</td>\n",
              "      <td>256*256</td>\n",
              "      <td>https://www.kaggle.com/c/rsna-pneumonia-detect...</td>\n",
              "      <td>Negative</td>\n",
              "    </tr>\n",
              "    <tr>\n",
              "      <th>1</th>\n",
              "      <td>Normal/Normal-2.png</td>\n",
              "      <td>PNG</td>\n",
              "      <td>256*256</td>\n",
              "      <td>https://www.kaggle.com/c/rsna-pneumonia-detect...</td>\n",
              "      <td>Negative</td>\n",
              "    </tr>\n",
              "    <tr>\n",
              "      <th>2</th>\n",
              "      <td>Normal/Normal-3.png</td>\n",
              "      <td>PNG</td>\n",
              "      <td>256*256</td>\n",
              "      <td>https://www.kaggle.com/c/rsna-pneumonia-detect...</td>\n",
              "      <td>Negative</td>\n",
              "    </tr>\n",
              "    <tr>\n",
              "      <th>3</th>\n",
              "      <td>Normal/Normal-4.png</td>\n",
              "      <td>PNG</td>\n",
              "      <td>256*256</td>\n",
              "      <td>https://www.kaggle.com/c/rsna-pneumonia-detect...</td>\n",
              "      <td>Negative</td>\n",
              "    </tr>\n",
              "    <tr>\n",
              "      <th>4</th>\n",
              "      <td>Normal/Normal-5.png</td>\n",
              "      <td>PNG</td>\n",
              "      <td>256*256</td>\n",
              "      <td>https://www.kaggle.com/c/rsna-pneumonia-detect...</td>\n",
              "      <td>Negative</td>\n",
              "    </tr>\n",
              "  </tbody>\n",
              "</table>\n",
              "</div>\n",
              "      <button class=\"colab-df-convert\" onclick=\"convertToInteractive('df-a5e78087-e249-4a33-b8f3-280ec3191c01')\"\n",
              "              title=\"Convert this dataframe to an interactive table.\"\n",
              "              style=\"display:none;\">\n",
              "        \n",
              "  <svg xmlns=\"http://www.w3.org/2000/svg\" height=\"24px\"viewBox=\"0 0 24 24\"\n",
              "       width=\"24px\">\n",
              "    <path d=\"M0 0h24v24H0V0z\" fill=\"none\"/>\n",
              "    <path d=\"M18.56 5.44l.94 2.06.94-2.06 2.06-.94-2.06-.94-.94-2.06-.94 2.06-2.06.94zm-11 1L8.5 8.5l.94-2.06 2.06-.94-2.06-.94L8.5 2.5l-.94 2.06-2.06.94zm10 10l.94 2.06.94-2.06 2.06-.94-2.06-.94-.94-2.06-.94 2.06-2.06.94z\"/><path d=\"M17.41 7.96l-1.37-1.37c-.4-.4-.92-.59-1.43-.59-.52 0-1.04.2-1.43.59L10.3 9.45l-7.72 7.72c-.78.78-.78 2.05 0 2.83L4 21.41c.39.39.9.59 1.41.59.51 0 1.02-.2 1.41-.59l7.78-7.78 2.81-2.81c.8-.78.8-2.07 0-2.86zM5.41 20L4 18.59l7.72-7.72 1.47 1.35L5.41 20z\"/>\n",
              "  </svg>\n",
              "      </button>\n",
              "      \n",
              "  <style>\n",
              "    .colab-df-container {\n",
              "      display:flex;\n",
              "      flex-wrap:wrap;\n",
              "      gap: 12px;\n",
              "    }\n",
              "\n",
              "    .colab-df-convert {\n",
              "      background-color: #E8F0FE;\n",
              "      border: none;\n",
              "      border-radius: 50%;\n",
              "      cursor: pointer;\n",
              "      display: none;\n",
              "      fill: #1967D2;\n",
              "      height: 32px;\n",
              "      padding: 0 0 0 0;\n",
              "      width: 32px;\n",
              "    }\n",
              "\n",
              "    .colab-df-convert:hover {\n",
              "      background-color: #E2EBFA;\n",
              "      box-shadow: 0px 1px 2px rgba(60, 64, 67, 0.3), 0px 1px 3px 1px rgba(60, 64, 67, 0.15);\n",
              "      fill: #174EA6;\n",
              "    }\n",
              "\n",
              "    [theme=dark] .colab-df-convert {\n",
              "      background-color: #3B4455;\n",
              "      fill: #D2E3FC;\n",
              "    }\n",
              "\n",
              "    [theme=dark] .colab-df-convert:hover {\n",
              "      background-color: #434B5C;\n",
              "      box-shadow: 0px 1px 3px 1px rgba(0, 0, 0, 0.15);\n",
              "      filter: drop-shadow(0px 1px 2px rgba(0, 0, 0, 0.3));\n",
              "      fill: #FFFFFF;\n",
              "    }\n",
              "  </style>\n",
              "\n",
              "      <script>\n",
              "        const buttonEl =\n",
              "          document.querySelector('#df-a5e78087-e249-4a33-b8f3-280ec3191c01 button.colab-df-convert');\n",
              "        buttonEl.style.display =\n",
              "          google.colab.kernel.accessAllowed ? 'block' : 'none';\n",
              "\n",
              "        async function convertToInteractive(key) {\n",
              "          const element = document.querySelector('#df-a5e78087-e249-4a33-b8f3-280ec3191c01');\n",
              "          const dataTable =\n",
              "            await google.colab.kernel.invokeFunction('convertToInteractive',\n",
              "                                                     [key], {});\n",
              "          if (!dataTable) return;\n",
              "\n",
              "          const docLinkHtml = 'Like what you see? Visit the ' +\n",
              "            '<a target=\"_blank\" href=https://colab.research.google.com/notebooks/data_table.ipynb>data table notebook</a>'\n",
              "            + ' to learn more about interactive tables.';\n",
              "          element.innerHTML = '';\n",
              "          dataTable['output_type'] = 'display_data';\n",
              "          await google.colab.output.renderOutput(dataTable, element);\n",
              "          const docLink = document.createElement('div');\n",
              "          docLink.innerHTML = docLinkHtml;\n",
              "          element.appendChild(docLink);\n",
              "        }\n",
              "      </script>\n",
              "    </div>\n",
              "  </div>\n",
              "  "
            ],
            "text/plain": [
              "             FILE NAME  ...    TARGET\n",
              "0  Normal/Normal-1.png  ...  Negative\n",
              "1  Normal/Normal-2.png  ...  Negative\n",
              "2  Normal/Normal-3.png  ...  Negative\n",
              "3  Normal/Normal-4.png  ...  Negative\n",
              "4  Normal/Normal-5.png  ...  Negative\n",
              "\n",
              "[5 rows x 5 columns]"
            ]
          },
          "metadata": {},
          "execution_count": 23
        }
      ]
    },
    {
      "cell_type": "code",
      "source": [
        "df = pd.concat([normal_df[['FILE NAME', 'TARGET']], \n",
        "                covid_df[['FILE NAME','TARGET']]], ignore_index=True)\n",
        "df.head()"
      ],
      "metadata": {
        "execution": {
          "iopub.status.busy": "2022-01-13T05:39:37.456079Z",
          "iopub.execute_input": "2022-01-13T05:39:37.456341Z",
          "iopub.status.idle": "2022-01-13T05:39:37.473351Z",
          "shell.execute_reply.started": "2022-01-13T05:39:37.456306Z",
          "shell.execute_reply": "2022-01-13T05:39:37.472723Z"
        },
        "trusted": true,
        "colab": {
          "base_uri": "https://localhost:8080/",
          "height": 206
        },
        "id": "2CuQun9VZg7x",
        "outputId": "7a9bcb11-71b5-42a9-c3c8-0635b930e97d"
      },
      "execution_count": 24,
      "outputs": [
        {
          "output_type": "execute_result",
          "data": {
            "text/html": [
              "\n",
              "  <div id=\"df-71d5a636-513b-47aa-b011-b27c52a64423\">\n",
              "    <div class=\"colab-df-container\">\n",
              "      <div>\n",
              "<style scoped>\n",
              "    .dataframe tbody tr th:only-of-type {\n",
              "        vertical-align: middle;\n",
              "    }\n",
              "\n",
              "    .dataframe tbody tr th {\n",
              "        vertical-align: top;\n",
              "    }\n",
              "\n",
              "    .dataframe thead th {\n",
              "        text-align: right;\n",
              "    }\n",
              "</style>\n",
              "<table border=\"1\" class=\"dataframe\">\n",
              "  <thead>\n",
              "    <tr style=\"text-align: right;\">\n",
              "      <th></th>\n",
              "      <th>FILE NAME</th>\n",
              "      <th>TARGET</th>\n",
              "    </tr>\n",
              "  </thead>\n",
              "  <tbody>\n",
              "    <tr>\n",
              "      <th>0</th>\n",
              "      <td>Normal/Normal-1.png</td>\n",
              "      <td>Negative</td>\n",
              "    </tr>\n",
              "    <tr>\n",
              "      <th>1</th>\n",
              "      <td>Normal/Normal-2.png</td>\n",
              "      <td>Negative</td>\n",
              "    </tr>\n",
              "    <tr>\n",
              "      <th>2</th>\n",
              "      <td>Normal/Normal-3.png</td>\n",
              "      <td>Negative</td>\n",
              "    </tr>\n",
              "    <tr>\n",
              "      <th>3</th>\n",
              "      <td>Normal/Normal-4.png</td>\n",
              "      <td>Negative</td>\n",
              "    </tr>\n",
              "    <tr>\n",
              "      <th>4</th>\n",
              "      <td>Normal/Normal-5.png</td>\n",
              "      <td>Negative</td>\n",
              "    </tr>\n",
              "  </tbody>\n",
              "</table>\n",
              "</div>\n",
              "      <button class=\"colab-df-convert\" onclick=\"convertToInteractive('df-71d5a636-513b-47aa-b011-b27c52a64423')\"\n",
              "              title=\"Convert this dataframe to an interactive table.\"\n",
              "              style=\"display:none;\">\n",
              "        \n",
              "  <svg xmlns=\"http://www.w3.org/2000/svg\" height=\"24px\"viewBox=\"0 0 24 24\"\n",
              "       width=\"24px\">\n",
              "    <path d=\"M0 0h24v24H0V0z\" fill=\"none\"/>\n",
              "    <path d=\"M18.56 5.44l.94 2.06.94-2.06 2.06-.94-2.06-.94-.94-2.06-.94 2.06-2.06.94zm-11 1L8.5 8.5l.94-2.06 2.06-.94-2.06-.94L8.5 2.5l-.94 2.06-2.06.94zm10 10l.94 2.06.94-2.06 2.06-.94-2.06-.94-.94-2.06-.94 2.06-2.06.94z\"/><path d=\"M17.41 7.96l-1.37-1.37c-.4-.4-.92-.59-1.43-.59-.52 0-1.04.2-1.43.59L10.3 9.45l-7.72 7.72c-.78.78-.78 2.05 0 2.83L4 21.41c.39.39.9.59 1.41.59.51 0 1.02-.2 1.41-.59l7.78-7.78 2.81-2.81c.8-.78.8-2.07 0-2.86zM5.41 20L4 18.59l7.72-7.72 1.47 1.35L5.41 20z\"/>\n",
              "  </svg>\n",
              "      </button>\n",
              "      \n",
              "  <style>\n",
              "    .colab-df-container {\n",
              "      display:flex;\n",
              "      flex-wrap:wrap;\n",
              "      gap: 12px;\n",
              "    }\n",
              "\n",
              "    .colab-df-convert {\n",
              "      background-color: #E8F0FE;\n",
              "      border: none;\n",
              "      border-radius: 50%;\n",
              "      cursor: pointer;\n",
              "      display: none;\n",
              "      fill: #1967D2;\n",
              "      height: 32px;\n",
              "      padding: 0 0 0 0;\n",
              "      width: 32px;\n",
              "    }\n",
              "\n",
              "    .colab-df-convert:hover {\n",
              "      background-color: #E2EBFA;\n",
              "      box-shadow: 0px 1px 2px rgba(60, 64, 67, 0.3), 0px 1px 3px 1px rgba(60, 64, 67, 0.15);\n",
              "      fill: #174EA6;\n",
              "    }\n",
              "\n",
              "    [theme=dark] .colab-df-convert {\n",
              "      background-color: #3B4455;\n",
              "      fill: #D2E3FC;\n",
              "    }\n",
              "\n",
              "    [theme=dark] .colab-df-convert:hover {\n",
              "      background-color: #434B5C;\n",
              "      box-shadow: 0px 1px 3px 1px rgba(0, 0, 0, 0.15);\n",
              "      filter: drop-shadow(0px 1px 2px rgba(0, 0, 0, 0.3));\n",
              "      fill: #FFFFFF;\n",
              "    }\n",
              "  </style>\n",
              "\n",
              "      <script>\n",
              "        const buttonEl =\n",
              "          document.querySelector('#df-71d5a636-513b-47aa-b011-b27c52a64423 button.colab-df-convert');\n",
              "        buttonEl.style.display =\n",
              "          google.colab.kernel.accessAllowed ? 'block' : 'none';\n",
              "\n",
              "        async function convertToInteractive(key) {\n",
              "          const element = document.querySelector('#df-71d5a636-513b-47aa-b011-b27c52a64423');\n",
              "          const dataTable =\n",
              "            await google.colab.kernel.invokeFunction('convertToInteractive',\n",
              "                                                     [key], {});\n",
              "          if (!dataTable) return;\n",
              "\n",
              "          const docLinkHtml = 'Like what you see? Visit the ' +\n",
              "            '<a target=\"_blank\" href=https://colab.research.google.com/notebooks/data_table.ipynb>data table notebook</a>'\n",
              "            + ' to learn more about interactive tables.';\n",
              "          element.innerHTML = '';\n",
              "          dataTable['output_type'] = 'display_data';\n",
              "          await google.colab.output.renderOutput(dataTable, element);\n",
              "          const docLink = document.createElement('div');\n",
              "          docLink.innerHTML = docLinkHtml;\n",
              "          element.appendChild(docLink);\n",
              "        }\n",
              "      </script>\n",
              "    </div>\n",
              "  </div>\n",
              "  "
            ],
            "text/plain": [
              "             FILE NAME    TARGET\n",
              "0  Normal/Normal-1.png  Negative\n",
              "1  Normal/Normal-2.png  Negative\n",
              "2  Normal/Normal-3.png  Negative\n",
              "3  Normal/Normal-4.png  Negative\n",
              "4  Normal/Normal-5.png  Negative"
            ]
          },
          "metadata": {},
          "execution_count": 24
        }
      ]
    },
    {
      "cell_type": "code",
      "source": [
        "train, test = train_test_split(df, test_size=0.2, stratify=df['TARGET'], random_state=42)\n",
        "print(train.shape)\n",
        "print(test.shape)"
      ],
      "metadata": {
        "execution": {
          "iopub.status.busy": "2022-01-13T05:39:37.474271Z",
          "iopub.execute_input": "2022-01-13T05:39:37.474460Z",
          "iopub.status.idle": "2022-01-13T05:39:37.504991Z",
          "shell.execute_reply.started": "2022-01-13T05:39:37.474437Z",
          "shell.execute_reply": "2022-01-13T05:39:37.504095Z"
        },
        "trusted": true,
        "colab": {
          "base_uri": "https://localhost:8080/"
        },
        "id": "jn6zVslXZg7y",
        "outputId": "2ac0e39d-77b2-47b5-c6a6-645509242215"
      },
      "execution_count": 25,
      "outputs": [
        {
          "output_type": "stream",
          "name": "stdout",
          "text": [
            "(11046, 2)\n",
            "(2762, 2)\n"
          ]
        }
      ]
    },
    {
      "cell_type": "code",
      "source": [
        "train_df, valid_df = train_test_split(train, test_size=0.2, stratify=train['TARGET'], random_state=42)\n",
        "print(train_df.shape)\n",
        "print(valid_df.shape)"
      ],
      "metadata": {
        "execution": {
          "iopub.status.busy": "2022-01-13T05:39:37.506613Z",
          "iopub.execute_input": "2022-01-13T05:39:37.506879Z",
          "iopub.status.idle": "2022-01-13T05:39:37.534052Z",
          "shell.execute_reply.started": "2022-01-13T05:39:37.506843Z",
          "shell.execute_reply": "2022-01-13T05:39:37.533197Z"
        },
        "trusted": true,
        "colab": {
          "base_uri": "https://localhost:8080/"
        },
        "id": "yfyDCOaaZg70",
        "outputId": "c1ff4d59-c193-4ddf-fb24-2c7063d5f5ee"
      },
      "execution_count": 26,
      "outputs": [
        {
          "output_type": "stream",
          "name": "stdout",
          "text": [
            "(8836, 2)\n",
            "(2210, 2)\n"
          ]
        }
      ]
    },
    {
      "cell_type": "code",
      "source": [
        "DATA_DIR = \"/content/COVID-19_Radiography_Dataset\"\n",
        "IMAGE_SIZE = (224, 224)\n",
        "\n",
        "non_aug_gen = ImageDataGenerator(rescale=1/255.)\n",
        "aug_gen = ImageDataGenerator(\n",
        "    rescale=1./255,\n",
        "    width_shift_range=0.15,\n",
        "    height_shift_range=0.15,\n",
        "    zoom_range=[0.9, 1.25],\n",
        "    brightness_range=[0.5, 1.5]\n",
        ")\n",
        "\n",
        "aug_train = aug_gen.flow_from_dataframe(\n",
        "    dataframe=train_df,\n",
        "    directory=DATA_DIR,\n",
        "    x_col='FILE NAME',\n",
        "    y_col='TARGET',\n",
        "    target_size=IMAGE_SIZE,\n",
        "    batch_size=32,\n",
        "    class_mode='binary', \n",
        "    color_mode='rgb',\n",
        "    shuffle=True\n",
        ")\n",
        "\n",
        "non_aug_valid = non_aug_gen.flow_from_dataframe(\n",
        "    dataframe=valid_df,\n",
        "    directory=DATA_DIR,\n",
        "    x_col='FILE NAME',\n",
        "    y_col='TARGET',\n",
        "    target_size=IMAGE_SIZE,\n",
        "    batch_size=32,\n",
        "    class_mode='binary', \n",
        "    color_mode='rgb',\n",
        "    shuffle=True\n",
        ")\n",
        "\n",
        "test_valid_gen = non_aug_gen.flow_from_dataframe(\n",
        "    dataframe=valid_df,\n",
        "    directory=DATA_DIR,\n",
        "    x_col='FILE NAME',\n",
        "    y_col='TARGET',\n",
        "    target_size=IMAGE_SIZE,\n",
        "    batch_size=32,\n",
        "    class_mode='binary', \n",
        "    color_mode='rgb',\n",
        "    shuffle=False\n",
        ")\n",
        "\n",
        "test_test_gen = non_aug_gen.flow_from_dataframe(\n",
        "    dataframe=test,\n",
        "    directory=DATA_DIR,\n",
        "    x_col='FILE NAME',\n",
        "    y_col='TARGET',\n",
        "    target_size=IMAGE_SIZE,\n",
        "    batch_size=32,\n",
        "    class_mode='binary', \n",
        "    color_mode='rgb',\n",
        "    shuffle=False\n",
        ")"
      ],
      "metadata": {
        "execution": {
          "iopub.status.busy": "2022-01-13T05:39:37.535708Z",
          "iopub.execute_input": "2022-01-13T05:39:37.536055Z",
          "iopub.status.idle": "2022-01-13T05:40:12.702096Z",
          "shell.execute_reply.started": "2022-01-13T05:39:37.536010Z",
          "shell.execute_reply": "2022-01-13T05:40:12.701219Z"
        },
        "trusted": true,
        "colab": {
          "base_uri": "https://localhost:8080/"
        },
        "id": "5zLV9oiLZg70",
        "outputId": "4e50af79-3ccb-436f-f155-af46b3322328"
      },
      "execution_count": 34,
      "outputs": [
        {
          "output_type": "stream",
          "name": "stdout",
          "text": [
            "Found 8836 validated image filenames belonging to 2 classes.\n",
            "Found 2210 validated image filenames belonging to 2 classes.\n",
            "Found 2210 validated image filenames belonging to 2 classes.\n",
            "Found 2762 validated image filenames belonging to 2 classes.\n"
          ]
        }
      ]
    },
    {
      "cell_type": "code",
      "source": [
        "def create_model(model_url, num_classes=1):\n",
        "    \"\"\"Takes a TensorFlow Hub URL and creates a Keras Sequential model with it.\n",
        "\n",
        "    Args:\n",
        "    model_url (str): A TensorFlow Hub feature extraction URL.\n",
        "    num_classes (int): Number of output neurons in output layer,\n",
        "    should be equal to number of target classes, default 10.\n",
        "\n",
        "    Returns:\n",
        "    An uncompiled Keras Sequential model with model_url as feature\n",
        "    extractor layer and Dense output layer with num_classes outputs.\n",
        "    \"\"\"\n",
        "    # Download the pretrained model and save it as a Keras layer\n",
        "    feature_extractor_layer = hub.KerasLayer(model_url,\n",
        "                                          trainable=False, # freeze the underlying patterns\n",
        "                                          name='feature_extraction_layer',\n",
        "                                          input_shape=(224, 224, 3,)) # define the input image shape\n",
        "\n",
        "    # Create our own model\n",
        "    model = tf.keras.Sequential([\n",
        "      feature_extractor_layer, # use the feature extraction layer as the base\n",
        "      layers.BatchNormalization(),\n",
        "      layers.Dense(128),\n",
        "      layers.Activation('elu'),\n",
        "      layers.Dropout(0.2),\n",
        "      layers.BatchNormalization(),\n",
        "      layers.Dense(128),\n",
        "      layers.Activation('elu'),\n",
        "      layers.Dropout(0.2),\n",
        "      layers.Dense(num_classes, activation='sigmoid', name='output_layer') # create our own output layer      \n",
        "    ])\n",
        "\n",
        "    return model"
      ],
      "metadata": {
        "execution": {
          "iopub.status.busy": "2022-01-13T05:40:12.705432Z",
          "iopub.execute_input": "2022-01-13T05:40:12.706259Z",
          "iopub.status.idle": "2022-01-13T05:40:12.715184Z",
          "shell.execute_reply.started": "2022-01-13T05:40:12.706213Z",
          "shell.execute_reply": "2022-01-13T05:40:12.714440Z"
        },
        "trusted": true,
        "id": "Lmsbk0IkZg72"
      },
      "execution_count": 35,
      "outputs": []
    },
    {
      "cell_type": "code",
      "source": [
        "efficientnetv2_url = 'https://tfhub.dev/google/imagenet/efficientnet_v2_imagenet21k_ft1k_b0/feature_vector/2'"
      ],
      "metadata": {
        "execution": {
          "iopub.status.busy": "2022-01-13T05:40:12.716845Z",
          "iopub.execute_input": "2022-01-13T05:40:12.717140Z",
          "iopub.status.idle": "2022-01-13T05:40:12.729192Z",
          "shell.execute_reply.started": "2022-01-13T05:40:12.717103Z",
          "shell.execute_reply": "2022-01-13T05:40:12.728228Z"
        },
        "trusted": true,
        "id": "CM4wzmPIZg74"
      },
      "execution_count": 36,
      "outputs": []
    },
    {
      "cell_type": "code",
      "source": [
        "metrics = [\n",
        "    keras.metrics.TruePositives(name='tp'),\n",
        "    keras.metrics.FalsePositives(name='fp'),\n",
        "    keras.metrics.TrueNegatives(name='tn'),\n",
        "    keras.metrics.FalseNegatives(name='fn'), \n",
        "    'accuracy',\n",
        "    keras.metrics.Precision(name='precision'),\n",
        "    keras.metrics.Recall(name='recall'),\n",
        "    keras.metrics.AUC(name='auc', curve='ROC')\n",
        "]\n",
        "callbacks = [tf.keras.callbacks.EarlyStopping(monitor='val_loss', patience=2, restore_best_weights=True),\n",
        "             tf.keras.callbacks.ModelCheckpoint('model_baseline.h5', save_best_only=True, monitor='val_loss')]"
      ],
      "metadata": {
        "execution": {
          "iopub.status.busy": "2022-01-13T05:40:12.731009Z",
          "iopub.execute_input": "2022-01-13T05:40:12.731655Z",
          "iopub.status.idle": "2022-01-13T05:40:15.458128Z",
          "shell.execute_reply.started": "2022-01-13T05:40:12.731610Z",
          "shell.execute_reply": "2022-01-13T05:40:15.456488Z"
        },
        "trusted": true,
        "id": "ep5MUaOiZg75"
      },
      "execution_count": 37,
      "outputs": []
    },
    {
      "cell_type": "code",
      "source": [
        "# Add reduced LR to callbacks\n",
        "reduce_lr = tf.keras.callbacks.ReduceLROnPlateau(monitor=\"val_loss\",  \n",
        "                                                 factor=0.2, # multiply the learning rate by 0.2 (reduce by 5x)\n",
        "                                                 patience=4,\n",
        "                                                 verbose=1, # print out when learning rate goes down \n",
        "                                                 min_lr=1e-7)\n",
        "checkpoint_eff = tf.keras.callbacks.ModelCheckpoint('model_efficientnet_modif.h5', save_best_only=True, monitor='val_loss')"
      ],
      "metadata": {
        "execution": {
          "iopub.status.busy": "2022-01-13T05:40:15.459835Z",
          "iopub.execute_input": "2022-01-13T05:40:15.460112Z",
          "iopub.status.idle": "2022-01-13T05:40:15.465267Z",
          "shell.execute_reply.started": "2022-01-13T05:40:15.460074Z",
          "shell.execute_reply": "2022-01-13T05:40:15.464556Z"
        },
        "trusted": true,
        "id": "Lc0xyizRZg76"
      },
      "execution_count": 38,
      "outputs": []
    },
    {
      "cell_type": "code",
      "source": [
        "tf.random.set_seed(42)\n",
        "\n",
        "# Build model\n",
        "model_efficientnet = create_model(efficientnetv2_url)\n",
        "\n",
        "# Compile model\n",
        "model_efficientnet.compile(loss='binary_crossentropy',\n",
        "                           optimizer=Adam(),\n",
        "                           metrics=metrics)\n",
        "\n",
        "model_efficientnet.summary()"
      ],
      "metadata": {
        "execution": {
          "iopub.status.busy": "2022-01-13T07:41:29.338992Z",
          "iopub.execute_input": "2022-01-13T07:41:29.339255Z",
          "iopub.status.idle": "2022-01-13T07:41:35.093795Z",
          "shell.execute_reply.started": "2022-01-13T07:41:29.339226Z",
          "shell.execute_reply": "2022-01-13T07:41:35.093012Z"
        },
        "trusted": true,
        "colab": {
          "base_uri": "https://localhost:8080/"
        },
        "id": "eRjl1CJvZg77",
        "outputId": "8294a97b-7cb5-4f24-ad9f-20c5940674c2"
      },
      "execution_count": 39,
      "outputs": [
        {
          "output_type": "stream",
          "name": "stdout",
          "text": [
            "Model: \"sequential_1\"\n",
            "_________________________________________________________________\n",
            " Layer (type)                Output Shape              Param #   \n",
            "=================================================================\n",
            " feature_extraction_layer (K  (None, 1280)             5919312   \n",
            " erasLayer)                                                      \n",
            "                                                                 \n",
            " batch_normalization_2 (Batc  (None, 1280)             5120      \n",
            " hNormalization)                                                 \n",
            "                                                                 \n",
            " dense_2 (Dense)             (None, 128)               163968    \n",
            "                                                                 \n",
            " activation_2 (Activation)   (None, 128)               0         \n",
            "                                                                 \n",
            " dropout_2 (Dropout)         (None, 128)               0         \n",
            "                                                                 \n",
            " batch_normalization_3 (Batc  (None, 128)              512       \n",
            " hNormalization)                                                 \n",
            "                                                                 \n",
            " dense_3 (Dense)             (None, 128)               16512     \n",
            "                                                                 \n",
            " activation_3 (Activation)   (None, 128)               0         \n",
            "                                                                 \n",
            " dropout_3 (Dropout)         (None, 128)               0         \n",
            "                                                                 \n",
            " output_layer (Dense)        (None, 1)                 129       \n",
            "                                                                 \n",
            "=================================================================\n",
            "Total params: 6,105,553\n",
            "Trainable params: 183,425\n",
            "Non-trainable params: 5,922,128\n",
            "_________________________________________________________________\n"
          ]
        }
      ]
    },
    {
      "cell_type": "code",
      "source": [
        "# Train the model\n",
        "history_efficientnet = model_efficientnet.fit(aug_train, epochs=30,\n",
        "                                              validation_data=non_aug_valid,\n",
        "                                              steps_per_epoch=len(aug_train),\n",
        "                                              validation_steps=len(non_aug_valid),\n",
        "                                              callbacks=[reduce_lr, checkpoint_eff])\n",
        "\n",
        "np.save('history_efficientnet.npy', history_efficientnet.history)"
      ],
      "metadata": {
        "execution": {
          "iopub.status.busy": "2022-01-13T07:42:28.525409Z",
          "iopub.execute_input": "2022-01-13T07:42:28.525690Z"
        },
        "trusted": true,
        "colab": {
          "base_uri": "https://localhost:8080/"
        },
        "id": "BuXi_F38Zg77",
        "outputId": "c5562470-0fd9-4072-b5ec-ec796cb54870"
      },
      "execution_count": 40,
      "outputs": [
        {
          "output_type": "stream",
          "name": "stdout",
          "text": [
            "Epoch 1/30\n",
            "277/277 [==============================] - 176s 568ms/step - loss: 0.2677 - tp: 1829.0000 - fp: 465.0000 - tn: 6057.0000 - fn: 485.0000 - accuracy: 0.8925 - precision: 0.7973 - recall: 0.7904 - auc: 0.9386 - val_loss: 0.1681 - val_tp: 477.0000 - val_fp: 23.0000 - val_tn: 1608.0000 - val_fn: 102.0000 - val_accuracy: 0.9434 - val_precision: 0.9540 - val_recall: 0.8238 - val_auc: 0.9751 - lr: 0.0010\n",
            "Epoch 2/30\n",
            "277/277 [==============================] - 156s 562ms/step - loss: 0.1936 - tp: 1931.0000 - fp: 273.0000 - tn: 6249.0000 - fn: 383.0000 - accuracy: 0.9258 - precision: 0.8761 - recall: 0.8345 - auc: 0.9672 - val_loss: 0.1589 - val_tp: 479.0000 - val_fp: 32.0000 - val_tn: 1599.0000 - val_fn: 100.0000 - val_accuracy: 0.9403 - val_precision: 0.9374 - val_recall: 0.8273 - val_auc: 0.9781 - lr: 0.0010\n",
            "Epoch 3/30\n",
            "277/277 [==============================] - 155s 561ms/step - loss: 0.1788 - tp: 1952.0000 - fp: 261.0000 - tn: 6261.0000 - fn: 362.0000 - accuracy: 0.9295 - precision: 0.8821 - recall: 0.8436 - auc: 0.9717 - val_loss: 0.1335 - val_tp: 516.0000 - val_fp: 49.0000 - val_tn: 1582.0000 - val_fn: 63.0000 - val_accuracy: 0.9493 - val_precision: 0.9133 - val_recall: 0.8912 - val_auc: 0.9839 - lr: 0.0010\n",
            "Epoch 4/30\n",
            "277/277 [==============================] - 155s 560ms/step - loss: 0.1629 - tp: 1983.0000 - fp: 241.0000 - tn: 6281.0000 - fn: 331.0000 - accuracy: 0.9353 - precision: 0.8916 - recall: 0.8570 - auc: 0.9766 - val_loss: 0.1264 - val_tp: 517.0000 - val_fp: 38.0000 - val_tn: 1593.0000 - val_fn: 62.0000 - val_accuracy: 0.9548 - val_precision: 0.9315 - val_recall: 0.8929 - val_auc: 0.9852 - lr: 0.0010\n",
            "Epoch 5/30\n",
            "277/277 [==============================] - 155s 558ms/step - loss: 0.1576 - tp: 1998.0000 - fp: 224.0000 - tn: 6298.0000 - fn: 316.0000 - accuracy: 0.9389 - precision: 0.8992 - recall: 0.8634 - auc: 0.9775 - val_loss: 0.1137 - val_tp: 511.0000 - val_fp: 29.0000 - val_tn: 1602.0000 - val_fn: 68.0000 - val_accuracy: 0.9561 - val_precision: 0.9463 - val_recall: 0.8826 - val_auc: 0.9885 - lr: 0.0010\n",
            "Epoch 6/30\n",
            "277/277 [==============================] - 154s 556ms/step - loss: 0.1402 - tp: 2035.0000 - fp: 199.0000 - tn: 6323.0000 - fn: 279.0000 - accuracy: 0.9459 - precision: 0.9109 - recall: 0.8794 - auc: 0.9827 - val_loss: 0.1620 - val_tp: 547.0000 - val_fp: 108.0000 - val_tn: 1523.0000 - val_fn: 32.0000 - val_accuracy: 0.9367 - val_precision: 0.8351 - val_recall: 0.9447 - val_auc: 0.9854 - lr: 0.0010\n",
            "Epoch 7/30\n",
            "277/277 [==============================] - 155s 560ms/step - loss: 0.1342 - tp: 2055.0000 - fp: 191.0000 - tn: 6331.0000 - fn: 259.0000 - accuracy: 0.9491 - precision: 0.9150 - recall: 0.8881 - auc: 0.9840 - val_loss: 0.1019 - val_tp: 518.0000 - val_fp: 18.0000 - val_tn: 1613.0000 - val_fn: 61.0000 - val_accuracy: 0.9643 - val_precision: 0.9664 - val_recall: 0.8946 - val_auc: 0.9901 - lr: 0.0010\n",
            "Epoch 8/30\n",
            "277/277 [==============================] - 153s 554ms/step - loss: 0.1176 - tp: 2073.0000 - fp: 171.0000 - tn: 6351.0000 - fn: 241.0000 - accuracy: 0.9534 - precision: 0.9238 - recall: 0.8959 - auc: 0.9876 - val_loss: 0.1193 - val_tp: 518.0000 - val_fp: 36.0000 - val_tn: 1595.0000 - val_fn: 61.0000 - val_accuracy: 0.9561 - val_precision: 0.9350 - val_recall: 0.8946 - val_auc: 0.9861 - lr: 0.0010\n",
            "Epoch 9/30\n",
            "277/277 [==============================] - 153s 553ms/step - loss: 0.1234 - tp: 2080.0000 - fp: 171.0000 - tn: 6351.0000 - fn: 234.0000 - accuracy: 0.9542 - precision: 0.9240 - recall: 0.8989 - auc: 0.9862 - val_loss: 0.1099 - val_tp: 524.0000 - val_fp: 28.0000 - val_tn: 1603.0000 - val_fn: 55.0000 - val_accuracy: 0.9624 - val_precision: 0.9493 - val_recall: 0.9050 - val_auc: 0.9884 - lr: 0.0010\n",
            "Epoch 10/30\n",
            "277/277 [==============================] - 153s 554ms/step - loss: 0.1191 - tp: 2070.0000 - fp: 167.0000 - tn: 6355.0000 - fn: 244.0000 - accuracy: 0.9535 - precision: 0.9253 - recall: 0.8946 - auc: 0.9863 - val_loss: 0.1131 - val_tp: 496.0000 - val_fp: 11.0000 - val_tn: 1620.0000 - val_fn: 83.0000 - val_accuracy: 0.9575 - val_precision: 0.9783 - val_recall: 0.8566 - val_auc: 0.9891 - lr: 0.0010\n",
            "Epoch 11/30\n",
            "277/277 [==============================] - ETA: 0s - loss: 0.1228 - tp: 2095.0000 - fp: 181.0000 - tn: 6341.0000 - fn: 219.0000 - accuracy: 0.9547 - precision: 0.9205 - recall: 0.9054 - auc: 0.9862\n",
            "Epoch 00011: ReduceLROnPlateau reducing learning rate to 0.00020000000949949026.\n",
            "277/277 [==============================] - 153s 554ms/step - loss: 0.1228 - tp: 2095.0000 - fp: 181.0000 - tn: 6341.0000 - fn: 219.0000 - accuracy: 0.9547 - precision: 0.9205 - recall: 0.9054 - auc: 0.9862 - val_loss: 0.1128 - val_tp: 538.0000 - val_fp: 54.0000 - val_tn: 1577.0000 - val_fn: 41.0000 - val_accuracy: 0.9570 - val_precision: 0.9088 - val_recall: 0.9292 - val_auc: 0.9896 - lr: 0.0010\n",
            "Epoch 12/30\n",
            "277/277 [==============================] - 154s 554ms/step - loss: 0.1026 - tp: 2111.0000 - fp: 124.0000 - tn: 6398.0000 - fn: 203.0000 - accuracy: 0.9630 - precision: 0.9445 - recall: 0.9123 - auc: 0.9907 - val_loss: 0.1044 - val_tp: 537.0000 - val_fp: 48.0000 - val_tn: 1583.0000 - val_fn: 42.0000 - val_accuracy: 0.9593 - val_precision: 0.9179 - val_recall: 0.9275 - val_auc: 0.9899 - lr: 2.0000e-04\n",
            "Epoch 13/30\n",
            "277/277 [==============================] - 153s 554ms/step - loss: 0.0965 - tp: 2118.0000 - fp: 144.0000 - tn: 6378.0000 - fn: 196.0000 - accuracy: 0.9615 - precision: 0.9363 - recall: 0.9153 - auc: 0.9919 - val_loss: 0.0987 - val_tp: 540.0000 - val_fp: 44.0000 - val_tn: 1587.0000 - val_fn: 39.0000 - val_accuracy: 0.9624 - val_precision: 0.9247 - val_recall: 0.9326 - val_auc: 0.9911 - lr: 2.0000e-04\n",
            "Epoch 14/30\n",
            "277/277 [==============================] - 153s 554ms/step - loss: 0.0965 - tp: 2119.0000 - fp: 138.0000 - tn: 6384.0000 - fn: 195.0000 - accuracy: 0.9623 - precision: 0.9389 - recall: 0.9157 - auc: 0.9916 - val_loss: 0.0936 - val_tp: 524.0000 - val_fp: 21.0000 - val_tn: 1610.0000 - val_fn: 55.0000 - val_accuracy: 0.9656 - val_precision: 0.9615 - val_recall: 0.9050 - val_auc: 0.9916 - lr: 2.0000e-04\n",
            "Epoch 15/30\n",
            "277/277 [==============================] - 154s 555ms/step - loss: 0.0968 - tp: 2125.0000 - fp: 142.0000 - tn: 6380.0000 - fn: 189.0000 - accuracy: 0.9625 - precision: 0.9374 - recall: 0.9183 - auc: 0.9919 - val_loss: 0.0928 - val_tp: 529.0000 - val_fp: 25.0000 - val_tn: 1606.0000 - val_fn: 50.0000 - val_accuracy: 0.9661 - val_precision: 0.9549 - val_recall: 0.9136 - val_auc: 0.9912 - lr: 2.0000e-04\n",
            "Epoch 16/30\n",
            "277/277 [==============================] - 153s 553ms/step - loss: 0.0880 - tp: 2143.0000 - fp: 141.0000 - tn: 6381.0000 - fn: 171.0000 - accuracy: 0.9647 - precision: 0.9383 - recall: 0.9261 - auc: 0.9933 - val_loss: 0.0889 - val_tp: 530.0000 - val_fp: 27.0000 - val_tn: 1604.0000 - val_fn: 49.0000 - val_accuracy: 0.9656 - val_precision: 0.9515 - val_recall: 0.9154 - val_auc: 0.9918 - lr: 2.0000e-04\n",
            "Epoch 17/30\n",
            "277/277 [==============================] - 153s 551ms/step - loss: 0.0914 - tp: 2157.0000 - fp: 133.0000 - tn: 6389.0000 - fn: 157.0000 - accuracy: 0.9672 - precision: 0.9419 - recall: 0.9322 - auc: 0.9923 - val_loss: 0.0929 - val_tp: 527.0000 - val_fp: 20.0000 - val_tn: 1611.0000 - val_fn: 52.0000 - val_accuracy: 0.9674 - val_precision: 0.9634 - val_recall: 0.9102 - val_auc: 0.9900 - lr: 2.0000e-04\n",
            "Epoch 18/30\n",
            "277/277 [==============================] - 153s 553ms/step - loss: 0.0876 - tp: 2150.0000 - fp: 133.0000 - tn: 6389.0000 - fn: 164.0000 - accuracy: 0.9664 - precision: 0.9417 - recall: 0.9291 - auc: 0.9930 - val_loss: 0.0885 - val_tp: 532.0000 - val_fp: 26.0000 - val_tn: 1605.0000 - val_fn: 47.0000 - val_accuracy: 0.9670 - val_precision: 0.9534 - val_recall: 0.9188 - val_auc: 0.9913 - lr: 2.0000e-04\n",
            "Epoch 19/30\n",
            "277/277 [==============================] - 154s 555ms/step - loss: 0.0860 - tp: 2148.0000 - fp: 115.0000 - tn: 6407.0000 - fn: 166.0000 - accuracy: 0.9682 - precision: 0.9492 - recall: 0.9283 - auc: 0.9933 - val_loss: 0.0860 - val_tp: 525.0000 - val_fp: 21.0000 - val_tn: 1610.0000 - val_fn: 54.0000 - val_accuracy: 0.9661 - val_precision: 0.9615 - val_recall: 0.9067 - val_auc: 0.9914 - lr: 2.0000e-04\n",
            "Epoch 20/30\n",
            "277/277 [==============================] - 153s 553ms/step - loss: 0.0914 - tp: 2161.0000 - fp: 118.0000 - tn: 6404.0000 - fn: 153.0000 - accuracy: 0.9693 - precision: 0.9482 - recall: 0.9339 - auc: 0.9917 - val_loss: 0.0901 - val_tp: 536.0000 - val_fp: 29.0000 - val_tn: 1602.0000 - val_fn: 43.0000 - val_accuracy: 0.9674 - val_precision: 0.9487 - val_recall: 0.9257 - val_auc: 0.9909 - lr: 2.0000e-04\n",
            "Epoch 21/30\n",
            "277/277 [==============================] - 154s 555ms/step - loss: 0.0895 - tp: 2151.0000 - fp: 127.0000 - tn: 6395.0000 - fn: 163.0000 - accuracy: 0.9672 - precision: 0.9442 - recall: 0.9296 - auc: 0.9923 - val_loss: 0.0853 - val_tp: 533.0000 - val_fp: 23.0000 - val_tn: 1608.0000 - val_fn: 46.0000 - val_accuracy: 0.9688 - val_precision: 0.9586 - val_recall: 0.9206 - val_auc: 0.9921 - lr: 2.0000e-04\n",
            "Epoch 22/30\n",
            "277/277 [==============================] - 154s 555ms/step - loss: 0.0891 - tp: 2140.0000 - fp: 133.0000 - tn: 6389.0000 - fn: 174.0000 - accuracy: 0.9653 - precision: 0.9415 - recall: 0.9248 - auc: 0.9930 - val_loss: 0.0816 - val_tp: 531.0000 - val_fp: 25.0000 - val_tn: 1606.0000 - val_fn: 48.0000 - val_accuracy: 0.9670 - val_precision: 0.9550 - val_recall: 0.9171 - val_auc: 0.9934 - lr: 2.0000e-04\n",
            "Epoch 23/30\n",
            "277/277 [==============================] - 155s 559ms/step - loss: 0.0829 - tp: 2162.0000 - fp: 111.0000 - tn: 6411.0000 - fn: 152.0000 - accuracy: 0.9702 - precision: 0.9512 - recall: 0.9343 - auc: 0.9937 - val_loss: 0.0983 - val_tp: 538.0000 - val_fp: 37.0000 - val_tn: 1594.0000 - val_fn: 41.0000 - val_accuracy: 0.9647 - val_precision: 0.9357 - val_recall: 0.9292 - val_auc: 0.9902 - lr: 2.0000e-04\n",
            "Epoch 24/30\n",
            "277/277 [==============================] - 154s 556ms/step - loss: 0.0870 - tp: 2146.0000 - fp: 126.0000 - tn: 6396.0000 - fn: 168.0000 - accuracy: 0.9667 - precision: 0.9445 - recall: 0.9274 - auc: 0.9931 - val_loss: 0.0874 - val_tp: 541.0000 - val_fp: 36.0000 - val_tn: 1595.0000 - val_fn: 38.0000 - val_accuracy: 0.9665 - val_precision: 0.9376 - val_recall: 0.9344 - val_auc: 0.9917 - lr: 2.0000e-04\n",
            "Epoch 25/30\n",
            "277/277 [==============================] - 154s 555ms/step - loss: 0.0792 - tp: 2163.0000 - fp: 116.0000 - tn: 6406.0000 - fn: 151.0000 - accuracy: 0.9698 - precision: 0.9491 - recall: 0.9347 - auc: 0.9941 - val_loss: 0.0827 - val_tp: 537.0000 - val_fp: 28.0000 - val_tn: 1603.0000 - val_fn: 42.0000 - val_accuracy: 0.9683 - val_precision: 0.9504 - val_recall: 0.9275 - val_auc: 0.9924 - lr: 2.0000e-04\n",
            "Epoch 26/30\n",
            "277/277 [==============================] - ETA: 0s - loss: 0.0802 - tp: 2166.0000 - fp: 115.0000 - tn: 6407.0000 - fn: 148.0000 - accuracy: 0.9702 - precision: 0.9496 - recall: 0.9360 - auc: 0.9944\n",
            "Epoch 00026: ReduceLROnPlateau reducing learning rate to 4.0000001899898055e-05.\n",
            "277/277 [==============================] - 154s 555ms/step - loss: 0.0802 - tp: 2166.0000 - fp: 115.0000 - tn: 6407.0000 - fn: 148.0000 - accuracy: 0.9702 - precision: 0.9496 - recall: 0.9360 - auc: 0.9944 - val_loss: 0.0847 - val_tp: 532.0000 - val_fp: 20.0000 - val_tn: 1611.0000 - val_fn: 47.0000 - val_accuracy: 0.9697 - val_precision: 0.9638 - val_recall: 0.9188 - val_auc: 0.9919 - lr: 2.0000e-04\n",
            "Epoch 27/30\n",
            "277/277 [==============================] - 155s 559ms/step - loss: 0.0815 - tp: 2164.0000 - fp: 124.0000 - tn: 6398.0000 - fn: 150.0000 - accuracy: 0.9690 - precision: 0.9458 - recall: 0.9352 - auc: 0.9935 - val_loss: 0.0833 - val_tp: 532.0000 - val_fp: 20.0000 - val_tn: 1611.0000 - val_fn: 47.0000 - val_accuracy: 0.9697 - val_precision: 0.9638 - val_recall: 0.9188 - val_auc: 0.9921 - lr: 4.0000e-05\n",
            "Epoch 28/30\n",
            "277/277 [==============================] - 153s 553ms/step - loss: 0.0784 - tp: 2175.0000 - fp: 121.0000 - tn: 6401.0000 - fn: 139.0000 - accuracy: 0.9706 - precision: 0.9473 - recall: 0.9399 - auc: 0.9938 - val_loss: 0.0857 - val_tp: 529.0000 - val_fp: 17.0000 - val_tn: 1614.0000 - val_fn: 50.0000 - val_accuracy: 0.9697 - val_precision: 0.9689 - val_recall: 0.9136 - val_auc: 0.9920 - lr: 4.0000e-05\n",
            "Epoch 29/30\n",
            "277/277 [==============================] - 154s 554ms/step - loss: 0.0775 - tp: 2166.0000 - fp: 101.0000 - tn: 6421.0000 - fn: 148.0000 - accuracy: 0.9718 - precision: 0.9554 - recall: 0.9360 - auc: 0.9936 - val_loss: 0.0800 - val_tp: 535.0000 - val_fp: 22.0000 - val_tn: 1609.0000 - val_fn: 44.0000 - val_accuracy: 0.9701 - val_precision: 0.9605 - val_recall: 0.9240 - val_auc: 0.9924 - lr: 4.0000e-05\n",
            "Epoch 30/30\n",
            "277/277 [==============================] - 153s 553ms/step - loss: 0.0768 - tp: 2181.0000 - fp: 130.0000 - tn: 6392.0000 - fn: 133.0000 - accuracy: 0.9702 - precision: 0.9437 - recall: 0.9425 - auc: 0.9951 - val_loss: 0.0824 - val_tp: 529.0000 - val_fp: 19.0000 - val_tn: 1612.0000 - val_fn: 50.0000 - val_accuracy: 0.9688 - val_precision: 0.9653 - val_recall: 0.9136 - val_auc: 0.9922 - lr: 4.0000e-05\n"
          ]
        }
      ]
    },
    {
      "cell_type": "code",
      "source": [
        "# Plot the validation and training data separately\n",
        "def plot_learning_curves(*histories):\n",
        "    \"\"\"\n",
        "    Returns separate loss curves for training and validation metrics.\n",
        "    \"\"\" \n",
        "    fig = make_subplots(rows=3, cols=1, subplot_titles=('Loss', 'Recall', 'AUC'))\n",
        "    for history in histories:\n",
        "        loss = history[1].history.get('loss')\n",
        "        val_loss = history[1].history.get('val_loss')\n",
        "\n",
        "        auc = history[1].history.get('auc')\n",
        "        val_auc = history[1].history.get('val_auc')\n",
        "\n",
        "        recall = history[1].history.get('recall')\n",
        "        val_recall = history[1].history.get('val_recall')\n",
        "\n",
        "        epochs = np.arange(1, len(history[1].history.get('loss')) + 1)\n",
        "\n",
        "        fig.add_trace(go.Scatter(x=epochs, y=loss, name=history[0] + \" train\"), row=1, col=1)\n",
        "        fig.add_trace(go.Scatter(x=epochs, y=val_loss, name=history[0] + \" val\"), row=1, col=1)\n",
        "        fig.add_trace(go.Scatter(x=epochs, y=recall, name=history[0] + \" train\"), row=2, col=1)\n",
        "        fig.add_trace(go.Scatter(x=epochs, y=val_recall, name=history[0] + \" val\"), row=2, col=1)\n",
        "        fig.add_trace(go.Scatter(x=epochs, y=auc, name=history[0] + \" train\"), row=3, col=1)\n",
        "        fig.add_trace(go.Scatter(x=epochs, y=val_auc, name=history[0] + \"val\"), row=3, col=1)\n",
        "\n",
        "    # Update xaxis properties\n",
        "    fig.update_xaxes(title_text=\"Epochs\", row=1, col=1)\n",
        "    fig.update_xaxes(title_text=\"Epochs\", row=2, col=1)\n",
        "    fig.update_xaxes(title_text=\"Epochs\", row=3, col=1)\n",
        "\n",
        "    # Update yaxis properties\n",
        "    fig.update_yaxes(title_text=\"Loss\", row=1, col=1)\n",
        "    fig.update_yaxes(title_text=\"Recall\", row=2, col=1)\n",
        "    fig.update_yaxes(title_text=\"AUC\", row=3, col=1)\n",
        "\n",
        "    fig.update_layout(title_text=\"Learning Curves\", height=1500)\n",
        "\n",
        "    fig.show()"
      ],
      "metadata": {
        "execution": {
          "iopub.status.busy": "2022-01-13T07:35:07.482160Z",
          "iopub.execute_input": "2022-01-13T07:35:07.482631Z",
          "iopub.status.idle": "2022-01-13T07:35:07.499071Z",
          "shell.execute_reply.started": "2022-01-13T07:35:07.482593Z",
          "shell.execute_reply": "2022-01-13T07:35:07.498322Z"
        },
        "trusted": true,
        "id": "BJlTaLxmZg78"
      },
      "execution_count": 41,
      "outputs": []
    },
    {
      "cell_type": "code",
      "source": [
        "plot_learning_curves(['EfficientNet_Modif', history_efficientnet])"
      ],
      "metadata": {
        "execution": {
          "iopub.status.busy": "2022-01-13T07:35:07.500211Z",
          "iopub.execute_input": "2022-01-13T07:35:07.500624Z",
          "iopub.status.idle": "2022-01-13T07:35:07.794063Z",
          "shell.execute_reply.started": "2022-01-13T07:35:07.500585Z",
          "shell.execute_reply": "2022-01-13T07:35:07.793332Z"
        },
        "trusted": true,
        "colab": {
          "base_uri": "https://localhost:8080/",
          "height": 1000
        },
        "id": "aehu5Pr6Zg79",
        "outputId": "23143e8b-4dee-4b9e-b6f8-53228916185b"
      },
      "execution_count": 42,
      "outputs": [
        {
          "output_type": "display_data",
          "data": {
            "text/html": [
              "<html>\n",
              "<head><meta charset=\"utf-8\" /></head>\n",
              "<body>\n",
              "    <div>\n",
              "            <script src=\"https://cdnjs.cloudflare.com/ajax/libs/mathjax/2.7.5/MathJax.js?config=TeX-AMS-MML_SVG\"></script><script type=\"text/javascript\">if (window.MathJax) {MathJax.Hub.Config({SVG: {font: \"STIX-Web\"}});}</script>\n",
              "                <script type=\"text/javascript\">window.PlotlyConfig = {MathJaxConfig: 'local'};</script>\n",
              "        <script src=\"https://cdn.plot.ly/plotly-latest.min.js\"></script>    \n",
              "            <div id=\"6b940390-4528-4f80-a3a9-7c16f952fd3f\" class=\"plotly-graph-div\" style=\"height:1500px; width:100%;\"></div>\n",
              "            <script type=\"text/javascript\">\n",
              "                \n",
              "                    window.PLOTLYENV=window.PLOTLYENV || {};\n",
              "                    \n",
              "                if (document.getElementById(\"6b940390-4528-4f80-a3a9-7c16f952fd3f\")) {\n",
              "                    Plotly.newPlot(\n",
              "                        '6b940390-4528-4f80-a3a9-7c16f952fd3f',\n",
              "                        [{\"name\": \"EfficientNet_Modif train\", \"type\": \"scatter\", \"x\": [1, 2, 3, 4, 5, 6, 7, 8, 9, 10, 11, 12, 13, 14, 15, 16, 17, 18, 19, 20, 21, 22, 23, 24, 25, 26, 27, 28, 29, 30], \"xaxis\": \"x\", \"y\": [0.2676844596862793, 0.19358006119728088, 0.17879696190357208, 0.16286906599998474, 0.1576220691204071, 0.14021477103233337, 0.1342087835073471, 0.11760640144348145, 0.12344122678041458, 0.11909157037734985, 0.12279899418354034, 0.10255255550146103, 0.09652374684810638, 0.09647420048713684, 0.09684942662715912, 0.08804439753293991, 0.0913776084780693, 0.08756150305271149, 0.08595101535320282, 0.09140719473361969, 0.08954847604036331, 0.08910965919494629, 0.0828593447804451, 0.08698583394289017, 0.07915797084569931, 0.08023454993963242, 0.08154353499412537, 0.07836229354143143, 0.0774821862578392, 0.07675760239362717], \"yaxis\": \"y\"}, {\"name\": \"EfficientNet_Modif val\", \"type\": \"scatter\", \"x\": [1, 2, 3, 4, 5, 6, 7, 8, 9, 10, 11, 12, 13, 14, 15, 16, 17, 18, 19, 20, 21, 22, 23, 24, 25, 26, 27, 28, 29, 30], \"xaxis\": \"x\", \"y\": [0.16805815696716309, 0.15894807875156403, 0.13354821503162384, 0.1263650804758072, 0.11365970969200134, 0.16203956305980682, 0.10191702842712402, 0.11931829154491425, 0.10986803472042084, 0.11310949921607971, 0.11276557296514511, 0.10444245487451553, 0.09869245439767838, 0.09361906349658966, 0.09282519668340683, 0.08894363045692444, 0.09294579923152924, 0.08846396207809448, 0.0859985202550888, 0.09009268134832382, 0.08525761216878891, 0.08161919564008713, 0.09834450483322144, 0.08738353848457336, 0.08267895132303238, 0.08468014746904373, 0.0833117812871933, 0.0856759250164032, 0.08003571629524231, 0.08235913515090942], \"yaxis\": \"y\"}, {\"name\": \"EfficientNet_Modif train\", \"type\": \"scatter\", \"x\": [1, 2, 3, 4, 5, 6, 7, 8, 9, 10, 11, 12, 13, 14, 15, 16, 17, 18, 19, 20, 21, 22, 23, 24, 25, 26, 27, 28, 29, 30], \"xaxis\": \"x2\", \"y\": [0.7904062271118164, 0.8344857096672058, 0.8435609340667725, 0.8569576740264893, 0.8634399175643921, 0.8794295787811279, 0.8880726099014282, 0.8958513140678406, 0.898876428604126, 0.8945549130439758, 0.9053586721420288, 0.912273108959198, 0.9152981638908386, 0.915730357170105, 0.918323278427124, 0.9261019825935364, 0.9321520924568176, 0.929127037525177, 0.9282627701759338, 0.9338807463645935, 0.9295592308044434, 0.9248055219650269, 0.9343128800392151, 0.9273984432220459, 0.9347450137138367, 0.9360414743423462, 0.935177206993103, 0.9399308562278748, 0.9360414743423462, 0.9425237774848938], \"yaxis\": \"y2\"}, {\"name\": \"EfficientNet_Modif val\", \"type\": \"scatter\", \"x\": [1, 2, 3, 4, 5, 6, 7, 8, 9, 10, 11, 12, 13, 14, 15, 16, 17, 18, 19, 20, 21, 22, 23, 24, 25, 26, 27, 28, 29, 30], \"xaxis\": \"x2\", \"y\": [0.8238341808319092, 0.8272884488105774, 0.8911917209625244, 0.8929188251495361, 0.882556140422821, 0.9447323083877563, 0.8946459293365479, 0.8946459293365479, 0.9050086140632629, 0.8566493988037109, 0.9291882514953613, 0.9274611473083496, 0.9326424598693848, 0.9050086140632629, 0.9136441946029663, 0.9153713583946228, 0.9101899862289429, 0.9188255667686462, 0.9067357778549194, 0.9257340431213379, 0.920552670955658, 0.9170984625816345, 0.9291882514953613, 0.9343696236610413, 0.9274611473083496, 0.9188255667686462, 0.9188255667686462, 0.9136441946029663, 0.9240068793296814, 0.9136441946029663], \"yaxis\": \"y2\"}, {\"name\": \"EfficientNet_Modif train\", \"type\": \"scatter\", \"x\": [1, 2, 3, 4, 5, 6, 7, 8, 9, 10, 11, 12, 13, 14, 15, 16, 17, 18, 19, 20, 21, 22, 23, 24, 25, 26, 27, 28, 29, 30], \"xaxis\": \"x3\", \"y\": [0.9385536313056946, 0.9672397971153259, 0.9716956615447998, 0.976621150970459, 0.9775446057319641, 0.9826733469963074, 0.983998715877533, 0.9875783920288086, 0.9861577749252319, 0.9862645864486694, 0.9861623644828796, 0.9907034635543823, 0.9918564558029175, 0.991628885269165, 0.9919245839118958, 0.993258535861969, 0.9922623038291931, 0.9930204153060913, 0.9933288097381592, 0.9916637539863586, 0.992337703704834, 0.9930278658866882, 0.9936769604682922, 0.993139922618866, 0.994061291217804, 0.9944422245025635, 0.9935306310653687, 0.993791401386261, 0.9936279654502869, 0.9951273202896118], \"yaxis\": \"y3\"}, {\"name\": \"EfficientNet_Modifval\", \"type\": \"scatter\", \"x\": [1, 2, 3, 4, 5, 6, 7, 8, 9, 10, 11, 12, 13, 14, 15, 16, 17, 18, 19, 20, 21, 22, 23, 24, 25, 26, 27, 28, 29, 30], \"xaxis\": \"x3\", \"y\": [0.975087583065033, 0.9780663847923279, 0.9839465618133545, 0.9851553440093994, 0.9884766340255737, 0.9853867888450623, 0.9900979995727539, 0.986138641834259, 0.9884027242660522, 0.9890559911727905, 0.9895728230476379, 0.9898956418037415, 0.9910763502120972, 0.9915963411331177, 0.9911653995513916, 0.9917747378349304, 0.9899624586105347, 0.9912622570991516, 0.991404116153717, 0.9909287095069885, 0.9920754432678223, 0.9934018850326538, 0.9902488589286804, 0.9917281270027161, 0.9924355149269104, 0.9919098615646362, 0.9921338558197021, 0.9920007586479187, 0.9923751950263977, 0.992229163646698], \"yaxis\": \"y3\"}],\n",
              "                        {\"annotations\": [{\"font\": {\"size\": 16}, \"showarrow\": false, \"text\": \"Loss\", \"x\": 0.5, \"xanchor\": \"center\", \"xref\": \"paper\", \"y\": 1.0, \"yanchor\": \"bottom\", \"yref\": \"paper\"}, {\"font\": {\"size\": 16}, \"showarrow\": false, \"text\": \"Recall\", \"x\": 0.5, \"xanchor\": \"center\", \"xref\": \"paper\", \"y\": 0.6111111111111112, \"yanchor\": \"bottom\", \"yref\": \"paper\"}, {\"font\": {\"size\": 16}, \"showarrow\": false, \"text\": \"AUC\", \"x\": 0.5, \"xanchor\": \"center\", \"xref\": \"paper\", \"y\": 0.22222222222222224, \"yanchor\": \"bottom\", \"yref\": \"paper\"}], \"height\": 1500, \"template\": {\"data\": {\"bar\": [{\"error_x\": {\"color\": \"#2a3f5f\"}, \"error_y\": {\"color\": \"#2a3f5f\"}, \"marker\": {\"line\": {\"color\": \"#E5ECF6\", \"width\": 0.5}}, \"type\": \"bar\"}], \"barpolar\": [{\"marker\": {\"line\": {\"color\": \"#E5ECF6\", \"width\": 0.5}}, \"type\": \"barpolar\"}], \"carpet\": [{\"aaxis\": {\"endlinecolor\": \"#2a3f5f\", \"gridcolor\": \"white\", \"linecolor\": \"white\", \"minorgridcolor\": \"white\", \"startlinecolor\": \"#2a3f5f\"}, \"baxis\": {\"endlinecolor\": \"#2a3f5f\", \"gridcolor\": \"white\", \"linecolor\": \"white\", \"minorgridcolor\": \"white\", \"startlinecolor\": \"#2a3f5f\"}, \"type\": \"carpet\"}], \"choropleth\": [{\"colorbar\": {\"outlinewidth\": 0, \"ticks\": \"\"}, \"type\": \"choropleth\"}], \"contour\": [{\"colorbar\": {\"outlinewidth\": 0, \"ticks\": \"\"}, \"colorscale\": [[0.0, \"#0d0887\"], [0.1111111111111111, \"#46039f\"], [0.2222222222222222, \"#7201a8\"], [0.3333333333333333, \"#9c179e\"], [0.4444444444444444, \"#bd3786\"], [0.5555555555555556, \"#d8576b\"], [0.6666666666666666, \"#ed7953\"], [0.7777777777777778, \"#fb9f3a\"], [0.8888888888888888, \"#fdca26\"], [1.0, \"#f0f921\"]], \"type\": \"contour\"}], \"contourcarpet\": [{\"colorbar\": {\"outlinewidth\": 0, \"ticks\": \"\"}, \"type\": \"contourcarpet\"}], \"heatmap\": [{\"colorbar\": {\"outlinewidth\": 0, \"ticks\": \"\"}, \"colorscale\": [[0.0, \"#0d0887\"], [0.1111111111111111, \"#46039f\"], [0.2222222222222222, \"#7201a8\"], [0.3333333333333333, \"#9c179e\"], [0.4444444444444444, \"#bd3786\"], [0.5555555555555556, \"#d8576b\"], [0.6666666666666666, \"#ed7953\"], [0.7777777777777778, \"#fb9f3a\"], [0.8888888888888888, \"#fdca26\"], [1.0, \"#f0f921\"]], \"type\": \"heatmap\"}], \"heatmapgl\": [{\"colorbar\": {\"outlinewidth\": 0, \"ticks\": \"\"}, \"colorscale\": [[0.0, \"#0d0887\"], [0.1111111111111111, \"#46039f\"], [0.2222222222222222, \"#7201a8\"], [0.3333333333333333, \"#9c179e\"], [0.4444444444444444, \"#bd3786\"], [0.5555555555555556, \"#d8576b\"], [0.6666666666666666, \"#ed7953\"], [0.7777777777777778, \"#fb9f3a\"], [0.8888888888888888, \"#fdca26\"], [1.0, \"#f0f921\"]], \"type\": \"heatmapgl\"}], \"histogram\": [{\"marker\": {\"colorbar\": {\"outlinewidth\": 0, \"ticks\": \"\"}}, \"type\": \"histogram\"}], \"histogram2d\": [{\"colorbar\": {\"outlinewidth\": 0, \"ticks\": \"\"}, \"colorscale\": [[0.0, \"#0d0887\"], [0.1111111111111111, \"#46039f\"], [0.2222222222222222, \"#7201a8\"], [0.3333333333333333, \"#9c179e\"], [0.4444444444444444, \"#bd3786\"], [0.5555555555555556, \"#d8576b\"], [0.6666666666666666, \"#ed7953\"], [0.7777777777777778, \"#fb9f3a\"], [0.8888888888888888, \"#fdca26\"], [1.0, \"#f0f921\"]], \"type\": \"histogram2d\"}], \"histogram2dcontour\": [{\"colorbar\": {\"outlinewidth\": 0, \"ticks\": \"\"}, \"colorscale\": [[0.0, \"#0d0887\"], [0.1111111111111111, \"#46039f\"], [0.2222222222222222, \"#7201a8\"], [0.3333333333333333, \"#9c179e\"], [0.4444444444444444, \"#bd3786\"], [0.5555555555555556, \"#d8576b\"], [0.6666666666666666, \"#ed7953\"], [0.7777777777777778, \"#fb9f3a\"], [0.8888888888888888, \"#fdca26\"], [1.0, \"#f0f921\"]], \"type\": \"histogram2dcontour\"}], \"mesh3d\": [{\"colorbar\": {\"outlinewidth\": 0, \"ticks\": \"\"}, \"type\": \"mesh3d\"}], \"parcoords\": [{\"line\": {\"colorbar\": {\"outlinewidth\": 0, \"ticks\": \"\"}}, \"type\": \"parcoords\"}], \"pie\": [{\"automargin\": true, \"type\": \"pie\"}], \"scatter\": [{\"marker\": {\"colorbar\": {\"outlinewidth\": 0, \"ticks\": \"\"}}, \"type\": \"scatter\"}], \"scatter3d\": [{\"line\": {\"colorbar\": {\"outlinewidth\": 0, \"ticks\": \"\"}}, \"marker\": {\"colorbar\": {\"outlinewidth\": 0, \"ticks\": \"\"}}, \"type\": \"scatter3d\"}], \"scattercarpet\": [{\"marker\": {\"colorbar\": {\"outlinewidth\": 0, \"ticks\": \"\"}}, \"type\": \"scattercarpet\"}], \"scattergeo\": [{\"marker\": {\"colorbar\": {\"outlinewidth\": 0, \"ticks\": \"\"}}, \"type\": \"scattergeo\"}], \"scattergl\": [{\"marker\": {\"colorbar\": {\"outlinewidth\": 0, \"ticks\": \"\"}}, \"type\": \"scattergl\"}], \"scattermapbox\": [{\"marker\": {\"colorbar\": {\"outlinewidth\": 0, \"ticks\": \"\"}}, \"type\": \"scattermapbox\"}], \"scatterpolar\": [{\"marker\": {\"colorbar\": {\"outlinewidth\": 0, \"ticks\": \"\"}}, \"type\": \"scatterpolar\"}], \"scatterpolargl\": [{\"marker\": {\"colorbar\": {\"outlinewidth\": 0, \"ticks\": \"\"}}, \"type\": \"scatterpolargl\"}], \"scatterternary\": [{\"marker\": {\"colorbar\": {\"outlinewidth\": 0, \"ticks\": \"\"}}, \"type\": \"scatterternary\"}], \"surface\": [{\"colorbar\": {\"outlinewidth\": 0, \"ticks\": \"\"}, \"colorscale\": [[0.0, \"#0d0887\"], [0.1111111111111111, \"#46039f\"], [0.2222222222222222, \"#7201a8\"], [0.3333333333333333, \"#9c179e\"], [0.4444444444444444, \"#bd3786\"], [0.5555555555555556, \"#d8576b\"], [0.6666666666666666, \"#ed7953\"], [0.7777777777777778, \"#fb9f3a\"], [0.8888888888888888, \"#fdca26\"], [1.0, \"#f0f921\"]], \"type\": \"surface\"}], \"table\": [{\"cells\": {\"fill\": {\"color\": \"#EBF0F8\"}, \"line\": {\"color\": \"white\"}}, \"header\": {\"fill\": {\"color\": \"#C8D4E3\"}, \"line\": {\"color\": \"white\"}}, \"type\": \"table\"}]}, \"layout\": {\"annotationdefaults\": {\"arrowcolor\": \"#2a3f5f\", \"arrowhead\": 0, \"arrowwidth\": 1}, \"coloraxis\": {\"colorbar\": {\"outlinewidth\": 0, \"ticks\": \"\"}}, \"colorscale\": {\"diverging\": [[0, \"#8e0152\"], [0.1, \"#c51b7d\"], [0.2, \"#de77ae\"], [0.3, \"#f1b6da\"], [0.4, \"#fde0ef\"], [0.5, \"#f7f7f7\"], [0.6, \"#e6f5d0\"], [0.7, \"#b8e186\"], [0.8, \"#7fbc41\"], [0.9, \"#4d9221\"], [1, \"#276419\"]], \"sequential\": [[0.0, \"#0d0887\"], [0.1111111111111111, \"#46039f\"], [0.2222222222222222, \"#7201a8\"], [0.3333333333333333, \"#9c179e\"], [0.4444444444444444, \"#bd3786\"], [0.5555555555555556, \"#d8576b\"], [0.6666666666666666, \"#ed7953\"], [0.7777777777777778, \"#fb9f3a\"], [0.8888888888888888, \"#fdca26\"], [1.0, \"#f0f921\"]], \"sequentialminus\": [[0.0, \"#0d0887\"], [0.1111111111111111, \"#46039f\"], [0.2222222222222222, \"#7201a8\"], [0.3333333333333333, \"#9c179e\"], [0.4444444444444444, \"#bd3786\"], [0.5555555555555556, \"#d8576b\"], [0.6666666666666666, \"#ed7953\"], [0.7777777777777778, \"#fb9f3a\"], [0.8888888888888888, \"#fdca26\"], [1.0, \"#f0f921\"]]}, \"colorway\": [\"#636efa\", \"#EF553B\", \"#00cc96\", \"#ab63fa\", \"#FFA15A\", \"#19d3f3\", \"#FF6692\", \"#B6E880\", \"#FF97FF\", \"#FECB52\"], \"font\": {\"color\": \"#2a3f5f\"}, \"geo\": {\"bgcolor\": \"white\", \"lakecolor\": \"white\", \"landcolor\": \"#E5ECF6\", \"showlakes\": true, \"showland\": true, \"subunitcolor\": \"white\"}, \"hoverlabel\": {\"align\": \"left\"}, \"hovermode\": \"closest\", \"mapbox\": {\"style\": \"light\"}, \"paper_bgcolor\": \"white\", \"plot_bgcolor\": \"#E5ECF6\", \"polar\": {\"angularaxis\": {\"gridcolor\": \"white\", \"linecolor\": \"white\", \"ticks\": \"\"}, \"bgcolor\": \"#E5ECF6\", \"radialaxis\": {\"gridcolor\": \"white\", \"linecolor\": \"white\", \"ticks\": \"\"}}, \"scene\": {\"xaxis\": {\"backgroundcolor\": \"#E5ECF6\", \"gridcolor\": \"white\", \"gridwidth\": 2, \"linecolor\": \"white\", \"showbackground\": true, \"ticks\": \"\", \"zerolinecolor\": \"white\"}, \"yaxis\": {\"backgroundcolor\": \"#E5ECF6\", \"gridcolor\": \"white\", \"gridwidth\": 2, \"linecolor\": \"white\", \"showbackground\": true, \"ticks\": \"\", \"zerolinecolor\": \"white\"}, \"zaxis\": {\"backgroundcolor\": \"#E5ECF6\", \"gridcolor\": \"white\", \"gridwidth\": 2, \"linecolor\": \"white\", \"showbackground\": true, \"ticks\": \"\", \"zerolinecolor\": \"white\"}}, \"shapedefaults\": {\"line\": {\"color\": \"#2a3f5f\"}}, \"ternary\": {\"aaxis\": {\"gridcolor\": \"white\", \"linecolor\": \"white\", \"ticks\": \"\"}, \"baxis\": {\"gridcolor\": \"white\", \"linecolor\": \"white\", \"ticks\": \"\"}, \"bgcolor\": \"#E5ECF6\", \"caxis\": {\"gridcolor\": \"white\", \"linecolor\": \"white\", \"ticks\": \"\"}}, \"title\": {\"x\": 0.05}, \"xaxis\": {\"automargin\": true, \"gridcolor\": \"white\", \"linecolor\": \"white\", \"ticks\": \"\", \"title\": {\"standoff\": 15}, \"zerolinecolor\": \"white\", \"zerolinewidth\": 2}, \"yaxis\": {\"automargin\": true, \"gridcolor\": \"white\", \"linecolor\": \"white\", \"ticks\": \"\", \"title\": {\"standoff\": 15}, \"zerolinecolor\": \"white\", \"zerolinewidth\": 2}}}, \"title\": {\"text\": \"Learning Curves\"}, \"xaxis\": {\"anchor\": \"y\", \"domain\": [0.0, 1.0], \"title\": {\"text\": \"Epochs\"}}, \"xaxis2\": {\"anchor\": \"y2\", \"domain\": [0.0, 1.0], \"title\": {\"text\": \"Epochs\"}}, \"xaxis3\": {\"anchor\": \"y3\", \"domain\": [0.0, 1.0], \"title\": {\"text\": \"Epochs\"}}, \"yaxis\": {\"anchor\": \"x\", \"domain\": [0.7777777777777778, 1.0], \"title\": {\"text\": \"Loss\"}}, \"yaxis2\": {\"anchor\": \"x2\", \"domain\": [0.3888888888888889, 0.6111111111111112], \"title\": {\"text\": \"Recall\"}}, \"yaxis3\": {\"anchor\": \"x3\", \"domain\": [0.0, 0.22222222222222224], \"title\": {\"text\": \"AUC\"}}},\n",
              "                        {\"responsive\": true}\n",
              "                    ).then(function(){\n",
              "                            \n",
              "var gd = document.getElementById('6b940390-4528-4f80-a3a9-7c16f952fd3f');\n",
              "var x = new MutationObserver(function (mutations, observer) {{\n",
              "        var display = window.getComputedStyle(gd).display;\n",
              "        if (!display || display === 'none') {{\n",
              "            console.log([gd, 'removed!']);\n",
              "            Plotly.purge(gd);\n",
              "            observer.disconnect();\n",
              "        }}\n",
              "}});\n",
              "\n",
              "// Listen for the removal of the full notebook cells\n",
              "var notebookContainer = gd.closest('#notebook-container');\n",
              "if (notebookContainer) {{\n",
              "    x.observe(notebookContainer, {childList: true});\n",
              "}}\n",
              "\n",
              "// Listen for the clearing of the current output cell\n",
              "var outputEl = gd.closest('.output');\n",
              "if (outputEl) {{\n",
              "    x.observe(outputEl, {childList: true});\n",
              "}}\n",
              "\n",
              "                        })\n",
              "                };\n",
              "                \n",
              "            </script>\n",
              "        </div>\n",
              "</body>\n",
              "</html>"
            ]
          },
          "metadata": {}
        }
      ]
    },
    {
      "cell_type": "code",
      "source": [
        "def plot_roc_curve(*datas):\n",
        "    fig = go.Figure()\n",
        "    for data in datas:\n",
        "        name = data[0]\n",
        "        y_true = data[1]\n",
        "        pred = data[2]\n",
        "\n",
        "        fpr, tpr, _ = roc_curve(y_true, pred)\n",
        "        fig.add_trace(go.Scatter(x=fpr, y=tpr, name=name))\n",
        "\n",
        "    fig.update_yaxes(title_text=\"TPR\")\n",
        "    fig.update_xaxes(title_text=\"FPR\")\n",
        "    fig.update_layout(title_text=\"ROC Curve\")\n",
        "    fig.show()"
      ],
      "metadata": {
        "execution": {
          "iopub.status.busy": "2022-01-13T07:35:07.795242Z",
          "iopub.execute_input": "2022-01-13T07:35:07.797679Z",
          "iopub.status.idle": "2022-01-13T07:35:07.803839Z",
          "shell.execute_reply.started": "2022-01-13T07:35:07.797636Z",
          "shell.execute_reply": "2022-01-13T07:35:07.802907Z"
        },
        "trusted": true,
        "id": "SYMmClSAZg79"
      },
      "execution_count": 43,
      "outputs": []
    },
    {
      "cell_type": "code",
      "source": [
        "def evaluate_model(y_true, pred, threshold=0.5):\n",
        "    pred_new = [1 if i > threshold else 0 for i in pred]\n",
        "\n",
        "    # Print classification report\n",
        "    print('===== Classification Report ======')\n",
        "    print(classification_report(y_true, pred_new))\n",
        "    print()\n",
        "\n",
        "    # Print confusion matrix\n",
        "    print('===== Confusion Matrix =====')\n",
        "    print(confusion_matrix(y_true, pred_new))\n",
        "    print()\n",
        "\n",
        "    # Print other metrics\n",
        "    print('===== Other Metrics =====')\n",
        "    roc_auc = keras.metrics.AUC(curve='ROC')\n",
        "    roc_auc.update_state(y_true, pred)\n",
        "    print(f\"ROC_AUC: {roc_auc.result().numpy()}\")"
      ],
      "metadata": {
        "execution": {
          "iopub.status.busy": "2022-01-13T07:35:07.805049Z",
          "iopub.execute_input": "2022-01-13T07:35:07.805302Z",
          "iopub.status.idle": "2022-01-13T07:35:07.817816Z",
          "shell.execute_reply.started": "2022-01-13T07:35:07.805256Z",
          "shell.execute_reply": "2022-01-13T07:35:07.817057Z"
        },
        "trusted": true,
        "id": "-Ip3vUisZg7-"
      },
      "execution_count": 44,
      "outputs": []
    },
    {
      "cell_type": "code",
      "source": [
        "test_test_gen.reset()\n",
        "pred_eff = model_efficientnet.predict(test_test_gen)\n",
        "\n",
        "y_true = [0 if x == 'Negative' else 1 for x in test['TARGET']]\n",
        "\n",
        "plot_roc_curve(['EfficientNetV2-B0', y_true, pred_eff])"
      ],
      "metadata": {
        "execution": {
          "iopub.status.busy": "2022-01-13T07:35:07.819209Z",
          "iopub.execute_input": "2022-01-13T07:35:07.819704Z",
          "iopub.status.idle": "2022-01-13T07:35:32.462648Z",
          "shell.execute_reply.started": "2022-01-13T07:35:07.819667Z",
          "shell.execute_reply": "2022-01-13T07:35:32.461948Z"
        },
        "trusted": true,
        "colab": {
          "base_uri": "https://localhost:8080/",
          "height": 542
        },
        "id": "52EhIw5DZg7-",
        "outputId": "ee810ca0-c735-41eb-a14f-8a12514b8d35"
      },
      "execution_count": 45,
      "outputs": [
        {
          "output_type": "display_data",
          "data": {
            "text/html": [
              "<html>\n",
              "<head><meta charset=\"utf-8\" /></head>\n",
              "<body>\n",
              "    <div>\n",
              "            <script src=\"https://cdnjs.cloudflare.com/ajax/libs/mathjax/2.7.5/MathJax.js?config=TeX-AMS-MML_SVG\"></script><script type=\"text/javascript\">if (window.MathJax) {MathJax.Hub.Config({SVG: {font: \"STIX-Web\"}});}</script>\n",
              "                <script type=\"text/javascript\">window.PlotlyConfig = {MathJaxConfig: 'local'};</script>\n",
              "        <script src=\"https://cdn.plot.ly/plotly-latest.min.js\"></script>    \n",
              "            <div id=\"6f33e0d2-3a26-41a1-bd25-8387596141a0\" class=\"plotly-graph-div\" style=\"height:525px; width:100%;\"></div>\n",
              "            <script type=\"text/javascript\">\n",
              "                \n",
              "                    window.PLOTLYENV=window.PLOTLYENV || {};\n",
              "                    \n",
              "                if (document.getElementById(\"6f33e0d2-3a26-41a1-bd25-8387596141a0\")) {\n",
              "                    Plotly.newPlot(\n",
              "                        '6f33e0d2-3a26-41a1-bd25-8387596141a0',\n",
              "                        [{\"name\": \"EfficientNetV2-B0\", \"type\": \"scatter\", \"x\": [0.0, 0.0, 0.0, 0.0, 0.0, 0.0, 0.0, 0.0, 0.0, 0.0, 0.0, 0.0, 0.0, 0.0, 0.0, 0.0004904364884747426, 0.0004904364884747426, 0.000980872976949485, 0.000980872976949485, 0.0014713094654242277, 0.0014713094654242277, 0.00196174595389897, 0.00196174595389897, 0.0024521824423737125, 0.0024521824423737125, 0.0029426189308484553, 0.0029426189308484553, 0.0034330554193231977, 0.0034330554193231977, 0.00392349190779794, 0.00392349190779794, 0.004413928396272682, 0.004413928396272682, 0.004904364884747425, 0.004904364884747425, 0.005885237861696911, 0.005885237861696911, 0.006866110838646395, 0.006866110838646395, 0.007356547327121138, 0.007356547327121138, 0.008337420304070623, 0.008337420304070623, 0.009318293281020108, 0.009318293281020108, 0.00980872976949485, 0.00980872976949485, 0.010789602746444336, 0.010789602746444336, 0.011770475723393821, 0.011770475723393821, 0.012260912211868563, 0.012260912211868563, 0.012751348700343305, 0.012751348700343305, 0.013241785188818049, 0.013241785188818049, 0.014222658165767533, 0.014222658165767533, 0.015203531142717018, 0.015203531142717018, 0.01569396763119176, 0.01569396763119176, 0.016184404119666502, 0.016184404119666502, 0.016674840608141245, 0.016674840608141245, 0.01716527709661599, 0.01716527709661599, 0.01765571358509073, 0.01765571358509073, 0.019127023050514957, 0.019127023050514957, 0.020107896027464444, 0.020107896027464444, 0.022069641981363415, 0.022069641981363415, 0.022560078469838155, 0.022560078469838155, 0.0230505149583129, 0.0230505149583129, 0.024521824423737126, 0.024521824423737126, 0.02550269740068661, 0.02550269740068661, 0.026483570377636097, 0.026483570377636097, 0.02893575282000981, 0.02893575282000981, 0.03187837175085827, 0.03187837175085827, 0.03531142717018146, 0.03531142717018146, 0.0358018636586562, 0.0358018636586562, 0.036292300147130946, 0.036292300147130946, 0.03727317312408043, 0.03727317312408043, 0.03874448258950466, 0.03874448258950466, 0.039725355566454144, 0.039725355566454144, 0.04364884747425209, 0.04364884747425209, 0.04462972045120157, 0.04462972045120157, 0.045610593428151054, 0.045610593428151054, 0.049534085335948996, 0.049534085335948996, 0.05689063266307013, 0.05689063266307013, 0.058852378616969105, 0.058852378616969105, 0.06817067189798921, 0.06817067189798921, 0.07356547327121138, 0.07356547327121138, 0.07748896517900931, 0.07748896517900931, 0.08239333006375674, 0.08239333006375674, 0.08778813143697892, 0.08778813143697892, 0.10004904364884748, 0.10004904364884748, 0.1338891613536047, 0.1338891613536047, 0.15448749386954388, 0.15448749386954388, 0.17606669936243258, 0.17606669936243258, 0.18195193722412947, 0.18195193722412947, 0.1893084845512506, 0.1893084845512506, 0.1902893575282001, 0.1902893575282001, 0.20156939676311916, 0.20156939676311916, 0.22560078469838157, 0.22560078469838157, 0.24619911721432075, 0.24619911721432075, 0.2908288376655223, 0.2908288376655223, 0.33742030407062285, 0.33742030407062285, 0.5159391858754291, 0.5159391858754291, 1.0], \"y\": [0.0, 0.0013831258644536654, 0.006915629322268326, 0.009681881051175657, 0.07192254495159059, 0.07468879668049792, 0.07883817427385892, 0.08160442600276625, 0.10511756569847856, 0.1078838174273859, 0.28907330567081607, 0.2918395573997234, 0.41632088520055327, 0.4190871369294606, 0.7634854771784232, 0.7634854771784232, 0.7704011065006916, 0.7704011065006916, 0.7773167358229599, 0.7773167358229599, 0.7966804979253111, 0.7966804979253111, 0.8188105117565698, 0.8188105117565698, 0.8423236514522822, 0.8423236514522822, 0.8478561549100968, 0.8478561549100968, 0.8616874135546335, 0.8616874135546335, 0.8686030428769018, 0.8686030428769018, 0.8713692946058091, 0.8713692946058091, 0.8769017980636238, 0.8769017980636238, 0.8782849239280774, 0.8782849239280774, 0.8796680497925311, 0.8796680497925311, 0.8879668049792531, 0.8879668049792531, 0.8907330567081605, 0.8907330567081605, 0.8990318118948825, 0.8990318118948825, 0.9114799446749654, 0.9114799446749654, 0.91701244813278, 0.91701244813278, 0.9183955739972337, 0.9183955739972337, 0.9197786998616874, 0.9197786998616874, 0.9239280774550485, 0.9239280774550485, 0.9253112033195021, 0.9253112033195021, 0.9266943291839558, 0.9266943291839558, 0.9280774550484094, 0.9280774550484094, 0.9308437067773168, 0.9308437067773168, 0.9322268326417704, 0.9322268326417704, 0.9336099585062241, 0.9336099585062241, 0.9349930843706777, 0.9349930843706777, 0.9363762102351314, 0.9363762102351314, 0.9377593360995851, 0.9377593360995851, 0.9391424619640387, 0.9391424619640387, 0.9405255878284924, 0.9405255878284924, 0.9432918395573997, 0.9432918395573997, 0.9446749654218534, 0.9446749654218534, 0.9474412171507607, 0.9474412171507607, 0.9515905947441217, 0.9515905947441217, 0.9529737206085753, 0.9529737206085753, 0.9543568464730291, 0.9543568464730291, 0.9571230982019364, 0.9571230982019364, 0.9585062240663901, 0.9585062240663901, 0.9612724757952974, 0.9612724757952974, 0.9626556016597511, 0.9626556016597511, 0.9640387275242047, 0.9640387275242047, 0.9654218533886584, 0.9654218533886584, 0.966804979253112, 0.966804979253112, 0.9681881051175657, 0.9681881051175657, 0.9695712309820194, 0.9695712309820194, 0.970954356846473, 0.970954356846473, 0.9723374827109267, 0.9723374827109267, 0.9737206085753803, 0.9737206085753803, 0.975103734439834, 0.975103734439834, 0.9764868603042877, 0.9764868603042877, 0.9778699861687413, 0.9778699861687413, 0.979253112033195, 0.979253112033195, 0.9806362378976486, 0.9806362378976486, 0.9820193637621023, 0.9820193637621023, 0.983402489626556, 0.983402489626556, 0.9847856154910097, 0.9847856154910097, 0.9861687413554634, 0.9861687413554634, 0.9875518672199171, 0.9875518672199171, 0.9889349930843707, 0.9889349930843707, 0.9903181189488244, 0.9903181189488244, 0.991701244813278, 0.991701244813278, 0.9930843706777317, 0.9930843706777317, 0.9944674965421854, 0.9944674965421854, 0.995850622406639, 0.995850622406639, 0.9972337482710927, 0.9972337482710927, 0.9986168741355463, 0.9986168741355463, 1.0, 1.0]}],\n",
              "                        {\"template\": {\"data\": {\"bar\": [{\"error_x\": {\"color\": \"#2a3f5f\"}, \"error_y\": {\"color\": \"#2a3f5f\"}, \"marker\": {\"line\": {\"color\": \"#E5ECF6\", \"width\": 0.5}}, \"type\": \"bar\"}], \"barpolar\": [{\"marker\": {\"line\": {\"color\": \"#E5ECF6\", \"width\": 0.5}}, \"type\": \"barpolar\"}], \"carpet\": [{\"aaxis\": {\"endlinecolor\": \"#2a3f5f\", \"gridcolor\": \"white\", \"linecolor\": \"white\", \"minorgridcolor\": \"white\", \"startlinecolor\": \"#2a3f5f\"}, \"baxis\": {\"endlinecolor\": \"#2a3f5f\", \"gridcolor\": \"white\", \"linecolor\": \"white\", \"minorgridcolor\": \"white\", \"startlinecolor\": \"#2a3f5f\"}, \"type\": \"carpet\"}], \"choropleth\": [{\"colorbar\": {\"outlinewidth\": 0, \"ticks\": \"\"}, \"type\": \"choropleth\"}], \"contour\": [{\"colorbar\": {\"outlinewidth\": 0, \"ticks\": \"\"}, \"colorscale\": [[0.0, \"#0d0887\"], [0.1111111111111111, \"#46039f\"], [0.2222222222222222, \"#7201a8\"], [0.3333333333333333, \"#9c179e\"], [0.4444444444444444, \"#bd3786\"], [0.5555555555555556, \"#d8576b\"], [0.6666666666666666, \"#ed7953\"], [0.7777777777777778, \"#fb9f3a\"], [0.8888888888888888, \"#fdca26\"], [1.0, \"#f0f921\"]], \"type\": \"contour\"}], \"contourcarpet\": [{\"colorbar\": {\"outlinewidth\": 0, \"ticks\": \"\"}, \"type\": \"contourcarpet\"}], \"heatmap\": [{\"colorbar\": {\"outlinewidth\": 0, \"ticks\": \"\"}, \"colorscale\": [[0.0, \"#0d0887\"], [0.1111111111111111, \"#46039f\"], [0.2222222222222222, \"#7201a8\"], [0.3333333333333333, \"#9c179e\"], [0.4444444444444444, \"#bd3786\"], [0.5555555555555556, \"#d8576b\"], [0.6666666666666666, \"#ed7953\"], [0.7777777777777778, \"#fb9f3a\"], [0.8888888888888888, \"#fdca26\"], [1.0, \"#f0f921\"]], \"type\": \"heatmap\"}], \"heatmapgl\": [{\"colorbar\": {\"outlinewidth\": 0, \"ticks\": \"\"}, \"colorscale\": [[0.0, \"#0d0887\"], [0.1111111111111111, \"#46039f\"], [0.2222222222222222, \"#7201a8\"], [0.3333333333333333, \"#9c179e\"], [0.4444444444444444, \"#bd3786\"], [0.5555555555555556, \"#d8576b\"], [0.6666666666666666, \"#ed7953\"], [0.7777777777777778, \"#fb9f3a\"], [0.8888888888888888, \"#fdca26\"], [1.0, \"#f0f921\"]], \"type\": \"heatmapgl\"}], \"histogram\": [{\"marker\": {\"colorbar\": {\"outlinewidth\": 0, \"ticks\": \"\"}}, \"type\": \"histogram\"}], \"histogram2d\": [{\"colorbar\": {\"outlinewidth\": 0, \"ticks\": \"\"}, \"colorscale\": [[0.0, \"#0d0887\"], [0.1111111111111111, \"#46039f\"], [0.2222222222222222, \"#7201a8\"], [0.3333333333333333, \"#9c179e\"], [0.4444444444444444, \"#bd3786\"], [0.5555555555555556, \"#d8576b\"], [0.6666666666666666, \"#ed7953\"], [0.7777777777777778, \"#fb9f3a\"], [0.8888888888888888, \"#fdca26\"], [1.0, \"#f0f921\"]], \"type\": \"histogram2d\"}], \"histogram2dcontour\": [{\"colorbar\": {\"outlinewidth\": 0, \"ticks\": \"\"}, \"colorscale\": [[0.0, \"#0d0887\"], [0.1111111111111111, \"#46039f\"], [0.2222222222222222, \"#7201a8\"], [0.3333333333333333, \"#9c179e\"], [0.4444444444444444, \"#bd3786\"], [0.5555555555555556, \"#d8576b\"], [0.6666666666666666, \"#ed7953\"], [0.7777777777777778, \"#fb9f3a\"], [0.8888888888888888, \"#fdca26\"], [1.0, \"#f0f921\"]], \"type\": \"histogram2dcontour\"}], \"mesh3d\": [{\"colorbar\": {\"outlinewidth\": 0, \"ticks\": \"\"}, \"type\": \"mesh3d\"}], \"parcoords\": [{\"line\": {\"colorbar\": {\"outlinewidth\": 0, \"ticks\": \"\"}}, \"type\": \"parcoords\"}], \"pie\": [{\"automargin\": true, \"type\": \"pie\"}], \"scatter\": [{\"marker\": {\"colorbar\": {\"outlinewidth\": 0, \"ticks\": \"\"}}, \"type\": \"scatter\"}], \"scatter3d\": [{\"line\": {\"colorbar\": {\"outlinewidth\": 0, \"ticks\": \"\"}}, \"marker\": {\"colorbar\": {\"outlinewidth\": 0, \"ticks\": \"\"}}, \"type\": \"scatter3d\"}], \"scattercarpet\": [{\"marker\": {\"colorbar\": {\"outlinewidth\": 0, \"ticks\": \"\"}}, \"type\": \"scattercarpet\"}], \"scattergeo\": [{\"marker\": {\"colorbar\": {\"outlinewidth\": 0, \"ticks\": \"\"}}, \"type\": \"scattergeo\"}], \"scattergl\": [{\"marker\": {\"colorbar\": {\"outlinewidth\": 0, \"ticks\": \"\"}}, \"type\": \"scattergl\"}], \"scattermapbox\": [{\"marker\": {\"colorbar\": {\"outlinewidth\": 0, \"ticks\": \"\"}}, \"type\": \"scattermapbox\"}], \"scatterpolar\": [{\"marker\": {\"colorbar\": {\"outlinewidth\": 0, \"ticks\": \"\"}}, \"type\": \"scatterpolar\"}], \"scatterpolargl\": [{\"marker\": {\"colorbar\": {\"outlinewidth\": 0, \"ticks\": \"\"}}, \"type\": \"scatterpolargl\"}], \"scatterternary\": [{\"marker\": {\"colorbar\": {\"outlinewidth\": 0, \"ticks\": \"\"}}, \"type\": \"scatterternary\"}], \"surface\": [{\"colorbar\": {\"outlinewidth\": 0, \"ticks\": \"\"}, \"colorscale\": [[0.0, \"#0d0887\"], [0.1111111111111111, \"#46039f\"], [0.2222222222222222, \"#7201a8\"], [0.3333333333333333, \"#9c179e\"], [0.4444444444444444, \"#bd3786\"], [0.5555555555555556, \"#d8576b\"], [0.6666666666666666, \"#ed7953\"], [0.7777777777777778, \"#fb9f3a\"], [0.8888888888888888, \"#fdca26\"], [1.0, \"#f0f921\"]], \"type\": \"surface\"}], \"table\": [{\"cells\": {\"fill\": {\"color\": \"#EBF0F8\"}, \"line\": {\"color\": \"white\"}}, \"header\": {\"fill\": {\"color\": \"#C8D4E3\"}, \"line\": {\"color\": \"white\"}}, \"type\": \"table\"}]}, \"layout\": {\"annotationdefaults\": {\"arrowcolor\": \"#2a3f5f\", \"arrowhead\": 0, \"arrowwidth\": 1}, \"coloraxis\": {\"colorbar\": {\"outlinewidth\": 0, \"ticks\": \"\"}}, \"colorscale\": {\"diverging\": [[0, \"#8e0152\"], [0.1, \"#c51b7d\"], [0.2, \"#de77ae\"], [0.3, \"#f1b6da\"], [0.4, \"#fde0ef\"], [0.5, \"#f7f7f7\"], [0.6, \"#e6f5d0\"], [0.7, \"#b8e186\"], [0.8, \"#7fbc41\"], [0.9, \"#4d9221\"], [1, \"#276419\"]], \"sequential\": [[0.0, \"#0d0887\"], [0.1111111111111111, \"#46039f\"], [0.2222222222222222, \"#7201a8\"], [0.3333333333333333, \"#9c179e\"], [0.4444444444444444, \"#bd3786\"], [0.5555555555555556, \"#d8576b\"], [0.6666666666666666, \"#ed7953\"], [0.7777777777777778, \"#fb9f3a\"], [0.8888888888888888, \"#fdca26\"], [1.0, \"#f0f921\"]], \"sequentialminus\": [[0.0, \"#0d0887\"], [0.1111111111111111, \"#46039f\"], [0.2222222222222222, \"#7201a8\"], [0.3333333333333333, \"#9c179e\"], [0.4444444444444444, \"#bd3786\"], [0.5555555555555556, \"#d8576b\"], [0.6666666666666666, \"#ed7953\"], [0.7777777777777778, \"#fb9f3a\"], [0.8888888888888888, \"#fdca26\"], [1.0, \"#f0f921\"]]}, \"colorway\": [\"#636efa\", \"#EF553B\", \"#00cc96\", \"#ab63fa\", \"#FFA15A\", \"#19d3f3\", \"#FF6692\", \"#B6E880\", \"#FF97FF\", \"#FECB52\"], \"font\": {\"color\": \"#2a3f5f\"}, \"geo\": {\"bgcolor\": \"white\", \"lakecolor\": \"white\", \"landcolor\": \"#E5ECF6\", \"showlakes\": true, \"showland\": true, \"subunitcolor\": \"white\"}, \"hoverlabel\": {\"align\": \"left\"}, \"hovermode\": \"closest\", \"mapbox\": {\"style\": \"light\"}, \"paper_bgcolor\": \"white\", \"plot_bgcolor\": \"#E5ECF6\", \"polar\": {\"angularaxis\": {\"gridcolor\": \"white\", \"linecolor\": \"white\", \"ticks\": \"\"}, \"bgcolor\": \"#E5ECF6\", \"radialaxis\": {\"gridcolor\": \"white\", \"linecolor\": \"white\", \"ticks\": \"\"}}, \"scene\": {\"xaxis\": {\"backgroundcolor\": \"#E5ECF6\", \"gridcolor\": \"white\", \"gridwidth\": 2, \"linecolor\": \"white\", \"showbackground\": true, \"ticks\": \"\", \"zerolinecolor\": \"white\"}, \"yaxis\": {\"backgroundcolor\": \"#E5ECF6\", \"gridcolor\": \"white\", \"gridwidth\": 2, \"linecolor\": \"white\", \"showbackground\": true, \"ticks\": \"\", \"zerolinecolor\": \"white\"}, \"zaxis\": {\"backgroundcolor\": \"#E5ECF6\", \"gridcolor\": \"white\", \"gridwidth\": 2, \"linecolor\": \"white\", \"showbackground\": true, \"ticks\": \"\", \"zerolinecolor\": \"white\"}}, \"shapedefaults\": {\"line\": {\"color\": \"#2a3f5f\"}}, \"ternary\": {\"aaxis\": {\"gridcolor\": \"white\", \"linecolor\": \"white\", \"ticks\": \"\"}, \"baxis\": {\"gridcolor\": \"white\", \"linecolor\": \"white\", \"ticks\": \"\"}, \"bgcolor\": \"#E5ECF6\", \"caxis\": {\"gridcolor\": \"white\", \"linecolor\": \"white\", \"ticks\": \"\"}}, \"title\": {\"x\": 0.05}, \"xaxis\": {\"automargin\": true, \"gridcolor\": \"white\", \"linecolor\": \"white\", \"ticks\": \"\", \"title\": {\"standoff\": 15}, \"zerolinecolor\": \"white\", \"zerolinewidth\": 2}, \"yaxis\": {\"automargin\": true, \"gridcolor\": \"white\", \"linecolor\": \"white\", \"ticks\": \"\", \"title\": {\"standoff\": 15}, \"zerolinecolor\": \"white\", \"zerolinewidth\": 2}}}, \"title\": {\"text\": \"ROC Curve\"}, \"xaxis\": {\"title\": {\"text\": \"FPR\"}}, \"yaxis\": {\"title\": {\"text\": \"TPR\"}}},\n",
              "                        {\"responsive\": true}\n",
              "                    ).then(function(){\n",
              "                            \n",
              "var gd = document.getElementById('6f33e0d2-3a26-41a1-bd25-8387596141a0');\n",
              "var x = new MutationObserver(function (mutations, observer) {{\n",
              "        var display = window.getComputedStyle(gd).display;\n",
              "        if (!display || display === 'none') {{\n",
              "            console.log([gd, 'removed!']);\n",
              "            Plotly.purge(gd);\n",
              "            observer.disconnect();\n",
              "        }}\n",
              "}});\n",
              "\n",
              "// Listen for the removal of the full notebook cells\n",
              "var notebookContainer = gd.closest('#notebook-container');\n",
              "if (notebookContainer) {{\n",
              "    x.observe(notebookContainer, {childList: true});\n",
              "}}\n",
              "\n",
              "// Listen for the clearing of the current output cell\n",
              "var outputEl = gd.closest('.output');\n",
              "if (outputEl) {{\n",
              "    x.observe(outputEl, {childList: true});\n",
              "}}\n",
              "\n",
              "                        })\n",
              "                };\n",
              "                \n",
              "            </script>\n",
              "        </div>\n",
              "</body>\n",
              "</html>"
            ]
          },
          "metadata": {}
        }
      ]
    },
    {
      "cell_type": "code",
      "source": [
        "evaluate_model(y_true, pred_eff, threshold=0.35)"
      ],
      "metadata": {
        "execution": {
          "iopub.status.busy": "2022-01-13T07:40:58.193072Z",
          "iopub.execute_input": "2022-01-13T07:40:58.193844Z",
          "iopub.status.idle": "2022-01-13T07:40:58.233248Z",
          "shell.execute_reply.started": "2022-01-13T07:40:58.193792Z",
          "shell.execute_reply": "2022-01-13T07:40:58.232457Z"
        },
        "trusted": true,
        "colab": {
          "base_uri": "https://localhost:8080/"
        },
        "id": "M0lQYaM-Zg7_",
        "outputId": "41947ea6-77be-4668-e683-8ad2c83f163b"
      },
      "execution_count": 46,
      "outputs": [
        {
          "output_type": "stream",
          "name": "stdout",
          "text": [
            "===== Classification Report ======\n",
            "              precision    recall  f1-score   support\n",
            "\n",
            "           0       0.98      0.98      0.98      2039\n",
            "           1       0.94      0.94      0.94       723\n",
            "\n",
            "    accuracy                           0.97      2762\n",
            "   macro avg       0.96      0.96      0.96      2762\n",
            "weighted avg       0.97      0.97      0.97      2762\n",
            "\n",
            "\n",
            "===== Confusion Matrix =====\n",
            "[[1997   42]\n",
            " [  44  679]]\n",
            "\n",
            "===== Other Metrics =====\n",
            "ROC_AUC: 0.9925282001495361\n"
          ]
        }
      ]
    }
  ]
}