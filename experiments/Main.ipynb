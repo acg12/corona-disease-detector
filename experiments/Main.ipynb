{
  "nbformat": 4,
  "nbformat_minor": 0,
  "metadata": {
    "kernelspec": {
      "language": "python",
      "display_name": "Python 3",
      "name": "python3"
    },
    "language_info": {
      "pygments_lexer": "ipython3",
      "nbconvert_exporter": "python",
      "version": "3.6.4",
      "file_extension": ".py",
      "codemirror_mode": {
        "name": "ipython",
        "version": 3
      },
      "name": "python",
      "mimetype": "text/x-python"
    },
    "colab": {
      "name": "Project AI Manggis - COVID Radiography.ipynb",
      "provenance": [],
      "collapsed_sections": [],
      "include_colab_link": true
    },
    "accelerator": "GPU"
  },
  "cells": [
    {
      "cell_type": "markdown",
      "metadata": {
        "id": "view-in-github",
        "colab_type": "text"
      },
      "source": [
        "<a href=\"https://colab.research.google.com/github/acg12/corona-disease-detector/blob/master/experiments/Main.ipynb\" target=\"_parent\"><img src=\"https://colab.research.google.com/assets/colab-badge.svg\" alt=\"Open In Colab\"/></a>"
      ]
    },
    {
      "cell_type": "markdown",
      "source": [
        "# Setup the Environment"
      ],
      "metadata": {
        "id": "ko7OAmN8qV6e"
      }
    },
    {
      "cell_type": "code",
      "metadata": {
        "execution": {
          "iopub.status.busy": "2021-10-25T04:14:30.289324Z",
          "iopub.execute_input": "2021-10-25T04:14:30.289878Z",
          "iopub.status.idle": "2021-10-25T04:14:39.480719Z",
          "shell.execute_reply.started": "2021-10-25T04:14:30.28984Z",
          "shell.execute_reply": "2021-10-25T04:14:39.479824Z"
        },
        "trusted": true,
        "id": "ePxe06HF4kBG",
        "colab": {
          "base_uri": "https://localhost:8080/"
        },
        "outputId": "355f0f87-cdb1-4adb-c478-bdbe9d4350de"
      },
      "source": [
        "!pip install openpyxl\n",
        "!pip install kaggle"
      ],
      "execution_count": 1,
      "outputs": [
        {
          "output_type": "stream",
          "name": "stdout",
          "text": [
            "Requirement already satisfied: openpyxl in /usr/local/lib/python3.7/dist-packages (2.5.9)\n",
            "Requirement already satisfied: et-xmlfile in /usr/local/lib/python3.7/dist-packages (from openpyxl) (1.1.0)\n",
            "Requirement already satisfied: jdcal in /usr/local/lib/python3.7/dist-packages (from openpyxl) (1.4.1)\n",
            "Requirement already satisfied: kaggle in /usr/local/lib/python3.7/dist-packages (1.5.12)\n",
            "Requirement already satisfied: requests in /usr/local/lib/python3.7/dist-packages (from kaggle) (2.23.0)\n",
            "Requirement already satisfied: python-dateutil in /usr/local/lib/python3.7/dist-packages (from kaggle) (2.8.2)\n",
            "Requirement already satisfied: urllib3 in /usr/local/lib/python3.7/dist-packages (from kaggle) (1.24.3)\n",
            "Requirement already satisfied: six>=1.10 in /usr/local/lib/python3.7/dist-packages (from kaggle) (1.15.0)\n",
            "Requirement already satisfied: certifi in /usr/local/lib/python3.7/dist-packages (from kaggle) (2021.10.8)\n",
            "Requirement already satisfied: python-slugify in /usr/local/lib/python3.7/dist-packages (from kaggle) (5.0.2)\n",
            "Requirement already satisfied: tqdm in /usr/local/lib/python3.7/dist-packages (from kaggle) (4.62.3)\n",
            "Requirement already satisfied: text-unidecode>=1.3 in /usr/local/lib/python3.7/dist-packages (from python-slugify->kaggle) (1.3)\n",
            "Requirement already satisfied: idna<3,>=2.5 in /usr/local/lib/python3.7/dist-packages (from requests->kaggle) (2.10)\n",
            "Requirement already satisfied: chardet<4,>=3.0.2 in /usr/local/lib/python3.7/dist-packages (from requests->kaggle) (3.0.4)\n"
          ]
        }
      ]
    },
    {
      "cell_type": "code",
      "metadata": {
        "id": "png93YD65PJH"
      },
      "source": [
        "!rm -r ~/.kaggle\n",
        "!mkdir ~/.kaggle\n",
        "!mv ./kaggle.json ~/.kaggle/\n",
        "!chmod 600 ~/.kaggle/kaggle.json"
      ],
      "execution_count": 6,
      "outputs": []
    },
    {
      "cell_type": "code",
      "metadata": {
        "colab": {
          "base_uri": "https://localhost:8080/"
        },
        "id": "e8u8SEqQ5y1T",
        "outputId": "96c4cc33-38ee-44ee-9020-9246aa91a78d"
      },
      "source": [
        "!kaggle datasets download -d tawsifurrahman/covid19-radiography-database"
      ],
      "execution_count": 9,
      "outputs": [
        {
          "output_type": "stream",
          "name": "stdout",
          "text": [
            "Downloading covid19-radiography-database.zip to /content\n",
            " 99% 739M/745M [00:04<00:00, 165MB/s]\n",
            "100% 745M/745M [00:04<00:00, 172MB/s]\n"
          ]
        }
      ]
    },
    {
      "cell_type": "code",
      "metadata": {
        "id": "ikLFtdyU5_IG"
      },
      "source": [
        "!unzip -q /content/covid19-radiography-database.zip"
      ],
      "execution_count": 10,
      "outputs": []
    },
    {
      "cell_type": "code",
      "metadata": {
        "_uuid": "8f2839f25d086af736a60e9eeb907d3b93b6e0e5",
        "_cell_guid": "b1076dfc-b9ad-4769-8c92-a6c4dae69d19",
        "execution": {
          "iopub.status.busy": "2021-10-25T04:14:46.654052Z",
          "iopub.execute_input": "2021-10-25T04:14:46.654538Z",
          "iopub.status.idle": "2021-10-25T04:14:52.57009Z",
          "shell.execute_reply.started": "2021-10-25T04:14:46.654501Z",
          "shell.execute_reply": "2021-10-25T04:14:52.569325Z"
        },
        "trusted": true,
        "id": "YDSzlAMV4kBA"
      },
      "source": [
        "import numpy as np # linear algebra\n",
        "import pandas as pd # data processing, CSV file I/O (e.g. pd.read_csv)\n",
        "\n",
        "from sklearn.model_selection import train_test_split\n",
        "\n",
        "# For visualizing images\n",
        "import matplotlib.pyplot as plt\n",
        "import seaborn as sns\n",
        "import matplotlib.image as mpimg\n",
        "import random\n",
        "from plotly.subplots import make_subplots\n",
        "import plotly.graph_objects as go\n",
        "\n",
        "# For augmenting data\n",
        "from tensorflow.keras.preprocessing.image import ImageDataGenerator\n",
        "\n",
        "# For modelling\n",
        "import tensorflow as tf\n",
        "from tensorflow import keras\n",
        "from tensorflow.keras.optimizers import Adam\n",
        "from tensorflow.keras.layers import Dense, Flatten, Conv2D, MaxPool2D, Activation\n",
        "from tensorflow.keras import Sequential, layers\n",
        "import tensorflow_hub as hub\n",
        "from sklearn.model_selection import StratifiedKFold\n",
        "\n",
        "# For evaluation\n",
        "from tensorflow.keras.models import load_model\n",
        "from sklearn.metrics import classification_report, confusion_matrix, roc_curve\n",
        "\n",
        "import os"
      ],
      "execution_count": 11,
      "outputs": []
    },
    {
      "cell_type": "markdown",
      "metadata": {
        "id": "7LTDkyYy4kBG"
      },
      "source": [
        "# Prepare the Data"
      ]
    },
    {
      "cell_type": "code",
      "metadata": {
        "execution": {
          "iopub.status.busy": "2021-10-25T04:14:52.571572Z",
          "iopub.execute_input": "2021-10-25T04:14:52.571834Z",
          "iopub.status.idle": "2021-10-25T04:14:54.00422Z",
          "shell.execute_reply.started": "2021-10-25T04:14:52.571801Z",
          "shell.execute_reply": "2021-10-25T04:14:54.003412Z"
        },
        "trusted": true,
        "id": "fqJUpd3w4kBI"
      },
      "source": [
        "covid_df = pd.read_excel(\"/content/COVID-19_Radiography_Dataset/COVID.metadata.xlsx\")\n",
        "normal_df = pd.read_excel(\"/content/COVID-19_Radiography_Dataset/Normal.metadata.xlsx\")"
      ],
      "execution_count": 14,
      "outputs": []
    },
    {
      "cell_type": "code",
      "metadata": {
        "execution": {
          "iopub.status.busy": "2021-10-25T04:14:54.006033Z",
          "iopub.execute_input": "2021-10-25T04:14:54.006335Z",
          "iopub.status.idle": "2021-10-25T04:14:54.031482Z",
          "shell.execute_reply.started": "2021-10-25T04:14:54.006283Z",
          "shell.execute_reply": "2021-10-25T04:14:54.030694Z"
        },
        "trusted": true,
        "colab": {
          "base_uri": "https://localhost:8080/",
          "height": 206
        },
        "id": "_lcGjNN84kBI",
        "outputId": "bcdbcb0d-653a-4494-a34c-99145db40af3"
      },
      "source": [
        "covid_df['TARGET'] = 'Positive'\n",
        "normal_df['TARGET'] = 'Negative'\n",
        "normal_df.head()"
      ],
      "execution_count": 15,
      "outputs": [
        {
          "output_type": "execute_result",
          "data": {
            "text/html": [
              "\n",
              "  <div id=\"df-d3ba7441-32e1-4f36-ae96-9c6a8cdaf772\">\n",
              "    <div class=\"colab-df-container\">\n",
              "      <div>\n",
              "<style scoped>\n",
              "    .dataframe tbody tr th:only-of-type {\n",
              "        vertical-align: middle;\n",
              "    }\n",
              "\n",
              "    .dataframe tbody tr th {\n",
              "        vertical-align: top;\n",
              "    }\n",
              "\n",
              "    .dataframe thead th {\n",
              "        text-align: right;\n",
              "    }\n",
              "</style>\n",
              "<table border=\"1\" class=\"dataframe\">\n",
              "  <thead>\n",
              "    <tr style=\"text-align: right;\">\n",
              "      <th></th>\n",
              "      <th>FILE NAME</th>\n",
              "      <th>FORMAT</th>\n",
              "      <th>SIZE</th>\n",
              "      <th>URL</th>\n",
              "      <th>TARGET</th>\n",
              "    </tr>\n",
              "  </thead>\n",
              "  <tbody>\n",
              "    <tr>\n",
              "      <th>0</th>\n",
              "      <td>NORMAL-1</td>\n",
              "      <td>PNG</td>\n",
              "      <td>256*256</td>\n",
              "      <td>https://www.kaggle.com/c/rsna-pneumonia-detect...</td>\n",
              "      <td>Negative</td>\n",
              "    </tr>\n",
              "    <tr>\n",
              "      <th>1</th>\n",
              "      <td>NORMAL-2</td>\n",
              "      <td>PNG</td>\n",
              "      <td>256*256</td>\n",
              "      <td>https://www.kaggle.com/c/rsna-pneumonia-detect...</td>\n",
              "      <td>Negative</td>\n",
              "    </tr>\n",
              "    <tr>\n",
              "      <th>2</th>\n",
              "      <td>NORMAL-3</td>\n",
              "      <td>PNG</td>\n",
              "      <td>256*256</td>\n",
              "      <td>https://www.kaggle.com/c/rsna-pneumonia-detect...</td>\n",
              "      <td>Negative</td>\n",
              "    </tr>\n",
              "    <tr>\n",
              "      <th>3</th>\n",
              "      <td>NORMAL-4</td>\n",
              "      <td>PNG</td>\n",
              "      <td>256*256</td>\n",
              "      <td>https://www.kaggle.com/c/rsna-pneumonia-detect...</td>\n",
              "      <td>Negative</td>\n",
              "    </tr>\n",
              "    <tr>\n",
              "      <th>4</th>\n",
              "      <td>NORMAL-5</td>\n",
              "      <td>PNG</td>\n",
              "      <td>256*256</td>\n",
              "      <td>https://www.kaggle.com/c/rsna-pneumonia-detect...</td>\n",
              "      <td>Negative</td>\n",
              "    </tr>\n",
              "  </tbody>\n",
              "</table>\n",
              "</div>\n",
              "      <button class=\"colab-df-convert\" onclick=\"convertToInteractive('df-d3ba7441-32e1-4f36-ae96-9c6a8cdaf772')\"\n",
              "              title=\"Convert this dataframe to an interactive table.\"\n",
              "              style=\"display:none;\">\n",
              "        \n",
              "  <svg xmlns=\"http://www.w3.org/2000/svg\" height=\"24px\"viewBox=\"0 0 24 24\"\n",
              "       width=\"24px\">\n",
              "    <path d=\"M0 0h24v24H0V0z\" fill=\"none\"/>\n",
              "    <path d=\"M18.56 5.44l.94 2.06.94-2.06 2.06-.94-2.06-.94-.94-2.06-.94 2.06-2.06.94zm-11 1L8.5 8.5l.94-2.06 2.06-.94-2.06-.94L8.5 2.5l-.94 2.06-2.06.94zm10 10l.94 2.06.94-2.06 2.06-.94-2.06-.94-.94-2.06-.94 2.06-2.06.94z\"/><path d=\"M17.41 7.96l-1.37-1.37c-.4-.4-.92-.59-1.43-.59-.52 0-1.04.2-1.43.59L10.3 9.45l-7.72 7.72c-.78.78-.78 2.05 0 2.83L4 21.41c.39.39.9.59 1.41.59.51 0 1.02-.2 1.41-.59l7.78-7.78 2.81-2.81c.8-.78.8-2.07 0-2.86zM5.41 20L4 18.59l7.72-7.72 1.47 1.35L5.41 20z\"/>\n",
              "  </svg>\n",
              "      </button>\n",
              "      \n",
              "  <style>\n",
              "    .colab-df-container {\n",
              "      display:flex;\n",
              "      flex-wrap:wrap;\n",
              "      gap: 12px;\n",
              "    }\n",
              "\n",
              "    .colab-df-convert {\n",
              "      background-color: #E8F0FE;\n",
              "      border: none;\n",
              "      border-radius: 50%;\n",
              "      cursor: pointer;\n",
              "      display: none;\n",
              "      fill: #1967D2;\n",
              "      height: 32px;\n",
              "      padding: 0 0 0 0;\n",
              "      width: 32px;\n",
              "    }\n",
              "\n",
              "    .colab-df-convert:hover {\n",
              "      background-color: #E2EBFA;\n",
              "      box-shadow: 0px 1px 2px rgba(60, 64, 67, 0.3), 0px 1px 3px 1px rgba(60, 64, 67, 0.15);\n",
              "      fill: #174EA6;\n",
              "    }\n",
              "\n",
              "    [theme=dark] .colab-df-convert {\n",
              "      background-color: #3B4455;\n",
              "      fill: #D2E3FC;\n",
              "    }\n",
              "\n",
              "    [theme=dark] .colab-df-convert:hover {\n",
              "      background-color: #434B5C;\n",
              "      box-shadow: 0px 1px 3px 1px rgba(0, 0, 0, 0.15);\n",
              "      filter: drop-shadow(0px 1px 2px rgba(0, 0, 0, 0.3));\n",
              "      fill: #FFFFFF;\n",
              "    }\n",
              "  </style>\n",
              "\n",
              "      <script>\n",
              "        const buttonEl =\n",
              "          document.querySelector('#df-d3ba7441-32e1-4f36-ae96-9c6a8cdaf772 button.colab-df-convert');\n",
              "        buttonEl.style.display =\n",
              "          google.colab.kernel.accessAllowed ? 'block' : 'none';\n",
              "\n",
              "        async function convertToInteractive(key) {\n",
              "          const element = document.querySelector('#df-d3ba7441-32e1-4f36-ae96-9c6a8cdaf772');\n",
              "          const dataTable =\n",
              "            await google.colab.kernel.invokeFunction('convertToInteractive',\n",
              "                                                     [key], {});\n",
              "          if (!dataTable) return;\n",
              "\n",
              "          const docLinkHtml = 'Like what you see? Visit the ' +\n",
              "            '<a target=\"_blank\" href=https://colab.research.google.com/notebooks/data_table.ipynb>data table notebook</a>'\n",
              "            + ' to learn more about interactive tables.';\n",
              "          element.innerHTML = '';\n",
              "          dataTable['output_type'] = 'display_data';\n",
              "          await google.colab.output.renderOutput(dataTable, element);\n",
              "          const docLink = document.createElement('div');\n",
              "          docLink.innerHTML = docLinkHtml;\n",
              "          element.appendChild(docLink);\n",
              "        }\n",
              "      </script>\n",
              "    </div>\n",
              "  </div>\n",
              "  "
            ],
            "text/plain": [
              "  FILE NAME FORMAT  ...                                                URL    TARGET\n",
              "0  NORMAL-1    PNG  ...  https://www.kaggle.com/c/rsna-pneumonia-detect...  Negative\n",
              "1  NORMAL-2    PNG  ...  https://www.kaggle.com/c/rsna-pneumonia-detect...  Negative\n",
              "2  NORMAL-3    PNG  ...  https://www.kaggle.com/c/rsna-pneumonia-detect...  Negative\n",
              "3  NORMAL-4    PNG  ...  https://www.kaggle.com/c/rsna-pneumonia-detect...  Negative\n",
              "4  NORMAL-5    PNG  ...  https://www.kaggle.com/c/rsna-pneumonia-detect...  Negative\n",
              "\n",
              "[5 rows x 5 columns]"
            ]
          },
          "metadata": {},
          "execution_count": 15
        }
      ]
    },
    {
      "cell_type": "code",
      "metadata": {
        "execution": {
          "iopub.status.busy": "2021-10-25T04:14:58.372259Z",
          "iopub.execute_input": "2021-10-25T04:14:58.372855Z",
          "iopub.status.idle": "2021-10-25T04:14:58.626048Z",
          "shell.execute_reply.started": "2021-10-25T04:14:58.372814Z",
          "shell.execute_reply": "2021-10-25T04:14:58.625361Z"
        },
        "trusted": true,
        "colab": {
          "base_uri": "https://localhost:8080/",
          "height": 206
        },
        "id": "VAcoK2x84kBJ",
        "outputId": "104830a0-2b67-4f6d-e2c0-dfba08142084"
      },
      "source": [
        "covid_df['FILE NAME'] = covid_df.apply(lambda x: \"COVID/\" + x['FILE NAME'] + \".\" + str.lower(x['FORMAT']), axis=1)\n",
        "normal_df['FILE NAME'] = normal_df.apply(lambda x: \"Normal/\" + str.capitalize(x['FILE NAME']) + \".\" + str.lower(x['FORMAT']), axis=1)\n",
        "normal_df.head()"
      ],
      "execution_count": 16,
      "outputs": [
        {
          "output_type": "execute_result",
          "data": {
            "text/html": [
              "\n",
              "  <div id=\"df-5fa739b8-270d-401e-a60c-9e4c6973d95d\">\n",
              "    <div class=\"colab-df-container\">\n",
              "      <div>\n",
              "<style scoped>\n",
              "    .dataframe tbody tr th:only-of-type {\n",
              "        vertical-align: middle;\n",
              "    }\n",
              "\n",
              "    .dataframe tbody tr th {\n",
              "        vertical-align: top;\n",
              "    }\n",
              "\n",
              "    .dataframe thead th {\n",
              "        text-align: right;\n",
              "    }\n",
              "</style>\n",
              "<table border=\"1\" class=\"dataframe\">\n",
              "  <thead>\n",
              "    <tr style=\"text-align: right;\">\n",
              "      <th></th>\n",
              "      <th>FILE NAME</th>\n",
              "      <th>FORMAT</th>\n",
              "      <th>SIZE</th>\n",
              "      <th>URL</th>\n",
              "      <th>TARGET</th>\n",
              "    </tr>\n",
              "  </thead>\n",
              "  <tbody>\n",
              "    <tr>\n",
              "      <th>0</th>\n",
              "      <td>Normal/Normal-1.png</td>\n",
              "      <td>PNG</td>\n",
              "      <td>256*256</td>\n",
              "      <td>https://www.kaggle.com/c/rsna-pneumonia-detect...</td>\n",
              "      <td>Negative</td>\n",
              "    </tr>\n",
              "    <tr>\n",
              "      <th>1</th>\n",
              "      <td>Normal/Normal-2.png</td>\n",
              "      <td>PNG</td>\n",
              "      <td>256*256</td>\n",
              "      <td>https://www.kaggle.com/c/rsna-pneumonia-detect...</td>\n",
              "      <td>Negative</td>\n",
              "    </tr>\n",
              "    <tr>\n",
              "      <th>2</th>\n",
              "      <td>Normal/Normal-3.png</td>\n",
              "      <td>PNG</td>\n",
              "      <td>256*256</td>\n",
              "      <td>https://www.kaggle.com/c/rsna-pneumonia-detect...</td>\n",
              "      <td>Negative</td>\n",
              "    </tr>\n",
              "    <tr>\n",
              "      <th>3</th>\n",
              "      <td>Normal/Normal-4.png</td>\n",
              "      <td>PNG</td>\n",
              "      <td>256*256</td>\n",
              "      <td>https://www.kaggle.com/c/rsna-pneumonia-detect...</td>\n",
              "      <td>Negative</td>\n",
              "    </tr>\n",
              "    <tr>\n",
              "      <th>4</th>\n",
              "      <td>Normal/Normal-5.png</td>\n",
              "      <td>PNG</td>\n",
              "      <td>256*256</td>\n",
              "      <td>https://www.kaggle.com/c/rsna-pneumonia-detect...</td>\n",
              "      <td>Negative</td>\n",
              "    </tr>\n",
              "  </tbody>\n",
              "</table>\n",
              "</div>\n",
              "      <button class=\"colab-df-convert\" onclick=\"convertToInteractive('df-5fa739b8-270d-401e-a60c-9e4c6973d95d')\"\n",
              "              title=\"Convert this dataframe to an interactive table.\"\n",
              "              style=\"display:none;\">\n",
              "        \n",
              "  <svg xmlns=\"http://www.w3.org/2000/svg\" height=\"24px\"viewBox=\"0 0 24 24\"\n",
              "       width=\"24px\">\n",
              "    <path d=\"M0 0h24v24H0V0z\" fill=\"none\"/>\n",
              "    <path d=\"M18.56 5.44l.94 2.06.94-2.06 2.06-.94-2.06-.94-.94-2.06-.94 2.06-2.06.94zm-11 1L8.5 8.5l.94-2.06 2.06-.94-2.06-.94L8.5 2.5l-.94 2.06-2.06.94zm10 10l.94 2.06.94-2.06 2.06-.94-2.06-.94-.94-2.06-.94 2.06-2.06.94z\"/><path d=\"M17.41 7.96l-1.37-1.37c-.4-.4-.92-.59-1.43-.59-.52 0-1.04.2-1.43.59L10.3 9.45l-7.72 7.72c-.78.78-.78 2.05 0 2.83L4 21.41c.39.39.9.59 1.41.59.51 0 1.02-.2 1.41-.59l7.78-7.78 2.81-2.81c.8-.78.8-2.07 0-2.86zM5.41 20L4 18.59l7.72-7.72 1.47 1.35L5.41 20z\"/>\n",
              "  </svg>\n",
              "      </button>\n",
              "      \n",
              "  <style>\n",
              "    .colab-df-container {\n",
              "      display:flex;\n",
              "      flex-wrap:wrap;\n",
              "      gap: 12px;\n",
              "    }\n",
              "\n",
              "    .colab-df-convert {\n",
              "      background-color: #E8F0FE;\n",
              "      border: none;\n",
              "      border-radius: 50%;\n",
              "      cursor: pointer;\n",
              "      display: none;\n",
              "      fill: #1967D2;\n",
              "      height: 32px;\n",
              "      padding: 0 0 0 0;\n",
              "      width: 32px;\n",
              "    }\n",
              "\n",
              "    .colab-df-convert:hover {\n",
              "      background-color: #E2EBFA;\n",
              "      box-shadow: 0px 1px 2px rgba(60, 64, 67, 0.3), 0px 1px 3px 1px rgba(60, 64, 67, 0.15);\n",
              "      fill: #174EA6;\n",
              "    }\n",
              "\n",
              "    [theme=dark] .colab-df-convert {\n",
              "      background-color: #3B4455;\n",
              "      fill: #D2E3FC;\n",
              "    }\n",
              "\n",
              "    [theme=dark] .colab-df-convert:hover {\n",
              "      background-color: #434B5C;\n",
              "      box-shadow: 0px 1px 3px 1px rgba(0, 0, 0, 0.15);\n",
              "      filter: drop-shadow(0px 1px 2px rgba(0, 0, 0, 0.3));\n",
              "      fill: #FFFFFF;\n",
              "    }\n",
              "  </style>\n",
              "\n",
              "      <script>\n",
              "        const buttonEl =\n",
              "          document.querySelector('#df-5fa739b8-270d-401e-a60c-9e4c6973d95d button.colab-df-convert');\n",
              "        buttonEl.style.display =\n",
              "          google.colab.kernel.accessAllowed ? 'block' : 'none';\n",
              "\n",
              "        async function convertToInteractive(key) {\n",
              "          const element = document.querySelector('#df-5fa739b8-270d-401e-a60c-9e4c6973d95d');\n",
              "          const dataTable =\n",
              "            await google.colab.kernel.invokeFunction('convertToInteractive',\n",
              "                                                     [key], {});\n",
              "          if (!dataTable) return;\n",
              "\n",
              "          const docLinkHtml = 'Like what you see? Visit the ' +\n",
              "            '<a target=\"_blank\" href=https://colab.research.google.com/notebooks/data_table.ipynb>data table notebook</a>'\n",
              "            + ' to learn more about interactive tables.';\n",
              "          element.innerHTML = '';\n",
              "          dataTable['output_type'] = 'display_data';\n",
              "          await google.colab.output.renderOutput(dataTable, element);\n",
              "          const docLink = document.createElement('div');\n",
              "          docLink.innerHTML = docLinkHtml;\n",
              "          element.appendChild(docLink);\n",
              "        }\n",
              "      </script>\n",
              "    </div>\n",
              "  </div>\n",
              "  "
            ],
            "text/plain": [
              "             FILE NAME  ...    TARGET\n",
              "0  Normal/Normal-1.png  ...  Negative\n",
              "1  Normal/Normal-2.png  ...  Negative\n",
              "2  Normal/Normal-3.png  ...  Negative\n",
              "3  Normal/Normal-4.png  ...  Negative\n",
              "4  Normal/Normal-5.png  ...  Negative\n",
              "\n",
              "[5 rows x 5 columns]"
            ]
          },
          "metadata": {},
          "execution_count": 16
        }
      ]
    },
    {
      "cell_type": "code",
      "metadata": {
        "execution": {
          "iopub.status.busy": "2021-10-25T04:15:02.170356Z",
          "iopub.execute_input": "2021-10-25T04:15:02.171005Z",
          "iopub.status.idle": "2021-10-25T04:15:02.185733Z",
          "shell.execute_reply.started": "2021-10-25T04:15:02.170962Z",
          "shell.execute_reply": "2021-10-25T04:15:02.184975Z"
        },
        "trusted": true,
        "colab": {
          "base_uri": "https://localhost:8080/",
          "height": 206
        },
        "id": "DdcqYfgU4kBK",
        "outputId": "8d4b0ded-53cd-4289-a536-161b4bff83e9"
      },
      "source": [
        "df = pd.concat([normal_df[['FILE NAME', 'TARGET']], \n",
        "                covid_df[['FILE NAME','TARGET']]], ignore_index=True)\n",
        "df.head()"
      ],
      "execution_count": 17,
      "outputs": [
        {
          "output_type": "execute_result",
          "data": {
            "text/html": [
              "\n",
              "  <div id=\"df-491f54cc-f927-45ed-979b-9cd7d2b12c3b\">\n",
              "    <div class=\"colab-df-container\">\n",
              "      <div>\n",
              "<style scoped>\n",
              "    .dataframe tbody tr th:only-of-type {\n",
              "        vertical-align: middle;\n",
              "    }\n",
              "\n",
              "    .dataframe tbody tr th {\n",
              "        vertical-align: top;\n",
              "    }\n",
              "\n",
              "    .dataframe thead th {\n",
              "        text-align: right;\n",
              "    }\n",
              "</style>\n",
              "<table border=\"1\" class=\"dataframe\">\n",
              "  <thead>\n",
              "    <tr style=\"text-align: right;\">\n",
              "      <th></th>\n",
              "      <th>FILE NAME</th>\n",
              "      <th>TARGET</th>\n",
              "    </tr>\n",
              "  </thead>\n",
              "  <tbody>\n",
              "    <tr>\n",
              "      <th>0</th>\n",
              "      <td>Normal/Normal-1.png</td>\n",
              "      <td>Negative</td>\n",
              "    </tr>\n",
              "    <tr>\n",
              "      <th>1</th>\n",
              "      <td>Normal/Normal-2.png</td>\n",
              "      <td>Negative</td>\n",
              "    </tr>\n",
              "    <tr>\n",
              "      <th>2</th>\n",
              "      <td>Normal/Normal-3.png</td>\n",
              "      <td>Negative</td>\n",
              "    </tr>\n",
              "    <tr>\n",
              "      <th>3</th>\n",
              "      <td>Normal/Normal-4.png</td>\n",
              "      <td>Negative</td>\n",
              "    </tr>\n",
              "    <tr>\n",
              "      <th>4</th>\n",
              "      <td>Normal/Normal-5.png</td>\n",
              "      <td>Negative</td>\n",
              "    </tr>\n",
              "  </tbody>\n",
              "</table>\n",
              "</div>\n",
              "      <button class=\"colab-df-convert\" onclick=\"convertToInteractive('df-491f54cc-f927-45ed-979b-9cd7d2b12c3b')\"\n",
              "              title=\"Convert this dataframe to an interactive table.\"\n",
              "              style=\"display:none;\">\n",
              "        \n",
              "  <svg xmlns=\"http://www.w3.org/2000/svg\" height=\"24px\"viewBox=\"0 0 24 24\"\n",
              "       width=\"24px\">\n",
              "    <path d=\"M0 0h24v24H0V0z\" fill=\"none\"/>\n",
              "    <path d=\"M18.56 5.44l.94 2.06.94-2.06 2.06-.94-2.06-.94-.94-2.06-.94 2.06-2.06.94zm-11 1L8.5 8.5l.94-2.06 2.06-.94-2.06-.94L8.5 2.5l-.94 2.06-2.06.94zm10 10l.94 2.06.94-2.06 2.06-.94-2.06-.94-.94-2.06-.94 2.06-2.06.94z\"/><path d=\"M17.41 7.96l-1.37-1.37c-.4-.4-.92-.59-1.43-.59-.52 0-1.04.2-1.43.59L10.3 9.45l-7.72 7.72c-.78.78-.78 2.05 0 2.83L4 21.41c.39.39.9.59 1.41.59.51 0 1.02-.2 1.41-.59l7.78-7.78 2.81-2.81c.8-.78.8-2.07 0-2.86zM5.41 20L4 18.59l7.72-7.72 1.47 1.35L5.41 20z\"/>\n",
              "  </svg>\n",
              "      </button>\n",
              "      \n",
              "  <style>\n",
              "    .colab-df-container {\n",
              "      display:flex;\n",
              "      flex-wrap:wrap;\n",
              "      gap: 12px;\n",
              "    }\n",
              "\n",
              "    .colab-df-convert {\n",
              "      background-color: #E8F0FE;\n",
              "      border: none;\n",
              "      border-radius: 50%;\n",
              "      cursor: pointer;\n",
              "      display: none;\n",
              "      fill: #1967D2;\n",
              "      height: 32px;\n",
              "      padding: 0 0 0 0;\n",
              "      width: 32px;\n",
              "    }\n",
              "\n",
              "    .colab-df-convert:hover {\n",
              "      background-color: #E2EBFA;\n",
              "      box-shadow: 0px 1px 2px rgba(60, 64, 67, 0.3), 0px 1px 3px 1px rgba(60, 64, 67, 0.15);\n",
              "      fill: #174EA6;\n",
              "    }\n",
              "\n",
              "    [theme=dark] .colab-df-convert {\n",
              "      background-color: #3B4455;\n",
              "      fill: #D2E3FC;\n",
              "    }\n",
              "\n",
              "    [theme=dark] .colab-df-convert:hover {\n",
              "      background-color: #434B5C;\n",
              "      box-shadow: 0px 1px 3px 1px rgba(0, 0, 0, 0.15);\n",
              "      filter: drop-shadow(0px 1px 2px rgba(0, 0, 0, 0.3));\n",
              "      fill: #FFFFFF;\n",
              "    }\n",
              "  </style>\n",
              "\n",
              "      <script>\n",
              "        const buttonEl =\n",
              "          document.querySelector('#df-491f54cc-f927-45ed-979b-9cd7d2b12c3b button.colab-df-convert');\n",
              "        buttonEl.style.display =\n",
              "          google.colab.kernel.accessAllowed ? 'block' : 'none';\n",
              "\n",
              "        async function convertToInteractive(key) {\n",
              "          const element = document.querySelector('#df-491f54cc-f927-45ed-979b-9cd7d2b12c3b');\n",
              "          const dataTable =\n",
              "            await google.colab.kernel.invokeFunction('convertToInteractive',\n",
              "                                                     [key], {});\n",
              "          if (!dataTable) return;\n",
              "\n",
              "          const docLinkHtml = 'Like what you see? Visit the ' +\n",
              "            '<a target=\"_blank\" href=https://colab.research.google.com/notebooks/data_table.ipynb>data table notebook</a>'\n",
              "            + ' to learn more about interactive tables.';\n",
              "          element.innerHTML = '';\n",
              "          dataTable['output_type'] = 'display_data';\n",
              "          await google.colab.output.renderOutput(dataTable, element);\n",
              "          const docLink = document.createElement('div');\n",
              "          docLink.innerHTML = docLinkHtml;\n",
              "          element.appendChild(docLink);\n",
              "        }\n",
              "      </script>\n",
              "    </div>\n",
              "  </div>\n",
              "  "
            ],
            "text/plain": [
              "             FILE NAME    TARGET\n",
              "0  Normal/Normal-1.png  Negative\n",
              "1  Normal/Normal-2.png  Negative\n",
              "2  Normal/Normal-3.png  Negative\n",
              "3  Normal/Normal-4.png  Negative\n",
              "4  Normal/Normal-5.png  Negative"
            ]
          },
          "metadata": {},
          "execution_count": 17
        }
      ]
    },
    {
      "cell_type": "code",
      "metadata": {
        "execution": {
          "iopub.status.busy": "2021-10-25T04:15:03.966429Z",
          "iopub.execute_input": "2021-10-25T04:15:03.966974Z",
          "iopub.status.idle": "2021-10-25T04:15:03.99673Z",
          "shell.execute_reply.started": "2021-10-25T04:15:03.966936Z",
          "shell.execute_reply": "2021-10-25T04:15:03.995976Z"
        },
        "trusted": true,
        "colab": {
          "base_uri": "https://localhost:8080/"
        },
        "id": "HHorZqv24kBL",
        "outputId": "eed37cc9-f138-4e19-ca1b-48d81cd1f77b"
      },
      "source": [
        "train, test = train_test_split(df, test_size=0.2, stratify=df['TARGET'], random_state=42)\n",
        "print(train.shape)\n",
        "print(test.shape)"
      ],
      "execution_count": 18,
      "outputs": [
        {
          "output_type": "stream",
          "name": "stdout",
          "text": [
            "(11046, 2)\n",
            "(2762, 2)\n"
          ]
        }
      ]
    },
    {
      "cell_type": "markdown",
      "metadata": {
        "id": "z3dMMHCt4kBM"
      },
      "source": [
        "# Augmentation"
      ]
    },
    {
      "cell_type": "code",
      "metadata": {
        "execution": {
          "iopub.status.busy": "2021-10-25T04:15:05.772597Z",
          "iopub.execute_input": "2021-10-25T04:15:05.773386Z",
          "iopub.status.idle": "2021-10-25T04:15:05.796834Z",
          "shell.execute_reply.started": "2021-10-25T04:15:05.773332Z",
          "shell.execute_reply": "2021-10-25T04:15:05.796102Z"
        },
        "trusted": true,
        "colab": {
          "base_uri": "https://localhost:8080/"
        },
        "id": "z-zNiSs_4kBN",
        "outputId": "886b8593-5cbf-4612-ef69-c37c9612b683"
      },
      "source": [
        "train_df, valid_df = train_test_split(train, test_size=0.2, stratify=train['TARGET'], random_state=42)\n",
        "print(train_df.shape)\n",
        "print(valid_df.shape)"
      ],
      "execution_count": 19,
      "outputs": [
        {
          "output_type": "stream",
          "name": "stdout",
          "text": [
            "(8836, 2)\n",
            "(2210, 2)\n"
          ]
        }
      ]
    },
    {
      "cell_type": "code",
      "source": [
        "data_list = [\n",
        "    [\n",
        "        'Negative',\n",
        "        train_df['TARGET'].value_counts()[0],\n",
        "        valid_df['TARGET'].value_counts()[0],\n",
        "        test['TARGET'].value_counts()[0],\n",
        "    ],\n",
        "    [\n",
        "        'Positive',\n",
        "        train_df['TARGET'].value_counts()[1],\n",
        "        valid_df['TARGET'].value_counts()[1],\n",
        "        test['TARGET'].value_counts()[1], \n",
        "    ]\n",
        "]\n",
        "data_ov = pd.DataFrame(data_list, columns=['Class', 'Training data', 'Validation data', 'Test data'])\n",
        "data_ov.loc['Total'] = data_ov.sum(axis=0, numeric_only=True)\n",
        "data_ov['Total'] = data_ov.sum(axis=1, numeric_only=True)\n",
        "data_ov"
      ],
      "metadata": {
        "colab": {
          "base_uri": "https://localhost:8080/",
          "height": 143
        },
        "id": "KLgH4vLsNvB5",
        "outputId": "123d1e60-2688-4fcc-f8fb-0c90b1d095a3"
      },
      "execution_count": 59,
      "outputs": [
        {
          "output_type": "execute_result",
          "data": {
            "text/html": [
              "\n",
              "  <div id=\"df-a6b6cf43-53a0-4703-828a-fa07e694a4a7\">\n",
              "    <div class=\"colab-df-container\">\n",
              "      <div>\n",
              "<style scoped>\n",
              "    .dataframe tbody tr th:only-of-type {\n",
              "        vertical-align: middle;\n",
              "    }\n",
              "\n",
              "    .dataframe tbody tr th {\n",
              "        vertical-align: top;\n",
              "    }\n",
              "\n",
              "    .dataframe thead th {\n",
              "        text-align: right;\n",
              "    }\n",
              "</style>\n",
              "<table border=\"1\" class=\"dataframe\">\n",
              "  <thead>\n",
              "    <tr style=\"text-align: right;\">\n",
              "      <th></th>\n",
              "      <th>Class</th>\n",
              "      <th>Training data</th>\n",
              "      <th>Validation data</th>\n",
              "      <th>Test data</th>\n",
              "      <th>Total</th>\n",
              "    </tr>\n",
              "  </thead>\n",
              "  <tbody>\n",
              "    <tr>\n",
              "      <th>0</th>\n",
              "      <td>Negative</td>\n",
              "      <td>6522.0</td>\n",
              "      <td>1631.0</td>\n",
              "      <td>2039.0</td>\n",
              "      <td>10192.0</td>\n",
              "    </tr>\n",
              "    <tr>\n",
              "      <th>1</th>\n",
              "      <td>Positive</td>\n",
              "      <td>2314.0</td>\n",
              "      <td>579.0</td>\n",
              "      <td>723.0</td>\n",
              "      <td>3616.0</td>\n",
              "    </tr>\n",
              "    <tr>\n",
              "      <th>Total</th>\n",
              "      <td>NaN</td>\n",
              "      <td>8836.0</td>\n",
              "      <td>2210.0</td>\n",
              "      <td>2762.0</td>\n",
              "      <td>13808.0</td>\n",
              "    </tr>\n",
              "  </tbody>\n",
              "</table>\n",
              "</div>\n",
              "      <button class=\"colab-df-convert\" onclick=\"convertToInteractive('df-a6b6cf43-53a0-4703-828a-fa07e694a4a7')\"\n",
              "              title=\"Convert this dataframe to an interactive table.\"\n",
              "              style=\"display:none;\">\n",
              "        \n",
              "  <svg xmlns=\"http://www.w3.org/2000/svg\" height=\"24px\"viewBox=\"0 0 24 24\"\n",
              "       width=\"24px\">\n",
              "    <path d=\"M0 0h24v24H0V0z\" fill=\"none\"/>\n",
              "    <path d=\"M18.56 5.44l.94 2.06.94-2.06 2.06-.94-2.06-.94-.94-2.06-.94 2.06-2.06.94zm-11 1L8.5 8.5l.94-2.06 2.06-.94-2.06-.94L8.5 2.5l-.94 2.06-2.06.94zm10 10l.94 2.06.94-2.06 2.06-.94-2.06-.94-.94-2.06-.94 2.06-2.06.94z\"/><path d=\"M17.41 7.96l-1.37-1.37c-.4-.4-.92-.59-1.43-.59-.52 0-1.04.2-1.43.59L10.3 9.45l-7.72 7.72c-.78.78-.78 2.05 0 2.83L4 21.41c.39.39.9.59 1.41.59.51 0 1.02-.2 1.41-.59l7.78-7.78 2.81-2.81c.8-.78.8-2.07 0-2.86zM5.41 20L4 18.59l7.72-7.72 1.47 1.35L5.41 20z\"/>\n",
              "  </svg>\n",
              "      </button>\n",
              "      \n",
              "  <style>\n",
              "    .colab-df-container {\n",
              "      display:flex;\n",
              "      flex-wrap:wrap;\n",
              "      gap: 12px;\n",
              "    }\n",
              "\n",
              "    .colab-df-convert {\n",
              "      background-color: #E8F0FE;\n",
              "      border: none;\n",
              "      border-radius: 50%;\n",
              "      cursor: pointer;\n",
              "      display: none;\n",
              "      fill: #1967D2;\n",
              "      height: 32px;\n",
              "      padding: 0 0 0 0;\n",
              "      width: 32px;\n",
              "    }\n",
              "\n",
              "    .colab-df-convert:hover {\n",
              "      background-color: #E2EBFA;\n",
              "      box-shadow: 0px 1px 2px rgba(60, 64, 67, 0.3), 0px 1px 3px 1px rgba(60, 64, 67, 0.15);\n",
              "      fill: #174EA6;\n",
              "    }\n",
              "\n",
              "    [theme=dark] .colab-df-convert {\n",
              "      background-color: #3B4455;\n",
              "      fill: #D2E3FC;\n",
              "    }\n",
              "\n",
              "    [theme=dark] .colab-df-convert:hover {\n",
              "      background-color: #434B5C;\n",
              "      box-shadow: 0px 1px 3px 1px rgba(0, 0, 0, 0.15);\n",
              "      filter: drop-shadow(0px 1px 2px rgba(0, 0, 0, 0.3));\n",
              "      fill: #FFFFFF;\n",
              "    }\n",
              "  </style>\n",
              "\n",
              "      <script>\n",
              "        const buttonEl =\n",
              "          document.querySelector('#df-a6b6cf43-53a0-4703-828a-fa07e694a4a7 button.colab-df-convert');\n",
              "        buttonEl.style.display =\n",
              "          google.colab.kernel.accessAllowed ? 'block' : 'none';\n",
              "\n",
              "        async function convertToInteractive(key) {\n",
              "          const element = document.querySelector('#df-a6b6cf43-53a0-4703-828a-fa07e694a4a7');\n",
              "          const dataTable =\n",
              "            await google.colab.kernel.invokeFunction('convertToInteractive',\n",
              "                                                     [key], {});\n",
              "          if (!dataTable) return;\n",
              "\n",
              "          const docLinkHtml = 'Like what you see? Visit the ' +\n",
              "            '<a target=\"_blank\" href=https://colab.research.google.com/notebooks/data_table.ipynb>data table notebook</a>'\n",
              "            + ' to learn more about interactive tables.';\n",
              "          element.innerHTML = '';\n",
              "          dataTable['output_type'] = 'display_data';\n",
              "          await google.colab.output.renderOutput(dataTable, element);\n",
              "          const docLink = document.createElement('div');\n",
              "          docLink.innerHTML = docLinkHtml;\n",
              "          element.appendChild(docLink);\n",
              "        }\n",
              "      </script>\n",
              "    </div>\n",
              "  </div>\n",
              "  "
            ],
            "text/plain": [
              "          Class  Training data  Validation data  Test data    Total\n",
              "0      Negative         6522.0           1631.0     2039.0  10192.0\n",
              "1      Positive         2314.0            579.0      723.0   3616.0\n",
              "Total       NaN         8836.0           2210.0     2762.0  13808.0"
            ]
          },
          "metadata": {},
          "execution_count": 59
        }
      ]
    },
    {
      "cell_type": "code",
      "metadata": {
        "execution": {
          "iopub.status.busy": "2021-10-25T04:15:10.399211Z",
          "iopub.execute_input": "2021-10-25T04:15:10.399735Z",
          "iopub.status.idle": "2021-10-25T04:15:10.411385Z",
          "shell.execute_reply.started": "2021-10-25T04:15:10.399695Z",
          "shell.execute_reply": "2021-10-25T04:15:10.409277Z"
        },
        "trusted": true,
        "colab": {
          "base_uri": "https://localhost:8080/"
        },
        "id": "qvkYcg9q4kBN",
        "outputId": "beeb13ef-e038-498e-bd91-2220fddcad45"
      },
      "source": [
        "{train_df.head()"
      ],
      "execution_count": null,
      "outputs": [
        {
          "output_type": "execute_result",
          "data": {
            "text/html": [
              "\n",
              "  <div id=\"df-2f671d5e-d78d-4994-9186-8640c52c6935\">\n",
              "    <div class=\"colab-df-container\">\n",
              "      <div>\n",
              "<style scoped>\n",
              "    .dataframe tbody tr th:only-of-type {\n",
              "        vertical-align: middle;\n",
              "    }\n",
              "\n",
              "    .dataframe tbody tr th {\n",
              "        vertical-align: top;\n",
              "    }\n",
              "\n",
              "    .dataframe thead th {\n",
              "        text-align: right;\n",
              "    }\n",
              "</style>\n",
              "<table border=\"1\" class=\"dataframe\">\n",
              "  <thead>\n",
              "    <tr style=\"text-align: right;\">\n",
              "      <th></th>\n",
              "      <th>FILE NAME</th>\n",
              "      <th>TARGET</th>\n",
              "    </tr>\n",
              "  </thead>\n",
              "  <tbody>\n",
              "    <tr>\n",
              "      <th>13528</th>\n",
              "      <td>COVID/COVID-3337.png</td>\n",
              "      <td>Positive</td>\n",
              "    </tr>\n",
              "    <tr>\n",
              "      <th>11039</th>\n",
              "      <td>COVID/COVID-848.png</td>\n",
              "      <td>Positive</td>\n",
              "    </tr>\n",
              "    <tr>\n",
              "      <th>4776</th>\n",
              "      <td>Normal/Normal-4777.png</td>\n",
              "      <td>Negative</td>\n",
              "    </tr>\n",
              "    <tr>\n",
              "      <th>12061</th>\n",
              "      <td>COVID/COVID-1870.png</td>\n",
              "      <td>Positive</td>\n",
              "    </tr>\n",
              "    <tr>\n",
              "      <th>4287</th>\n",
              "      <td>Normal/Normal-4288.png</td>\n",
              "      <td>Negative</td>\n",
              "    </tr>\n",
              "  </tbody>\n",
              "</table>\n",
              "</div>\n",
              "      <button class=\"colab-df-convert\" onclick=\"convertToInteractive('df-2f671d5e-d78d-4994-9186-8640c52c6935')\"\n",
              "              title=\"Convert this dataframe to an interactive table.\"\n",
              "              style=\"display:none;\">\n",
              "        \n",
              "  <svg xmlns=\"http://www.w3.org/2000/svg\" height=\"24px\"viewBox=\"0 0 24 24\"\n",
              "       width=\"24px\">\n",
              "    <path d=\"M0 0h24v24H0V0z\" fill=\"none\"/>\n",
              "    <path d=\"M18.56 5.44l.94 2.06.94-2.06 2.06-.94-2.06-.94-.94-2.06-.94 2.06-2.06.94zm-11 1L8.5 8.5l.94-2.06 2.06-.94-2.06-.94L8.5 2.5l-.94 2.06-2.06.94zm10 10l.94 2.06.94-2.06 2.06-.94-2.06-.94-.94-2.06-.94 2.06-2.06.94z\"/><path d=\"M17.41 7.96l-1.37-1.37c-.4-.4-.92-.59-1.43-.59-.52 0-1.04.2-1.43.59L10.3 9.45l-7.72 7.72c-.78.78-.78 2.05 0 2.83L4 21.41c.39.39.9.59 1.41.59.51 0 1.02-.2 1.41-.59l7.78-7.78 2.81-2.81c.8-.78.8-2.07 0-2.86zM5.41 20L4 18.59l7.72-7.72 1.47 1.35L5.41 20z\"/>\n",
              "  </svg>\n",
              "      </button>\n",
              "      \n",
              "  <style>\n",
              "    .colab-df-container {\n",
              "      display:flex;\n",
              "      flex-wrap:wrap;\n",
              "      gap: 12px;\n",
              "    }\n",
              "\n",
              "    .colab-df-convert {\n",
              "      background-color: #E8F0FE;\n",
              "      border: none;\n",
              "      border-radius: 50%;\n",
              "      cursor: pointer;\n",
              "      display: none;\n",
              "      fill: #1967D2;\n",
              "      height: 32px;\n",
              "      padding: 0 0 0 0;\n",
              "      width: 32px;\n",
              "    }\n",
              "\n",
              "    .colab-df-convert:hover {\n",
              "      background-color: #E2EBFA;\n",
              "      box-shadow: 0px 1px 2px rgba(60, 64, 67, 0.3), 0px 1px 3px 1px rgba(60, 64, 67, 0.15);\n",
              "      fill: #174EA6;\n",
              "    }\n",
              "\n",
              "    [theme=dark] .colab-df-convert {\n",
              "      background-color: #3B4455;\n",
              "      fill: #D2E3FC;\n",
              "    }\n",
              "\n",
              "    [theme=dark] .colab-df-convert:hover {\n",
              "      background-color: #434B5C;\n",
              "      box-shadow: 0px 1px 3px 1px rgba(0, 0, 0, 0.15);\n",
              "      filter: drop-shadow(0px 1px 2px rgba(0, 0, 0, 0.3));\n",
              "      fill: #FFFFFF;\n",
              "    }\n",
              "  </style>\n",
              "\n",
              "      <script>\n",
              "        const buttonEl =\n",
              "          document.querySelector('#df-2f671d5e-d78d-4994-9186-8640c52c6935 button.colab-df-convert');\n",
              "        buttonEl.style.display =\n",
              "          google.colab.kernel.accessAllowed ? 'block' : 'none';\n",
              "\n",
              "        async function convertToInteractive(key) {\n",
              "          const element = document.querySelector('#df-2f671d5e-d78d-4994-9186-8640c52c6935');\n",
              "          const dataTable =\n",
              "            await google.colab.kernel.invokeFunction('convertToInteractive',\n",
              "                                                     [key], {});\n",
              "          if (!dataTable) return;\n",
              "\n",
              "          const docLinkHtml = 'Like what you see? Visit the ' +\n",
              "            '<a target=\"_blank\" href=https://colab.research.google.com/notebooks/data_table.ipynb>data table notebook</a>'\n",
              "            + ' to learn more about interactive tables.';\n",
              "          element.innerHTML = '';\n",
              "          dataTable['output_type'] = 'display_data';\n",
              "          await google.colab.output.renderOutput(dataTable, element);\n",
              "          const docLink = document.createElement('div');\n",
              "          docLink.innerHTML = docLinkHtml;\n",
              "          element.appendChild(docLink);\n",
              "        }\n",
              "      </script>\n",
              "    </div>\n",
              "  </div>\n",
              "  "
            ],
            "text/plain": [
              "                    FILE NAME    TARGET\n",
              "13528    COVID/COVID-3337.png  Positive\n",
              "11039     COVID/COVID-848.png  Positive\n",
              "4776   Normal/Normal-4777.png  Negative\n",
              "12061    COVID/COVID-1870.png  Positive\n",
              "4287   Normal/Normal-4288.png  Negative"
            ]
          },
          "metadata": {},
          "execution_count": 17
        }
      ]
    },
    {
      "cell_type": "code",
      "metadata": {
        "execution": {
          "iopub.status.busy": "2021-10-25T04:15:12.196233Z",
          "iopub.execute_input": "2021-10-25T04:15:12.196575Z",
          "iopub.status.idle": "2021-10-25T04:15:24.702844Z",
          "shell.execute_reply.started": "2021-10-25T04:15:12.196537Z",
          "shell.execute_reply": "2021-10-25T04:15:24.702092Z"
        },
        "trusted": true,
        "colab": {
          "base_uri": "https://localhost:8080/"
        },
        "id": "fyb3W_jl4kBO",
        "outputId": "597ba5c1-ee35-47c9-a550-b3b5db9ff2f5"
      },
      "source": [
        "DATA_DIR = \"/content/COVID-19_Radiography_Dataset\"\n",
        "IMAGE_SIZE = (224, 224)\n",
        "\n",
        "non_aug_gen = ImageDataGenerator(rescale=1/255.)\n",
        "aug_gen = ImageDataGenerator(\n",
        "    rescale=1./255,\n",
        "    width_shift_range=0.15,\n",
        "    height_shift_range=0.15,\n",
        "    zoom_range=[0.9, 1.25],\n",
        "    brightness_range=[0.5, 1.5]\n",
        ")\n",
        "\n",
        "aug_train = aug_gen.flow_from_dataframe(\n",
        "    dataframe=train_df,\n",
        "    directory=DATA_DIR,\n",
        "    x_col='FILE NAME',\n",
        "    y_col='TARGET',\n",
        "    target_size=IMAGE_SIZE,\n",
        "    batch_size=32,\n",
        "    class_mode='binary', \n",
        "    color_mode='rgb',\n",
        "    shuffle=True\n",
        ")\n",
        "\n",
        "non_aug_valid = non_aug_gen.flow_from_dataframe(\n",
        "    dataframe=valid_df,\n",
        "    directory=DATA_DIR,\n",
        "    x_col='FILE NAME',\n",
        "    y_col='TARGET',\n",
        "    target_size=IMAGE_SIZE,\n",
        "    batch_size=32,\n",
        "    class_mode='binary', \n",
        "    color_mode='rgb',\n",
        "    shuffle=True\n",
        ")\n",
        "\n",
        "test_valid_gen = non_aug_gen.flow_from_dataframe(\n",
        "    dataframe=valid_df,\n",
        "    directory=DATA_DIR,\n",
        "    x_col='FILE NAME',\n",
        "    y_col='TARGET',\n",
        "    target_size=IMAGE_SIZE,\n",
        "    batch_size=32,\n",
        "    class_mode='binary', \n",
        "    color_mode='rgb',\n",
        "    shuffle=False\n",
        ")\n",
        "\n",
        "test_test_gen = non_aug_gen.flow_from_dataframe(\n",
        "    dataframe=test,\n",
        "    directory=DATA_DIR,\n",
        "    x_col='FILE NAME',\n",
        "    y_col='TARGET',\n",
        "    target_size=IMAGE_SIZE,\n",
        "    batch_size=32,\n",
        "    class_mode='binary', \n",
        "    color_mode='rgb',\n",
        "    shuffle=False\n",
        ")"
      ],
      "execution_count": null,
      "outputs": [
        {
          "output_type": "stream",
          "name": "stdout",
          "text": [
            "Found 8836 validated image filenames belonging to 2 classes.\n",
            "Found 2210 validated image filenames belonging to 2 classes.\n",
            "Found 2210 validated image filenames belonging to 2 classes.\n",
            "Found 2762 validated image filenames belonging to 2 classes.\n"
          ]
        }
      ]
    },
    {
      "cell_type": "markdown",
      "metadata": {
        "id": "jehjF0n74kBO"
      },
      "source": [
        "# Modelling"
      ]
    },
    {
      "cell_type": "markdown",
      "metadata": {
        "id": "NlnaVKel4kBP"
      },
      "source": [
        "## Baseline"
      ]
    },
    {
      "cell_type": "code",
      "metadata": {
        "execution": {
          "iopub.status.busy": "2021-10-25T04:15:27.277832Z",
          "iopub.execute_input": "2021-10-25T04:15:27.278081Z",
          "iopub.status.idle": "2021-10-25T04:15:27.29929Z",
          "shell.execute_reply.started": "2021-10-25T04:15:27.278049Z",
          "shell.execute_reply": "2021-10-25T04:15:27.29868Z"
        },
        "trusted": true,
        "id": "Sg0DgTtf4kBP"
      },
      "source": [
        "metrics = [\n",
        "    keras.metrics.TruePositives(name='tp'),\n",
        "    keras.metrics.FalsePositives(name='fp'),\n",
        "    keras.metrics.TrueNegatives(name='tn'),\n",
        "    keras.metrics.FalseNegatives(name='fn'), \n",
        "    'accuracy',\n",
        "    keras.metrics.Precision(name='precision'),\n",
        "    keras.metrics.Recall(name='recall'),\n",
        "    keras.metrics.AUC(name='auc', curve='ROC')\n",
        "]\n",
        "callbacks = [tf.keras.callbacks.EarlyStopping(monitor='val_loss', patience=2, restore_best_weights=True),\n",
        "             tf.keras.callbacks.ModelCheckpoint('model_baseline.h5', save_best_only=True, monitor='val_loss')]"
      ],
      "execution_count": null,
      "outputs": []
    },
    {
      "cell_type": "code",
      "metadata": {
        "execution": {
          "iopub.status.busy": "2021-10-25T04:15:27.377588Z",
          "iopub.execute_input": "2021-10-25T04:15:27.377792Z",
          "iopub.status.idle": "2021-10-25T04:31:24.836105Z",
          "shell.execute_reply.started": "2021-10-25T04:15:27.37777Z",
          "shell.execute_reply": "2021-10-25T04:31:24.835351Z"
        },
        "trusted": true,
        "colab": {
          "base_uri": "https://localhost:8080/"
        },
        "id": "8eX7FtfE4kBP",
        "outputId": "ab187e11-d08d-4719-d43c-49606b06b613"
      },
      "source": [
        "tf.random.set_seed(42)\n",
        "keras.backend.clear_session()\n",
        "\n",
        "model = Sequential([\n",
        "    Conv2D(filters=10, \n",
        "           kernel_size=3, \n",
        "           strides=1,\n",
        "           padding='valid',\n",
        "           activation='relu', \n",
        "           input_shape=IMAGE_SIZE + (3,)),\n",
        "    Conv2D(10, 3, activation='relu'),\n",
        "    Conv2D(10, 3, activation='relu'),\n",
        "    Flatten(),\n",
        "    Dense(1, activation='sigmoid')\n",
        "])\n",
        "\n",
        "# Compile and fit\n",
        "model.compile(loss='binary_crossentropy',\n",
        "                optimizer=Adam(),\n",
        "                metrics=metrics)\n",
        "\n",
        "history = model.fit(aug_train,\n",
        "                    epochs=10,\n",
        "                    validation_data=non_aug_valid,\n",
        "                    steps_per_epoch=len(aug_train),\n",
        "                    validation_steps=len(non_aug_valid),\n",
        "                    callbacks=callbacks)\n",
        "\n",
        "np.save('history_baseline.npy', history.history)"
      ],
      "execution_count": null,
      "outputs": [
        {
          "output_type": "stream",
          "name": "stdout",
          "text": [
            "Epoch 1/10\n",
            "277/277 [==============================] - 196s 657ms/step - loss: 0.6288 - tp: 355.0000 - fp: 477.0000 - tn: 6045.0000 - fn: 1959.0000 - accuracy: 0.7243 - precision: 0.4267 - recall: 0.1534 - auc: 0.6285 - val_loss: 0.4637 - val_tp: 68.0000 - val_fp: 22.0000 - val_tn: 1609.0000 - val_fn: 511.0000 - val_accuracy: 0.7588 - val_precision: 0.7556 - val_recall: 0.1174 - val_auc: 0.8279\n",
            "Epoch 2/10\n",
            "277/277 [==============================] - 175s 633ms/step - loss: 0.5275 - tp: 130.0000 - fp: 99.0000 - tn: 6423.0000 - fn: 2184.0000 - accuracy: 0.7416 - precision: 0.5677 - recall: 0.0562 - auc: 0.7200 - val_loss: 0.4826 - val_tp: 41.0000 - val_fp: 12.0000 - val_tn: 1619.0000 - val_fn: 538.0000 - val_accuracy: 0.7511 - val_precision: 0.7736 - val_recall: 0.0708 - val_auc: 0.7825\n",
            "Epoch 3/10\n",
            "277/277 [==============================] - 174s 627ms/step - loss: 0.4955 - tp: 390.0000 - fp: 194.0000 - tn: 6328.0000 - fn: 1924.0000 - accuracy: 0.7603 - precision: 0.6678 - recall: 0.1685 - auc: 0.7665 - val_loss: 0.4734 - val_tp: 174.0000 - val_fp: 83.0000 - val_tn: 1548.0000 - val_fn: 405.0000 - val_accuracy: 0.7792 - val_precision: 0.6770 - val_recall: 0.3005 - val_auc: 0.8180\n"
          ]
        }
      ]
    },
    {
      "cell_type": "markdown",
      "metadata": {
        "id": "3K8L0yMO4kBQ"
      },
      "source": [
        "## EfficientNetV2-B0"
      ]
    },
    {
      "cell_type": "code",
      "metadata": {
        "execution": {
          "iopub.status.busy": "2021-10-25T04:31:24.860049Z",
          "iopub.execute_input": "2021-10-25T04:31:24.860652Z",
          "iopub.status.idle": "2021-10-25T04:31:24.870773Z",
          "shell.execute_reply.started": "2021-10-25T04:31:24.860607Z",
          "shell.execute_reply": "2021-10-25T04:31:24.870028Z"
        },
        "trusted": true,
        "id": "SsjeEcAu4kBQ"
      },
      "source": [
        "def create_model(model_url, num_classes=1):\n",
        "    \"\"\"Takes a TensorFlow Hub URL and creates a Keras Sequential model with it.\n",
        "\n",
        "    Args:\n",
        "    model_url (str): A TensorFlow Hub feature extraction URL.\n",
        "    num_classes (int): Number of output neurons in output layer,\n",
        "    should be equal to number of target classes, default 10.\n",
        "\n",
        "    Returns:\n",
        "    An uncompiled Keras Sequential model with model_url as feature\n",
        "    extractor layer and Dense output layer with num_classes outputs.\n",
        "    \"\"\"\n",
        "    # Download the pretrained model and save it as a Keras layer\n",
        "    feature_extractor_layer = hub.KerasLayer(model_url,\n",
        "                                          trainable=False, # freeze the underlying patterns\n",
        "                                          name='feature_extraction_layer',\n",
        "                                          input_shape=(224, 224, 3,)) # define the input image shape\n",
        "\n",
        "    # Create our own model\n",
        "    model = tf.keras.Sequential([\n",
        "      feature_extractor_layer, # use the feature extraction layer as the base\n",
        "      layers.Dense(num_classes, activation='sigmoid', name='output_layer') # create our own output layer      \n",
        "    ])\n",
        "\n",
        "    return model"
      ],
      "execution_count": null,
      "outputs": []
    },
    {
      "cell_type": "code",
      "metadata": {
        "execution": {
          "iopub.status.busy": "2021-10-25T04:31:24.873362Z",
          "iopub.execute_input": "2021-10-25T04:31:24.873859Z",
          "iopub.status.idle": "2021-10-25T04:31:24.88367Z",
          "shell.execute_reply.started": "2021-10-25T04:31:24.87382Z",
          "shell.execute_reply": "2021-10-25T04:31:24.882753Z"
        },
        "trusted": true,
        "id": "TrDtndal4kBR"
      },
      "source": [
        "efficientnetv2_url = 'https://tfhub.dev/google/imagenet/efficientnet_v2_imagenet21k_ft1k_b0/feature_vector/2'"
      ],
      "execution_count": null,
      "outputs": []
    },
    {
      "cell_type": "code",
      "metadata": {
        "execution": {
          "iopub.status.busy": "2021-10-25T04:48:36.326775Z",
          "iopub.execute_input": "2021-10-25T04:48:36.327311Z",
          "iopub.status.idle": "2021-10-25T04:48:36.331779Z",
          "shell.execute_reply.started": "2021-10-25T04:48:36.327259Z",
          "shell.execute_reply": "2021-10-25T04:48:36.331067Z"
        },
        "trusted": true,
        "id": "cAm62Uci4kBR"
      },
      "source": [
        "# Add reduced LR to callbacks\n",
        "reduce_lr = tf.keras.callbacks.ReduceLROnPlateau(monitor=\"val_loss\",  \n",
        "                                                 factor=0.2, # multiply the learning rate by 0.2 (reduce by 5x)\n",
        "                                                 patience=4,\n",
        "                                                 verbose=1, # print out when learning rate goes down \n",
        "                                                 min_lr=1e-7)\n",
        "checkpoint_eff = tf.keras.callbacks.ModelCheckpoint('model_efficientnet.h5', save_best_only=True, monitor='val_loss')"
      ],
      "execution_count": null,
      "outputs": []
    },
    {
      "cell_type": "code",
      "metadata": {
        "execution": {
          "iopub.status.busy": "2021-10-25T04:48:38.970834Z",
          "iopub.execute_input": "2021-10-25T04:48:38.971464Z",
          "iopub.status.idle": "2021-10-25T06:04:59.662269Z",
          "shell.execute_reply.started": "2021-10-25T04:48:38.971424Z",
          "shell.execute_reply": "2021-10-25T06:04:59.661266Z"
        },
        "trusted": true,
        "colab": {
          "base_uri": "https://localhost:8080/"
        },
        "id": "G34wcxKL4kBR",
        "outputId": "49d45254-5e80-43c4-ded0-260435645e8f"
      },
      "source": [
        "tf.random.set_seed(42)\n",
        "\n",
        "# Build model\n",
        "model_efficientnet = create_model(efficientnetv2_url)\n",
        "\n",
        "# Compile model\n",
        "model_efficientnet.compile(loss='binary_crossentropy',\n",
        "                           optimizer=Adam(),\n",
        "                           metrics=metrics)\n",
        "\n",
        "model_efficientnet.summary()"
      ],
      "execution_count": null,
      "outputs": [
        {
          "output_type": "stream",
          "name": "stdout",
          "text": [
            "Model: \"sequential_1\"\n",
            "_________________________________________________________________\n",
            " Layer (type)                Output Shape              Param #   \n",
            "=================================================================\n",
            " feature_extraction_layer (K  (None, 1280)             5919312   \n",
            " erasLayer)                                                      \n",
            "                                                                 \n",
            " output_layer (Dense)        (None, 1)                 1281      \n",
            "                                                                 \n",
            "=================================================================\n",
            "Total params: 5,920,593\n",
            "Trainable params: 1,281\n",
            "Non-trainable params: 5,919,312\n",
            "_________________________________________________________________\n"
          ]
        }
      ]
    },
    {
      "cell_type": "code",
      "source": [
        "# Train the model\n",
        "history_efficientnet = model_efficientnet.fit(aug_train, epochs=50,\n",
        "                                              validation_data=non_aug_valid,\n",
        "                                              steps_per_epoch=len(aug_train),\n",
        "                                              validation_steps=len(non_aug_valid),\n",
        "                                              callbacks=[reduce_lr, checkpoint_eff])\n",
        "\n",
        "np.save('history_efficientnet.npy', history_efficientnet.history)"
      ],
      "metadata": {
        "id": "fZfUr-0fqz0J",
        "colab": {
          "base_uri": "https://localhost:8080/"
        },
        "outputId": "780fb377-f865-4bbe-a604-425a1715ff41"
      },
      "execution_count": null,
      "outputs": [
        {
          "output_type": "stream",
          "name": "stdout",
          "text": [
            "Epoch 1/50\n",
            "277/277 [==============================] - 164s 555ms/step - loss: 0.3432 - tp: 1563.0000 - fp: 340.0000 - tn: 7813.0000 - fn: 1330.0000 - accuracy: 0.8581 - precision: 0.8213 - recall: 0.5403 - auc: 0.8910 - val_loss: 0.2534 - val_tp: 401.0000 - val_fp: 17.0000 - val_tn: 1614.0000 - val_fn: 178.0000 - val_accuracy: 0.9118 - val_precision: 0.9593 - val_recall: 0.6926 - val_auc: 0.9527 - lr: 0.0010\n",
            "Epoch 2/50\n",
            "277/277 [==============================] - 151s 546ms/step - loss: 0.2508 - tp: 1681.0000 - fp: 202.0000 - tn: 6320.0000 - fn: 633.0000 - accuracy: 0.9055 - precision: 0.8927 - recall: 0.7264 - auc: 0.9445 - val_loss: 0.2179 - val_tp: 453.0000 - val_fp: 31.0000 - val_tn: 1600.0000 - val_fn: 126.0000 - val_accuracy: 0.9290 - val_precision: 0.9360 - val_recall: 0.7824 - val_auc: 0.9656 - lr: 0.0010\n",
            "Epoch 3/50\n",
            "277/277 [==============================] - 151s 546ms/step - loss: 0.2233 - tp: 1761.0000 - fp: 185.0000 - tn: 6337.0000 - fn: 553.0000 - accuracy: 0.9165 - precision: 0.9049 - recall: 0.7610 - auc: 0.9578 - val_loss: 0.1962 - val_tp: 453.0000 - val_fp: 21.0000 - val_tn: 1610.0000 - val_fn: 126.0000 - val_accuracy: 0.9335 - val_precision: 0.9557 - val_recall: 0.7824 - val_auc: 0.9720 - lr: 0.0010\n",
            "Epoch 4/50\n",
            "277/277 [==============================] - 150s 543ms/step - loss: 0.2045 - tp: 1812.0000 - fp: 180.0000 - tn: 6342.0000 - fn: 502.0000 - accuracy: 0.9228 - precision: 0.9096 - recall: 0.7831 - auc: 0.9645 - val_loss: 0.1944 - val_tp: 432.0000 - val_fp: 16.0000 - val_tn: 1615.0000 - val_fn: 147.0000 - val_accuracy: 0.9262 - val_precision: 0.9643 - val_recall: 0.7461 - val_auc: 0.9722 - lr: 0.0010\n",
            "Epoch 5/50\n",
            "277/277 [==============================] - 151s 546ms/step - loss: 0.2003 - tp: 1840.0000 - fp: 191.0000 - tn: 6331.0000 - fn: 474.0000 - accuracy: 0.9247 - precision: 0.9060 - recall: 0.7952 - auc: 0.9652 - val_loss: 0.1792 - val_tp: 456.0000 - val_fp: 19.0000 - val_tn: 1612.0000 - val_fn: 123.0000 - val_accuracy: 0.9357 - val_precision: 0.9600 - val_recall: 0.7876 - val_auc: 0.9759 - lr: 0.0010\n",
            "Epoch 6/50\n",
            "277/277 [==============================] - 151s 547ms/step - loss: 0.1925 - tp: 1867.0000 - fp: 184.0000 - tn: 6338.0000 - fn: 447.0000 - accuracy: 0.9286 - precision: 0.9103 - recall: 0.8068 - auc: 0.9680 - val_loss: 0.1722 - val_tp: 463.0000 - val_fp: 21.0000 - val_tn: 1610.0000 - val_fn: 116.0000 - val_accuracy: 0.9380 - val_precision: 0.9566 - val_recall: 0.7997 - val_auc: 0.9774 - lr: 0.0010\n",
            "Epoch 7/50\n",
            "277/277 [==============================] - 151s 546ms/step - loss: 0.1813 - tp: 1876.0000 - fp: 170.0000 - tn: 6352.0000 - fn: 438.0000 - accuracy: 0.9312 - precision: 0.9169 - recall: 0.8107 - auc: 0.9716 - val_loss: 0.1646 - val_tp: 481.0000 - val_fp: 24.0000 - val_tn: 1607.0000 - val_fn: 98.0000 - val_accuracy: 0.9448 - val_precision: 0.9525 - val_recall: 0.8307 - val_auc: 0.9791 - lr: 0.0010\n",
            "Epoch 8/50\n",
            "277/277 [==============================] - 151s 544ms/step - loss: 0.1762 - tp: 1906.0000 - fp: 170.0000 - tn: 6352.0000 - fn: 408.0000 - accuracy: 0.9346 - precision: 0.9181 - recall: 0.8237 - auc: 0.9735 - val_loss: 0.1598 - val_tp: 493.0000 - val_fp: 25.0000 - val_tn: 1606.0000 - val_fn: 86.0000 - val_accuracy: 0.9498 - val_precision: 0.9517 - val_recall: 0.8515 - val_auc: 0.9804 - lr: 0.0010\n",
            "Epoch 9/50\n",
            "277/277 [==============================] - 151s 544ms/step - loss: 0.1708 - tp: 1917.0000 - fp: 174.0000 - tn: 6348.0000 - fn: 397.0000 - accuracy: 0.9354 - precision: 0.9168 - recall: 0.8284 - auc: 0.9751 - val_loss: 0.1661 - val_tp: 512.0000 - val_fp: 57.0000 - val_tn: 1574.0000 - val_fn: 67.0000 - val_accuracy: 0.9439 - val_precision: 0.8998 - val_recall: 0.8843 - val_auc: 0.9806 - lr: 0.0010\n",
            "Epoch 10/50\n",
            "277/277 [==============================] - 152s 547ms/step - loss: 0.1691 - tp: 1922.0000 - fp: 166.0000 - tn: 6356.0000 - fn: 392.0000 - accuracy: 0.9368 - precision: 0.9205 - recall: 0.8306 - auc: 0.9749 - val_loss: 0.1526 - val_tp: 495.0000 - val_fp: 33.0000 - val_tn: 1598.0000 - val_fn: 84.0000 - val_accuracy: 0.9471 - val_precision: 0.9375 - val_recall: 0.8549 - val_auc: 0.9819 - lr: 0.0010\n",
            "Epoch 11/50\n",
            "277/277 [==============================] - 152s 547ms/step - loss: 0.1607 - tp: 1929.0000 - fp: 155.0000 - tn: 6367.0000 - fn: 385.0000 - accuracy: 0.9389 - precision: 0.9256 - recall: 0.8336 - auc: 0.9788 - val_loss: 0.1500 - val_tp: 501.0000 - val_fp: 32.0000 - val_tn: 1599.0000 - val_fn: 78.0000 - val_accuracy: 0.9502 - val_precision: 0.9400 - val_recall: 0.8653 - val_auc: 0.9823 - lr: 0.0010\n",
            "Epoch 12/50\n",
            "277/277 [==============================] - 150s 543ms/step - loss: 0.1656 - tp: 1930.0000 - fp: 180.0000 - tn: 6342.0000 - fn: 384.0000 - accuracy: 0.9362 - precision: 0.9147 - recall: 0.8341 - auc: 0.9765 - val_loss: 0.1510 - val_tp: 502.0000 - val_fp: 37.0000 - val_tn: 1594.0000 - val_fn: 77.0000 - val_accuracy: 0.9484 - val_precision: 0.9314 - val_recall: 0.8670 - val_auc: 0.9823 - lr: 0.0010\n",
            "Epoch 13/50\n",
            "277/277 [==============================] - 150s 543ms/step - loss: 0.1557 - tp: 1956.0000 - fp: 148.0000 - tn: 6374.0000 - fn: 358.0000 - accuracy: 0.9427 - precision: 0.9297 - recall: 0.8453 - auc: 0.9794 - val_loss: 0.1459 - val_tp: 488.0000 - val_fp: 23.0000 - val_tn: 1608.0000 - val_fn: 91.0000 - val_accuracy: 0.9484 - val_precision: 0.9550 - val_recall: 0.8428 - val_auc: 0.9832 - lr: 0.0010\n",
            "Epoch 14/50\n",
            "277/277 [==============================] - 150s 542ms/step - loss: 0.1585 - tp: 1962.0000 - fp: 159.0000 - tn: 6363.0000 - fn: 352.0000 - accuracy: 0.9422 - precision: 0.9250 - recall: 0.8479 - auc: 0.9776 - val_loss: 0.1486 - val_tp: 519.0000 - val_fp: 53.0000 - val_tn: 1578.0000 - val_fn: 60.0000 - val_accuracy: 0.9489 - val_precision: 0.9073 - val_recall: 0.8964 - val_auc: 0.9840 - lr: 0.0010\n",
            "Epoch 15/50\n",
            "277/277 [==============================] - 151s 543ms/step - loss: 0.1583 - tp: 1938.0000 - fp: 157.0000 - tn: 6365.0000 - fn: 376.0000 - accuracy: 0.9397 - precision: 0.9251 - recall: 0.8375 - auc: 0.9785 - val_loss: 0.1609 - val_tp: 531.0000 - val_fp: 70.0000 - val_tn: 1561.0000 - val_fn: 48.0000 - val_accuracy: 0.9466 - val_precision: 0.8835 - val_recall: 0.9171 - val_auc: 0.9840 - lr: 0.0010\n",
            "Epoch 16/50\n",
            "277/277 [==============================] - 150s 543ms/step - loss: 0.1537 - tp: 1957.0000 - fp: 161.0000 - tn: 6361.0000 - fn: 357.0000 - accuracy: 0.9414 - precision: 0.9240 - recall: 0.8457 - auc: 0.9797 - val_loss: 0.1428 - val_tp: 496.0000 - val_fp: 25.0000 - val_tn: 1606.0000 - val_fn: 83.0000 - val_accuracy: 0.9511 - val_precision: 0.9520 - val_recall: 0.8566 - val_auc: 0.9835 - lr: 0.0010\n",
            "Epoch 17/50\n",
            "277/277 [==============================] - 150s 543ms/step - loss: 0.1541 - tp: 1964.0000 - fp: 167.0000 - tn: 6355.0000 - fn: 350.0000 - accuracy: 0.9415 - precision: 0.9216 - recall: 0.8487 - auc: 0.9797 - val_loss: 0.1416 - val_tp: 486.0000 - val_fp: 24.0000 - val_tn: 1607.0000 - val_fn: 93.0000 - val_accuracy: 0.9471 - val_precision: 0.9529 - val_recall: 0.8394 - val_auc: 0.9840 - lr: 0.0010\n",
            "Epoch 18/50\n",
            "277/277 [==============================] - 150s 540ms/step - loss: 0.1541 - tp: 1972.0000 - fp: 158.0000 - tn: 6364.0000 - fn: 342.0000 - accuracy: 0.9434 - precision: 0.9258 - recall: 0.8522 - auc: 0.9793 - val_loss: 0.1460 - val_tp: 475.0000 - val_fp: 13.0000 - val_tn: 1618.0000 - val_fn: 104.0000 - val_accuracy: 0.9471 - val_precision: 0.9734 - val_recall: 0.8204 - val_auc: 0.9840 - lr: 0.0010\n",
            "Epoch 19/50\n",
            "277/277 [==============================] - 150s 542ms/step - loss: 0.1507 - tp: 1986.0000 - fp: 168.0000 - tn: 6354.0000 - fn: 328.0000 - accuracy: 0.9439 - precision: 0.9220 - recall: 0.8583 - auc: 0.9808 - val_loss: 0.1412 - val_tp: 507.0000 - val_fp: 34.0000 - val_tn: 1597.0000 - val_fn: 72.0000 - val_accuracy: 0.9520 - val_precision: 0.9372 - val_recall: 0.8756 - val_auc: 0.9842 - lr: 0.0010\n",
            "Epoch 20/50\n",
            "277/277 [==============================] - 149s 540ms/step - loss: 0.1490 - tp: 1971.0000 - fp: 155.0000 - tn: 6367.0000 - fn: 343.0000 - accuracy: 0.9436 - precision: 0.9271 - recall: 0.8518 - auc: 0.9808 - val_loss: 0.1417 - val_tp: 480.0000 - val_fp: 16.0000 - val_tn: 1615.0000 - val_fn: 99.0000 - val_accuracy: 0.9480 - val_precision: 0.9677 - val_recall: 0.8290 - val_auc: 0.9844 - lr: 0.0010\n",
            "Epoch 21/50\n",
            "277/277 [==============================] - 150s 541ms/step - loss: 0.1479 - tp: 1981.0000 - fp: 150.0000 - tn: 6372.0000 - fn: 333.0000 - accuracy: 0.9453 - precision: 0.9296 - recall: 0.8561 - auc: 0.9801 - val_loss: 0.1354 - val_tp: 509.0000 - val_fp: 39.0000 - val_tn: 1592.0000 - val_fn: 70.0000 - val_accuracy: 0.9507 - val_precision: 0.9288 - val_recall: 0.8791 - val_auc: 0.9851 - lr: 0.0010\n",
            "Epoch 22/50\n",
            "277/277 [==============================] - 150s 540ms/step - loss: 0.1435 - tp: 1999.0000 - fp: 162.0000 - tn: 6360.0000 - fn: 315.0000 - accuracy: 0.9460 - precision: 0.9250 - recall: 0.8639 - auc: 0.9822 - val_loss: 0.1379 - val_tp: 481.0000 - val_fp: 13.0000 - val_tn: 1618.0000 - val_fn: 98.0000 - val_accuracy: 0.9498 - val_precision: 0.9737 - val_recall: 0.8307 - val_auc: 0.9852 - lr: 0.0010\n",
            "Epoch 23/50\n",
            "277/277 [==============================] - 150s 540ms/step - loss: 0.1446 - tp: 1990.0000 - fp: 147.0000 - tn: 6375.0000 - fn: 324.0000 - accuracy: 0.9467 - precision: 0.9312 - recall: 0.8600 - auc: 0.9812 - val_loss: 0.1328 - val_tp: 488.0000 - val_fp: 21.0000 - val_tn: 1610.0000 - val_fn: 91.0000 - val_accuracy: 0.9493 - val_precision: 0.9587 - val_recall: 0.8428 - val_auc: 0.9859 - lr: 0.0010\n",
            "Epoch 24/50\n",
            "277/277 [==============================] - 149s 538ms/step - loss: 0.1436 - tp: 2003.0000 - fp: 150.0000 - tn: 6372.0000 - fn: 311.0000 - accuracy: 0.9478 - precision: 0.9303 - recall: 0.8656 - auc: 0.9820 - val_loss: 0.1335 - val_tp: 513.0000 - val_fp: 36.0000 - val_tn: 1595.0000 - val_fn: 66.0000 - val_accuracy: 0.9538 - val_precision: 0.9344 - val_recall: 0.8860 - val_auc: 0.9863 - lr: 0.0010\n",
            "Epoch 25/50\n",
            "277/277 [==============================] - 149s 539ms/step - loss: 0.1470 - tp: 1985.0000 - fp: 150.0000 - tn: 6372.0000 - fn: 329.0000 - accuracy: 0.9458 - precision: 0.9297 - recall: 0.8578 - auc: 0.9810 - val_loss: 0.1328 - val_tp: 520.0000 - val_fp: 43.0000 - val_tn: 1588.0000 - val_fn: 59.0000 - val_accuracy: 0.9538 - val_precision: 0.9236 - val_recall: 0.8981 - val_auc: 0.9862 - lr: 0.0010\n",
            "Epoch 26/50\n",
            "277/277 [==============================] - 150s 540ms/step - loss: 0.1388 - tp: 2011.0000 - fp: 141.0000 - tn: 6381.0000 - fn: 303.0000 - accuracy: 0.9498 - precision: 0.9345 - recall: 0.8691 - auc: 0.9831 - val_loss: 0.1285 - val_tp: 501.0000 - val_fp: 24.0000 - val_tn: 1607.0000 - val_fn: 78.0000 - val_accuracy: 0.9538 - val_precision: 0.9543 - val_recall: 0.8653 - val_auc: 0.9865 - lr: 0.0010\n",
            "Epoch 27/50\n",
            "277/277 [==============================] - 150s 540ms/step - loss: 0.1420 - tp: 2013.0000 - fp: 155.0000 - tn: 6367.0000 - fn: 301.0000 - accuracy: 0.9484 - precision: 0.9285 - recall: 0.8699 - auc: 0.9816 - val_loss: 0.1286 - val_tp: 513.0000 - val_fp: 34.0000 - val_tn: 1597.0000 - val_fn: 66.0000 - val_accuracy: 0.9548 - val_precision: 0.9378 - val_recall: 0.8860 - val_auc: 0.9865 - lr: 0.0010\n",
            "Epoch 28/50\n",
            "277/277 [==============================] - 150s 541ms/step - loss: 0.1355 - tp: 2015.0000 - fp: 151.0000 - tn: 6371.0000 - fn: 299.0000 - accuracy: 0.9491 - precision: 0.9303 - recall: 0.8708 - auc: 0.9847 - val_loss: 0.1275 - val_tp: 494.0000 - val_fp: 19.0000 - val_tn: 1612.0000 - val_fn: 85.0000 - val_accuracy: 0.9529 - val_precision: 0.9630 - val_recall: 0.8532 - val_auc: 0.9869 - lr: 0.0010\n",
            "Epoch 29/50\n",
            "277/277 [==============================] - 150s 540ms/step - loss: 0.1441 - tp: 2005.0000 - fp: 160.0000 - tn: 6362.0000 - fn: 309.0000 - accuracy: 0.9469 - precision: 0.9261 - recall: 0.8665 - auc: 0.9815 - val_loss: 0.1286 - val_tp: 496.0000 - val_fp: 20.0000 - val_tn: 1611.0000 - val_fn: 83.0000 - val_accuracy: 0.9534 - val_precision: 0.9612 - val_recall: 0.8566 - val_auc: 0.9866 - lr: 0.0010\n",
            "Epoch 30/50\n",
            "277/277 [==============================] - 150s 540ms/step - loss: 0.1394 - tp: 2011.0000 - fp: 151.0000 - tn: 6371.0000 - fn: 303.0000 - accuracy: 0.9486 - precision: 0.9302 - recall: 0.8691 - auc: 0.9835 - val_loss: 0.1292 - val_tp: 513.0000 - val_fp: 32.0000 - val_tn: 1599.0000 - val_fn: 66.0000 - val_accuracy: 0.9557 - val_precision: 0.9413 - val_recall: 0.8860 - val_auc: 0.9862 - lr: 0.0010\n",
            "Epoch 31/50\n",
            "277/277 [==============================] - 149s 539ms/step - loss: 0.1386 - tp: 2004.0000 - fp: 163.0000 - tn: 6359.0000 - fn: 310.0000 - accuracy: 0.9465 - precision: 0.9248 - recall: 0.8660 - auc: 0.9839 - val_loss: 0.1403 - val_tp: 475.0000 - val_fp: 11.0000 - val_tn: 1620.0000 - val_fn: 104.0000 - val_accuracy: 0.9480 - val_precision: 0.9774 - val_recall: 0.8204 - val_auc: 0.9855 - lr: 0.0010\n",
            "Epoch 32/50\n",
            "277/277 [==============================] - 150s 541ms/step - loss: 0.1394 - tp: 2008.0000 - fp: 154.0000 - tn: 6368.0000 - fn: 306.0000 - accuracy: 0.9479 - precision: 0.9288 - recall: 0.8678 - auc: 0.9827 - val_loss: 0.1268 - val_tp: 495.0000 - val_fp: 20.0000 - val_tn: 1611.0000 - val_fn: 84.0000 - val_accuracy: 0.9529 - val_precision: 0.9612 - val_recall: 0.8549 - val_auc: 0.9867 - lr: 0.0010\n",
            "Epoch 33/50\n",
            "277/277 [==============================] - 150s 541ms/step - loss: 0.1376 - tp: 2008.0000 - fp: 162.0000 - tn: 6360.0000 - fn: 306.0000 - accuracy: 0.9470 - precision: 0.9253 - recall: 0.8678 - auc: 0.9833 - val_loss: 0.1253 - val_tp: 501.0000 - val_fp: 23.0000 - val_tn: 1608.0000 - val_fn: 78.0000 - val_accuracy: 0.9543 - val_precision: 0.9561 - val_recall: 0.8653 - val_auc: 0.9874 - lr: 0.0010\n",
            "Epoch 34/50\n",
            "277/277 [==============================] - 149s 539ms/step - loss: 0.1420 - tp: 1993.0000 - fp: 164.0000 - tn: 6358.0000 - fn: 321.0000 - accuracy: 0.9451 - precision: 0.9240 - recall: 0.8613 - auc: 0.9825 - val_loss: 0.1274 - val_tp: 518.0000 - val_fp: 37.0000 - val_tn: 1594.0000 - val_fn: 61.0000 - val_accuracy: 0.9557 - val_precision: 0.9333 - val_recall: 0.8946 - val_auc: 0.9870 - lr: 0.0010\n",
            "Epoch 35/50\n",
            "277/277 [==============================] - 150s 540ms/step - loss: 0.1385 - tp: 2015.0000 - fp: 162.0000 - tn: 6360.0000 - fn: 299.0000 - accuracy: 0.9478 - precision: 0.9256 - recall: 0.8708 - auc: 0.9836 - val_loss: 0.1262 - val_tp: 507.0000 - val_fp: 28.0000 - val_tn: 1603.0000 - val_fn: 72.0000 - val_accuracy: 0.9548 - val_precision: 0.9477 - val_recall: 0.8756 - val_auc: 0.9864 - lr: 0.0010\n",
            "Epoch 36/50\n",
            "277/277 [==============================] - 150s 540ms/step - loss: 0.1380 - tp: 2016.0000 - fp: 160.0000 - tn: 6362.0000 - fn: 298.0000 - accuracy: 0.9482 - precision: 0.9265 - recall: 0.8712 - auc: 0.9833 - val_loss: 0.1272 - val_tp: 520.0000 - val_fp: 44.0000 - val_tn: 1587.0000 - val_fn: 59.0000 - val_accuracy: 0.9534 - val_precision: 0.9220 - val_recall: 0.8981 - val_auc: 0.9868 - lr: 0.0010\n",
            "Epoch 37/50\n",
            "277/277 [==============================] - 151s 545ms/step - loss: 0.1380 - tp: 2020.0000 - fp: 139.0000 - tn: 6383.0000 - fn: 294.0000 - accuracy: 0.9510 - precision: 0.9356 - recall: 0.8729 - auc: 0.9831 - val_loss: 0.1230 - val_tp: 511.0000 - val_fp: 31.0000 - val_tn: 1600.0000 - val_fn: 68.0000 - val_accuracy: 0.9552 - val_precision: 0.9428 - val_recall: 0.8826 - val_auc: 0.9873 - lr: 0.0010\n",
            "Epoch 38/50\n",
            "277/277 [==============================] - 151s 546ms/step - loss: 0.1306 - tp: 2028.0000 - fp: 152.0000 - tn: 6370.0000 - fn: 286.0000 - accuracy: 0.9504 - precision: 0.9303 - recall: 0.8764 - auc: 0.9855 - val_loss: 0.1228 - val_tp: 512.0000 - val_fp: 30.0000 - val_tn: 1601.0000 - val_fn: 67.0000 - val_accuracy: 0.9561 - val_precision: 0.9446 - val_recall: 0.8843 - val_auc: 0.9871 - lr: 0.0010\n",
            "Epoch 39/50\n",
            "277/277 [==============================] - 149s 539ms/step - loss: 0.1305 - tp: 2041.0000 - fp: 149.0000 - tn: 6373.0000 - fn: 273.0000 - accuracy: 0.9522 - precision: 0.9320 - recall: 0.8820 - auc: 0.9854 - val_loss: 0.1278 - val_tp: 485.0000 - val_fp: 17.0000 - val_tn: 1614.0000 - val_fn: 94.0000 - val_accuracy: 0.9498 - val_precision: 0.9661 - val_recall: 0.8377 - val_auc: 0.9865 - lr: 0.0010\n",
            "Epoch 40/50\n",
            "277/277 [==============================] - 149s 538ms/step - loss: 0.1306 - tp: 2031.0000 - fp: 146.0000 - tn: 6376.0000 - fn: 283.0000 - accuracy: 0.9514 - precision: 0.9329 - recall: 0.8777 - auc: 0.9856 - val_loss: 0.1261 - val_tp: 496.0000 - val_fp: 21.0000 - val_tn: 1610.0000 - val_fn: 83.0000 - val_accuracy: 0.9529 - val_precision: 0.9594 - val_recall: 0.8566 - val_auc: 0.9862 - lr: 0.0010\n",
            "Epoch 41/50\n",
            "277/277 [==============================] - 150s 540ms/step - loss: 0.1335 - tp: 2016.0000 - fp: 152.0000 - tn: 6370.0000 - fn: 298.0000 - accuracy: 0.9491 - precision: 0.9299 - recall: 0.8712 - auc: 0.9837 - val_loss: 0.1266 - val_tp: 501.0000 - val_fp: 23.0000 - val_tn: 1608.0000 - val_fn: 78.0000 - val_accuracy: 0.9543 - val_precision: 0.9561 - val_recall: 0.8653 - val_auc: 0.9861 - lr: 0.0010\n",
            "Epoch 42/50\n",
            "277/277 [==============================] - ETA: 0s - loss: 0.1326 - tp: 2029.0000 - fp: 149.0000 - tn: 6373.0000 - fn: 285.0000 - accuracy: 0.9509 - precision: 0.9316 - recall: 0.8768 - auc: 0.9848\n",
            "Epoch 00042: ReduceLROnPlateau reducing learning rate to 0.00020000000949949026.\n",
            "277/277 [==============================] - 149s 540ms/step - loss: 0.1326 - tp: 2029.0000 - fp: 149.0000 - tn: 6373.0000 - fn: 285.0000 - accuracy: 0.9509 - precision: 0.9316 - recall: 0.8768 - auc: 0.9848 - val_loss: 0.1272 - val_tp: 513.0000 - val_fp: 37.0000 - val_tn: 1594.0000 - val_fn: 66.0000 - val_accuracy: 0.9534 - val_precision: 0.9327 - val_recall: 0.8860 - val_auc: 0.9863 - lr: 0.0010\n",
            "Epoch 43/50\n",
            "277/277 [==============================] - 149s 539ms/step - loss: 0.1284 - tp: 2035.0000 - fp: 148.0000 - tn: 6374.0000 - fn: 279.0000 - accuracy: 0.9517 - precision: 0.9322 - recall: 0.8794 - auc: 0.9859 - val_loss: 0.1257 - val_tp: 502.0000 - val_fp: 23.0000 - val_tn: 1608.0000 - val_fn: 77.0000 - val_accuracy: 0.9548 - val_precision: 0.9562 - val_recall: 0.8670 - val_auc: 0.9860 - lr: 2.0000e-04\n",
            "Epoch 44/50\n",
            "277/277 [==============================] - 150s 540ms/step - loss: 0.1278 - tp: 2029.0000 - fp: 142.0000 - tn: 6380.0000 - fn: 285.0000 - accuracy: 0.9517 - precision: 0.9346 - recall: 0.8768 - auc: 0.9856 - val_loss: 0.1261 - val_tp: 516.0000 - val_fp: 39.0000 - val_tn: 1592.0000 - val_fn: 63.0000 - val_accuracy: 0.9538 - val_precision: 0.9297 - val_recall: 0.8912 - val_auc: 0.9867 - lr: 2.0000e-04\n",
            "Epoch 45/50\n",
            "277/277 [==============================] - 150s 540ms/step - loss: 0.1302 - tp: 2051.0000 - fp: 153.0000 - tn: 6369.0000 - fn: 263.0000 - accuracy: 0.9529 - precision: 0.9306 - recall: 0.8863 - auc: 0.9852 - val_loss: 0.1242 - val_tp: 504.0000 - val_fp: 23.0000 - val_tn: 1608.0000 - val_fn: 75.0000 - val_accuracy: 0.9557 - val_precision: 0.9564 - val_recall: 0.8705 - val_auc: 0.9863 - lr: 2.0000e-04\n",
            "Epoch 46/50\n",
            "277/277 [==============================] - ETA: 0s - loss: 0.1236 - tp: 2053.0000 - fp: 132.0000 - tn: 6390.0000 - fn: 261.0000 - accuracy: 0.9555 - precision: 0.9396 - recall: 0.8872 - auc: 0.9865\n",
            "Epoch 00046: ReduceLROnPlateau reducing learning rate to 4.0000001899898055e-05.\n",
            "277/277 [==============================] - 149s 539ms/step - loss: 0.1236 - tp: 2053.0000 - fp: 132.0000 - tn: 6390.0000 - fn: 261.0000 - accuracy: 0.9555 - precision: 0.9396 - recall: 0.8872 - auc: 0.9865 - val_loss: 0.1236 - val_tp: 503.0000 - val_fp: 23.0000 - val_tn: 1608.0000 - val_fn: 76.0000 - val_accuracy: 0.9552 - val_precision: 0.9563 - val_recall: 0.8687 - val_auc: 0.9865 - lr: 2.0000e-04\n",
            "Epoch 47/50\n",
            "277/277 [==============================] - 150s 541ms/step - loss: 0.1229 - tp: 2050.0000 - fp: 133.0000 - tn: 6389.0000 - fn: 264.0000 - accuracy: 0.9551 - precision: 0.9391 - recall: 0.8859 - auc: 0.9866 - val_loss: 0.1229 - val_tp: 508.0000 - val_fp: 31.0000 - val_tn: 1600.0000 - val_fn: 71.0000 - val_accuracy: 0.9538 - val_precision: 0.9425 - val_recall: 0.8774 - val_auc: 0.9869 - lr: 4.0000e-05\n",
            "Epoch 48/50\n",
            "277/277 [==============================] - 150s 541ms/step - loss: 0.1205 - tp: 2058.0000 - fp: 126.0000 - tn: 6396.0000 - fn: 256.0000 - accuracy: 0.9568 - precision: 0.9423 - recall: 0.8894 - auc: 0.9876 - val_loss: 0.1229 - val_tp: 507.0000 - val_fp: 32.0000 - val_tn: 1599.0000 - val_fn: 72.0000 - val_accuracy: 0.9529 - val_precision: 0.9406 - val_recall: 0.8756 - val_auc: 0.9870 - lr: 4.0000e-05\n",
            "Epoch 49/50\n",
            "277/277 [==============================] - 151s 544ms/step - loss: 0.1283 - tp: 2028.0000 - fp: 131.0000 - tn: 6391.0000 - fn: 286.0000 - accuracy: 0.9528 - precision: 0.9393 - recall: 0.8764 - auc: 0.9853 - val_loss: 0.1228 - val_tp: 507.0000 - val_fp: 32.0000 - val_tn: 1599.0000 - val_fn: 72.0000 - val_accuracy: 0.9529 - val_precision: 0.9406 - val_recall: 0.8756 - val_auc: 0.9870 - lr: 4.0000e-05\n",
            "Epoch 50/50\n",
            "277/277 [==============================] - ETA: 0s - loss: 0.1247 - tp: 2033.0000 - fp: 136.0000 - tn: 6386.0000 - fn: 281.0000 - accuracy: 0.9528 - precision: 0.9373 - recall: 0.8786 - auc: 0.9868\n",
            "Epoch 00050: ReduceLROnPlateau reducing learning rate to 8.000000525498762e-06.\n",
            "277/277 [==============================] - 151s 543ms/step - loss: 0.1247 - tp: 2033.0000 - fp: 136.0000 - tn: 6386.0000 - fn: 281.0000 - accuracy: 0.9528 - precision: 0.9373 - recall: 0.8786 - auc: 0.9868 - val_loss: 0.1229 - val_tp: 505.0000 - val_fp: 30.0000 - val_tn: 1601.0000 - val_fn: 74.0000 - val_accuracy: 0.9529 - val_precision: 0.9439 - val_recall: 0.8722 - val_auc: 0.9870 - lr: 4.0000e-05\n"
          ]
        }
      ]
    },
    {
      "cell_type": "markdown",
      "metadata": {
        "id": "Sm5QYDhS4kBR"
      },
      "source": [
        "## ResNetV2-50"
      ]
    },
    {
      "cell_type": "code",
      "source": [
        "checkpoint_res = tf.keras.callbacks.ModelCheckpoint('model_resnet.h5', save_best_only=True, monitor='val_loss')"
      ],
      "metadata": {
        "id": "HD4HZHAufb9N"
      },
      "execution_count": null,
      "outputs": []
    },
    {
      "cell_type": "code",
      "metadata": {
        "execution": {
          "iopub.status.busy": "2021-10-25T06:04:59.66441Z",
          "iopub.execute_input": "2021-10-25T06:04:59.664668Z",
          "iopub.status.idle": "2021-10-25T07:21:57.906464Z",
          "shell.execute_reply.started": "2021-10-25T06:04:59.664634Z",
          "shell.execute_reply": "2021-10-25T07:21:57.90575Z"
        },
        "trusted": true,
        "id": "0nKecwyj4kBR",
        "colab": {
          "base_uri": "https://localhost:8080/"
        },
        "outputId": "ddff74e3-1a34-4e9d-e614-bddcb9540a79"
      },
      "source": [
        "tf.random.set_seed(42)\n",
        "\n",
        "# Get the model\n",
        "base_model = tf.keras.applications.ResNet50V2(include_top=False)\n",
        "base_model.trainable = False\n",
        "\n",
        "# Build the model\n",
        "inputs = layers.Input(shape=(224, 224, 3), name='input_layer')\n",
        "out = base_model(inputs, training=False)\n",
        "out = layers.GlobalMaxPooling2D()(out)\n",
        "out = layers.Dense(1, activation='sigmoid', name='output_layer')(out)\n",
        "model_resnet = keras.Model(inputs, out)\n",
        "\n",
        "# Compile model\n",
        "model_resnet.compile(loss='binary_crossentropy',\n",
        "                    optimizer=Adam(),\n",
        "                    metrics=metrics)\n",
        "\n",
        "model_resnet.summary()"
      ],
      "execution_count": null,
      "outputs": [
        {
          "output_type": "stream",
          "name": "stdout",
          "text": [
            "Downloading data from https://storage.googleapis.com/tensorflow/keras-applications/resnet/resnet50v2_weights_tf_dim_ordering_tf_kernels_notop.h5\n",
            "94674944/94668760 [==============================] - 1s 0us/step\n",
            "94683136/94668760 [==============================] - 1s 0us/step\n",
            "Model: \"model\"\n",
            "_________________________________________________________________\n",
            " Layer (type)                Output Shape              Param #   \n",
            "=================================================================\n",
            " input_layer (InputLayer)    [(None, 224, 224, 3)]     0         \n",
            "                                                                 \n",
            " resnet50v2 (Functional)     (None, None, None, 2048)  23564800  \n",
            "                                                                 \n",
            " global_max_pooling2d (Globa  (None, 2048)             0         \n",
            " lMaxPooling2D)                                                  \n",
            "                                                                 \n",
            " output_layer (Dense)        (None, 1)                 2049      \n",
            "                                                                 \n",
            "=================================================================\n",
            "Total params: 23,566,849\n",
            "Trainable params: 2,049\n",
            "Non-trainable params: 23,564,800\n",
            "_________________________________________________________________\n"
          ]
        }
      ]
    },
    {
      "cell_type": "code",
      "source": [
        "# Train the model\n",
        "history_resnet = model_resnet.fit(aug_train, epochs=50,\n",
        "                                  validation_data=non_aug_valid,\n",
        "                                  steps_per_epoch=len(aug_train),\n",
        "                                  validation_steps=len(non_aug_valid),\n",
        "                                  callbacks=[reduce_lr, checkpoint_res])\n",
        "\n",
        "np.save('history_resnet.npy', history_resnet.history)"
      ],
      "metadata": {
        "colab": {
          "base_uri": "https://localhost:8080/"
        },
        "id": "z29Iwa63qqP7",
        "outputId": "530f15b2-bb33-477d-f26c-7788523c79c5"
      },
      "execution_count": null,
      "outputs": [
        {
          "output_type": "stream",
          "name": "stdout",
          "text": [
            "Epoch 1/50\n",
            "277/277 [==============================] - ETA: 0s - loss: 0.6895 - tp: 1625.0000 - fp: 839.0000 - tn: 7314.0000 - fn: 1268.0000 - accuracy: 0.8168 - precision: 0.6595 - recall: 0.5617 - auc: 0.8200"
          ]
        },
        {
          "output_type": "stream",
          "name": "stderr",
          "text": [
            "/usr/local/lib/python3.7/dist-packages/keras/engine/functional.py:1410: CustomMaskWarning:\n",
            "\n",
            "Custom mask layers require a config and must override get_config. When loading, the custom mask layer must be passed to the custom_objects argument.\n",
            "\n"
          ]
        },
        {
          "output_type": "stream",
          "name": "stdout",
          "text": [
            "\b\b\b\b\b\b\b\b\b\b\b\b\b\b\b\b\b\b\b\b\b\b\b\b\b\b\b\b\b\b\b\b\b\b\b\b\b\b\b\b\b\b\b\b\b\b\b\b\b\b\b\b\b\b\b\b\b\b\b\b\b\b\b\b\b\b\b\b\b\b\b\b\b\b\b\b\b\b\b\b\b\b\b\b\b\b\b\b\b\b\b\b\b\b\b\b\b\b\b\b\b\b\b\b\b\b\b\b\b\b\b\b\b\b\b\b\b\b\b\b\b\b\b\b\b\b\b\b\b\b\b\b\b\b\b\b\b\b\b\b\b\b\b\b\b\b\b\b\b\b\b\b\b\b\b\b\b\b\b\b\b\b\b\b\b\b\b\b\b\b\b\b\b\b\b\b\b\b\b\b\b\b\b\b\b\b\b\b\b\b\b\b\b\b\b\b\b\b\r277/277 [==============================] - 194s 667ms/step - loss: 0.6895 - tp: 1625.0000 - fp: 839.0000 - tn: 7314.0000 - fn: 1268.0000 - accuracy: 0.8168 - precision: 0.6595 - recall: 0.5617 - auc: 0.8200 - val_loss: 0.3758 - val_tp: 419.0000 - val_fp: 127.0000 - val_tn: 1504.0000 - val_fn: 160.0000 - val_accuracy: 0.8701 - val_precision: 0.7674 - val_recall: 0.7237 - val_auc: 0.9091 - lr: 0.0010\n",
            "Epoch 2/50\n",
            "277/277 [==============================] - 183s 660ms/step - loss: 0.4281 - tp: 1673.0000 - fp: 553.0000 - tn: 5969.0000 - fn: 641.0000 - accuracy: 0.8649 - precision: 0.7516 - recall: 0.7230 - auc: 0.9029 - val_loss: 0.2943 - val_tp: 443.0000 - val_fp: 87.0000 - val_tn: 1544.0000 - val_fn: 136.0000 - val_accuracy: 0.8991 - val_precision: 0.8358 - val_recall: 0.7651 - val_auc: 0.9394 - lr: 0.0010\n",
            "Epoch 3/50\n",
            "277/277 [==============================] - 183s 661ms/step - loss: 0.3687 - tp: 1764.0000 - fp: 466.0000 - tn: 6056.0000 - fn: 550.0000 - accuracy: 0.8850 - precision: 0.7910 - recall: 0.7623 - auc: 0.9220 - val_loss: 0.3437 - val_tp: 370.0000 - val_fp: 25.0000 - val_tn: 1606.0000 - val_fn: 209.0000 - val_accuracy: 0.8941 - val_precision: 0.9367 - val_recall: 0.6390 - val_auc: 0.9389 - lr: 0.0010\n",
            "Epoch 4/50\n",
            "277/277 [==============================] - 182s 655ms/step - loss: 0.3514 - tp: 1770.0000 - fp: 453.0000 - tn: 6069.0000 - fn: 544.0000 - accuracy: 0.8872 - precision: 0.7962 - recall: 0.7649 - auc: 0.9256 - val_loss: 0.4354 - val_tp: 331.0000 - val_fp: 8.0000 - val_tn: 1623.0000 - val_fn: 248.0000 - val_accuracy: 0.8842 - val_precision: 0.9764 - val_recall: 0.5717 - val_auc: 0.9261 - lr: 0.0010\n",
            "Epoch 5/50\n",
            "277/277 [==============================] - 186s 673ms/step - loss: 0.3395 - tp: 1773.0000 - fp: 447.0000 - tn: 6075.0000 - fn: 541.0000 - accuracy: 0.8882 - precision: 0.7986 - recall: 0.7662 - auc: 0.9299 - val_loss: 0.2661 - val_tp: 421.0000 - val_fp: 26.0000 - val_tn: 1605.0000 - val_fn: 158.0000 - val_accuracy: 0.9167 - val_precision: 0.9418 - val_recall: 0.7271 - val_auc: 0.9565 - lr: 0.0010\n",
            "Epoch 6/50\n",
            "277/277 [==============================] - 189s 683ms/step - loss: 0.2887 - tp: 1809.0000 - fp: 403.0000 - tn: 6119.0000 - fn: 505.0000 - accuracy: 0.8972 - precision: 0.8178 - recall: 0.7818 - auc: 0.9443 - val_loss: 0.2599 - val_tp: 407.0000 - val_fp: 17.0000 - val_tn: 1614.0000 - val_fn: 172.0000 - val_accuracy: 0.9145 - val_precision: 0.9599 - val_recall: 0.7029 - val_auc: 0.9614 - lr: 0.0010\n",
            "Epoch 7/50\n",
            "277/277 [==============================] - 186s 671ms/step - loss: 0.3177 - tp: 1797.0000 - fp: 418.0000 - tn: 6104.0000 - fn: 517.0000 - accuracy: 0.8942 - precision: 0.8113 - recall: 0.7766 - auc: 0.9365 - val_loss: 0.1968 - val_tp: 468.0000 - val_fp: 44.0000 - val_tn: 1587.0000 - val_fn: 111.0000 - val_accuracy: 0.9299 - val_precision: 0.9141 - val_recall: 0.8083 - val_auc: 0.9686 - lr: 0.0010\n",
            "Epoch 8/50\n",
            "277/277 [==============================] - 182s 657ms/step - loss: 0.2836 - tp: 1851.0000 - fp: 387.0000 - tn: 6135.0000 - fn: 463.0000 - accuracy: 0.9038 - precision: 0.8271 - recall: 0.7999 - auc: 0.9443 - val_loss: 0.2634 - val_tp: 419.0000 - val_fp: 16.0000 - val_tn: 1615.0000 - val_fn: 160.0000 - val_accuracy: 0.9204 - val_precision: 0.9632 - val_recall: 0.7237 - val_auc: 0.9618 - lr: 0.0010\n",
            "Epoch 9/50\n",
            "277/277 [==============================] - 170s 614ms/step - loss: 0.2835 - tp: 1830.0000 - fp: 398.0000 - tn: 6124.0000 - fn: 484.0000 - accuracy: 0.9002 - precision: 0.8214 - recall: 0.7908 - auc: 0.9462 - val_loss: 0.2072 - val_tp: 460.0000 - val_fp: 47.0000 - val_tn: 1584.0000 - val_fn: 119.0000 - val_accuracy: 0.9249 - val_precision: 0.9073 - val_recall: 0.7945 - val_auc: 0.9647 - lr: 0.0010\n",
            "Epoch 10/50\n",
            "277/277 [==============================] - 166s 598ms/step - loss: 0.2732 - tp: 1859.0000 - fp: 381.0000 - tn: 6141.0000 - fn: 455.0000 - accuracy: 0.9054 - precision: 0.8299 - recall: 0.8034 - auc: 0.9475 - val_loss: 0.2809 - val_tp: 406.0000 - val_fp: 14.0000 - val_tn: 1617.0000 - val_fn: 173.0000 - val_accuracy: 0.9154 - val_precision: 0.9667 - val_recall: 0.7012 - val_auc: 0.9577 - lr: 0.0010\n",
            "Epoch 11/50\n",
            "277/277 [==============================] - ETA: 0s - loss: 0.2939 - tp: 1836.0000 - fp: 375.0000 - tn: 6147.0000 - fn: 478.0000 - accuracy: 0.9035 - precision: 0.8304 - recall: 0.7934 - auc: 0.9424\n",
            "Epoch 00011: ReduceLROnPlateau reducing learning rate to 0.00020000000949949026.\n",
            "277/277 [==============================] - 166s 599ms/step - loss: 0.2939 - tp: 1836.0000 - fp: 375.0000 - tn: 6147.0000 - fn: 478.0000 - accuracy: 0.9035 - precision: 0.8304 - recall: 0.7934 - auc: 0.9424 - val_loss: 0.2563 - val_tp: 431.0000 - val_fp: 24.0000 - val_tn: 1607.0000 - val_fn: 148.0000 - val_accuracy: 0.9222 - val_precision: 0.9473 - val_recall: 0.7444 - val_auc: 0.9584 - lr: 0.0010\n",
            "Epoch 12/50\n",
            "277/277 [==============================] - 167s 603ms/step - loss: 0.2230 - tp: 1911.0000 - fp: 305.0000 - tn: 6217.0000 - fn: 403.0000 - accuracy: 0.9199 - precision: 0.8624 - recall: 0.8258 - auc: 0.9615 - val_loss: 0.1949 - val_tp: 494.0000 - val_fp: 56.0000 - val_tn: 1575.0000 - val_fn: 85.0000 - val_accuracy: 0.9362 - val_precision: 0.8982 - val_recall: 0.8532 - val_auc: 0.9676 - lr: 2.0000e-04\n",
            "Epoch 13/50\n",
            "277/277 [==============================] - 173s 626ms/step - loss: 0.2179 - tp: 1931.0000 - fp: 289.0000 - tn: 6233.0000 - fn: 383.0000 - accuracy: 0.9239 - precision: 0.8698 - recall: 0.8345 - auc: 0.9622 - val_loss: 0.2025 - val_tp: 471.0000 - val_fp: 34.0000 - val_tn: 1597.0000 - val_fn: 108.0000 - val_accuracy: 0.9357 - val_precision: 0.9327 - val_recall: 0.8135 - val_auc: 0.9660 - lr: 2.0000e-04\n",
            "Epoch 14/50\n",
            "277/277 [==============================] - 174s 629ms/step - loss: 0.2113 - tp: 1916.0000 - fp: 306.0000 - tn: 6216.0000 - fn: 398.0000 - accuracy: 0.9203 - precision: 0.8623 - recall: 0.8280 - auc: 0.9636 - val_loss: 0.1964 - val_tp: 469.0000 - val_fp: 33.0000 - val_tn: 1598.0000 - val_fn: 110.0000 - val_accuracy: 0.9353 - val_precision: 0.9343 - val_recall: 0.8100 - val_auc: 0.9668 - lr: 2.0000e-04\n",
            "Epoch 15/50\n",
            "277/277 [==============================] - 176s 635ms/step - loss: 0.2071 - tp: 1908.0000 - fp: 304.0000 - tn: 6218.0000 - fn: 406.0000 - accuracy: 0.9196 - precision: 0.8626 - recall: 0.8245 - auc: 0.9660 - val_loss: 0.1889 - val_tp: 504.0000 - val_fp: 75.0000 - val_tn: 1556.0000 - val_fn: 75.0000 - val_accuracy: 0.9321 - val_precision: 0.8705 - val_recall: 0.8705 - val_auc: 0.9702 - lr: 2.0000e-04\n",
            "Epoch 16/50\n",
            "277/277 [==============================] - 179s 646ms/step - loss: 0.2168 - tp: 1893.0000 - fp: 309.0000 - tn: 6213.0000 - fn: 421.0000 - accuracy: 0.9174 - precision: 0.8597 - recall: 0.8181 - auc: 0.9626 - val_loss: 0.1884 - val_tp: 474.0000 - val_fp: 37.0000 - val_tn: 1594.0000 - val_fn: 105.0000 - val_accuracy: 0.9357 - val_precision: 0.9276 - val_recall: 0.8187 - val_auc: 0.9671 - lr: 2.0000e-04\n",
            "Epoch 17/50\n",
            "277/277 [==============================] - 177s 637ms/step - loss: 0.1994 - tp: 1921.0000 - fp: 283.0000 - tn: 6239.0000 - fn: 393.0000 - accuracy: 0.9235 - precision: 0.8716 - recall: 0.8302 - auc: 0.9656 - val_loss: 0.1884 - val_tp: 474.0000 - val_fp: 35.0000 - val_tn: 1596.0000 - val_fn: 105.0000 - val_accuracy: 0.9367 - val_precision: 0.9312 - val_recall: 0.8187 - val_auc: 0.9673 - lr: 2.0000e-04\n",
            "Epoch 18/50\n",
            "277/277 [==============================] - 177s 637ms/step - loss: 0.2017 - tp: 1930.0000 - fp: 290.0000 - tn: 6232.0000 - fn: 384.0000 - accuracy: 0.9237 - precision: 0.8694 - recall: 0.8341 - auc: 0.9656 - val_loss: 0.2173 - val_tp: 434.0000 - val_fp: 16.0000 - val_tn: 1615.0000 - val_fn: 145.0000 - val_accuracy: 0.9271 - val_precision: 0.9644 - val_recall: 0.7496 - val_auc: 0.9680 - lr: 2.0000e-04\n",
            "Epoch 19/50\n",
            "277/277 [==============================] - 183s 662ms/step - loss: 0.2019 - tp: 1909.0000 - fp: 283.0000 - tn: 6239.0000 - fn: 405.0000 - accuracy: 0.9221 - precision: 0.8709 - recall: 0.8250 - auc: 0.9658 - val_loss: 0.1822 - val_tp: 479.0000 - val_fp: 33.0000 - val_tn: 1598.0000 - val_fn: 100.0000 - val_accuracy: 0.9398 - val_precision: 0.9355 - val_recall: 0.8273 - val_auc: 0.9698 - lr: 2.0000e-04\n",
            "Epoch 20/50\n",
            "277/277 [==============================] - 182s 656ms/step - loss: 0.2025 - tp: 1904.0000 - fp: 281.0000 - tn: 6241.0000 - fn: 410.0000 - accuracy: 0.9218 - precision: 0.8714 - recall: 0.8228 - auc: 0.9653 - val_loss: 0.2039 - val_tp: 450.0000 - val_fp: 19.0000 - val_tn: 1612.0000 - val_fn: 129.0000 - val_accuracy: 0.9330 - val_precision: 0.9595 - val_recall: 0.7772 - val_auc: 0.9687 - lr: 2.0000e-04\n",
            "Epoch 21/50\n",
            "277/277 [==============================] - 188s 679ms/step - loss: 0.2073 - tp: 1900.0000 - fp: 299.0000 - tn: 6223.0000 - fn: 414.0000 - accuracy: 0.9193 - precision: 0.8640 - recall: 0.8211 - auc: 0.9647 - val_loss: 0.1821 - val_tp: 510.0000 - val_fp: 75.0000 - val_tn: 1556.0000 - val_fn: 69.0000 - val_accuracy: 0.9348 - val_precision: 0.8718 - val_recall: 0.8808 - val_auc: 0.9710 - lr: 2.0000e-04\n",
            "Epoch 22/50\n",
            "277/277 [==============================] - 189s 682ms/step - loss: 0.2032 - tp: 1900.0000 - fp: 296.0000 - tn: 6226.0000 - fn: 414.0000 - accuracy: 0.9196 - precision: 0.8652 - recall: 0.8211 - auc: 0.9651 - val_loss: 0.1967 - val_tp: 461.0000 - val_fp: 25.0000 - val_tn: 1606.0000 - val_fn: 118.0000 - val_accuracy: 0.9353 - val_precision: 0.9486 - val_recall: 0.7962 - val_auc: 0.9692 - lr: 2.0000e-04\n",
            "Epoch 23/50\n",
            "277/277 [==============================] - 193s 695ms/step - loss: 0.2027 - tp: 1918.0000 - fp: 298.0000 - tn: 6224.0000 - fn: 396.0000 - accuracy: 0.9215 - precision: 0.8655 - recall: 0.8289 - auc: 0.9661 - val_loss: 0.1805 - val_tp: 480.0000 - val_fp: 40.0000 - val_tn: 1591.0000 - val_fn: 99.0000 - val_accuracy: 0.9371 - val_precision: 0.9231 - val_recall: 0.8290 - val_auc: 0.9702 - lr: 2.0000e-04\n",
            "Epoch 24/50\n",
            "277/277 [==============================] - 194s 699ms/step - loss: 0.1958 - tp: 1910.0000 - fp: 268.0000 - tn: 6254.0000 - fn: 404.0000 - accuracy: 0.9239 - precision: 0.8770 - recall: 0.8254 - auc: 0.9682 - val_loss: 0.1751 - val_tp: 487.0000 - val_fp: 39.0000 - val_tn: 1592.0000 - val_fn: 92.0000 - val_accuracy: 0.9407 - val_precision: 0.9259 - val_recall: 0.8411 - val_auc: 0.9715 - lr: 2.0000e-04\n",
            "Epoch 25/50\n",
            "277/277 [==============================] - 194s 699ms/step - loss: 0.1955 - tp: 1912.0000 - fp: 271.0000 - tn: 6251.0000 - fn: 402.0000 - accuracy: 0.9238 - precision: 0.8759 - recall: 0.8263 - auc: 0.9678 - val_loss: 0.1786 - val_tp: 484.0000 - val_fp: 42.0000 - val_tn: 1589.0000 - val_fn: 95.0000 - val_accuracy: 0.9380 - val_precision: 0.9202 - val_recall: 0.8359 - val_auc: 0.9704 - lr: 2.0000e-04\n",
            "Epoch 26/50\n",
            "277/277 [==============================] - 190s 687ms/step - loss: 0.2048 - tp: 1914.0000 - fp: 289.0000 - tn: 6233.0000 - fn: 400.0000 - accuracy: 0.9220 - precision: 0.8688 - recall: 0.8271 - auc: 0.9640 - val_loss: 0.1767 - val_tp: 493.0000 - val_fp: 50.0000 - val_tn: 1581.0000 - val_fn: 86.0000 - val_accuracy: 0.9385 - val_precision: 0.9079 - val_recall: 0.8515 - val_auc: 0.9714 - lr: 2.0000e-04\n",
            "Epoch 27/50\n",
            "277/277 [==============================] - 183s 659ms/step - loss: 0.1966 - tp: 1925.0000 - fp: 268.0000 - tn: 6254.0000 - fn: 389.0000 - accuracy: 0.9256 - precision: 0.8778 - recall: 0.8319 - auc: 0.9667 - val_loss: 0.1848 - val_tp: 511.0000 - val_fp: 89.0000 - val_tn: 1542.0000 - val_fn: 68.0000 - val_accuracy: 0.9290 - val_precision: 0.8517 - val_recall: 0.8826 - val_auc: 0.9718 - lr: 2.0000e-04\n",
            "Epoch 28/50\n",
            "277/277 [==============================] - 190s 686ms/step - loss: 0.2008 - tp: 1899.0000 - fp: 260.0000 - tn: 6262.0000 - fn: 415.0000 - accuracy: 0.9236 - precision: 0.8796 - recall: 0.8207 - auc: 0.9648 - val_loss: 0.1718 - val_tp: 491.0000 - val_fp: 45.0000 - val_tn: 1586.0000 - val_fn: 88.0000 - val_accuracy: 0.9398 - val_precision: 0.9160 - val_recall: 0.8480 - val_auc: 0.9725 - lr: 2.0000e-04\n",
            "Epoch 29/50\n",
            "277/277 [==============================] - 185s 667ms/step - loss: 0.1935 - tp: 1927.0000 - fp: 258.0000 - tn: 6264.0000 - fn: 387.0000 - accuracy: 0.9270 - precision: 0.8819 - recall: 0.8328 - auc: 0.9673 - val_loss: 0.1722 - val_tp: 500.0000 - val_fp: 54.0000 - val_tn: 1577.0000 - val_fn: 79.0000 - val_accuracy: 0.9398 - val_precision: 0.9025 - val_recall: 0.8636 - val_auc: 0.9722 - lr: 2.0000e-04\n",
            "Epoch 30/50\n",
            "277/277 [==============================] - 186s 670ms/step - loss: 0.1921 - tp: 1929.0000 - fp: 270.0000 - tn: 6252.0000 - fn: 385.0000 - accuracy: 0.9259 - precision: 0.8772 - recall: 0.8336 - auc: 0.9681 - val_loss: 0.1767 - val_tp: 487.0000 - val_fp: 45.0000 - val_tn: 1586.0000 - val_fn: 92.0000 - val_accuracy: 0.9380 - val_precision: 0.9154 - val_recall: 0.8411 - val_auc: 0.9707 - lr: 2.0000e-04\n",
            "Epoch 31/50\n",
            "277/277 [==============================] - 184s 664ms/step - loss: 0.1893 - tp: 1938.0000 - fp: 260.0000 - tn: 6262.0000 - fn: 376.0000 - accuracy: 0.9280 - precision: 0.8817 - recall: 0.8375 - auc: 0.9690 - val_loss: 0.2003 - val_tp: 449.0000 - val_fp: 18.0000 - val_tn: 1613.0000 - val_fn: 130.0000 - val_accuracy: 0.9330 - val_precision: 0.9615 - val_recall: 0.7755 - val_auc: 0.9690 - lr: 2.0000e-04\n",
            "Epoch 32/50\n",
            "277/277 [==============================] - ETA: 0s - loss: 0.1864 - tp: 1934.0000 - fp: 244.0000 - tn: 6278.0000 - fn: 380.0000 - accuracy: 0.9294 - precision: 0.8880 - recall: 0.8358 - auc: 0.9699\n",
            "Epoch 00032: ReduceLROnPlateau reducing learning rate to 4.0000001899898055e-05.\n",
            "277/277 [==============================] - 176s 636ms/step - loss: 0.1864 - tp: 1934.0000 - fp: 244.0000 - tn: 6278.0000 - fn: 380.0000 - accuracy: 0.9294 - precision: 0.8880 - recall: 0.8358 - auc: 0.9699 - val_loss: 0.1780 - val_tp: 490.0000 - val_fp: 37.0000 - val_tn: 1594.0000 - val_fn: 89.0000 - val_accuracy: 0.9430 - val_precision: 0.9298 - val_recall: 0.8463 - val_auc: 0.9709 - lr: 2.0000e-04\n",
            "Epoch 33/50\n",
            "277/277 [==============================] - 176s 635ms/step - loss: 0.1868 - tp: 1947.0000 - fp: 252.0000 - tn: 6270.0000 - fn: 367.0000 - accuracy: 0.9299 - precision: 0.8854 - recall: 0.8414 - auc: 0.9689 - val_loss: 0.1779 - val_tp: 487.0000 - val_fp: 34.0000 - val_tn: 1597.0000 - val_fn: 92.0000 - val_accuracy: 0.9430 - val_precision: 0.9347 - val_recall: 0.8411 - val_auc: 0.9716 - lr: 4.0000e-05\n",
            "Epoch 34/50\n",
            "277/277 [==============================] - 177s 637ms/step - loss: 0.1797 - tp: 1938.0000 - fp: 239.0000 - tn: 6283.0000 - fn: 376.0000 - accuracy: 0.9304 - precision: 0.8902 - recall: 0.8375 - auc: 0.9716 - val_loss: 0.1849 - val_tp: 474.0000 - val_fp: 23.0000 - val_tn: 1608.0000 - val_fn: 105.0000 - val_accuracy: 0.9421 - val_precision: 0.9537 - val_recall: 0.8187 - val_auc: 0.9708 - lr: 4.0000e-05\n",
            "Epoch 35/50\n",
            "277/277 [==============================] - 171s 617ms/step - loss: 0.1790 - tp: 1930.0000 - fp: 246.0000 - tn: 6276.0000 - fn: 384.0000 - accuracy: 0.9287 - precision: 0.8869 - recall: 0.8341 - auc: 0.9720 - val_loss: 0.1757 - val_tp: 488.0000 - val_fp: 34.0000 - val_tn: 1597.0000 - val_fn: 91.0000 - val_accuracy: 0.9434 - val_precision: 0.9349 - val_recall: 0.8428 - val_auc: 0.9711 - lr: 4.0000e-05\n",
            "Epoch 36/50\n",
            "277/277 [==============================] - 175s 632ms/step - loss: 0.1787 - tp: 1946.0000 - fp: 241.0000 - tn: 6281.0000 - fn: 368.0000 - accuracy: 0.9311 - precision: 0.8898 - recall: 0.8410 - auc: 0.9720 - val_loss: 0.1705 - val_tp: 494.0000 - val_fp: 49.0000 - val_tn: 1582.0000 - val_fn: 85.0000 - val_accuracy: 0.9394 - val_precision: 0.9098 - val_recall: 0.8532 - val_auc: 0.9725 - lr: 4.0000e-05\n",
            "Epoch 37/50\n",
            "277/277 [==============================] - 176s 635ms/step - loss: 0.1841 - tp: 1933.0000 - fp: 256.0000 - tn: 6266.0000 - fn: 381.0000 - accuracy: 0.9279 - precision: 0.8831 - recall: 0.8354 - auc: 0.9711 - val_loss: 0.1833 - val_tp: 472.0000 - val_fp: 25.0000 - val_tn: 1606.0000 - val_fn: 107.0000 - val_accuracy: 0.9403 - val_precision: 0.9497 - val_recall: 0.8152 - val_auc: 0.9711 - lr: 4.0000e-05\n",
            "Epoch 38/50\n",
            "277/277 [==============================] - 175s 631ms/step - loss: 0.1838 - tp: 1938.0000 - fp: 249.0000 - tn: 6273.0000 - fn: 376.0000 - accuracy: 0.9293 - precision: 0.8861 - recall: 0.8375 - auc: 0.9700 - val_loss: 0.1712 - val_tp: 493.0000 - val_fp: 42.0000 - val_tn: 1589.0000 - val_fn: 86.0000 - val_accuracy: 0.9421 - val_precision: 0.9215 - val_recall: 0.8515 - val_auc: 0.9721 - lr: 4.0000e-05\n",
            "Epoch 39/50\n",
            "277/277 [==============================] - 177s 640ms/step - loss: 0.1783 - tp: 1944.0000 - fp: 238.0000 - tn: 6284.0000 - fn: 370.0000 - accuracy: 0.9312 - precision: 0.8909 - recall: 0.8401 - auc: 0.9723 - val_loss: 0.1802 - val_tp: 478.0000 - val_fp: 29.0000 - val_tn: 1602.0000 - val_fn: 101.0000 - val_accuracy: 0.9412 - val_precision: 0.9428 - val_recall: 0.8256 - val_auc: 0.9702 - lr: 4.0000e-05\n",
            "Epoch 40/50\n",
            "277/277 [==============================] - ETA: 0s - loss: 0.1864 - tp: 1938.0000 - fp: 241.0000 - tn: 6281.0000 - fn: 376.0000 - accuracy: 0.9302 - precision: 0.8894 - recall: 0.8375 - auc: 0.9696\n",
            "Epoch 00040: ReduceLROnPlateau reducing learning rate to 8.000000525498762e-06.\n",
            "277/277 [==============================] - 177s 639ms/step - loss: 0.1864 - tp: 1938.0000 - fp: 241.0000 - tn: 6281.0000 - fn: 376.0000 - accuracy: 0.9302 - precision: 0.8894 - recall: 0.8375 - auc: 0.9696 - val_loss: 0.1714 - val_tp: 498.0000 - val_fp: 49.0000 - val_tn: 1582.0000 - val_fn: 81.0000 - val_accuracy: 0.9412 - val_precision: 0.9104 - val_recall: 0.8601 - val_auc: 0.9722 - lr: 4.0000e-05\n",
            "Epoch 41/50\n",
            "277/277 [==============================] - 175s 632ms/step - loss: 0.1861 - tp: 1935.0000 - fp: 265.0000 - tn: 6257.0000 - fn: 379.0000 - accuracy: 0.9271 - precision: 0.8795 - recall: 0.8362 - auc: 0.9688 - val_loss: 0.1747 - val_tp: 488.0000 - val_fp: 35.0000 - val_tn: 1596.0000 - val_fn: 91.0000 - val_accuracy: 0.9430 - val_precision: 0.9331 - val_recall: 0.8428 - val_auc: 0.9711 - lr: 8.0000e-06\n",
            "Epoch 42/50\n",
            "277/277 [==============================] - 195s 705ms/step - loss: 0.1859 - tp: 1921.0000 - fp: 251.0000 - tn: 6271.0000 - fn: 393.0000 - accuracy: 0.9271 - precision: 0.8844 - recall: 0.8302 - auc: 0.9690 - val_loss: 0.1717 - val_tp: 494.0000 - val_fp: 42.0000 - val_tn: 1589.0000 - val_fn: 85.0000 - val_accuracy: 0.9425 - val_precision: 0.9216 - val_recall: 0.8532 - val_auc: 0.9724 - lr: 8.0000e-06\n",
            "Epoch 43/50\n",
            "277/277 [==============================] - 189s 682ms/step - loss: 0.1790 - tp: 1950.0000 - fp: 259.0000 - tn: 6263.0000 - fn: 364.0000 - accuracy: 0.9295 - precision: 0.8828 - recall: 0.8427 - auc: 0.9733 - val_loss: 0.1733 - val_tp: 490.0000 - val_fp: 35.0000 - val_tn: 1596.0000 - val_fn: 89.0000 - val_accuracy: 0.9439 - val_precision: 0.9333 - val_recall: 0.8463 - val_auc: 0.9717 - lr: 8.0000e-06\n",
            "Epoch 44/50\n",
            "277/277 [==============================] - ETA: 0s - loss: 0.1835 - tp: 1932.0000 - fp: 240.0000 - tn: 6282.0000 - fn: 382.0000 - accuracy: 0.9296 - precision: 0.8895 - recall: 0.8349 - auc: 0.9699\n",
            "Epoch 00044: ReduceLROnPlateau reducing learning rate to 1.6000001778593287e-06.\n",
            "277/277 [==============================] - 186s 672ms/step - loss: 0.1835 - tp: 1932.0000 - fp: 240.0000 - tn: 6282.0000 - fn: 382.0000 - accuracy: 0.9296 - precision: 0.8895 - recall: 0.8349 - auc: 0.9699 - val_loss: 0.1710 - val_tp: 496.0000 - val_fp: 44.0000 - val_tn: 1587.0000 - val_fn: 83.0000 - val_accuracy: 0.9425 - val_precision: 0.9185 - val_recall: 0.8566 - val_auc: 0.9724 - lr: 8.0000e-06\n",
            "Epoch 45/50\n",
            "277/277 [==============================] - 187s 675ms/step - loss: 0.1672 - tp: 1972.0000 - fp: 236.0000 - tn: 6286.0000 - fn: 342.0000 - accuracy: 0.9346 - precision: 0.8931 - recall: 0.8522 - auc: 0.9754 - val_loss: 0.1720 - val_tp: 491.0000 - val_fp: 37.0000 - val_tn: 1594.0000 - val_fn: 88.0000 - val_accuracy: 0.9434 - val_precision: 0.9299 - val_recall: 0.8480 - val_auc: 0.9725 - lr: 1.6000e-06\n",
            "Epoch 46/50\n",
            "277/277 [==============================] - 193s 695ms/step - loss: 0.1734 - tp: 1960.0000 - fp: 229.0000 - tn: 6293.0000 - fn: 354.0000 - accuracy: 0.9340 - precision: 0.8954 - recall: 0.8470 - auc: 0.9727 - val_loss: 0.1721 - val_tp: 491.0000 - val_fp: 36.0000 - val_tn: 1595.0000 - val_fn: 88.0000 - val_accuracy: 0.9439 - val_precision: 0.9317 - val_recall: 0.8480 - val_auc: 0.9725 - lr: 1.6000e-06\n",
            "Epoch 47/50\n",
            "277/277 [==============================] - 191s 690ms/step - loss: 0.1806 - tp: 1931.0000 - fp: 253.0000 - tn: 6269.0000 - fn: 383.0000 - accuracy: 0.9280 - precision: 0.8842 - recall: 0.8345 - auc: 0.9716 - val_loss: 0.1715 - val_tp: 494.0000 - val_fp: 41.0000 - val_tn: 1590.0000 - val_fn: 85.0000 - val_accuracy: 0.9430 - val_precision: 0.9234 - val_recall: 0.8532 - val_auc: 0.9724 - lr: 1.6000e-06\n",
            "Epoch 48/50\n",
            "277/277 [==============================] - ETA: 0s - loss: 0.1727 - tp: 1970.0000 - fp: 245.0000 - tn: 6277.0000 - fn: 344.0000 - accuracy: 0.9333 - precision: 0.8894 - recall: 0.8513 - auc: 0.9739\n",
            "Epoch 00048: ReduceLROnPlateau reducing learning rate to 3.200000264769187e-07.\n",
            "277/277 [==============================] - 185s 668ms/step - loss: 0.1727 - tp: 1970.0000 - fp: 245.0000 - tn: 6277.0000 - fn: 344.0000 - accuracy: 0.9333 - precision: 0.8894 - recall: 0.8513 - auc: 0.9739 - val_loss: 0.1722 - val_tp: 491.0000 - val_fp: 36.0000 - val_tn: 1595.0000 - val_fn: 88.0000 - val_accuracy: 0.9439 - val_precision: 0.9317 - val_recall: 0.8480 - val_auc: 0.9725 - lr: 1.6000e-06\n",
            "Epoch 49/50\n",
            "277/277 [==============================] - 186s 670ms/step - loss: 0.1796 - tp: 1942.0000 - fp: 241.0000 - tn: 6281.0000 - fn: 372.0000 - accuracy: 0.9306 - precision: 0.8896 - recall: 0.8392 - auc: 0.9719 - val_loss: 0.1723 - val_tp: 491.0000 - val_fp: 35.0000 - val_tn: 1596.0000 - val_fn: 88.0000 - val_accuracy: 0.9443 - val_precision: 0.9335 - val_recall: 0.8480 - val_auc: 0.9725 - lr: 3.2000e-07\n",
            "Epoch 50/50\n",
            "277/277 [==============================] - 186s 673ms/step - loss: 0.1758 - tp: 1960.0000 - fp: 254.0000 - tn: 6268.0000 - fn: 354.0000 - accuracy: 0.9312 - precision: 0.8853 - recall: 0.8470 - auc: 0.9726 - val_loss: 0.1723 - val_tp: 491.0000 - val_fp: 35.0000 - val_tn: 1596.0000 - val_fn: 88.0000 - val_accuracy: 0.9443 - val_precision: 0.9335 - val_recall: 0.8480 - val_auc: 0.9725 - lr: 3.2000e-07\n"
          ]
        }
      ]
    },
    {
      "cell_type": "markdown",
      "metadata": {
        "id": "87SRBIsp4kBS"
      },
      "source": [
        "# Evaluation"
      ]
    },
    {
      "cell_type": "code",
      "metadata": {
        "execution": {
          "iopub.status.busy": "2021-10-25T04:46:21.542145Z",
          "iopub.status.idle": "2021-10-25T04:46:21.542572Z",
          "shell.execute_reply.started": "2021-10-25T04:46:21.54234Z",
          "shell.execute_reply": "2021-10-25T04:46:21.542375Z"
        },
        "trusted": true,
        "id": "oo4KwDZh4kBS"
      },
      "source": [
        "# Plot the validation and training data separately\n",
        "def plot_learning_curves(*histories):\n",
        "    \"\"\"\n",
        "    Returns separate loss curves for training and validation metrics.\n",
        "    \"\"\" \n",
        "    fig = make_subplots(rows=3, cols=1, subplot_titles=('Loss', 'Recall', 'AUC'))\n",
        "    for history in histories:\n",
        "        loss = history[1].history.get('loss')\n",
        "        val_loss = history[1].history.get('val_loss')\n",
        "\n",
        "        auc = history[1].history.get('auc')\n",
        "        val_auc = history[1].history.get('val_auc')\n",
        "\n",
        "        recall = history[1].history.get('recall')\n",
        "        val_recall = history[1].history.get('val_recall')\n",
        "\n",
        "        epochs = np.arange(1, len(history[1].history.get('loss')) + 1)\n",
        "\n",
        "        fig.add_trace(go.Scatter(x=epochs, y=loss, name=history[0] + \" train\"), row=1, col=1)\n",
        "        fig.add_trace(go.Scatter(x=epochs, y=val_loss, name=history[0] + \" val\"), row=1, col=1)\n",
        "        fig.add_trace(go.Scatter(x=epochs, y=recall, name=history[0] + \" train\"), row=2, col=1)\n",
        "        fig.add_trace(go.Scatter(x=epochs, y=val_recall, name=history[0] + \" val\"), row=2, col=1)\n",
        "        fig.add_trace(go.Scatter(x=epochs, y=auc, name=history[0] + \" train\"), row=3, col=1)\n",
        "        fig.add_trace(go.Scatter(x=epochs, y=val_auc, name=history[0] + \"val\"), row=3, col=1)\n",
        "\n",
        "    # Update xaxis properties\n",
        "    fig.update_xaxes(title_text=\"Epochs\", row=1, col=1)\n",
        "    fig.update_xaxes(title_text=\"Epochs\", row=2, col=1)\n",
        "    fig.update_xaxes(title_text=\"Epochs\", row=3, col=1)\n",
        "\n",
        "    # Update yaxis properties\n",
        "    fig.update_yaxes(title_text=\"Loss\", row=1, col=1)\n",
        "    fig.update_yaxes(title_text=\"Recall\", row=2, col=1)\n",
        "    fig.update_yaxes(title_text=\"AUC\", row=3, col=1)\n",
        "\n",
        "    fig.update_layout(title_text=\"Learning Curves\", height=1500)\n",
        "\n",
        "    fig.show()"
      ],
      "execution_count": null,
      "outputs": []
    },
    {
      "cell_type": "code",
      "metadata": {
        "execution": {
          "iopub.status.busy": "2021-10-25T04:46:21.549539Z",
          "iopub.status.idle": "2021-10-25T04:46:21.549835Z",
          "shell.execute_reply.started": "2021-10-25T04:46:21.549683Z",
          "shell.execute_reply": "2021-10-25T04:46:21.549704Z"
        },
        "trusted": true,
        "id": "VlLGzcBZ4kBS"
      },
      "source": [
        "def plot_roc_curve(*datas):\n",
        "    fig = go.Figure()\n",
        "    for data in datas:\n",
        "        name = data[0]\n",
        "        y_true = data[1]\n",
        "        pred = data[2]\n",
        "\n",
        "        fpr, tpr, _ = roc_curve(y_true, pred)\n",
        "        fig.add_trace(go.Scatter(x=fpr, y=tpr, name=name))\n",
        "\n",
        "    fig.update_yaxes(title_text=\"TPR\")\n",
        "    fig.update_xaxes(title_text=\"FPR\")\n",
        "    fig.update_layout(title_text=\"ROC Curve\")\n",
        "    fig.show()"
      ],
      "execution_count": null,
      "outputs": []
    },
    {
      "cell_type": "code",
      "metadata": {
        "execution": {
          "iopub.status.busy": "2021-10-25T04:46:21.551507Z",
          "iopub.status.idle": "2021-10-25T04:46:21.552028Z",
          "shell.execute_reply.started": "2021-10-25T04:46:21.551773Z",
          "shell.execute_reply": "2021-10-25T04:46:21.551798Z"
        },
        "trusted": true,
        "id": "YloScoRb4kBT"
      },
      "source": [
        "def evaluate_model(y_true, pred, threshold=0.5):\n",
        "    pred_new = [1 if i > threshold else 0 for i in pred]\n",
        "\n",
        "    # Print classification report\n",
        "    print('===== Classification Report ======')\n",
        "    print(classification_report(y_true, pred_new))\n",
        "    print()\n",
        "\n",
        "    # Print confusion matrix\n",
        "    print('===== Confusion Matrix =====')\n",
        "    print(confusion_matrix(y_true, pred_new))\n",
        "    print()\n",
        "\n",
        "    # Print other metrics\n",
        "    print('===== Other Metrics =====')\n",
        "    roc_auc = keras.metrics.AUC(curve='ROC')\n",
        "    roc_auc.update_state(y_true, pred)\n",
        "    print(f\"ROC_AUC: {roc_auc.result().numpy()}\")"
      ],
      "execution_count": null,
      "outputs": []
    },
    {
      "cell_type": "code",
      "source": [
        "history_efficientnet = np.load('history_efficientnet.npy',allow_pickle='TRUE').item()\n",
        "history_baseline = np.load('history_baseline.npy',allow_pickle='TRUE').item()\n",
        "\n",
        "model_baseline = load_model('model_baseline.h5', compile=False, custom_objects={'KerasLayer': hub.KerasLayer})\n",
        "model_efficientnet = load_model('model_efficientnet.h5', compile=False, custom_objects={'KerasLayer': hub.KerasLayer})"
      ],
      "metadata": {
        "id": "dzNypQXLrjZ_"
      },
      "execution_count": null,
      "outputs": []
    },
    {
      "cell_type": "code",
      "source": [
        "plot_learning_curves(['ResnetV2-50', history_resnet])"
      ],
      "metadata": {
        "colab": {
          "base_uri": "https://localhost:8080/",
          "height": 1000
        },
        "id": "XK92_IYtrGrv",
        "outputId": "7523b580-a84f-40ea-cdf3-39c03b8ecdd4"
      },
      "execution_count": null,
      "outputs": [
        {
          "output_type": "display_data",
          "data": {
            "text/html": [
              "<html>\n",
              "<head><meta charset=\"utf-8\" /></head>\n",
              "<body>\n",
              "    <div>\n",
              "            <script src=\"https://cdnjs.cloudflare.com/ajax/libs/mathjax/2.7.5/MathJax.js?config=TeX-AMS-MML_SVG\"></script><script type=\"text/javascript\">if (window.MathJax) {MathJax.Hub.Config({SVG: {font: \"STIX-Web\"}});}</script>\n",
              "                <script type=\"text/javascript\">window.PlotlyConfig = {MathJaxConfig: 'local'};</script>\n",
              "        <script src=\"https://cdn.plot.ly/plotly-latest.min.js\"></script>    \n",
              "            <div id=\"996b98d7-d083-4ad4-86ef-cc0ec2aa03be\" class=\"plotly-graph-div\" style=\"height:1500px; width:100%;\"></div>\n",
              "            <script type=\"text/javascript\">\n",
              "                \n",
              "                    window.PLOTLYENV=window.PLOTLYENV || {};\n",
              "                    \n",
              "                if (document.getElementById(\"996b98d7-d083-4ad4-86ef-cc0ec2aa03be\")) {\n",
              "                    Plotly.newPlot(\n",
              "                        '996b98d7-d083-4ad4-86ef-cc0ec2aa03be',\n",
              "                        [{\"name\": \"ResnetV2-50 train\", \"type\": \"scatter\", \"x\": [1, 2, 3, 4, 5, 6, 7, 8, 9, 10, 11, 12, 13, 14, 15, 16, 17, 18, 19, 20, 21, 22, 23, 24, 25, 26, 27, 28, 29, 30, 31, 32, 33, 34, 35, 36, 37, 38, 39, 40, 41, 42, 43, 44, 45, 46, 47, 48, 49, 50], \"xaxis\": \"x\", \"y\": [0.6894558072090149, 0.4281136393547058, 0.36874616146087646, 0.3513995409011841, 0.33953800797462463, 0.28873661160469055, 0.3177407681941986, 0.2835559844970703, 0.2835175693035126, 0.27324178814888, 0.2939143180847168, 0.22297264635562897, 0.21786078810691833, 0.21128521859645844, 0.20707356929779053, 0.21676048636436462, 0.19938194751739502, 0.2017071545124054, 0.2018672674894333, 0.20251858234405518, 0.20728850364685059, 0.20317073166370392, 0.20267584919929504, 0.19582854211330414, 0.19552725553512573, 0.20478101074695587, 0.19656141102313995, 0.20081938803195953, 0.1935373693704605, 0.19205088913440704, 0.18934574723243713, 0.1863703429698944, 0.18683017790317535, 0.17969979345798492, 0.1789945513010025, 0.17866194248199463, 0.18412140011787415, 0.18377569317817688, 0.17829251289367676, 0.18642379343509674, 0.18613837659358978, 0.1859131008386612, 0.1790030598640442, 0.18348275125026703, 0.16715675592422485, 0.1734408736228943, 0.18059207499027252, 0.17265060544013977, 0.17957742512226105, 0.1758134514093399], \"yaxis\": \"y\"}, {\"name\": \"ResnetV2-50 val\", \"type\": \"scatter\", \"x\": [1, 2, 3, 4, 5, 6, 7, 8, 9, 10, 11, 12, 13, 14, 15, 16, 17, 18, 19, 20, 21, 22, 23, 24, 25, 26, 27, 28, 29, 30, 31, 32, 33, 34, 35, 36, 37, 38, 39, 40, 41, 42, 43, 44, 45, 46, 47, 48, 49, 50], \"xaxis\": \"x\", \"y\": [0.3757857084274292, 0.2942673861980438, 0.34368687868118286, 0.43536338210105896, 0.2661445140838623, 0.25990045070648193, 0.19683235883712769, 0.2634490132331848, 0.20719657838344574, 0.2808918058872223, 0.2562548518180847, 0.19491362571716309, 0.20250597596168518, 0.19635264575481415, 0.18892207741737366, 0.18841274082660675, 0.18835993111133575, 0.217308908700943, 0.18219910562038422, 0.20391333103179932, 0.18210570514202118, 0.19669705629348755, 0.18046431243419647, 0.17514310777187347, 0.17858870327472687, 0.17669777572155, 0.18477223813533783, 0.17182593047618866, 0.1721803992986679, 0.17670728266239166, 0.20034262537956238, 0.17795005440711975, 0.17791277170181274, 0.18489114940166473, 0.1756754368543625, 0.1704641580581665, 0.18327903747558594, 0.1712018996477127, 0.18020175397396088, 0.17142842710018158, 0.17467083036899567, 0.17166179418563843, 0.1733396202325821, 0.17097677290439606, 0.17203685641288757, 0.17214201390743256, 0.17153657972812653, 0.17215538024902344, 0.17226997017860413, 0.17234352231025696], \"yaxis\": \"y\"}, {\"name\": \"ResnetV2-50 train\", \"type\": \"scatter\", \"x\": [1, 2, 3, 4, 5, 6, 7, 8, 9, 10, 11, 12, 13, 14, 15, 16, 17, 18, 19, 20, 21, 22, 23, 24, 25, 26, 27, 28, 29, 30, 31, 32, 33, 34, 35, 36, 37, 38, 39, 40, 41, 42, 43, 44, 45, 46, 47, 48, 49, 50], \"xaxis\": \"x2\", \"y\": [0.5617006421089172, 0.7229905128479004, 0.7623163461685181, 0.7649092674255371, 0.7662057280540466, 0.7817631959915161, 0.776577353477478, 0.7999135851860046, 0.790838360786438, 0.8033707737922668, 0.793431282043457, 0.8258426785469055, 0.8344857096672058, 0.828003466129303, 0.824546217918396, 0.8180639743804932, 0.8301641941070557, 0.8340535759925842, 0.8249784111976624, 0.8228176236152649, 0.8210890293121338, 0.8210890293121338, 0.8288677334785461, 0.8254105448722839, 0.8262748718261719, 0.827139139175415, 0.8318928480148315, 0.8206568956375122, 0.8327571153640747, 0.8336214423179626, 0.8375108242034912, 0.8357821702957153, 0.841400146484375, 0.8375108242034912, 0.8340535759925842, 0.8409680128097534, 0.8353500366210938, 0.8375108242034912, 0.8401037454605103, 0.8375108242034912, 0.8362143635749817, 0.8301641941070557, 0.8426966071128845, 0.8349179029464722, 0.8522039651870728, 0.8470181226730347, 0.8344857096672058, 0.8513396978378296, 0.8392394185066223, 0.8470181226730347], \"yaxis\": \"y2\"}, {\"name\": \"ResnetV2-50 val\", \"type\": \"scatter\", \"x\": [1, 2, 3, 4, 5, 6, 7, 8, 9, 10, 11, 12, 13, 14, 15, 16, 17, 18, 19, 20, 21, 22, 23, 24, 25, 26, 27, 28, 29, 30, 31, 32, 33, 34, 35, 36, 37, 38, 39, 40, 41, 42, 43, 44, 45, 46, 47, 48, 49, 50], \"xaxis\": \"x2\", \"y\": [0.723661482334137, 0.7651122808456421, 0.6390328407287598, 0.5716753005981445, 0.7271156907081604, 0.7029361128807068, 0.8082901835441589, 0.723661482334137, 0.7944732308387756, 0.7012090086936951, 0.7443868517875671, 0.8531951904296875, 0.8134714961051941, 0.8100172877311707, 0.8704662919044495, 0.818652868270874, 0.818652868270874, 0.7495682239532471, 0.8272884488105774, 0.7772020697593689, 0.8808290362358093, 0.7962003350257874, 0.8290155529975891, 0.8411053419113159, 0.8359240293502808, 0.851468026638031, 0.882556140422821, 0.8480138182640076, 0.8635578751564026, 0.8411053419113159, 0.7754749655723572, 0.8462867140769958, 0.8411053419113159, 0.818652868270874, 0.8428324460983276, 0.8531951904296875, 0.8151986002922058, 0.851468026638031, 0.8255612850189209, 0.8601036071777344, 0.8428324460983276, 0.8531951904296875, 0.8462867140769958, 0.8566493988037109, 0.8480138182640076, 0.8480138182640076, 0.8531951904296875, 0.8480138182640076, 0.8480138182640076, 0.8480138182640076], \"yaxis\": \"y2\"}, {\"name\": \"ResnetV2-50 train\", \"type\": \"scatter\", \"x\": [1, 2, 3, 4, 5, 6, 7, 8, 9, 10, 11, 12, 13, 14, 15, 16, 17, 18, 19, 20, 21, 22, 23, 24, 25, 26, 27, 28, 29, 30, 31, 32, 33, 34, 35, 36, 37, 38, 39, 40, 41, 42, 43, 44, 45, 46, 47, 48, 49, 50], \"xaxis\": \"x3\", \"y\": [0.8199532628059387, 0.9028952121734619, 0.9220237731933594, 0.9255755543708801, 0.9299010634422302, 0.9442539811134338, 0.9364861845970154, 0.9443407654762268, 0.9461693167686462, 0.947522759437561, 0.9423651695251465, 0.9614803791046143, 0.9621788263320923, 0.9635797739028931, 0.9660037755966187, 0.9625680446624756, 0.9655891060829163, 0.9656120538711548, 0.9657905697822571, 0.9653368592262268, 0.9647126793861389, 0.9651368856430054, 0.9661245346069336, 0.9681894779205322, 0.96784508228302, 0.9639727473258972, 0.9666552543640137, 0.9648445248603821, 0.9672533869743347, 0.9681082963943481, 0.9689804315567017, 0.9698564410209656, 0.9689373970031738, 0.9715509414672852, 0.9719964861869812, 0.9720348715782166, 0.9710823893547058, 0.9699534177780151, 0.9722526669502258, 0.9695861339569092, 0.9688498973846436, 0.9690127372741699, 0.973254919052124, 0.9698666334152222, 0.9754055142402649, 0.9727483987808228, 0.9715786576271057, 0.9738790392875671, 0.9719445705413818, 0.9725531935691833], \"yaxis\": \"y3\"}, {\"name\": \"ResnetV2-50val\", \"type\": \"scatter\", \"x\": [1, 2, 3, 4, 5, 6, 7, 8, 9, 10, 11, 12, 13, 14, 15, 16, 17, 18, 19, 20, 21, 22, 23, 24, 25, 26, 27, 28, 29, 30, 31, 32, 33, 34, 35, 36, 37, 38, 39, 40, 41, 42, 43, 44, 45, 46, 47, 48, 49, 50], \"xaxis\": \"x3\", \"y\": [0.9091172218322754, 0.9393746256828308, 0.9388509392738342, 0.9261400699615479, 0.9564636945724487, 0.9613967537879944, 0.9686138033866882, 0.9618107676506042, 0.9647090435028076, 0.9577296376228333, 0.958358108997345, 0.9675951600074768, 0.9660051465034485, 0.9667686223983765, 0.9702122211456299, 0.9671000242233276, 0.9672975540161133, 0.9679672718048096, 0.9697734713554382, 0.9687497615814209, 0.9710392355918884, 0.9692354202270508, 0.9702450633049011, 0.9715376496315002, 0.9704102277755737, 0.9713977575302124, 0.9718377590179443, 0.9724822044372559, 0.9722194075584412, 0.9706771373748779, 0.9689775705337524, 0.9708831906318665, 0.9716206192970276, 0.9707884192466736, 0.971114993095398, 0.9724900722503662, 0.9710531234741211, 0.9720802307128906, 0.9701647162437439, 0.9722142815589905, 0.9711182117462158, 0.9724074006080627, 0.9716921448707581, 0.9723751544952393, 0.972466766834259, 0.9724868535995483, 0.9724376797676086, 0.972461998462677, 0.9725170731544495, 0.9725393056869507], \"yaxis\": \"y3\"}],\n",
              "                        {\"annotations\": [{\"font\": {\"size\": 16}, \"showarrow\": false, \"text\": \"Loss\", \"x\": 0.5, \"xanchor\": \"center\", \"xref\": \"paper\", \"y\": 1.0, \"yanchor\": \"bottom\", \"yref\": \"paper\"}, {\"font\": {\"size\": 16}, \"showarrow\": false, \"text\": \"Recall\", \"x\": 0.5, \"xanchor\": \"center\", \"xref\": \"paper\", \"y\": 0.6111111111111112, \"yanchor\": \"bottom\", \"yref\": \"paper\"}, {\"font\": {\"size\": 16}, \"showarrow\": false, \"text\": \"AUC\", \"x\": 0.5, \"xanchor\": \"center\", \"xref\": \"paper\", \"y\": 0.22222222222222224, \"yanchor\": \"bottom\", \"yref\": \"paper\"}], \"height\": 1500, \"template\": {\"data\": {\"bar\": [{\"error_x\": {\"color\": \"#2a3f5f\"}, \"error_y\": {\"color\": \"#2a3f5f\"}, \"marker\": {\"line\": {\"color\": \"#E5ECF6\", \"width\": 0.5}}, \"type\": \"bar\"}], \"barpolar\": [{\"marker\": {\"line\": {\"color\": \"#E5ECF6\", \"width\": 0.5}}, \"type\": \"barpolar\"}], \"carpet\": [{\"aaxis\": {\"endlinecolor\": \"#2a3f5f\", \"gridcolor\": \"white\", \"linecolor\": \"white\", \"minorgridcolor\": \"white\", \"startlinecolor\": \"#2a3f5f\"}, \"baxis\": {\"endlinecolor\": \"#2a3f5f\", \"gridcolor\": \"white\", \"linecolor\": \"white\", \"minorgridcolor\": \"white\", \"startlinecolor\": \"#2a3f5f\"}, \"type\": \"carpet\"}], \"choropleth\": [{\"colorbar\": {\"outlinewidth\": 0, \"ticks\": \"\"}, \"type\": \"choropleth\"}], \"contour\": [{\"colorbar\": {\"outlinewidth\": 0, \"ticks\": \"\"}, \"colorscale\": [[0.0, \"#0d0887\"], [0.1111111111111111, \"#46039f\"], [0.2222222222222222, \"#7201a8\"], [0.3333333333333333, \"#9c179e\"], [0.4444444444444444, \"#bd3786\"], [0.5555555555555556, \"#d8576b\"], [0.6666666666666666, \"#ed7953\"], [0.7777777777777778, \"#fb9f3a\"], [0.8888888888888888, \"#fdca26\"], [1.0, \"#f0f921\"]], \"type\": \"contour\"}], \"contourcarpet\": [{\"colorbar\": {\"outlinewidth\": 0, \"ticks\": \"\"}, \"type\": \"contourcarpet\"}], \"heatmap\": [{\"colorbar\": {\"outlinewidth\": 0, \"ticks\": \"\"}, \"colorscale\": [[0.0, \"#0d0887\"], [0.1111111111111111, \"#46039f\"], [0.2222222222222222, \"#7201a8\"], [0.3333333333333333, \"#9c179e\"], [0.4444444444444444, \"#bd3786\"], [0.5555555555555556, \"#d8576b\"], [0.6666666666666666, \"#ed7953\"], [0.7777777777777778, \"#fb9f3a\"], [0.8888888888888888, \"#fdca26\"], [1.0, \"#f0f921\"]], \"type\": \"heatmap\"}], \"heatmapgl\": [{\"colorbar\": {\"outlinewidth\": 0, \"ticks\": \"\"}, \"colorscale\": [[0.0, \"#0d0887\"], [0.1111111111111111, \"#46039f\"], [0.2222222222222222, \"#7201a8\"], [0.3333333333333333, \"#9c179e\"], [0.4444444444444444, \"#bd3786\"], [0.5555555555555556, \"#d8576b\"], [0.6666666666666666, \"#ed7953\"], [0.7777777777777778, \"#fb9f3a\"], [0.8888888888888888, \"#fdca26\"], [1.0, \"#f0f921\"]], \"type\": \"heatmapgl\"}], \"histogram\": [{\"marker\": {\"colorbar\": {\"outlinewidth\": 0, \"ticks\": \"\"}}, \"type\": \"histogram\"}], \"histogram2d\": [{\"colorbar\": {\"outlinewidth\": 0, \"ticks\": \"\"}, \"colorscale\": [[0.0, \"#0d0887\"], [0.1111111111111111, \"#46039f\"], [0.2222222222222222, \"#7201a8\"], [0.3333333333333333, \"#9c179e\"], [0.4444444444444444, \"#bd3786\"], [0.5555555555555556, \"#d8576b\"], [0.6666666666666666, \"#ed7953\"], [0.7777777777777778, \"#fb9f3a\"], [0.8888888888888888, \"#fdca26\"], [1.0, \"#f0f921\"]], \"type\": \"histogram2d\"}], \"histogram2dcontour\": [{\"colorbar\": {\"outlinewidth\": 0, \"ticks\": \"\"}, \"colorscale\": [[0.0, \"#0d0887\"], [0.1111111111111111, \"#46039f\"], [0.2222222222222222, \"#7201a8\"], [0.3333333333333333, \"#9c179e\"], [0.4444444444444444, \"#bd3786\"], [0.5555555555555556, \"#d8576b\"], [0.6666666666666666, \"#ed7953\"], [0.7777777777777778, \"#fb9f3a\"], [0.8888888888888888, \"#fdca26\"], [1.0, \"#f0f921\"]], \"type\": \"histogram2dcontour\"}], \"mesh3d\": [{\"colorbar\": {\"outlinewidth\": 0, \"ticks\": \"\"}, \"type\": \"mesh3d\"}], \"parcoords\": [{\"line\": {\"colorbar\": {\"outlinewidth\": 0, \"ticks\": \"\"}}, \"type\": \"parcoords\"}], \"pie\": [{\"automargin\": true, \"type\": \"pie\"}], \"scatter\": [{\"marker\": {\"colorbar\": {\"outlinewidth\": 0, \"ticks\": \"\"}}, \"type\": \"scatter\"}], \"scatter3d\": [{\"line\": {\"colorbar\": {\"outlinewidth\": 0, \"ticks\": \"\"}}, \"marker\": {\"colorbar\": {\"outlinewidth\": 0, \"ticks\": \"\"}}, \"type\": \"scatter3d\"}], \"scattercarpet\": [{\"marker\": {\"colorbar\": {\"outlinewidth\": 0, \"ticks\": \"\"}}, \"type\": \"scattercarpet\"}], \"scattergeo\": [{\"marker\": {\"colorbar\": {\"outlinewidth\": 0, \"ticks\": \"\"}}, \"type\": \"scattergeo\"}], \"scattergl\": [{\"marker\": {\"colorbar\": {\"outlinewidth\": 0, \"ticks\": \"\"}}, \"type\": \"scattergl\"}], \"scattermapbox\": [{\"marker\": {\"colorbar\": {\"outlinewidth\": 0, \"ticks\": \"\"}}, \"type\": \"scattermapbox\"}], \"scatterpolar\": [{\"marker\": {\"colorbar\": {\"outlinewidth\": 0, \"ticks\": \"\"}}, \"type\": \"scatterpolar\"}], \"scatterpolargl\": [{\"marker\": {\"colorbar\": {\"outlinewidth\": 0, \"ticks\": \"\"}}, \"type\": \"scatterpolargl\"}], \"scatterternary\": [{\"marker\": {\"colorbar\": {\"outlinewidth\": 0, \"ticks\": \"\"}}, \"type\": \"scatterternary\"}], \"surface\": [{\"colorbar\": {\"outlinewidth\": 0, \"ticks\": \"\"}, \"colorscale\": [[0.0, \"#0d0887\"], [0.1111111111111111, \"#46039f\"], [0.2222222222222222, \"#7201a8\"], [0.3333333333333333, \"#9c179e\"], [0.4444444444444444, \"#bd3786\"], [0.5555555555555556, \"#d8576b\"], [0.6666666666666666, \"#ed7953\"], [0.7777777777777778, \"#fb9f3a\"], [0.8888888888888888, \"#fdca26\"], [1.0, \"#f0f921\"]], \"type\": \"surface\"}], \"table\": [{\"cells\": {\"fill\": {\"color\": \"#EBF0F8\"}, \"line\": {\"color\": \"white\"}}, \"header\": {\"fill\": {\"color\": \"#C8D4E3\"}, \"line\": {\"color\": \"white\"}}, \"type\": \"table\"}]}, \"layout\": {\"annotationdefaults\": {\"arrowcolor\": \"#2a3f5f\", \"arrowhead\": 0, \"arrowwidth\": 1}, \"coloraxis\": {\"colorbar\": {\"outlinewidth\": 0, \"ticks\": \"\"}}, \"colorscale\": {\"diverging\": [[0, \"#8e0152\"], [0.1, \"#c51b7d\"], [0.2, \"#de77ae\"], [0.3, \"#f1b6da\"], [0.4, \"#fde0ef\"], [0.5, \"#f7f7f7\"], [0.6, \"#e6f5d0\"], [0.7, \"#b8e186\"], [0.8, \"#7fbc41\"], [0.9, \"#4d9221\"], [1, \"#276419\"]], \"sequential\": [[0.0, \"#0d0887\"], [0.1111111111111111, \"#46039f\"], [0.2222222222222222, \"#7201a8\"], [0.3333333333333333, \"#9c179e\"], [0.4444444444444444, \"#bd3786\"], [0.5555555555555556, \"#d8576b\"], [0.6666666666666666, \"#ed7953\"], [0.7777777777777778, \"#fb9f3a\"], [0.8888888888888888, \"#fdca26\"], [1.0, \"#f0f921\"]], \"sequentialminus\": [[0.0, \"#0d0887\"], [0.1111111111111111, \"#46039f\"], [0.2222222222222222, \"#7201a8\"], [0.3333333333333333, \"#9c179e\"], [0.4444444444444444, \"#bd3786\"], [0.5555555555555556, \"#d8576b\"], [0.6666666666666666, \"#ed7953\"], [0.7777777777777778, \"#fb9f3a\"], [0.8888888888888888, \"#fdca26\"], [1.0, \"#f0f921\"]]}, \"colorway\": [\"#636efa\", \"#EF553B\", \"#00cc96\", \"#ab63fa\", \"#FFA15A\", \"#19d3f3\", \"#FF6692\", \"#B6E880\", \"#FF97FF\", \"#FECB52\"], \"font\": {\"color\": \"#2a3f5f\"}, \"geo\": {\"bgcolor\": \"white\", \"lakecolor\": \"white\", \"landcolor\": \"#E5ECF6\", \"showlakes\": true, \"showland\": true, \"subunitcolor\": \"white\"}, \"hoverlabel\": {\"align\": \"left\"}, \"hovermode\": \"closest\", \"mapbox\": {\"style\": \"light\"}, \"paper_bgcolor\": \"white\", \"plot_bgcolor\": \"#E5ECF6\", \"polar\": {\"angularaxis\": {\"gridcolor\": \"white\", \"linecolor\": \"white\", \"ticks\": \"\"}, \"bgcolor\": \"#E5ECF6\", \"radialaxis\": {\"gridcolor\": \"white\", \"linecolor\": \"white\", \"ticks\": \"\"}}, \"scene\": {\"xaxis\": {\"backgroundcolor\": \"#E5ECF6\", \"gridcolor\": \"white\", \"gridwidth\": 2, \"linecolor\": \"white\", \"showbackground\": true, \"ticks\": \"\", \"zerolinecolor\": \"white\"}, \"yaxis\": {\"backgroundcolor\": \"#E5ECF6\", \"gridcolor\": \"white\", \"gridwidth\": 2, \"linecolor\": \"white\", \"showbackground\": true, \"ticks\": \"\", \"zerolinecolor\": \"white\"}, \"zaxis\": {\"backgroundcolor\": \"#E5ECF6\", \"gridcolor\": \"white\", \"gridwidth\": 2, \"linecolor\": \"white\", \"showbackground\": true, \"ticks\": \"\", \"zerolinecolor\": \"white\"}}, \"shapedefaults\": {\"line\": {\"color\": \"#2a3f5f\"}}, \"ternary\": {\"aaxis\": {\"gridcolor\": \"white\", \"linecolor\": \"white\", \"ticks\": \"\"}, \"baxis\": {\"gridcolor\": \"white\", \"linecolor\": \"white\", \"ticks\": \"\"}, \"bgcolor\": \"#E5ECF6\", \"caxis\": {\"gridcolor\": \"white\", \"linecolor\": \"white\", \"ticks\": \"\"}}, \"title\": {\"x\": 0.05}, \"xaxis\": {\"automargin\": true, \"gridcolor\": \"white\", \"linecolor\": \"white\", \"ticks\": \"\", \"title\": {\"standoff\": 15}, \"zerolinecolor\": \"white\", \"zerolinewidth\": 2}, \"yaxis\": {\"automargin\": true, \"gridcolor\": \"white\", \"linecolor\": \"white\", \"ticks\": \"\", \"title\": {\"standoff\": 15}, \"zerolinecolor\": \"white\", \"zerolinewidth\": 2}}}, \"title\": {\"text\": \"Learning Curves\"}, \"xaxis\": {\"anchor\": \"y\", \"domain\": [0.0, 1.0], \"title\": {\"text\": \"Epochs\"}}, \"xaxis2\": {\"anchor\": \"y2\", \"domain\": [0.0, 1.0], \"title\": {\"text\": \"Epochs\"}}, \"xaxis3\": {\"anchor\": \"y3\", \"domain\": [0.0, 1.0], \"title\": {\"text\": \"Epochs\"}}, \"yaxis\": {\"anchor\": \"x\", \"domain\": [0.7777777777777778, 1.0], \"title\": {\"text\": \"Loss\"}}, \"yaxis2\": {\"anchor\": \"x2\", \"domain\": [0.3888888888888889, 0.6111111111111112], \"title\": {\"text\": \"Recall\"}}, \"yaxis3\": {\"anchor\": \"x3\", \"domain\": [0.0, 0.22222222222222224], \"title\": {\"text\": \"AUC\"}}},\n",
              "                        {\"responsive\": true}\n",
              "                    ).then(function(){\n",
              "                            \n",
              "var gd = document.getElementById('996b98d7-d083-4ad4-86ef-cc0ec2aa03be');\n",
              "var x = new MutationObserver(function (mutations, observer) {{\n",
              "        var display = window.getComputedStyle(gd).display;\n",
              "        if (!display || display === 'none') {{\n",
              "            console.log([gd, 'removed!']);\n",
              "            Plotly.purge(gd);\n",
              "            observer.disconnect();\n",
              "        }}\n",
              "}});\n",
              "\n",
              "// Listen for the removal of the full notebook cells\n",
              "var notebookContainer = gd.closest('#notebook-container');\n",
              "if (notebookContainer) {{\n",
              "    x.observe(notebookContainer, {childList: true});\n",
              "}}\n",
              "\n",
              "// Listen for the clearing of the current output cell\n",
              "var outputEl = gd.closest('.output');\n",
              "if (outputEl) {{\n",
              "    x.observe(outputEl, {childList: true});\n",
              "}}\n",
              "\n",
              "                        })\n",
              "                };\n",
              "                \n",
              "            </script>\n",
              "        </div>\n",
              "</body>\n",
              "</html>"
            ]
          },
          "metadata": {}
        }
      ]
    },
    {
      "cell_type": "code",
      "source": [
        "plot_learning_curves(['EfficientNetV2-B1', history_efficientnet])"
      ],
      "metadata": {
        "colab": {
          "base_uri": "https://localhost:8080/",
          "height": 1000
        },
        "id": "RlScmdIn6c1U",
        "outputId": "3432e7b7-37c4-476c-f42f-89dd88547bb8"
      },
      "execution_count": null,
      "outputs": [
        {
          "output_type": "display_data",
          "data": {
            "text/html": [
              "<html>\n",
              "<head><meta charset=\"utf-8\" /></head>\n",
              "<body>\n",
              "    <div>\n",
              "            <script src=\"https://cdnjs.cloudflare.com/ajax/libs/mathjax/2.7.5/MathJax.js?config=TeX-AMS-MML_SVG\"></script><script type=\"text/javascript\">if (window.MathJax) {MathJax.Hub.Config({SVG: {font: \"STIX-Web\"}});}</script>\n",
              "                <script type=\"text/javascript\">window.PlotlyConfig = {MathJaxConfig: 'local'};</script>\n",
              "        <script src=\"https://cdn.plot.ly/plotly-latest.min.js\"></script>    \n",
              "            <div id=\"046d48d8-8d3b-4c46-9c49-3608be5810ca\" class=\"plotly-graph-div\" style=\"height:1500px; width:100%;\"></div>\n",
              "            <script type=\"text/javascript\">\n",
              "                \n",
              "                    window.PLOTLYENV=window.PLOTLYENV || {};\n",
              "                    \n",
              "                if (document.getElementById(\"046d48d8-8d3b-4c46-9c49-3608be5810ca\")) {\n",
              "                    Plotly.newPlot(\n",
              "                        '046d48d8-8d3b-4c46-9c49-3608be5810ca',\n",
              "                        [{\"name\": \"EfficientNetV2-B1 train\", \"type\": \"scatter\", \"x\": [1, 2, 3, 4, 5, 6, 7, 8, 9, 10, 11, 12, 13, 14, 15, 16, 17, 18, 19, 20, 21, 22, 23, 24, 25, 26, 27, 28, 29, 30, 31, 32, 33, 34, 35, 36, 37, 38, 39, 40, 41, 42, 43, 44, 45, 46, 47, 48, 49, 50], \"xaxis\": \"x\", \"y\": [0.34317514300346375, 0.2507573962211609, 0.22331780195236206, 0.2045493870973587, 0.20025749504566193, 0.19250939786434174, 0.18132929503917694, 0.1762348860502243, 0.1708115041255951, 0.16914114356040955, 0.16066986322402954, 0.16561728715896606, 0.15572157502174377, 0.1585148274898529, 0.15831704437732697, 0.15368299186229706, 0.1540709286928177, 0.15407095849514008, 0.15065674483776093, 0.1490403562784195, 0.14789621531963348, 0.1435166895389557, 0.1445726752281189, 0.14358577132225037, 0.14698663353919983, 0.13884244859218597, 0.1419975459575653, 0.13545869290828705, 0.14414125680923462, 0.1394181251525879, 0.1385774314403534, 0.13939575850963593, 0.1375979334115982, 0.14201486110687256, 0.13851244747638702, 0.13799281418323517, 0.138031467795372, 0.1306162029504776, 0.1305275559425354, 0.1306438148021698, 0.13347847759723663, 0.1325692981481552, 0.12843285501003265, 0.1278349757194519, 0.130223348736763, 0.12364103645086288, 0.12290455400943756, 0.12054988741874695, 0.12829121947288513, 0.12474395334720612], \"yaxis\": \"y\"}, {\"name\": \"EfficientNetV2-B1 val\", \"type\": \"scatter\", \"x\": [1, 2, 3, 4, 5, 6, 7, 8, 9, 10, 11, 12, 13, 14, 15, 16, 17, 18, 19, 20, 21, 22, 23, 24, 25, 26, 27, 28, 29, 30, 31, 32, 33, 34, 35, 36, 37, 38, 39, 40, 41, 42, 43, 44, 45, 46, 47, 48, 49, 50], \"xaxis\": \"x\", \"y\": [0.2534310817718506, 0.21792955696582794, 0.1962398737668991, 0.19437111914157867, 0.17917178571224213, 0.17216815054416656, 0.16460436582565308, 0.15984004735946655, 0.16607366502285004, 0.15263643860816956, 0.1499996781349182, 0.15101774036884308, 0.1458565890789032, 0.14864180982112885, 0.16087575256824493, 0.14275424182415009, 0.14161299169063568, 0.1460123360157013, 0.14124827086925507, 0.14168062806129456, 0.13537195324897766, 0.13792796432971954, 0.13282932341098785, 0.13351111114025116, 0.1328137367963791, 0.1285461038351059, 0.12858523428440094, 0.12748362123966217, 0.1286369413137436, 0.1291523575782776, 0.14028418064117432, 0.12678569555282593, 0.12534715235233307, 0.12737739086151123, 0.12615402042865753, 0.12722304463386536, 0.12297839671373367, 0.12282558530569077, 0.1278093010187149, 0.12613995373249054, 0.1265845149755478, 0.12718360126018524, 0.12574033439159393, 0.12612542510032654, 0.12421112507581711, 0.12357363104820251, 0.12293049693107605, 0.12289435416460037, 0.1228373646736145, 0.12293454259634018], \"yaxis\": \"y\"}, {\"name\": \"EfficientNetV2-B1 train\", \"type\": \"scatter\", \"x\": [1, 2, 3, 4, 5, 6, 7, 8, 9, 10, 11, 12, 13, 14, 15, 16, 17, 18, 19, 20, 21, 22, 23, 24, 25, 26, 27, 28, 29, 30, 31, 32, 33, 34, 35, 36, 37, 38, 39, 40, 41, 42, 43, 44, 45, 46, 47, 48, 49, 50], \"xaxis\": \"x2\", \"y\": [0.5402696132659912, 0.7264477014541626, 0.7610198855400085, 0.7830596566200256, 0.7951598763465881, 0.8068280220031738, 0.8107173442840576, 0.8236819505691528, 0.8284355998039246, 0.830596387386322, 0.8336214423179626, 0.8340535759925842, 0.8452895283699036, 0.8478824496269226, 0.8375108242034912, 0.8457217216491699, 0.8487467765808105, 0.8522039651870728, 0.8582541346549988, 0.8517718315124512, 0.8560933470726013, 0.8638721108436584, 0.8599827289581299, 0.8656007051467896, 0.8578219413757324, 0.8690578937530518, 0.8699222207069397, 0.8707864880561829, 0.8664649724960327, 0.8690578937530518, 0.8660328388214111, 0.8677614331245422, 0.8677614331245422, 0.8612791895866394, 0.8707864880561829, 0.8712186813354492, 0.8729472756385803, 0.8764045238494873, 0.882022500038147, 0.877700924873352, 0.8712186813354492, 0.8768366575241089, 0.8794295787811279, 0.8768366575241089, 0.8863440155982971, 0.8872082829475403, 0.8859118223190308, 0.8893690705299377, 0.8764045238494873, 0.87856525182724], \"yaxis\": \"y2\"}, {\"name\": \"EfficientNetV2-B1 val\", \"type\": \"scatter\", \"x\": [1, 2, 3, 4, 5, 6, 7, 8, 9, 10, 11, 12, 13, 14, 15, 16, 17, 18, 19, 20, 21, 22, 23, 24, 25, 26, 27, 28, 29, 30, 31, 32, 33, 34, 35, 36, 37, 38, 39, 40, 41, 42, 43, 44, 45, 46, 47, 48, 49, 50], \"xaxis\": \"x2\", \"y\": [0.6925734281539917, 0.7823834419250488, 0.7823834419250488, 0.7461140155792236, 0.787564754486084, 0.7996546030044556, 0.8307426571846008, 0.851468026638031, 0.8842832446098328, 0.8549222946166992, 0.8652849793434143, 0.867012083530426, 0.8428324460983276, 0.8963730335235596, 0.9170984625816345, 0.8566493988037109, 0.8393782377243042, 0.8203799724578857, 0.8756476640701294, 0.8290155529975891, 0.8791018724441528, 0.8307426571846008, 0.8428324460983276, 0.8860103487968445, 0.8981001973152161, 0.8652849793434143, 0.8860103487968445, 0.8531951904296875, 0.8566493988037109, 0.8860103487968445, 0.8203799724578857, 0.8549222946166992, 0.8652849793434143, 0.8946459293365479, 0.8756476640701294, 0.8981001973152161, 0.882556140422821, 0.8842832446098328, 0.8376511335372925, 0.8566493988037109, 0.8652849793434143, 0.8860103487968445, 0.867012083530426, 0.8911917209625244, 0.8704662919044495, 0.8687391877174377, 0.8773747682571411, 0.8756476640701294, 0.8756476640701294, 0.872193455696106], \"yaxis\": \"y2\"}, {\"name\": \"EfficientNetV2-B1 train\", \"type\": \"scatter\", \"x\": [1, 2, 3, 4, 5, 6, 7, 8, 9, 10, 11, 12, 13, 14, 15, 16, 17, 18, 19, 20, 21, 22, 23, 24, 25, 26, 27, 28, 29, 30, 31, 32, 33, 34, 35, 36, 37, 38, 39, 40, 41, 42, 43, 44, 45, 46, 47, 48, 49, 50], \"xaxis\": \"x3\", \"y\": [0.890993595123291, 0.9445412158966064, 0.9578214287757874, 0.9645230770111084, 0.9652342200279236, 0.9679733514785767, 0.971625804901123, 0.9734823703765869, 0.9751368761062622, 0.9749434590339661, 0.9788097739219666, 0.976546049118042, 0.9794214963912964, 0.9775528311729431, 0.9785424470901489, 0.9796702861785889, 0.9797387719154358, 0.9792571663856506, 0.9807896614074707, 0.9808383584022522, 0.9800547361373901, 0.982214629650116, 0.9812373518943787, 0.9820478558540344, 0.980970025062561, 0.983083188533783, 0.9815968871116638, 0.9847269654273987, 0.9814724922180176, 0.9834535717964172, 0.9838617444038391, 0.982668399810791, 0.9832736849784851, 0.9825030565261841, 0.9835649728775024, 0.9832664728164673, 0.9831111431121826, 0.9854795932769775, 0.9853792190551758, 0.9856249690055847, 0.9836588501930237, 0.9847822189331055, 0.985874354839325, 0.9856292009353638, 0.985187828540802, 0.9865112900733948, 0.9866439700126648, 0.9875567555427551, 0.9852915406227112, 0.9867948889732361], \"yaxis\": \"y3\"}, {\"name\": \"EfficientNetV2-B1val\", \"type\": \"scatter\", \"x\": [1, 2, 3, 4, 5, 6, 7, 8, 9, 10, 11, 12, 13, 14, 15, 16, 17, 18, 19, 20, 21, 22, 23, 24, 25, 26, 27, 28, 29, 30, 31, 32, 33, 34, 35, 36, 37, 38, 39, 40, 41, 42, 43, 44, 45, 46, 47, 48, 49, 50], \"xaxis\": \"x3\", \"y\": [0.9526811838150024, 0.9655699133872986, 0.9719547629356384, 0.9722411632537842, 0.9759088158607483, 0.977414608001709, 0.979081392288208, 0.9803542494773865, 0.9806147217750549, 0.9819409251213074, 0.9822560548782349, 0.9823147654533386, 0.9832138419151306, 0.9839625954627991, 0.9839910864830017, 0.9835251569747925, 0.9840164184570312, 0.9839847087860107, 0.9841843843460083, 0.9844273328781128, 0.9850637912750244, 0.9851972460746765, 0.9858644008636475, 0.9863207340240479, 0.9861634969711304, 0.986479640007019, 0.9864932894706726, 0.9868650436401367, 0.9866289496421814, 0.9861857891082764, 0.9854867458343506, 0.9867174029350281, 0.9873902201652527, 0.9869857430458069, 0.9864044785499573, 0.9867618680000305, 0.9872896671295166, 0.9870598316192627, 0.9864853024482727, 0.9862428903579712, 0.9860740303993225, 0.9863111972808838, 0.9860274195671082, 0.9867256879806519, 0.9863260388374329, 0.9864912033081055, 0.9869465827941895, 0.9869650602340698, 0.9870121479034424, 0.9869884252548218], \"yaxis\": \"y3\"}],\n",
              "                        {\"annotations\": [{\"font\": {\"size\": 16}, \"showarrow\": false, \"text\": \"Loss\", \"x\": 0.5, \"xanchor\": \"center\", \"xref\": \"paper\", \"y\": 1.0, \"yanchor\": \"bottom\", \"yref\": \"paper\"}, {\"font\": {\"size\": 16}, \"showarrow\": false, \"text\": \"Recall\", \"x\": 0.5, \"xanchor\": \"center\", \"xref\": \"paper\", \"y\": 0.6111111111111112, \"yanchor\": \"bottom\", \"yref\": \"paper\"}, {\"font\": {\"size\": 16}, \"showarrow\": false, \"text\": \"AUC\", \"x\": 0.5, \"xanchor\": \"center\", \"xref\": \"paper\", \"y\": 0.22222222222222224, \"yanchor\": \"bottom\", \"yref\": \"paper\"}], \"height\": 1500, \"template\": {\"data\": {\"bar\": [{\"error_x\": {\"color\": \"#2a3f5f\"}, \"error_y\": {\"color\": \"#2a3f5f\"}, \"marker\": {\"line\": {\"color\": \"#E5ECF6\", \"width\": 0.5}}, \"type\": \"bar\"}], \"barpolar\": [{\"marker\": {\"line\": {\"color\": \"#E5ECF6\", \"width\": 0.5}}, \"type\": \"barpolar\"}], \"carpet\": [{\"aaxis\": {\"endlinecolor\": \"#2a3f5f\", \"gridcolor\": \"white\", \"linecolor\": \"white\", \"minorgridcolor\": \"white\", \"startlinecolor\": \"#2a3f5f\"}, \"baxis\": {\"endlinecolor\": \"#2a3f5f\", \"gridcolor\": \"white\", \"linecolor\": \"white\", \"minorgridcolor\": \"white\", \"startlinecolor\": \"#2a3f5f\"}, \"type\": \"carpet\"}], \"choropleth\": [{\"colorbar\": {\"outlinewidth\": 0, \"ticks\": \"\"}, \"type\": \"choropleth\"}], \"contour\": [{\"colorbar\": {\"outlinewidth\": 0, \"ticks\": \"\"}, \"colorscale\": [[0.0, \"#0d0887\"], [0.1111111111111111, \"#46039f\"], [0.2222222222222222, \"#7201a8\"], [0.3333333333333333, \"#9c179e\"], [0.4444444444444444, \"#bd3786\"], [0.5555555555555556, \"#d8576b\"], [0.6666666666666666, \"#ed7953\"], [0.7777777777777778, \"#fb9f3a\"], [0.8888888888888888, \"#fdca26\"], [1.0, \"#f0f921\"]], \"type\": \"contour\"}], \"contourcarpet\": [{\"colorbar\": {\"outlinewidth\": 0, \"ticks\": \"\"}, \"type\": \"contourcarpet\"}], \"heatmap\": [{\"colorbar\": {\"outlinewidth\": 0, \"ticks\": \"\"}, \"colorscale\": [[0.0, \"#0d0887\"], [0.1111111111111111, \"#46039f\"], [0.2222222222222222, \"#7201a8\"], [0.3333333333333333, \"#9c179e\"], [0.4444444444444444, \"#bd3786\"], [0.5555555555555556, \"#d8576b\"], [0.6666666666666666, \"#ed7953\"], [0.7777777777777778, \"#fb9f3a\"], [0.8888888888888888, \"#fdca26\"], [1.0, \"#f0f921\"]], \"type\": \"heatmap\"}], \"heatmapgl\": [{\"colorbar\": {\"outlinewidth\": 0, \"ticks\": \"\"}, \"colorscale\": [[0.0, \"#0d0887\"], [0.1111111111111111, \"#46039f\"], [0.2222222222222222, \"#7201a8\"], [0.3333333333333333, \"#9c179e\"], [0.4444444444444444, \"#bd3786\"], [0.5555555555555556, \"#d8576b\"], [0.6666666666666666, \"#ed7953\"], [0.7777777777777778, \"#fb9f3a\"], [0.8888888888888888, \"#fdca26\"], [1.0, \"#f0f921\"]], \"type\": \"heatmapgl\"}], \"histogram\": [{\"marker\": {\"colorbar\": {\"outlinewidth\": 0, \"ticks\": \"\"}}, \"type\": \"histogram\"}], \"histogram2d\": [{\"colorbar\": {\"outlinewidth\": 0, \"ticks\": \"\"}, \"colorscale\": [[0.0, \"#0d0887\"], [0.1111111111111111, \"#46039f\"], [0.2222222222222222, \"#7201a8\"], [0.3333333333333333, \"#9c179e\"], [0.4444444444444444, \"#bd3786\"], [0.5555555555555556, \"#d8576b\"], [0.6666666666666666, \"#ed7953\"], [0.7777777777777778, \"#fb9f3a\"], [0.8888888888888888, \"#fdca26\"], [1.0, \"#f0f921\"]], \"type\": \"histogram2d\"}], \"histogram2dcontour\": [{\"colorbar\": {\"outlinewidth\": 0, \"ticks\": \"\"}, \"colorscale\": [[0.0, \"#0d0887\"], [0.1111111111111111, \"#46039f\"], [0.2222222222222222, \"#7201a8\"], [0.3333333333333333, \"#9c179e\"], [0.4444444444444444, \"#bd3786\"], [0.5555555555555556, \"#d8576b\"], [0.6666666666666666, \"#ed7953\"], [0.7777777777777778, \"#fb9f3a\"], [0.8888888888888888, \"#fdca26\"], [1.0, \"#f0f921\"]], \"type\": \"histogram2dcontour\"}], \"mesh3d\": [{\"colorbar\": {\"outlinewidth\": 0, \"ticks\": \"\"}, \"type\": \"mesh3d\"}], \"parcoords\": [{\"line\": {\"colorbar\": {\"outlinewidth\": 0, \"ticks\": \"\"}}, \"type\": \"parcoords\"}], \"pie\": [{\"automargin\": true, \"type\": \"pie\"}], \"scatter\": [{\"marker\": {\"colorbar\": {\"outlinewidth\": 0, \"ticks\": \"\"}}, \"type\": \"scatter\"}], \"scatter3d\": [{\"line\": {\"colorbar\": {\"outlinewidth\": 0, \"ticks\": \"\"}}, \"marker\": {\"colorbar\": {\"outlinewidth\": 0, \"ticks\": \"\"}}, \"type\": \"scatter3d\"}], \"scattercarpet\": [{\"marker\": {\"colorbar\": {\"outlinewidth\": 0, \"ticks\": \"\"}}, \"type\": \"scattercarpet\"}], \"scattergeo\": [{\"marker\": {\"colorbar\": {\"outlinewidth\": 0, \"ticks\": \"\"}}, \"type\": \"scattergeo\"}], \"scattergl\": [{\"marker\": {\"colorbar\": {\"outlinewidth\": 0, \"ticks\": \"\"}}, \"type\": \"scattergl\"}], \"scattermapbox\": [{\"marker\": {\"colorbar\": {\"outlinewidth\": 0, \"ticks\": \"\"}}, \"type\": \"scattermapbox\"}], \"scatterpolar\": [{\"marker\": {\"colorbar\": {\"outlinewidth\": 0, \"ticks\": \"\"}}, \"type\": \"scatterpolar\"}], \"scatterpolargl\": [{\"marker\": {\"colorbar\": {\"outlinewidth\": 0, \"ticks\": \"\"}}, \"type\": \"scatterpolargl\"}], \"scatterternary\": [{\"marker\": {\"colorbar\": {\"outlinewidth\": 0, \"ticks\": \"\"}}, \"type\": \"scatterternary\"}], \"surface\": [{\"colorbar\": {\"outlinewidth\": 0, \"ticks\": \"\"}, \"colorscale\": [[0.0, \"#0d0887\"], [0.1111111111111111, \"#46039f\"], [0.2222222222222222, \"#7201a8\"], [0.3333333333333333, \"#9c179e\"], [0.4444444444444444, \"#bd3786\"], [0.5555555555555556, \"#d8576b\"], [0.6666666666666666, \"#ed7953\"], [0.7777777777777778, \"#fb9f3a\"], [0.8888888888888888, \"#fdca26\"], [1.0, \"#f0f921\"]], \"type\": \"surface\"}], \"table\": [{\"cells\": {\"fill\": {\"color\": \"#EBF0F8\"}, \"line\": {\"color\": \"white\"}}, \"header\": {\"fill\": {\"color\": \"#C8D4E3\"}, \"line\": {\"color\": \"white\"}}, \"type\": \"table\"}]}, \"layout\": {\"annotationdefaults\": {\"arrowcolor\": \"#2a3f5f\", \"arrowhead\": 0, \"arrowwidth\": 1}, \"coloraxis\": {\"colorbar\": {\"outlinewidth\": 0, \"ticks\": \"\"}}, \"colorscale\": {\"diverging\": [[0, \"#8e0152\"], [0.1, \"#c51b7d\"], [0.2, \"#de77ae\"], [0.3, \"#f1b6da\"], [0.4, \"#fde0ef\"], [0.5, \"#f7f7f7\"], [0.6, \"#e6f5d0\"], [0.7, \"#b8e186\"], [0.8, \"#7fbc41\"], [0.9, \"#4d9221\"], [1, \"#276419\"]], \"sequential\": [[0.0, \"#0d0887\"], [0.1111111111111111, \"#46039f\"], [0.2222222222222222, \"#7201a8\"], [0.3333333333333333, \"#9c179e\"], [0.4444444444444444, \"#bd3786\"], [0.5555555555555556, \"#d8576b\"], [0.6666666666666666, \"#ed7953\"], [0.7777777777777778, \"#fb9f3a\"], [0.8888888888888888, \"#fdca26\"], [1.0, \"#f0f921\"]], \"sequentialminus\": [[0.0, \"#0d0887\"], [0.1111111111111111, \"#46039f\"], [0.2222222222222222, \"#7201a8\"], [0.3333333333333333, \"#9c179e\"], [0.4444444444444444, \"#bd3786\"], [0.5555555555555556, \"#d8576b\"], [0.6666666666666666, \"#ed7953\"], [0.7777777777777778, \"#fb9f3a\"], [0.8888888888888888, \"#fdca26\"], [1.0, \"#f0f921\"]]}, \"colorway\": [\"#636efa\", \"#EF553B\", \"#00cc96\", \"#ab63fa\", \"#FFA15A\", \"#19d3f3\", \"#FF6692\", \"#B6E880\", \"#FF97FF\", \"#FECB52\"], \"font\": {\"color\": \"#2a3f5f\"}, \"geo\": {\"bgcolor\": \"white\", \"lakecolor\": \"white\", \"landcolor\": \"#E5ECF6\", \"showlakes\": true, \"showland\": true, \"subunitcolor\": \"white\"}, \"hoverlabel\": {\"align\": \"left\"}, \"hovermode\": \"closest\", \"mapbox\": {\"style\": \"light\"}, \"paper_bgcolor\": \"white\", \"plot_bgcolor\": \"#E5ECF6\", \"polar\": {\"angularaxis\": {\"gridcolor\": \"white\", \"linecolor\": \"white\", \"ticks\": \"\"}, \"bgcolor\": \"#E5ECF6\", \"radialaxis\": {\"gridcolor\": \"white\", \"linecolor\": \"white\", \"ticks\": \"\"}}, \"scene\": {\"xaxis\": {\"backgroundcolor\": \"#E5ECF6\", \"gridcolor\": \"white\", \"gridwidth\": 2, \"linecolor\": \"white\", \"showbackground\": true, \"ticks\": \"\", \"zerolinecolor\": \"white\"}, \"yaxis\": {\"backgroundcolor\": \"#E5ECF6\", \"gridcolor\": \"white\", \"gridwidth\": 2, \"linecolor\": \"white\", \"showbackground\": true, \"ticks\": \"\", \"zerolinecolor\": \"white\"}, \"zaxis\": {\"backgroundcolor\": \"#E5ECF6\", \"gridcolor\": \"white\", \"gridwidth\": 2, \"linecolor\": \"white\", \"showbackground\": true, \"ticks\": \"\", \"zerolinecolor\": \"white\"}}, \"shapedefaults\": {\"line\": {\"color\": \"#2a3f5f\"}}, \"ternary\": {\"aaxis\": {\"gridcolor\": \"white\", \"linecolor\": \"white\", \"ticks\": \"\"}, \"baxis\": {\"gridcolor\": \"white\", \"linecolor\": \"white\", \"ticks\": \"\"}, \"bgcolor\": \"#E5ECF6\", \"caxis\": {\"gridcolor\": \"white\", \"linecolor\": \"white\", \"ticks\": \"\"}}, \"title\": {\"x\": 0.05}, \"xaxis\": {\"automargin\": true, \"gridcolor\": \"white\", \"linecolor\": \"white\", \"ticks\": \"\", \"title\": {\"standoff\": 15}, \"zerolinecolor\": \"white\", \"zerolinewidth\": 2}, \"yaxis\": {\"automargin\": true, \"gridcolor\": \"white\", \"linecolor\": \"white\", \"ticks\": \"\", \"title\": {\"standoff\": 15}, \"zerolinecolor\": \"white\", \"zerolinewidth\": 2}}}, \"title\": {\"text\": \"Learning Curves\"}, \"xaxis\": {\"anchor\": \"y\", \"domain\": [0.0, 1.0], \"title\": {\"text\": \"Epochs\"}}, \"xaxis2\": {\"anchor\": \"y2\", \"domain\": [0.0, 1.0], \"title\": {\"text\": \"Epochs\"}}, \"xaxis3\": {\"anchor\": \"y3\", \"domain\": [0.0, 1.0], \"title\": {\"text\": \"Epochs\"}}, \"yaxis\": {\"anchor\": \"x\", \"domain\": [0.7777777777777778, 1.0], \"title\": {\"text\": \"Loss\"}}, \"yaxis2\": {\"anchor\": \"x2\", \"domain\": [0.3888888888888889, 0.6111111111111112], \"title\": {\"text\": \"Recall\"}}, \"yaxis3\": {\"anchor\": \"x3\", \"domain\": [0.0, 0.22222222222222224], \"title\": {\"text\": \"AUC\"}}},\n",
              "                        {\"responsive\": true}\n",
              "                    ).then(function(){\n",
              "                            \n",
              "var gd = document.getElementById('046d48d8-8d3b-4c46-9c49-3608be5810ca');\n",
              "var x = new MutationObserver(function (mutations, observer) {{\n",
              "        var display = window.getComputedStyle(gd).display;\n",
              "        if (!display || display === 'none') {{\n",
              "            console.log([gd, 'removed!']);\n",
              "            Plotly.purge(gd);\n",
              "            observer.disconnect();\n",
              "        }}\n",
              "}});\n",
              "\n",
              "// Listen for the removal of the full notebook cells\n",
              "var notebookContainer = gd.closest('#notebook-container');\n",
              "if (notebookContainer) {{\n",
              "    x.observe(notebookContainer, {childList: true});\n",
              "}}\n",
              "\n",
              "// Listen for the clearing of the current output cell\n",
              "var outputEl = gd.closest('.output');\n",
              "if (outputEl) {{\n",
              "    x.observe(outputEl, {childList: true});\n",
              "}}\n",
              "\n",
              "                        })\n",
              "                };\n",
              "                \n",
              "            </script>\n",
              "        </div>\n",
              "</body>\n",
              "</html>"
            ]
          },
          "metadata": {}
        }
      ]
    },
    {
      "cell_type": "code",
      "metadata": {
        "execution": {
          "iopub.status.busy": "2021-10-21T05:18:37.251247Z",
          "iopub.execute_input": "2021-10-21T05:18:37.251495Z",
          "iopub.status.idle": "2021-10-21T05:18:49.077263Z",
          "shell.execute_reply.started": "2021-10-21T05:18:37.251467Z",
          "shell.execute_reply": "2021-10-21T05:18:49.076567Z"
        },
        "trusted": true,
        "id": "K6JF6na14kBT",
        "colab": {
          "base_uri": "https://localhost:8080/",
          "height": 542
        },
        "outputId": "8e3a2635-96bf-4e20-cc32-d9a669fff217"
      },
      "source": [
        "test_test_gen.reset()\n",
        "pred = model.predict(test_test_gen)\n",
        "test_test_gen.reset()\n",
        "pred_eff = model_efficientnet.predict(test_test_gen)\n",
        "test_test_gen.reset()\n",
        "pred_res = model_resnet.predict(test_test_gen)\n",
        "\n",
        "y_true = [0 if x == 'Negative' else 1 for x in test['TARGET']]\n",
        "\n",
        "plot_roc_curve(['Baseline', y_true, pred],['EfficientNetV2-B1', y_true, pred_eff], ['ResNetV2-50', y_true, pred_res])"
      ],
      "execution_count": null,
      "outputs": [
        {
          "output_type": "display_data",
          "data": {
            "text/html": [
              "<html>\n",
              "<head><meta charset=\"utf-8\" /></head>\n",
              "<body>\n",
              "    <div>\n",
              "            <script src=\"https://cdnjs.cloudflare.com/ajax/libs/mathjax/2.7.5/MathJax.js?config=TeX-AMS-MML_SVG\"></script><script type=\"text/javascript\">if (window.MathJax) {MathJax.Hub.Config({SVG: {font: \"STIX-Web\"}});}</script>\n",
              "                <script type=\"text/javascript\">window.PlotlyConfig = {MathJaxConfig: 'local'};</script>\n",
              "        <script src=\"https://cdn.plot.ly/plotly-latest.min.js\"></script>    \n",
              "            <div id=\"bdc9e8a7-f135-4e92-be9c-6c6946730d15\" class=\"plotly-graph-div\" style=\"height:525px; width:100%;\"></div>\n",
              "            <script type=\"text/javascript\">\n",
              "                \n",
              "                    window.PLOTLYENV=window.PLOTLYENV || {};\n",
              "                    \n",
              "                if (document.getElementById(\"bdc9e8a7-f135-4e92-be9c-6c6946730d15\")) {\n",
              "                    Plotly.newPlot(\n",
              "                        'bdc9e8a7-f135-4e92-be9c-6c6946730d15',\n",
              "                        [{\"name\": \"Baseline\", \"type\": \"scatter\", \"x\": [0.0, 0.0, 0.0, 0.0004904364884747426, 0.0004904364884747426, 0.000980872976949485, 0.000980872976949485, 0.0014713094654242277, 0.0014713094654242277, 0.00196174595389897, 0.00196174595389897, 0.0024521824423737125, 0.0024521824423737125, 0.0029426189308484553, 0.0029426189308484553, 0.00392349190779794, 0.00392349190779794, 0.004413928396272682, 0.004413928396272682, 0.004904364884747425, 0.004904364884747425, 0.005885237861696911, 0.005885237861696911, 0.0063756743501716525, 0.0063756743501716525, 0.006866110838646395, 0.006866110838646395, 0.007356547327121138, 0.007356547327121138, 0.00784698381559588, 0.00784698381559588, 0.008337420304070623, 0.008337420304070623, 0.008827856792545365, 0.008827856792545365, 0.009318293281020108, 0.009318293281020108, 0.010789602746444336, 0.010789602746444336, 0.011280039234919078, 0.011280039234919078, 0.011770475723393821, 0.011770475723393821, 0.012260912211868563, 0.012260912211868563, 0.012751348700343305, 0.012751348700343305, 0.013241785188818049, 0.013241785188818049, 0.01373222167729279, 0.01373222167729279, 0.014222658165767533, 0.014222658165767533, 0.015203531142717018, 0.015203531142717018, 0.016184404119666502, 0.016184404119666502, 0.016674840608141245, 0.016674840608141245, 0.01716527709661599, 0.01716527709661599, 0.01765571358509073, 0.01765571358509073, 0.018636586562040217, 0.018636586562040217, 0.019127023050514957, 0.019127023050514957, 0.0196174595389897, 0.0196174595389897, 0.020107896027464444, 0.020107896027464444, 0.020598332515939184, 0.020598332515939184, 0.02157920549288867, 0.02157920549288867, 0.022560078469838155, 0.022560078469838155, 0.0230505149583129, 0.0230505149583129, 0.023540951446787643, 0.023540951446787643, 0.024031387935262383, 0.024031387935262383, 0.02501226091221187, 0.02501226091221187, 0.02550269740068661, 0.02550269740068661, 0.025993133889161354, 0.025993133889161354, 0.026483570377636097, 0.026483570377636097, 0.026974006866110838, 0.026974006866110838, 0.028445316331535065, 0.028445316331535065, 0.029426189308484552, 0.029426189308484552, 0.029916625796959292, 0.029916625796959292, 0.030407062285434036, 0.030407062285434036, 0.032368808239333004, 0.032368808239333004, 0.03285924472780775, 0.03285924472780775, 0.033840117704757235, 0.033840117704757235, 0.03433055419323198, 0.03433055419323198, 0.03482099068170672, 0.03482099068170672, 0.0358018636586562, 0.0358018636586562, 0.036292300147130946, 0.036292300147130946, 0.03678273663560569, 0.03678273663560569, 0.03727317312408043, 0.03727317312408043, 0.03776360961255518, 0.03776360961255518, 0.038254046101029913, 0.038254046101029913, 0.03874448258950466, 0.03874448258950466, 0.0392349190779794, 0.0392349190779794, 0.039725355566454144, 0.039725355566454144, 0.04070622854340363, 0.04070622854340363, 0.04168710152035311, 0.04168710152035311, 0.0426679744973026, 0.0426679744973026, 0.04315841098577734, 0.04315841098577734, 0.04364884747425209, 0.04364884747425209, 0.04413928396272683, 0.04413928396272683, 0.04462972045120157, 0.04462972045120157, 0.04512015693967631, 0.04512015693967631, 0.045610593428151054, 0.045610593428151054, 0.0461010299166258, 0.0461010299166258, 0.04757233938205002, 0.04757233938205002, 0.048062775870524765, 0.048062775870524765, 0.04855321235899951, 0.04855321235899951, 0.05002452182442374, 0.05002452182442374, 0.05051495831289848, 0.05051495831289848, 0.051495831289847964, 0.051495831289847964, 0.05443845022069642, 0.05443845022069642, 0.05492888670917116, 0.05492888670917116, 0.055419323197645906, 0.055419323197645906, 0.05590975968612065, 0.05590975968612065, 0.05689063266307013, 0.05689063266307013, 0.059833251593918585, 0.059833251593918585, 0.06032368808239333, 0.06032368808239333, 0.06081412457086807, 0.06081412457086807, 0.061304561059342816, 0.061304561059342816, 0.06179499754781756, 0.06179499754781756, 0.0622854340362923, 0.0622854340362923, 0.06277587052476705, 0.06277587052476705, 0.06375674350171653, 0.06375674350171653, 0.06473761647866601, 0.06473761647866601, 0.06522805296714075, 0.06522805296714075, 0.06620892594409024, 0.06620892594409024, 0.06669936243256498, 0.06669936243256498, 0.06718979892103973, 0.06718979892103973, 0.06866110838646396, 0.06866110838646396, 0.06964198136341344, 0.06964198136341344, 0.07013241785188817, 0.07013241785188817, 0.07062285434036292, 0.07062285434036292, 0.07111329082883766, 0.07111329082883766, 0.0716037273173124, 0.0716037273173124, 0.07209416380578715, 0.07209416380578715, 0.07258460029426189, 0.07258460029426189, 0.07454634624816087, 0.07454634624816087, 0.07552721922511035, 0.07552721922511035, 0.0760176557135851, 0.0760176557135851, 0.0784698381559588, 0.0784698381559588, 0.07896027464443355, 0.07896027464443355, 0.07945071113290829, 0.07945071113290829, 0.08484551250613045, 0.08484551250613045, 0.0853359489946052, 0.0853359489946052, 0.08680725846002943, 0.08680725846002943, 0.08778813143697892, 0.08778813143697892, 0.08827856792545366, 0.08827856792545366, 0.08876900441392839, 0.08876900441392839, 0.08925944090240313, 0.08925944090240313, 0.09073075036782736, 0.09073075036782736, 0.09171162334477685, 0.09171162334477685, 0.09269249632172634, 0.09269249632172634, 0.09367336929867583, 0.09367336929867583, 0.09416380578715057, 0.09416380578715057, 0.09514467876410004, 0.09514467876410004, 0.09563511525257479, 0.09563511525257479, 0.09612555174104953, 0.09612555174104953, 0.0980872976949485, 0.0980872976949485, 0.09857773418342325, 0.09857773418342325, 0.10053948013732222, 0.10053948013732222, 0.10102991662579695, 0.10102991662579695, 0.1015203531142717, 0.1015203531142717, 0.10299166257969593, 0.10299166257969593, 0.10348209906817067, 0.10348209906817067, 0.1049534085335949, 0.1049534085335949, 0.10593428151054439, 0.10593428151054439, 0.10642471799901913, 0.10642471799901913, 0.10691515448749386, 0.10691515448749386, 0.1074055909759686, 0.1074055909759686, 0.10789602746444335, 0.10789602746444335, 0.10887690044139284, 0.10887690044139284, 0.10985777341834232, 0.10985777341834232, 0.11132908288376656, 0.11132908288376656, 0.1118195193722413, 0.1118195193722413, 0.11280039234919079, 0.11280039234919079, 0.11329082883766552, 0.11329082883766552, 0.114271701814615, 0.114271701814615, 0.11721432074546347, 0.11721432074546347, 0.11966650318783717, 0.11966650318783717, 0.12064737616478666, 0.12064737616478666, 0.12260912211868563, 0.12260912211868563, 0.12358999509563512, 0.12358999509563512, 0.12408043158410986, 0.12408043158410986, 0.12506130456105935, 0.12506130456105935, 0.12653261402648358, 0.12653261402648358, 0.12898479646885727, 0.12898479646885727, 0.1304561059342815, 0.1304561059342815, 0.13290828837665522, 0.13290828837665522, 0.13437959784207945, 0.13437959784207945, 0.1348700343305542, 0.1348700343305542, 0.13634134379597843, 0.13634134379597843, 0.1373222167729279, 0.1373222167729279, 0.13781265326140266, 0.13781265326140266, 0.13879352623835214, 0.13879352623835214, 0.14026483570377635, 0.14026483570377635, 0.1407552721922511, 0.1407552721922511, 0.14222658165767532, 0.14222658165767532, 0.1432074546346248, 0.1432074546346248, 0.1441883276115743, 0.1441883276115743, 0.14516920058852378, 0.14516920058852378, 0.14713094654242276, 0.14713094654242276, 0.14811181951937225, 0.14811181951937225, 0.14958312898479648, 0.14958312898479648, 0.15301618440411965, 0.15301618440411965, 0.15399705738106914, 0.15399705738106914, 0.15743011280039235, 0.15743011280039235, 0.15939185875429132, 0.15939185875429132, 0.1603727317312408, 0.1603727317312408, 0.1613536047081903, 0.1613536047081903, 0.16184404119666504, 0.16184404119666504, 0.16233447768513978, 0.16233447768513978, 0.16282491417361453, 0.16282491417361453, 0.16772927905836194, 0.16772927905836194, 0.1706718979892104, 0.1706718979892104, 0.17361451692005886, 0.17361451692005886, 0.17459538989700835, 0.17459538989700835, 0.17655713585090732, 0.17655713585090732, 0.18048062775870524, 0.18048062775870524, 0.18195193722412947, 0.18195193722412947, 0.1834232466895537, 0.1834232466895537, 0.1844041196665032, 0.1844041196665032, 0.18734673859735165, 0.18734673859735165, 0.1878371750858264, 0.1878371750858264, 0.19127023050514957, 0.19127023050514957, 0.19519372241294752, 0.19519372241294752, 0.19813634134379599, 0.19813634134379599, 0.20402157920549288, 0.20402157920549288, 0.20451201569396762, 0.20451201569396762, 0.2074546346248161, 0.2074546346248161, 0.20794507111329083, 0.20794507111329083, 0.21039725355566455, 0.21039725355566455, 0.21137812653261404, 0.21137812653261404, 0.21186856302108878, 0.21186856302108878, 0.2157920549288867, 0.2157920549288867, 0.2167729279058362, 0.2167729279058362, 0.22118685630210888, 0.22118685630210888, 0.22412947523295734, 0.22412947523295734, 0.22805296714075526, 0.22805296714075526, 0.23344776851397744, 0.23344776851397744, 0.23442864149092693, 0.23442864149092693, 0.2363903874448259, 0.2363903874448259, 0.23688082393330065, 0.23688082393330065, 0.2373712604217754, 0.2373712604217754, 0.23982344286414908, 0.23982344286414908, 0.24080431584109857, 0.24080431584109857, 0.24276606179499755, 0.24276606179499755, 0.245708680725846, 0.245708680725846, 0.24619911721432075, 0.24619911721432075, 0.24767042667974498, 0.24767042667974498, 0.24865129965669447, 0.24865129965669447, 0.2545365375183914, 0.2545365375183914, 0.2584600294261893, 0.2584600294261893, 0.26238352133398724, 0.26238352133398724, 0.2633643943109367, 0.2633643943109367, 0.26483570377636095, 0.26483570377636095, 0.2653261402648357, 0.2653261402648357, 0.26581657675331044, 0.26581657675331044, 0.26679744973025993, 0.26679744973025993, 0.2677783227072094, 0.2677783227072094, 0.26924963217263365, 0.26924963217263365, 0.2731731240804316, 0.2731731240804316, 0.2741539970573811, 0.2741539970573811, 0.27513487003433057, 0.27513487003433057, 0.2766061794997548, 0.2766061794997548, 0.2785679254536538, 0.2785679254536538, 0.2790583619421285, 0.2790583619421285, 0.2849435998038254, 0.2849435998038254, 0.2859244727807749, 0.2859244727807749, 0.29131927415399705, 0.29131927415399705, 0.2927905836194213, 0.2927905836194213, 0.2942618930848455, 0.2942618930848455, 0.2986758214811182, 0.2986758214811182, 0.29916625796959295, 0.29916625796959295, 0.2996566944580677, 0.2996566944580677, 0.30014713094654244, 0.30014713094654244, 0.3021088769004414, 0.3021088769004414, 0.31191760666993623, 0.31191760666993623, 0.31682197155468367, 0.31682197155468367, 0.31878371750858264, 0.31878371750858264, 0.31976459048553213, 0.31976459048553213, 0.3241785188818048, 0.3241785188818048, 0.3261402648357038, 0.3261402648357038, 0.3285924472780775, 0.3285924472780775, 0.32908288376655226, 0.32908288376655226, 0.32957332025502695, 0.32957332025502695, 0.33202550269740067, 0.33202550269740067, 0.33300637567435015, 0.33300637567435015, 0.33398724865129964, 0.33398724865129964, 0.3349681216282491, 0.3349681216282491, 0.3388916135360471, 0.3388916135360471, 0.34183423246689554, 0.34183423246689554, 0.3437959784207945, 0.3437959784207945, 0.3491907797940167, 0.3491907797940167, 0.3501716527709662, 0.3501716527709662, 0.3506620892594409, 0.3506620892594409, 0.35213339872486515, 0.35213339872486515, 0.3565473271211378, 0.3565473271211378, 0.36047081902893574, 0.36047081902893574, 0.3668464933791074, 0.3668464933791074, 0.37175085826385484, 0.37175085826385484, 0.3722412947523296, 0.3722412947523296, 0.37420304070622856, 0.37420304070622856, 0.3766552231486023, 0.3766552231486023, 0.37763609612555177, 0.37763609612555177, 0.3786169691025012, 0.3786169691025012, 0.37910740559097594, 0.37910740559097594, 0.38597351642962235, 0.38597351642962235, 0.3884256988719961, 0.3884256988719961, 0.39480137322216774, 0.39480137322216774, 0.3957822461991172, 0.3957822461991172, 0.3967631191760667, 0.3967631191760667, 0.4001961745953899, 0.4001961745953899, 0.40166748406081415, 0.40166748406081415, 0.41147621383030897, 0.41147621383030897, 0.4129475232957332, 0.4129475232957332, 0.4183423246689554, 0.4183423246689554, 0.42128494359980384, 0.42128494359980384, 0.42226581657675333, 0.42226581657675333, 0.42766061794997545, 0.42766061794997545, 0.4291319274153997, 0.4291319274153997, 0.43305541932319763, 0.43305541932319763, 0.4340362923001471, 0.4340362923001471, 0.4374693477194703, 0.4374693477194703, 0.44678764100049045, 0.44678764100049045, 0.45022069641981366, 0.45022069641981366, 0.4507111329082884, 0.4507111329082884, 0.45414418832761155, 0.45414418832761155, 0.45512506130456104, 0.45512506130456104, 0.4556154977930358, 0.4556154977930358, 0.4615007356547327, 0.4615007356547327, 0.46297204512015694, 0.46297204512015694, 0.4634624816086317, 0.4634624816086317, 0.4659146640510054, 0.4659146640510054, 0.46983815595880335, 0.46983815595880335, 0.47719470328592445, 0.47719470328592445, 0.4801373222167729, 0.4801373222167729, 0.48062775870524765, 0.48062775870524765, 0.48945561549779304, 0.48945561549779304, 0.4899460519862678, 0.4899460519862678, 0.493379107405591, 0.493379107405591, 0.49632172633643945, 0.49632172633643945, 0.5071113290828838, 0.5071113290828838, 0.5076017655713585, 0.5076017655713585, 0.5080922020598333, 0.5080922020598333, 0.5095635115252575, 0.5095635115252575, 0.5115252574791564, 0.5115252574791564, 0.5164296223639039, 0.5164296223639039, 0.5179009318293281, 0.5179009318293281, 0.5272192251103482, 0.5272192251103482, 0.5331044629720452, 0.5331044629720452, 0.5424227562530652, 0.5424227562530652, 0.5448749386954389, 0.5448749386954389, 0.5458558116723884, 0.5458558116723884, 0.5458558116723884, 0.5468366846493379, 0.5468366846493379, 0.5502697400686611, 0.5502697400686611, 0.5556645414418833, 0.5556645414418833, 0.5561549779303581, 0.5561549779303581, 0.5586071603727317, 0.5586071603727317, 0.5625306522805297, 0.5625306522805297, 0.5674350171652771, 0.5674350171652771, 0.5679254536537518, 0.5679254536537518, 0.5703776360961256, 0.5703776360961256, 0.573320255026974, 0.573320255026974, 0.5743011280039235, 0.5743011280039235, 0.5762628739578225, 0.5762628739578225, 0.5801863658656204, 0.5801863658656204, 0.5850907307503679, 0.5850907307503679, 0.5890142226581657, 0.5890142226581657, 0.5899950956351152, 0.5899950956351152, 0.5983325159391859, 0.5983325159391859, 0.6002942618930849, 0.6002942618930849, 0.6027464443354585, 0.6027464443354585, 0.6154977930358019, 0.6154977930358019, 0.6316821971554684, 0.6316821971554684, 0.6356056890632663, 0.6356056890632663, 0.6375674350171653, 0.6375674350171653, 0.640019617459539, 0.640019617459539, 0.6410004904364884, 0.6410004904364884, 0.6459048553212359, 0.6459048553212359, 0.6488474742520843, 0.6488474742520843, 0.6503187837175086, 0.6503187837175086, 0.6630701324178518, 0.6630701324178518, 0.6650318783717508, 0.6650318783717508, 0.6777832270720942, 0.6777832270720942, 0.6787641000490436, 0.6787641000490436, 0.691515448749387, 0.691515448749387, 0.6920058852378617, 0.6920058852378617, 0.704757233938205, 0.704757233938205, 0.7150564001961746, 0.7150564001961746, 0.7287886218734674, 0.7287886218734674, 0.7297694948504169, 0.7297694948504169, 0.7449730259931339, 0.7449730259931339, 0.754291319274154, 0.754291319274154, 0.7837175085826386, 0.7837175085826386, 0.7979401667484061, 0.7979401667484061, 0.8254046101029917, 0.8254046101029917, 0.853359489946052, 0.853359489946052, 0.8558116723884257, 0.8558116723884257, 0.8940657184894556, 0.8940657184894556, 0.9048553212359, 0.9048553212359, 0.9082883766552231, 0.9082883766552231, 0.9666503187837175, 0.9666503187837175, 1.0, 1.0], \"y\": [0.0, 0.0013831258644536654, 0.008298755186721992, 0.008298755186721992, 0.02074688796680498, 0.02074688796680498, 0.02627939142461964, 0.02627939142461964, 0.03319502074688797, 0.03319502074688797, 0.059474412171507604, 0.059474412171507604, 0.0677731673582296, 0.0677731673582296, 0.08022130013831259, 0.08022130013831259, 0.08437067773167359, 0.08437067773167359, 0.0912863070539419, 0.0912863070539419, 0.10926694329183956, 0.10926694329183956, 0.11618257261410789, 0.11618257261410789, 0.11756569847856155, 0.11756569847856155, 0.12033195020746888, 0.12033195020746888, 0.12171507607192254, 0.12171507607192254, 0.13001383125864455, 0.13001383125864455, 0.1355463347164592, 0.1355463347164592, 0.1396957123098202, 0.1396957123098202, 0.14246196403872752, 0.14246196403872752, 0.15629322268326418, 0.15629322268326418, 0.17565698478561548, 0.17565698478561548, 0.17842323651452283, 0.17842323651452283, 0.1825726141078838, 0.1825726141078838, 0.19225449515905949, 0.19225449515905949, 0.19363762102351315, 0.19363762102351315, 0.1991701244813278, 0.1991701244813278, 0.20055325034578148, 0.20055325034578148, 0.20885200553250347, 0.20885200553250347, 0.2143845089903181, 0.2143845089903181, 0.2157676348547718, 0.2157676348547718, 0.21853388658367912, 0.21853388658367912, 0.21991701244813278, 0.21991701244813278, 0.22130013831258644, 0.22130013831258644, 0.22544951590594745, 0.22544951590594745, 0.2351313969571231, 0.2351313969571231, 0.23651452282157676, 0.23651452282157676, 0.23789764868603042, 0.23789764868603042, 0.2392807745504841, 0.2392807745504841, 0.24204702627939143, 0.24204702627939143, 0.2475795297372061, 0.2475795297372061, 0.24896265560165975, 0.24896265560165975, 0.2544951590594744, 0.2544951590594744, 0.2572614107883817, 0.2572614107883817, 0.2600276625172891, 0.2600276625172891, 0.2669432918395574, 0.2669432918395574, 0.26832641770401106, 0.26832641770401106, 0.27247579529737204, 0.27247579529737204, 0.28077455048409405, 0.28077455048409405, 0.2821576763485477, 0.2821576763485477, 0.2835408022130014, 0.2835408022130014, 0.2918395573997234, 0.2918395573997234, 0.2946058091286307, 0.2946058091286307, 0.2959889349930844, 0.2959889349930844, 0.3029045643153527, 0.3029045643153527, 0.30982019363762103, 0.30982019363762103, 0.3112033195020747, 0.3112033195020747, 0.31673582295988933, 0.31673582295988933, 0.318118948824343, 0.318118948824343, 0.31950207468879666, 0.31950207468879666, 0.3236514522821577, 0.3236514522821577, 0.32503457814661135, 0.32503457814661135, 0.32918395573997233, 0.32918395573997233, 0.33195020746887965, 0.33195020746887965, 0.3360995850622407, 0.3360995850622407, 0.343015214384509, 0.343015214384509, 0.34854771784232363, 0.34854771784232363, 0.35684647302904565, 0.35684647302904565, 0.3582295988934993, 0.3582295988934993, 0.359612724757953, 0.359612724757953, 0.3623789764868603, 0.3623789764868603, 0.367911479944675, 0.367911479944675, 0.3706777316735823, 0.3706777316735823, 0.3789764868603043, 0.3789764868603043, 0.3831258644536653, 0.3831258644536653, 0.3914246196403873, 0.3914246196403873, 0.3941908713692946, 0.3941908713692946, 0.3969571230982019, 0.3969571230982019, 0.40110650069156295, 0.40110650069156295, 0.40387275242047027, 0.40387275242047027, 0.4066390041493776, 0.4066390041493776, 0.4135546334716459, 0.4135546334716459, 0.4218533886583679, 0.4218533886583679, 0.4287690179806362, 0.4287690179806362, 0.43015214384508993, 0.43015214384508993, 0.4315352697095436, 0.4315352697095436, 0.43291839557399725, 0.43291839557399725, 0.4343015214384509, 0.4343015214384509, 0.43568464730290457, 0.43568464730290457, 0.43706777316735823, 0.43706777316735823, 0.43983402489626555, 0.43983402489626555, 0.4412171507607192, 0.4412171507607192, 0.4426002766251729, 0.4426002766251729, 0.44398340248962653, 0.44398340248962653, 0.44813278008298757, 0.44813278008298757, 0.44951590594744123, 0.44951590594744123, 0.4508990318118949, 0.4508990318118949, 0.46473029045643155, 0.46473029045643155, 0.4702627939142462, 0.4702627939142462, 0.47164591977869985, 0.47164591977869985, 0.4730290456431535, 0.4730290456431535, 0.47441217150760717, 0.47441217150760717, 0.47994467496542187, 0.47994467496542187, 0.4827109266943292, 0.4827109266943292, 0.48409405255878285, 0.48409405255878285, 0.48686030428769017, 0.48686030428769017, 0.48824343015214383, 0.48824343015214383, 0.4896265560165975, 0.4896265560165975, 0.49239280774550487, 0.49239280774550487, 0.49377593360995853, 0.49377593360995853, 0.4951590594744122, 0.4951590594744122, 0.49654218533886585, 0.49654218533886585, 0.4979253112033195, 0.4979253112033195, 0.5006915629322268, 0.5006915629322268, 0.5034578146611342, 0.5034578146611342, 0.5048409405255878, 0.5048409405255878, 0.5062240663900415, 0.5062240663900415, 0.5089903181189488, 0.5089903181189488, 0.5103734439834025, 0.5103734439834025, 0.5131396957123098, 0.5131396957123098, 0.5159059474412172, 0.5159059474412172, 0.5269709543568465, 0.5269709543568465, 0.5283540802213001, 0.5283540802213001, 0.5325034578146611, 0.5325034578146611, 0.5352697095435685, 0.5352697095435685, 0.5366528354080221, 0.5366528354080221, 0.5394190871369294, 0.5394190871369294, 0.5421853388658368, 0.5421853388658368, 0.5449515905947441, 0.5449515905947441, 0.5477178423236515, 0.5477178423236515, 0.5491009681881052, 0.5491009681881052, 0.5518672199170125, 0.5518672199170125, 0.5532503457814661, 0.5532503457814661, 0.5546334716459198, 0.5546334716459198, 0.5560165975103735, 0.5560165975103735, 0.5573997233748271, 0.5573997233748271, 0.5629322268326418, 0.5629322268326418, 0.5684647302904564, 0.5684647302904564, 0.5698478561549101, 0.5698478561549101, 0.573997233748271, 0.573997233748271, 0.5753803596127247, 0.5753803596127247, 0.5795297372060858, 0.5795297372060858, 0.5836791147994468, 0.5836791147994468, 0.5850622406639004, 0.5850622406639004, 0.5878284923928078, 0.5878284923928078, 0.5905947441217151, 0.5905947441217151, 0.5947441217150761, 0.5947441217150761, 0.5961272475795297, 0.5961272475795297, 0.5975103734439834, 0.5975103734439834, 0.598893499308437, 0.598893499308437, 0.6044260027662517, 0.6044260027662517, 0.6058091286307054, 0.6058091286307054, 0.607192254495159, 0.607192254495159, 0.6113416320885201, 0.6113416320885201, 0.6127247579529738, 0.6127247579529738, 0.6154910096818811, 0.6154910096818811, 0.6168741355463347, 0.6168741355463347, 0.6196403872752421, 0.6196403872752421, 0.6224066390041494, 0.6224066390041494, 0.623789764868603, 0.623789764868603, 0.6251728907330567, 0.6251728907330567, 0.6293222683264177, 0.6293222683264177, 0.6307053941908713, 0.6307053941908713, 0.6348547717842323, 0.6348547717842323, 0.6390041493775933, 0.6390041493775933, 0.6445366528354081, 0.6445366528354081, 0.6473029045643154, 0.6473029045643154, 0.648686030428769, 0.648686030428769, 0.6514522821576764, 0.6514522821576764, 0.65283540802213, 0.65283540802213, 0.6542185338865837, 0.6542185338865837, 0.6556016597510373, 0.6556016597510373, 0.6583679114799447, 0.6583679114799447, 0.661134163208852, 0.661134163208852, 0.6625172890733056, 0.6625172890733056, 0.6639004149377593, 0.6639004149377593, 0.665283540802213, 0.665283540802213, 0.6680497925311203, 0.6680497925311203, 0.669432918395574, 0.669432918395574, 0.6708160442600276, 0.6708160442600276, 0.6721991701244814, 0.6721991701244814, 0.673582295988935, 0.673582295988935, 0.6749654218533887, 0.6749654218533887, 0.6763485477178424, 0.6763485477178424, 0.677731673582296, 0.677731673582296, 0.6791147994467497, 0.6791147994467497, 0.6804979253112033, 0.6804979253112033, 0.681881051175657, 0.681881051175657, 0.6846473029045643, 0.6846473029045643, 0.686030428769018, 0.686030428769018, 0.6874135546334716, 0.6874135546334716, 0.690179806362379, 0.690179806362379, 0.6915629322268326, 0.6915629322268326, 0.69432918395574, 0.69432918395574, 0.6957123098201936, 0.6957123098201936, 0.6970954356846473, 0.6970954356846473, 0.6984785615491009, 0.6984785615491009, 0.6998616874135546, 0.6998616874135546, 0.7026279391424619, 0.7026279391424619, 0.7040110650069157, 0.7040110650069157, 0.7053941908713693, 0.7053941908713693, 0.706777316735823, 0.706777316735823, 0.7081604426002767, 0.7081604426002767, 0.7123098201936376, 0.7123098201936376, 0.7136929460580913, 0.7136929460580913, 0.7164591977869986, 0.7164591977869986, 0.7219917012448133, 0.7219917012448133, 0.7247579529737206, 0.7247579529737206, 0.7261410788381742, 0.7261410788381742, 0.7275242047026279, 0.7275242047026279, 0.7289073305670816, 0.7289073305670816, 0.7302904564315352, 0.7302904564315352, 0.7316735822959889, 0.7316735822959889, 0.7330567081604425, 0.7330567081604425, 0.7344398340248963, 0.7344398340248963, 0.73582295988935, 0.73582295988935, 0.7372060857538036, 0.7372060857538036, 0.739972337482711, 0.739972337482711, 0.7413554633471646, 0.7413554633471646, 0.7427385892116183, 0.7427385892116183, 0.7441217150760719, 0.7441217150760719, 0.7455048409405256, 0.7455048409405256, 0.7468879668049793, 0.7468879668049793, 0.7496542185338866, 0.7496542185338866, 0.7510373443983402, 0.7510373443983402, 0.7538035961272476, 0.7538035961272476, 0.7551867219917012, 0.7551867219917012, 0.7579529737206085, 0.7579529737206085, 0.7593360995850622, 0.7593360995850622, 0.7607192254495159, 0.7607192254495159, 0.7648686030428768, 0.7648686030428768, 0.7676348547717843, 0.7676348547717843, 0.7690179806362379, 0.7690179806362379, 0.7704011065006916, 0.7704011065006916, 0.7717842323651453, 0.7717842323651453, 0.7731673582295989, 0.7731673582295989, 0.7745504840940526, 0.7745504840940526, 0.7773167358229599, 0.7773167358229599, 0.7786998616874136, 0.7786998616874136, 0.7800829875518672, 0.7800829875518672, 0.7814661134163209, 0.7814661134163209, 0.7828492392807745, 0.7828492392807745, 0.7856154910096819, 0.7856154910096819, 0.7869986168741355, 0.7869986168741355, 0.7883817427385892, 0.7883817427385892, 0.7897648686030428, 0.7897648686030428, 0.7925311203319502, 0.7925311203319502, 0.7939142461964038, 0.7939142461964038, 0.7952973720608575, 0.7952973720608575, 0.7966804979253111, 0.7966804979253111, 0.7994467496542186, 0.7994467496542186, 0.8022130013831259, 0.8022130013831259, 0.8035961272475796, 0.8035961272475796, 0.8049792531120332, 0.8049792531120332, 0.8063623789764869, 0.8063623789764869, 0.8077455048409405, 0.8077455048409405, 0.8132780082987552, 0.8132780082987552, 0.8146611341632088, 0.8146611341632088, 0.8160442600276625, 0.8160442600276625, 0.8174273858921162, 0.8174273858921162, 0.8188105117565698, 0.8188105117565698, 0.8201936376210235, 0.8201936376210235, 0.8215767634854771, 0.8215767634854771, 0.8229598893499308, 0.8229598893499308, 0.8243430152143845, 0.8243430152143845, 0.8284923928077456, 0.8284923928077456, 0.8298755186721992, 0.8298755186721992, 0.8326417704011065, 0.8326417704011065, 0.8340248962655602, 0.8340248962655602, 0.8354080221300139, 0.8354080221300139, 0.8367911479944675, 0.8367911479944675, 0.8381742738589212, 0.8381742738589212, 0.8395573997233748, 0.8395573997233748, 0.8409405255878285, 0.8409405255878285, 0.8423236514522822, 0.8423236514522822, 0.8437067773167358, 0.8437067773167358, 0.8450899031811895, 0.8450899031811895, 0.8464730290456431, 0.8464730290456431, 0.8478561549100968, 0.8478561549100968, 0.8492392807745505, 0.8492392807745505, 0.8506224066390041, 0.8506224066390041, 0.8533886583679114, 0.8533886583679114, 0.8547717842323651, 0.8547717842323651, 0.8561549100968188, 0.8561549100968188, 0.8589211618257261, 0.8589211618257261, 0.8603042876901799, 0.8603042876901799, 0.8616874135546335, 0.8616874135546335, 0.8630705394190872, 0.8630705394190872, 0.8644536652835408, 0.8644536652835408, 0.8658367911479945, 0.8658367911479945, 0.8672199170124482, 0.8672199170124482, 0.8686030428769018, 0.8686030428769018, 0.8713692946058091, 0.8713692946058091, 0.8727524204702628, 0.8727524204702628, 0.8741355463347165, 0.8741355463347165, 0.8755186721991701, 0.8755186721991701, 0.8769017980636238, 0.8769017980636238, 0.8782849239280774, 0.8782849239280774, 0.8796680497925311, 0.8796680497925311, 0.8810511756569848, 0.8810511756569848, 0.8824343015214384, 0.8824343015214384, 0.8838174273858921, 0.8838174273858921, 0.8852005532503457, 0.8852005532503457, 0.8865836791147994, 0.8865836791147994, 0.8879668049792531, 0.8879668049792531, 0.8907330567081605, 0.8907330567081605, 0.8921161825726142, 0.8921161825726142, 0.8934993084370678, 0.8934993084370678, 0.8948824343015215, 0.8948824343015215, 0.8962655601659751, 0.8962655601659751, 0.8976486860304288, 0.8976486860304288, 0.8990318118948825, 0.8990318118948825, 0.9004149377593361, 0.9004149377593361, 0.9017980636237898, 0.9017980636237898, 0.9059474412171508, 0.9059474412171508, 0.9087136929460581, 0.9087136929460581, 0.9100968188105117, 0.9100968188105117, 0.9114799446749654, 0.9114799446749654, 0.9128630705394191, 0.9128630705394191, 0.9142461964038727, 0.9142461964038727, 0.91701244813278, 0.91701244813278, 0.9183955739972337, 0.9183955739972337, 0.921161825726141, 0.921161825726141, 0.9239280774550485, 0.9239280774550485, 0.9266943291839558, 0.9294605809128631, 0.9294605809128631, 0.9308437067773168, 0.9308437067773168, 0.9322268326417704, 0.9322268326417704, 0.9336099585062241, 0.9336099585062241, 0.9349930843706777, 0.9349930843706777, 0.9363762102351314, 0.9363762102351314, 0.9377593360995851, 0.9377593360995851, 0.9405255878284924, 0.9405255878284924, 0.941908713692946, 0.941908713692946, 0.9432918395573997, 0.9432918395573997, 0.9446749654218534, 0.9446749654218534, 0.946058091286307, 0.946058091286307, 0.9474412171507607, 0.9474412171507607, 0.9488243430152143, 0.9488243430152143, 0.950207468879668, 0.950207468879668, 0.9515905947441217, 0.9515905947441217, 0.9529737206085753, 0.9529737206085753, 0.9543568464730291, 0.9543568464730291, 0.9557399723374828, 0.9557399723374828, 0.9571230982019364, 0.9571230982019364, 0.9585062240663901, 0.9585062240663901, 0.9598893499308437, 0.9598893499308437, 0.9612724757952974, 0.9612724757952974, 0.9626556016597511, 0.9626556016597511, 0.9640387275242047, 0.9640387275242047, 0.9654218533886584, 0.9654218533886584, 0.966804979253112, 0.966804979253112, 0.9681881051175657, 0.9681881051175657, 0.9695712309820194, 0.9695712309820194, 0.970954356846473, 0.970954356846473, 0.9723374827109267, 0.9723374827109267, 0.9737206085753803, 0.9737206085753803, 0.975103734439834, 0.975103734439834, 0.9764868603042877, 0.9764868603042877, 0.9778699861687413, 0.9778699861687413, 0.979253112033195, 0.979253112033195, 0.9806362378976486, 0.9806362378976486, 0.9820193637621023, 0.9820193637621023, 0.983402489626556, 0.983402489626556, 0.9847856154910097, 0.9847856154910097, 0.9861687413554634, 0.9861687413554634, 0.9875518672199171, 0.9875518672199171, 0.9889349930843707, 0.9889349930843707, 0.9903181189488244, 0.9903181189488244, 0.991701244813278, 0.991701244813278, 0.9930843706777317, 0.9930843706777317, 0.9944674965421854, 0.9944674965421854, 0.995850622406639, 0.995850622406639, 0.9972337482710927, 0.9972337482710927, 0.9986168741355463, 0.9986168741355463, 1.0]}, {\"name\": \"EfficientNetV2-B1\", \"type\": \"scatter\", \"x\": [0.0, 0.0, 0.0, 0.0, 0.0, 0.0, 0.0, 0.0, 0.0, 0.0004904364884747426, 0.0004904364884747426, 0.000980872976949485, 0.000980872976949485, 0.000980872976949485, 0.000980872976949485, 0.0014713094654242277, 0.0014713094654242277, 0.00196174595389897, 0.00196174595389897, 0.0024521824423737125, 0.0024521824423737125, 0.0029426189308484553, 0.0029426189308484553, 0.0034330554193231977, 0.0034330554193231977, 0.00392349190779794, 0.00392349190779794, 0.004413928396272682, 0.004413928396272682, 0.004904364884747425, 0.004904364884747425, 0.005394801373222168, 0.005394801373222168, 0.0063756743501716525, 0.0063756743501716525, 0.006866110838646395, 0.006866110838646395, 0.007356547327121138, 0.007356547327121138, 0.00784698381559588, 0.00784698381559588, 0.008337420304070623, 0.008337420304070623, 0.010789602746444336, 0.010789602746444336, 0.012260912211868563, 0.012260912211868563, 0.014222658165767533, 0.014222658165767533, 0.015203531142717018, 0.015203531142717018, 0.016674840608141245, 0.016674840608141245, 0.01716527709661599, 0.01716527709661599, 0.01765571358509073, 0.01765571358509073, 0.0196174595389897, 0.0196174595389897, 0.020107896027464444, 0.020107896027464444, 0.020598332515939184, 0.020598332515939184, 0.022069641981363415, 0.022069641981363415, 0.022560078469838155, 0.022560078469838155, 0.023540951446787643, 0.023540951446787643, 0.024031387935262383, 0.024031387935262383, 0.02550269740068661, 0.02550269740068661, 0.025993133889161354, 0.025993133889161354, 0.026974006866110838, 0.026974006866110838, 0.027954879843060325, 0.027954879843060325, 0.028445316331535065, 0.028445316331535065, 0.029426189308484552, 0.029426189308484552, 0.03531142717018146, 0.03531142717018146, 0.0358018636586562, 0.0358018636586562, 0.036292300147130946, 0.036292300147130946, 0.03874448258950466, 0.03874448258950466, 0.0392349190779794, 0.0392349190779794, 0.04021579205492889, 0.04021579205492889, 0.04070622854340363, 0.04070622854340363, 0.04462972045120157, 0.04462972045120157, 0.04659146640510054, 0.04659146640510054, 0.05345757724374693, 0.05345757724374693, 0.05492888670917116, 0.05492888670917116, 0.058852378616969105, 0.058852378616969105, 0.06277587052476705, 0.06277587052476705, 0.06473761647866601, 0.06473761647866601, 0.0760176557135851, 0.0760176557135851, 0.07797940166748406, 0.07797940166748406, 0.08337420304070622, 0.08337420304070622, 0.08680725846002943, 0.08680725846002943, 0.08876900441392839, 0.08876900441392839, 0.08974987739087788, 0.08974987739087788, 0.09073075036782736, 0.09073075036782736, 0.10397253555664542, 0.10397253555664542, 0.10544384502206965, 0.10544384502206965, 0.11329082883766552, 0.11329082883766552, 0.1211378126532614, 0.1211378126532614, 0.12408043158410986, 0.12408043158410986, 0.1392839627268269, 0.1392839627268269, 0.14124570868072583, 0.14124570868072583, 0.14615007356547327, 0.14615007356547327, 0.15939185875429132, 0.15939185875429132, 0.16184404119666504, 0.16184404119666504, 0.1662579695929377, 0.1662579695929377, 0.16821971554683668, 0.16821971554683668, 0.17704757233938204, 0.17704757233938204, 0.18097106424717999, 0.18097106424717999, 0.1844041196665032, 0.1844041196665032, 0.1893084845512506, 0.1893084845512506, 0.19568415890142227, 0.19568415890142227, 0.196174595389897, 0.196174595389897, 0.21383030897498773, 0.21383030897498773, 0.2388425698871996, 0.2388425698871996, 0.25404610102991665, 0.25404610102991665, 0.260912211868563, 0.260912211868563, 0.280039234919078, 0.280039234919078, 0.29328102010789603, 0.29328102010789603, 0.3011280039234919, 0.3011280039234919, 0.37076998528690536, 0.37076998528690536, 0.41932319764590487, 0.41932319764590487, 0.4291319274153997, 0.4291319274153997, 0.4507111329082884, 0.4507111329082884, 0.459048553212359, 0.459048553212359, 0.5664541441883276, 0.5664541441883276, 1.0], \"y\": [0.0, 0.0013831258644536654, 0.006915629322268326, 0.009681881051175657, 0.02074688796680498, 0.02351313969571231, 0.09820193637621023, 0.10096818810511757, 0.5117565698478561, 0.5117565698478561, 0.5670816044260027, 0.5670816044260027, 0.5822959889349931, 0.5850622406639004, 0.6583679114799447, 0.6583679114799447, 0.7413554633471646, 0.7413554633471646, 0.7524204702627939, 0.7524204702627939, 0.7634854771784232, 0.7634854771784232, 0.7717842323651453, 0.7717842323651453, 0.7745504840940526, 0.7745504840940526, 0.7883817427385892, 0.7883817427385892, 0.7925311203319502, 0.7925311203319502, 0.8091286307053942, 0.8091286307053942, 0.8105117565698479, 0.8105117565698479, 0.8257261410788381, 0.8257261410788381, 0.8326417704011065, 0.8326417704011065, 0.8340248962655602, 0.8340248962655602, 0.8395573997233748, 0.8395573997233748, 0.8561549100968188, 0.8561549100968188, 0.8575380359612724, 0.8575380359612724, 0.8616874135546335, 0.8616874135546335, 0.8727524204702628, 0.8727524204702628, 0.8824343015214384, 0.8824343015214384, 0.8838174273858921, 0.8838174273858921, 0.8852005532503457, 0.8852005532503457, 0.8865836791147994, 0.8865836791147994, 0.8893499308437067, 0.8893499308437067, 0.8921161825726142, 0.8921161825726142, 0.8934993084370678, 0.8934993084370678, 0.8962655601659751, 0.8962655601659751, 0.9004149377593361, 0.9004149377593361, 0.9017980636237898, 0.9017980636237898, 0.9031811894882434, 0.9031811894882434, 0.9059474412171508, 0.9059474412171508, 0.9087136929460581, 0.9087136929460581, 0.9100968188105117, 0.9100968188105117, 0.9114799446749654, 0.9114799446749654, 0.9128630705394191, 0.9128630705394191, 0.9142461964038727, 0.9142461964038727, 0.9183955739972337, 0.9183955739972337, 0.921161825726141, 0.921161825726141, 0.9225449515905948, 0.9225449515905948, 0.9239280774550485, 0.9239280774550485, 0.9253112033195021, 0.9253112033195021, 0.9294605809128631, 0.9294605809128631, 0.9308437067773168, 0.9308437067773168, 0.9322268326417704, 0.9322268326417704, 0.9336099585062241, 0.9336099585062241, 0.9363762102351314, 0.9363762102351314, 0.9391424619640387, 0.9391424619640387, 0.9405255878284924, 0.9405255878284924, 0.941908713692946, 0.941908713692946, 0.9432918395573997, 0.9432918395573997, 0.9446749654218534, 0.9446749654218534, 0.9474412171507607, 0.9474412171507607, 0.9488243430152143, 0.9488243430152143, 0.950207468879668, 0.950207468879668, 0.9515905947441217, 0.9515905947441217, 0.9529737206085753, 0.9529737206085753, 0.9543568464730291, 0.9543568464730291, 0.9557399723374828, 0.9557399723374828, 0.9571230982019364, 0.9571230982019364, 0.9585062240663901, 0.9585062240663901, 0.9598893499308437, 0.9598893499308437, 0.9612724757952974, 0.9612724757952974, 0.9640387275242047, 0.9640387275242047, 0.9654218533886584, 0.9654218533886584, 0.966804979253112, 0.966804979253112, 0.9695712309820194, 0.9695712309820194, 0.970954356846473, 0.970954356846473, 0.9723374827109267, 0.9723374827109267, 0.9737206085753803, 0.9737206085753803, 0.975103734439834, 0.975103734439834, 0.9764868603042877, 0.9764868603042877, 0.9778699861687413, 0.9778699861687413, 0.979253112033195, 0.979253112033195, 0.9806362378976486, 0.9806362378976486, 0.9820193637621023, 0.9820193637621023, 0.983402489626556, 0.983402489626556, 0.9847856154910097, 0.9847856154910097, 0.9861687413554634, 0.9861687413554634, 0.9875518672199171, 0.9875518672199171, 0.9889349930843707, 0.9889349930843707, 0.9903181189488244, 0.9903181189488244, 0.991701244813278, 0.991701244813278, 0.9930843706777317, 0.9930843706777317, 0.9944674965421854, 0.9944674965421854, 0.995850622406639, 0.995850622406639, 0.9972337482710927, 0.9972337482710927, 0.9986168741355463, 0.9986168741355463, 1.0, 1.0]}, {\"name\": \"ResNetV2-50\", \"type\": \"scatter\", \"x\": [0.0, 0.0, 0.0, 0.0004904364884747426, 0.0004904364884747426, 0.000980872976949485, 0.000980872976949485, 0.0014713094654242277, 0.0014713094654242277, 0.00196174595389897, 0.00196174595389897, 0.0024521824423737125, 0.0024521824423737125, 0.0034330554193231977, 0.0034330554193231977, 0.00392349190779794, 0.00392349190779794, 0.004904364884747425, 0.004904364884747425, 0.005394801373222168, 0.005394801373222168, 0.005885237861696911, 0.005885237861696911, 0.0063756743501716525, 0.0063756743501716525, 0.006866110838646395, 0.006866110838646395, 0.007356547327121138, 0.007356547327121138, 0.008827856792545365, 0.008827856792545365, 0.009318293281020108, 0.009318293281020108, 0.00980872976949485, 0.00980872976949485, 0.010299166257969592, 0.010299166257969592, 0.010789602746444336, 0.010789602746444336, 0.012260912211868563, 0.012260912211868563, 0.013241785188818049, 0.013241785188818049, 0.01373222167729279, 0.01373222167729279, 0.014713094654242276, 0.014713094654242276, 0.01716527709661599, 0.01716527709661599, 0.01765571358509073, 0.01765571358509073, 0.018636586562040217, 0.018636586562040217, 0.018636586562040217, 0.018636586562040217, 0.020107896027464444, 0.020107896027464444, 0.020598332515939184, 0.020598332515939184, 0.02157920549288867, 0.02157920549288867, 0.022069641981363415, 0.022069641981363415, 0.022560078469838155, 0.022560078469838155, 0.0230505149583129, 0.0230505149583129, 0.024031387935262383, 0.024031387935262383, 0.025993133889161354, 0.025993133889161354, 0.026483570377636097, 0.026483570377636097, 0.026974006866110838, 0.026974006866110838, 0.02746444335458558, 0.02746444335458558, 0.02893575282000981, 0.02893575282000981, 0.029426189308484552, 0.029426189308484552, 0.029916625796959292, 0.029916625796959292, 0.03089749877390878, 0.03089749877390878, 0.03138793526238352, 0.03138793526238352, 0.03187837175085827, 0.03187837175085827, 0.032368808239333004, 0.032368808239333004, 0.03285924472780775, 0.03285924472780775, 0.03433055419323198, 0.03433055419323198, 0.03482099068170672, 0.03482099068170672, 0.03531142717018146, 0.03531142717018146, 0.036292300147130946, 0.036292300147130946, 0.03678273663560569, 0.03678273663560569, 0.03776360961255518, 0.03776360961255518, 0.0392349190779794, 0.0392349190779794, 0.039725355566454144, 0.039725355566454144, 0.04168710152035311, 0.04168710152035311, 0.042177538008827856, 0.042177538008827856, 0.04315841098577734, 0.04315841098577734, 0.04462972045120157, 0.04462972045120157, 0.04855321235899951, 0.04855321235899951, 0.049534085335948996, 0.049534085335948996, 0.051495831289847964, 0.051495831289847964, 0.05198626777832271, 0.05198626777832271, 0.05689063266307013, 0.05689063266307013, 0.06032368808239333, 0.06032368808239333, 0.06424717999019126, 0.06424717999019126, 0.06522805296714075, 0.06522805296714075, 0.0657184894556155, 0.0657184894556155, 0.06669936243256498, 0.06669936243256498, 0.06768023540951447, 0.06768023540951447, 0.06817067189798921, 0.06817067189798921, 0.06866110838646396, 0.06866110838646396, 0.07209416380578715, 0.07209416380578715, 0.07356547327121138, 0.07356547327121138, 0.08239333006375674, 0.08239333006375674, 0.08288376655223148, 0.08288376655223148, 0.08386463952918097, 0.08386463952918097, 0.08631682197155469, 0.08631682197155469, 0.09073075036782736, 0.09073075036782736, 0.09367336929867583, 0.09367336929867583, 0.0946542422756253, 0.0946542422756253, 0.09661598822952427, 0.09661598822952427, 0.09906817067189799, 0.09906817067189799, 0.10053948013732222, 0.10053948013732222, 0.10348209906817067, 0.10348209906817067, 0.10544384502206965, 0.10544384502206965, 0.10691515448749386, 0.10691515448749386, 0.1083864639529181, 0.1083864639529181, 0.10887690044139284, 0.10887690044139284, 0.11132908288376656, 0.11132908288376656, 0.1118195193722413, 0.1118195193722413, 0.11378126532614026, 0.11378126532614026, 0.114271701814615, 0.114271701814615, 0.11574301128003923, 0.11574301128003923, 0.11917606669936243, 0.11917606669936243, 0.12064737616478666, 0.12064737616478666, 0.12211868563021089, 0.12211868563021089, 0.12408043158410986, 0.12408043158410986, 0.1255517410495341, 0.1255517410495341, 0.12653261402648358, 0.12653261402648358, 0.13339872486512996, 0.13339872486512996, 0.14124570868072583, 0.14124570868072583, 0.14909269249632173, 0.14909269249632173, 0.14958312898479648, 0.14958312898479648, 0.1525257479156449, 0.1525257479156449, 0.1569396763119176, 0.1569396763119176, 0.16429622363903876, 0.16429622363903876, 0.1696910250122609, 0.1696910250122609, 0.17606669936243258, 0.17606669936243258, 0.17949975478175575, 0.17949975478175575, 0.18391368317802845, 0.18391368317802845, 0.18489455615497793, 0.18489455615497793, 0.1971554683668465, 0.1971554683668465, 0.21628249141736144, 0.21628249141736144, 0.2236390387444826, 0.2236390387444826, 0.22658165767533103, 0.22658165767533103, 0.23099558607160373, 0.23099558607160373, 0.24521824423737126, 0.24521824423737126, 0.2599313388916135, 0.2599313388916135, 0.2633643943109367, 0.2633643943109367, 0.2785679254536538, 0.2785679254536538, 0.28347229033840116, 0.28347229033840116, 0.2918097106424718, 0.2918097106424718, 0.30358018636586565, 0.30358018636586565, 0.30554193231976456, 0.30652280529671405, 0.3079941147621383, 0.3079941147621383, 0.3437959784207945, 0.3437959784207945, 0.3830308974987739, 0.3830308974987739, 0.43109367336929866, 0.43109367336929866, 0.441883276115743, 0.441883276115743, 0.45414418832761155, 0.45414418832761155, 0.4703285924472781, 0.4703285924472781, 0.4801373222167729, 0.4801373222167729, 0.4879843060323688, 0.4879843060323688, 0.48945561549779304, 0.48945561549779304, 0.4923982344286415, 0.4923982344286415, 0.8008827856792545, 0.8008827856792545, 0.8435507601765572, 0.8435507601765572, 1.0], \"y\": [0.0, 0.0013831258644536654, 0.24481327800829875, 0.24481327800829875, 0.25864453665283543, 0.25864453665283543, 0.47441217150760717, 0.47441217150760717, 0.5975103734439834, 0.5975103734439834, 0.6058091286307054, 0.6058091286307054, 0.6141078838174274, 0.6141078838174274, 0.6196403872752421, 0.6196403872752421, 0.648686030428769, 0.648686030428769, 0.661134163208852, 0.661134163208852, 0.6721991701244814, 0.6721991701244814, 0.677731673582296, 0.677731673582296, 0.6791147994467497, 0.6791147994467497, 0.7095435684647303, 0.7095435684647303, 0.7178423236514523, 0.7178423236514523, 0.7247579529737206, 0.7247579529737206, 0.7330567081604425, 0.7330567081604425, 0.7385892116182573, 0.7385892116182573, 0.7579529737206085, 0.7579529737206085, 0.7607192254495159, 0.7607192254495159, 0.7690179806362379, 0.7690179806362379, 0.7717842323651453, 0.7717842323651453, 0.7786998616874136, 0.7786998616874136, 0.7800829875518672, 0.7800829875518672, 0.7842323651452282, 0.7842323651452282, 0.7911479944674965, 0.7911479944674965, 0.7939142461964038, 0.7966804979253111, 0.7994467496542186, 0.7994467496542186, 0.8008298755186722, 0.8008298755186722, 0.8022130013831259, 0.8022130013831259, 0.8063623789764869, 0.8063623789764869, 0.8105117565698479, 0.8105117565698479, 0.8118948824343015, 0.8118948824343015, 0.8132780082987552, 0.8132780082987552, 0.8188105117565698, 0.8188105117565698, 0.8215767634854771, 0.8215767634854771, 0.8243430152143845, 0.8243430152143845, 0.8326417704011065, 0.8326417704011065, 0.8340248962655602, 0.8340248962655602, 0.8354080221300139, 0.8354080221300139, 0.8367911479944675, 0.8367911479944675, 0.8381742738589212, 0.8381742738589212, 0.8409405255878285, 0.8409405255878285, 0.8423236514522822, 0.8423236514522822, 0.8437067773167358, 0.8437067773167358, 0.8450899031811895, 0.8450899031811895, 0.8506224066390041, 0.8506224066390041, 0.8520055325034578, 0.8520055325034578, 0.8533886583679114, 0.8533886583679114, 0.8547717842323651, 0.8547717842323651, 0.8561549100968188, 0.8561549100968188, 0.8616874135546335, 0.8616874135546335, 0.8644536652835408, 0.8644536652835408, 0.8658367911479945, 0.8658367911479945, 0.8699861687413555, 0.8699861687413555, 0.8741355463347165, 0.8741355463347165, 0.8755186721991701, 0.8755186721991701, 0.8769017980636238, 0.8769017980636238, 0.8796680497925311, 0.8796680497925311, 0.8810511756569848, 0.8810511756569848, 0.8838174273858921, 0.8838174273858921, 0.8852005532503457, 0.8852005532503457, 0.8865836791147994, 0.8865836791147994, 0.8879668049792531, 0.8879668049792531, 0.8893499308437067, 0.8893499308437067, 0.8907330567081605, 0.8907330567081605, 0.8934993084370678, 0.8934993084370678, 0.8962655601659751, 0.8962655601659751, 0.8976486860304288, 0.8976486860304288, 0.8990318118948825, 0.8990318118948825, 0.9004149377593361, 0.9004149377593361, 0.9017980636237898, 0.9017980636237898, 0.9031811894882434, 0.9031811894882434, 0.9045643153526971, 0.9045643153526971, 0.9059474412171508, 0.9059474412171508, 0.9073305670816044, 0.9073305670816044, 0.9087136929460581, 0.9087136929460581, 0.9100968188105117, 0.9100968188105117, 0.9114799446749654, 0.9114799446749654, 0.9128630705394191, 0.9128630705394191, 0.9142461964038727, 0.9142461964038727, 0.9156293222683264, 0.9156293222683264, 0.91701244813278, 0.91701244813278, 0.9183955739972337, 0.9183955739972337, 0.9197786998616874, 0.9197786998616874, 0.921161825726141, 0.921161825726141, 0.9225449515905948, 0.9225449515905948, 0.9253112033195021, 0.9253112033195021, 0.9280774550484094, 0.9280774550484094, 0.9294605809128631, 0.9294605809128631, 0.9322268326417704, 0.9322268326417704, 0.9336099585062241, 0.9336099585062241, 0.9349930843706777, 0.9349930843706777, 0.9363762102351314, 0.9363762102351314, 0.9377593360995851, 0.9377593360995851, 0.9391424619640387, 0.9391424619640387, 0.9405255878284924, 0.9405255878284924, 0.941908713692946, 0.941908713692946, 0.9432918395573997, 0.9432918395573997, 0.9446749654218534, 0.9446749654218534, 0.946058091286307, 0.946058091286307, 0.9474412171507607, 0.9474412171507607, 0.9488243430152143, 0.9488243430152143, 0.9515905947441217, 0.9515905947441217, 0.9529737206085753, 0.9529737206085753, 0.9543568464730291, 0.9543568464730291, 0.9557399723374828, 0.9557399723374828, 0.9571230982019364, 0.9571230982019364, 0.9598893499308437, 0.9598893499308437, 0.9612724757952974, 0.9612724757952974, 0.9626556016597511, 0.9626556016597511, 0.9640387275242047, 0.9640387275242047, 0.9654218533886584, 0.9654218533886584, 0.966804979253112, 0.966804979253112, 0.9681881051175657, 0.9681881051175657, 0.9695712309820194, 0.9695712309820194, 0.9723374827109267, 0.9723374827109267, 0.9737206085753803, 0.9737206085753803, 0.975103734439834, 0.975103734439834, 0.9764868603042877, 0.9764868603042877, 0.9778699861687413, 0.9778699861687413, 0.979253112033195, 0.979253112033195, 0.9806362378976486, 0.9806362378976486, 0.9820193637621023, 0.9820193637621023, 0.9820193637621023, 0.9820193637621023, 0.983402489626556, 0.983402489626556, 0.9847856154910097, 0.9847856154910097, 0.9861687413554634, 0.9861687413554634, 0.9875518672199171, 0.9875518672199171, 0.9889349930843707, 0.9889349930843707, 0.9903181189488244, 0.9903181189488244, 0.991701244813278, 0.991701244813278, 0.9930843706777317, 0.9930843706777317, 0.9944674965421854, 0.9944674965421854, 0.995850622406639, 0.995850622406639, 0.9972337482710927, 0.9972337482710927, 0.9986168741355463, 0.9986168741355463, 1.0, 1.0]}],\n",
              "                        {\"template\": {\"data\": {\"bar\": [{\"error_x\": {\"color\": \"#2a3f5f\"}, \"error_y\": {\"color\": \"#2a3f5f\"}, \"marker\": {\"line\": {\"color\": \"#E5ECF6\", \"width\": 0.5}}, \"type\": \"bar\"}], \"barpolar\": [{\"marker\": {\"line\": {\"color\": \"#E5ECF6\", \"width\": 0.5}}, \"type\": \"barpolar\"}], \"carpet\": [{\"aaxis\": {\"endlinecolor\": \"#2a3f5f\", \"gridcolor\": \"white\", \"linecolor\": \"white\", \"minorgridcolor\": \"white\", \"startlinecolor\": \"#2a3f5f\"}, \"baxis\": {\"endlinecolor\": \"#2a3f5f\", \"gridcolor\": \"white\", \"linecolor\": \"white\", \"minorgridcolor\": \"white\", \"startlinecolor\": \"#2a3f5f\"}, \"type\": \"carpet\"}], \"choropleth\": [{\"colorbar\": {\"outlinewidth\": 0, \"ticks\": \"\"}, \"type\": \"choropleth\"}], \"contour\": [{\"colorbar\": {\"outlinewidth\": 0, \"ticks\": \"\"}, \"colorscale\": [[0.0, \"#0d0887\"], [0.1111111111111111, \"#46039f\"], [0.2222222222222222, \"#7201a8\"], [0.3333333333333333, \"#9c179e\"], [0.4444444444444444, \"#bd3786\"], [0.5555555555555556, \"#d8576b\"], [0.6666666666666666, \"#ed7953\"], [0.7777777777777778, \"#fb9f3a\"], [0.8888888888888888, \"#fdca26\"], [1.0, \"#f0f921\"]], \"type\": \"contour\"}], \"contourcarpet\": [{\"colorbar\": {\"outlinewidth\": 0, \"ticks\": \"\"}, \"type\": \"contourcarpet\"}], \"heatmap\": [{\"colorbar\": {\"outlinewidth\": 0, \"ticks\": \"\"}, \"colorscale\": [[0.0, \"#0d0887\"], [0.1111111111111111, \"#46039f\"], [0.2222222222222222, \"#7201a8\"], [0.3333333333333333, \"#9c179e\"], [0.4444444444444444, \"#bd3786\"], [0.5555555555555556, \"#d8576b\"], [0.6666666666666666, \"#ed7953\"], [0.7777777777777778, \"#fb9f3a\"], [0.8888888888888888, \"#fdca26\"], [1.0, \"#f0f921\"]], \"type\": \"heatmap\"}], \"heatmapgl\": [{\"colorbar\": {\"outlinewidth\": 0, \"ticks\": \"\"}, \"colorscale\": [[0.0, \"#0d0887\"], [0.1111111111111111, \"#46039f\"], [0.2222222222222222, \"#7201a8\"], [0.3333333333333333, \"#9c179e\"], [0.4444444444444444, \"#bd3786\"], [0.5555555555555556, \"#d8576b\"], [0.6666666666666666, \"#ed7953\"], [0.7777777777777778, \"#fb9f3a\"], [0.8888888888888888, \"#fdca26\"], [1.0, \"#f0f921\"]], \"type\": \"heatmapgl\"}], \"histogram\": [{\"marker\": {\"colorbar\": {\"outlinewidth\": 0, \"ticks\": \"\"}}, \"type\": \"histogram\"}], \"histogram2d\": [{\"colorbar\": {\"outlinewidth\": 0, \"ticks\": \"\"}, \"colorscale\": [[0.0, \"#0d0887\"], [0.1111111111111111, \"#46039f\"], [0.2222222222222222, \"#7201a8\"], [0.3333333333333333, \"#9c179e\"], [0.4444444444444444, \"#bd3786\"], [0.5555555555555556, \"#d8576b\"], [0.6666666666666666, \"#ed7953\"], [0.7777777777777778, \"#fb9f3a\"], [0.8888888888888888, \"#fdca26\"], [1.0, \"#f0f921\"]], \"type\": \"histogram2d\"}], \"histogram2dcontour\": [{\"colorbar\": {\"outlinewidth\": 0, \"ticks\": \"\"}, \"colorscale\": [[0.0, \"#0d0887\"], [0.1111111111111111, \"#46039f\"], [0.2222222222222222, \"#7201a8\"], [0.3333333333333333, \"#9c179e\"], [0.4444444444444444, \"#bd3786\"], [0.5555555555555556, \"#d8576b\"], [0.6666666666666666, \"#ed7953\"], [0.7777777777777778, \"#fb9f3a\"], [0.8888888888888888, \"#fdca26\"], [1.0, \"#f0f921\"]], \"type\": \"histogram2dcontour\"}], \"mesh3d\": [{\"colorbar\": {\"outlinewidth\": 0, \"ticks\": \"\"}, \"type\": \"mesh3d\"}], \"parcoords\": [{\"line\": {\"colorbar\": {\"outlinewidth\": 0, \"ticks\": \"\"}}, \"type\": \"parcoords\"}], \"pie\": [{\"automargin\": true, \"type\": \"pie\"}], \"scatter\": [{\"marker\": {\"colorbar\": {\"outlinewidth\": 0, \"ticks\": \"\"}}, \"type\": \"scatter\"}], \"scatter3d\": [{\"line\": {\"colorbar\": {\"outlinewidth\": 0, \"ticks\": \"\"}}, \"marker\": {\"colorbar\": {\"outlinewidth\": 0, \"ticks\": \"\"}}, \"type\": \"scatter3d\"}], \"scattercarpet\": [{\"marker\": {\"colorbar\": {\"outlinewidth\": 0, \"ticks\": \"\"}}, \"type\": \"scattercarpet\"}], \"scattergeo\": [{\"marker\": {\"colorbar\": {\"outlinewidth\": 0, \"ticks\": \"\"}}, \"type\": \"scattergeo\"}], \"scattergl\": [{\"marker\": {\"colorbar\": {\"outlinewidth\": 0, \"ticks\": \"\"}}, \"type\": \"scattergl\"}], \"scattermapbox\": [{\"marker\": {\"colorbar\": {\"outlinewidth\": 0, \"ticks\": \"\"}}, \"type\": \"scattermapbox\"}], \"scatterpolar\": [{\"marker\": {\"colorbar\": {\"outlinewidth\": 0, \"ticks\": \"\"}}, \"type\": \"scatterpolar\"}], \"scatterpolargl\": [{\"marker\": {\"colorbar\": {\"outlinewidth\": 0, \"ticks\": \"\"}}, \"type\": \"scatterpolargl\"}], \"scatterternary\": [{\"marker\": {\"colorbar\": {\"outlinewidth\": 0, \"ticks\": \"\"}}, \"type\": \"scatterternary\"}], \"surface\": [{\"colorbar\": {\"outlinewidth\": 0, \"ticks\": \"\"}, \"colorscale\": [[0.0, \"#0d0887\"], [0.1111111111111111, \"#46039f\"], [0.2222222222222222, \"#7201a8\"], [0.3333333333333333, \"#9c179e\"], [0.4444444444444444, \"#bd3786\"], [0.5555555555555556, \"#d8576b\"], [0.6666666666666666, \"#ed7953\"], [0.7777777777777778, \"#fb9f3a\"], [0.8888888888888888, \"#fdca26\"], [1.0, \"#f0f921\"]], \"type\": \"surface\"}], \"table\": [{\"cells\": {\"fill\": {\"color\": \"#EBF0F8\"}, \"line\": {\"color\": \"white\"}}, \"header\": {\"fill\": {\"color\": \"#C8D4E3\"}, \"line\": {\"color\": \"white\"}}, \"type\": \"table\"}]}, \"layout\": {\"annotationdefaults\": {\"arrowcolor\": \"#2a3f5f\", \"arrowhead\": 0, \"arrowwidth\": 1}, \"coloraxis\": {\"colorbar\": {\"outlinewidth\": 0, \"ticks\": \"\"}}, \"colorscale\": {\"diverging\": [[0, \"#8e0152\"], [0.1, \"#c51b7d\"], [0.2, \"#de77ae\"], [0.3, \"#f1b6da\"], [0.4, \"#fde0ef\"], [0.5, \"#f7f7f7\"], [0.6, \"#e6f5d0\"], [0.7, \"#b8e186\"], [0.8, \"#7fbc41\"], [0.9, \"#4d9221\"], [1, \"#276419\"]], \"sequential\": [[0.0, \"#0d0887\"], [0.1111111111111111, \"#46039f\"], [0.2222222222222222, \"#7201a8\"], [0.3333333333333333, \"#9c179e\"], [0.4444444444444444, \"#bd3786\"], [0.5555555555555556, \"#d8576b\"], [0.6666666666666666, \"#ed7953\"], [0.7777777777777778, \"#fb9f3a\"], [0.8888888888888888, \"#fdca26\"], [1.0, \"#f0f921\"]], \"sequentialminus\": [[0.0, \"#0d0887\"], [0.1111111111111111, \"#46039f\"], [0.2222222222222222, \"#7201a8\"], [0.3333333333333333, \"#9c179e\"], [0.4444444444444444, \"#bd3786\"], [0.5555555555555556, \"#d8576b\"], [0.6666666666666666, \"#ed7953\"], [0.7777777777777778, \"#fb9f3a\"], [0.8888888888888888, \"#fdca26\"], [1.0, \"#f0f921\"]]}, \"colorway\": [\"#636efa\", \"#EF553B\", \"#00cc96\", \"#ab63fa\", \"#FFA15A\", \"#19d3f3\", \"#FF6692\", \"#B6E880\", \"#FF97FF\", \"#FECB52\"], \"font\": {\"color\": \"#2a3f5f\"}, \"geo\": {\"bgcolor\": \"white\", \"lakecolor\": \"white\", \"landcolor\": \"#E5ECF6\", \"showlakes\": true, \"showland\": true, \"subunitcolor\": \"white\"}, \"hoverlabel\": {\"align\": \"left\"}, \"hovermode\": \"closest\", \"mapbox\": {\"style\": \"light\"}, \"paper_bgcolor\": \"white\", \"plot_bgcolor\": \"#E5ECF6\", \"polar\": {\"angularaxis\": {\"gridcolor\": \"white\", \"linecolor\": \"white\", \"ticks\": \"\"}, \"bgcolor\": \"#E5ECF6\", \"radialaxis\": {\"gridcolor\": \"white\", \"linecolor\": \"white\", \"ticks\": \"\"}}, \"scene\": {\"xaxis\": {\"backgroundcolor\": \"#E5ECF6\", \"gridcolor\": \"white\", \"gridwidth\": 2, \"linecolor\": \"white\", \"showbackground\": true, \"ticks\": \"\", \"zerolinecolor\": \"white\"}, \"yaxis\": {\"backgroundcolor\": \"#E5ECF6\", \"gridcolor\": \"white\", \"gridwidth\": 2, \"linecolor\": \"white\", \"showbackground\": true, \"ticks\": \"\", \"zerolinecolor\": \"white\"}, \"zaxis\": {\"backgroundcolor\": \"#E5ECF6\", \"gridcolor\": \"white\", \"gridwidth\": 2, \"linecolor\": \"white\", \"showbackground\": true, \"ticks\": \"\", \"zerolinecolor\": \"white\"}}, \"shapedefaults\": {\"line\": {\"color\": \"#2a3f5f\"}}, \"ternary\": {\"aaxis\": {\"gridcolor\": \"white\", \"linecolor\": \"white\", \"ticks\": \"\"}, \"baxis\": {\"gridcolor\": \"white\", \"linecolor\": \"white\", \"ticks\": \"\"}, \"bgcolor\": \"#E5ECF6\", \"caxis\": {\"gridcolor\": \"white\", \"linecolor\": \"white\", \"ticks\": \"\"}}, \"title\": {\"x\": 0.05}, \"xaxis\": {\"automargin\": true, \"gridcolor\": \"white\", \"linecolor\": \"white\", \"ticks\": \"\", \"title\": {\"standoff\": 15}, \"zerolinecolor\": \"white\", \"zerolinewidth\": 2}, \"yaxis\": {\"automargin\": true, \"gridcolor\": \"white\", \"linecolor\": \"white\", \"ticks\": \"\", \"title\": {\"standoff\": 15}, \"zerolinecolor\": \"white\", \"zerolinewidth\": 2}}}, \"title\": {\"text\": \"ROC Curve\"}, \"xaxis\": {\"title\": {\"text\": \"FPR\"}}, \"yaxis\": {\"title\": {\"text\": \"TPR\"}}},\n",
              "                        {\"responsive\": true}\n",
              "                    ).then(function(){\n",
              "                            \n",
              "var gd = document.getElementById('bdc9e8a7-f135-4e92-be9c-6c6946730d15');\n",
              "var x = new MutationObserver(function (mutations, observer) {{\n",
              "        var display = window.getComputedStyle(gd).display;\n",
              "        if (!display || display === 'none') {{\n",
              "            console.log([gd, 'removed!']);\n",
              "            Plotly.purge(gd);\n",
              "            observer.disconnect();\n",
              "        }}\n",
              "}});\n",
              "\n",
              "// Listen for the removal of the full notebook cells\n",
              "var notebookContainer = gd.closest('#notebook-container');\n",
              "if (notebookContainer) {{\n",
              "    x.observe(notebookContainer, {childList: true});\n",
              "}}\n",
              "\n",
              "// Listen for the clearing of the current output cell\n",
              "var outputEl = gd.closest('.output');\n",
              "if (outputEl) {{\n",
              "    x.observe(outputEl, {childList: true});\n",
              "}}\n",
              "\n",
              "                        })\n",
              "                };\n",
              "                \n",
              "            </script>\n",
              "        </div>\n",
              "</body>\n",
              "</html>"
            ]
          },
          "metadata": {}
        }
      ]
    },
    {
      "cell_type": "code",
      "metadata": {
        "execution": {
          "iopub.status.busy": "2021-10-21T05:34:57.991516Z",
          "iopub.execute_input": "2021-10-21T05:34:57.992463Z",
          "iopub.status.idle": "2021-10-21T05:34:58.032956Z",
          "shell.execute_reply.started": "2021-10-21T05:34:57.992418Z",
          "shell.execute_reply": "2021-10-21T05:34:58.032275Z"
        },
        "trusted": true,
        "id": "o9B-DBnI4kBT",
        "colab": {
          "base_uri": "https://localhost:8080/"
        },
        "outputId": "b32aba3a-16fa-44a7-9106-982047371208"
      },
      "source": [
        "evaluate_model(y_true, pred_eff, threshold=0.35)"
      ],
      "execution_count": null,
      "outputs": [
        {
          "output_type": "stream",
          "name": "stdout",
          "text": [
            "===== Classification Report ======\n",
            "              precision    recall  f1-score   support\n",
            "\n",
            "           0       0.97      0.97      0.97      2039\n",
            "           1       0.90      0.91      0.91       723\n",
            "\n",
            "    accuracy                           0.95      2762\n",
            "   macro avg       0.94      0.94      0.94      2762\n",
            "weighted avg       0.95      0.95      0.95      2762\n",
            "\n",
            "\n",
            "===== Confusion Matrix =====\n",
            "[[1968   71]\n",
            " [  62  661]]\n",
            "\n",
            "===== Other Metrics =====\n",
            "ROC_AUC: 0.985183835029602\n"
          ]
        }
      ]
    }
  ]
}