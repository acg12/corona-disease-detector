{
  "metadata": {
    "kernelspec": {
      "language": "python",
      "display_name": "Python 3",
      "name": "python3"
    },
    "language_info": {
      "name": "python",
      "version": "3.7.12",
      "mimetype": "text/x-python",
      "codemirror_mode": {
        "name": "ipython",
        "version": 3
      },
      "pygments_lexer": "ipython3",
      "nbconvert_exporter": "python",
      "file_extension": ".py"
    },
    "colab": {
      "name": "Model Optimization.ipynb",
      "provenance": [],
      "include_colab_link": true
    },
    "accelerator": "GPU"
  },
  "nbformat_minor": 0,
  "nbformat": 4,
  "cells": [
    {
      "cell_type": "markdown",
      "metadata": {
        "id": "view-in-github",
        "colab_type": "text"
      },
      "source": [
        "<a href=\"https://colab.research.google.com/github/acg12/corona-disease-detector/blob/master/experiments/Model_Optimization.ipynb\" target=\"_parent\"><img src=\"https://colab.research.google.com/assets/colab-badge.svg\" alt=\"Open In Colab\"/></a>"
      ]
    },
    {
      "cell_type": "code",
      "metadata": {
        "execution": {
          "iopub.status.busy": "2021-10-25T04:14:30.289324Z",
          "iopub.execute_input": "2021-10-25T04:14:30.289878Z",
          "iopub.status.idle": "2021-10-25T04:14:39.480719Z",
          "shell.execute_reply.started": "2021-10-25T04:14:30.28984Z",
          "shell.execute_reply": "2021-10-25T04:14:39.479824Z"
        },
        "trusted": true,
        "id": "ePxe06HF4kBG",
        "colab": {
          "base_uri": "https://localhost:8080/"
        },
        "outputId": "5f1fe28e-5238-4553-e591-430750767640"
      },
      "source": [
        "!pip install openpyxl\n",
        "!pip install kaggle"
      ],
      "execution_count": 1,
      "outputs": [
        {
          "output_type": "stream",
          "name": "stdout",
          "text": [
            "Requirement already satisfied: openpyxl in /usr/local/lib/python3.7/dist-packages (2.5.9)\n",
            "Requirement already satisfied: et-xmlfile in /usr/local/lib/python3.7/dist-packages (from openpyxl) (1.1.0)\n",
            "Requirement already satisfied: jdcal in /usr/local/lib/python3.7/dist-packages (from openpyxl) (1.4.1)\n",
            "Requirement already satisfied: kaggle in /usr/local/lib/python3.7/dist-packages (1.5.12)\n",
            "Requirement already satisfied: certifi in /usr/local/lib/python3.7/dist-packages (from kaggle) (2021.10.8)\n",
            "Requirement already satisfied: python-slugify in /usr/local/lib/python3.7/dist-packages (from kaggle) (5.0.2)\n",
            "Requirement already satisfied: python-dateutil in /usr/local/lib/python3.7/dist-packages (from kaggle) (2.8.2)\n",
            "Requirement already satisfied: requests in /usr/local/lib/python3.7/dist-packages (from kaggle) (2.23.0)\n",
            "Requirement already satisfied: six>=1.10 in /usr/local/lib/python3.7/dist-packages (from kaggle) (1.15.0)\n",
            "Requirement already satisfied: tqdm in /usr/local/lib/python3.7/dist-packages (from kaggle) (4.62.3)\n",
            "Requirement already satisfied: urllib3 in /usr/local/lib/python3.7/dist-packages (from kaggle) (1.24.3)\n",
            "Requirement already satisfied: text-unidecode>=1.3 in /usr/local/lib/python3.7/dist-packages (from python-slugify->kaggle) (1.3)\n",
            "Requirement already satisfied: chardet<4,>=3.0.2 in /usr/local/lib/python3.7/dist-packages (from requests->kaggle) (3.0.4)\n",
            "Requirement already satisfied: idna<3,>=2.5 in /usr/local/lib/python3.7/dist-packages (from requests->kaggle) (2.10)\n"
          ]
        }
      ]
    },
    {
      "cell_type": "code",
      "source": [
        "import numpy as np # linear algebra\n",
        "import pandas as pd # data processing, CSV file I/O (e.g. pd.read_csv)\n",
        "\n",
        "from sklearn.model_selection import train_test_split\n",
        "\n",
        "# For visualizing images\n",
        "import matplotlib.pyplot as plt\n",
        "import seaborn as sns\n",
        "import matplotlib.image as mpimg\n",
        "import random\n",
        "from plotly.subplots import make_subplots\n",
        "import plotly.graph_objects as go\n",
        "\n",
        "# For augmenting data\n",
        "from tensorflow.keras.preprocessing.image import ImageDataGenerator\n",
        "\n",
        "# For modelling\n",
        "import tensorflow as tf\n",
        "from tensorflow import keras\n",
        "from tensorflow.keras.optimizers import Adam, SGD\n",
        "from tensorflow.keras.layers import Dense, Flatten, Conv2D, MaxPool2D, Activation\n",
        "from tensorflow.keras import Sequential, layers\n",
        "import tensorflow_hub as hub\n",
        "from sklearn.model_selection import StratifiedKFold\n",
        "\n",
        "# For evaluation\n",
        "from tensorflow.keras.models import load_model\n",
        "from sklearn.metrics import classification_report, confusion_matrix, roc_curve\n",
        "\n",
        "import os"
      ],
      "metadata": {
        "_uuid": "8f2839f25d086af736a60e9eeb907d3b93b6e0e5",
        "_cell_guid": "b1076dfc-b9ad-4769-8c92-a6c4dae69d19",
        "execution": {
          "iopub.status.busy": "2022-01-13T05:39:18.760050Z",
          "iopub.execute_input": "2022-01-13T05:39:18.760359Z",
          "iopub.status.idle": "2022-01-13T05:39:24.615555Z",
          "shell.execute_reply.started": "2022-01-13T05:39:18.760325Z",
          "shell.execute_reply": "2022-01-13T05:39:24.614829Z"
        },
        "trusted": true,
        "id": "JY6lJRF7Zg7l"
      },
      "execution_count": 2,
      "outputs": []
    },
    {
      "cell_type": "code",
      "metadata": {
        "id": "png93YD65PJH"
      },
      "source": [
        "!rm -r ~/.kaggle\n",
        "!mkdir ~/.kaggle\n",
        "!mv ./kaggle.json ~/.kaggle/\n",
        "!chmod 600 ~/.kaggle/kaggle.json"
      ],
      "execution_count": 4,
      "outputs": []
    },
    {
      "cell_type": "code",
      "metadata": {
        "colab": {
          "base_uri": "https://localhost:8080/"
        },
        "id": "e8u8SEqQ5y1T",
        "outputId": "7bb97dd1-ef94-42e2-be1b-e1d1c7d36790"
      },
      "source": [
        "!kaggle datasets download -d tawsifurrahman/covid19-radiography-database"
      ],
      "execution_count": 5,
      "outputs": [
        {
          "output_type": "stream",
          "name": "stdout",
          "text": [
            "Downloading covid19-radiography-database.zip to /content\n",
            " 99% 735M/745M [00:03<00:00, 258MB/s]\n",
            "100% 745M/745M [00:03<00:00, 245MB/s]\n"
          ]
        }
      ]
    },
    {
      "cell_type": "code",
      "metadata": {
        "id": "ikLFtdyU5_IG"
      },
      "source": [
        "!unzip -q /content/covid19-radiography-database.zip"
      ],
      "execution_count": 6,
      "outputs": []
    },
    {
      "cell_type": "code",
      "metadata": {
        "execution": {
          "iopub.status.busy": "2021-10-25T04:14:52.571572Z",
          "iopub.execute_input": "2021-10-25T04:14:52.571834Z",
          "iopub.status.idle": "2021-10-25T04:14:54.00422Z",
          "shell.execute_reply.started": "2021-10-25T04:14:52.571801Z",
          "shell.execute_reply": "2021-10-25T04:14:54.003412Z"
        },
        "trusted": true,
        "id": "fqJUpd3w4kBI"
      },
      "source": [
        "covid_df = pd.read_excel(\"/content/COVID-19_Radiography_Dataset/COVID.metadata.xlsx\")\n",
        "normal_df = pd.read_excel(\"/content/COVID-19_Radiography_Dataset/Normal.metadata.xlsx\")"
      ],
      "execution_count": 7,
      "outputs": []
    },
    {
      "cell_type": "code",
      "source": [
        "covid_df['TARGET'] = 'Positive'\n",
        "normal_df['TARGET'] = 'Negative'\n",
        "normal_df.head()"
      ],
      "metadata": {
        "execution": {
          "iopub.status.busy": "2022-01-13T05:39:37.183028Z",
          "iopub.execute_input": "2022-01-13T05:39:37.183887Z",
          "iopub.status.idle": "2022-01-13T05:39:37.208582Z",
          "shell.execute_reply.started": "2022-01-13T05:39:37.183846Z",
          "shell.execute_reply": "2022-01-13T05:39:37.207942Z"
        },
        "trusted": true,
        "colab": {
          "base_uri": "https://localhost:8080/",
          "height": 206
        },
        "id": "Mwx65VroZg7u",
        "outputId": "0ed3aea5-ead0-4b0a-9153-080f314bc214"
      },
      "execution_count": 8,
      "outputs": [
        {
          "output_type": "execute_result",
          "data": {
            "text/html": [
              "\n",
              "  <div id=\"df-c705b199-be37-4eb7-86d5-702c85e0e563\">\n",
              "    <div class=\"colab-df-container\">\n",
              "      <div>\n",
              "<style scoped>\n",
              "    .dataframe tbody tr th:only-of-type {\n",
              "        vertical-align: middle;\n",
              "    }\n",
              "\n",
              "    .dataframe tbody tr th {\n",
              "        vertical-align: top;\n",
              "    }\n",
              "\n",
              "    .dataframe thead th {\n",
              "        text-align: right;\n",
              "    }\n",
              "</style>\n",
              "<table border=\"1\" class=\"dataframe\">\n",
              "  <thead>\n",
              "    <tr style=\"text-align: right;\">\n",
              "      <th></th>\n",
              "      <th>FILE NAME</th>\n",
              "      <th>FORMAT</th>\n",
              "      <th>SIZE</th>\n",
              "      <th>URL</th>\n",
              "      <th>TARGET</th>\n",
              "    </tr>\n",
              "  </thead>\n",
              "  <tbody>\n",
              "    <tr>\n",
              "      <th>0</th>\n",
              "      <td>NORMAL-1</td>\n",
              "      <td>PNG</td>\n",
              "      <td>256*256</td>\n",
              "      <td>https://www.kaggle.com/c/rsna-pneumonia-detect...</td>\n",
              "      <td>Negative</td>\n",
              "    </tr>\n",
              "    <tr>\n",
              "      <th>1</th>\n",
              "      <td>NORMAL-2</td>\n",
              "      <td>PNG</td>\n",
              "      <td>256*256</td>\n",
              "      <td>https://www.kaggle.com/c/rsna-pneumonia-detect...</td>\n",
              "      <td>Negative</td>\n",
              "    </tr>\n",
              "    <tr>\n",
              "      <th>2</th>\n",
              "      <td>NORMAL-3</td>\n",
              "      <td>PNG</td>\n",
              "      <td>256*256</td>\n",
              "      <td>https://www.kaggle.com/c/rsna-pneumonia-detect...</td>\n",
              "      <td>Negative</td>\n",
              "    </tr>\n",
              "    <tr>\n",
              "      <th>3</th>\n",
              "      <td>NORMAL-4</td>\n",
              "      <td>PNG</td>\n",
              "      <td>256*256</td>\n",
              "      <td>https://www.kaggle.com/c/rsna-pneumonia-detect...</td>\n",
              "      <td>Negative</td>\n",
              "    </tr>\n",
              "    <tr>\n",
              "      <th>4</th>\n",
              "      <td>NORMAL-5</td>\n",
              "      <td>PNG</td>\n",
              "      <td>256*256</td>\n",
              "      <td>https://www.kaggle.com/c/rsna-pneumonia-detect...</td>\n",
              "      <td>Negative</td>\n",
              "    </tr>\n",
              "  </tbody>\n",
              "</table>\n",
              "</div>\n",
              "      <button class=\"colab-df-convert\" onclick=\"convertToInteractive('df-c705b199-be37-4eb7-86d5-702c85e0e563')\"\n",
              "              title=\"Convert this dataframe to an interactive table.\"\n",
              "              style=\"display:none;\">\n",
              "        \n",
              "  <svg xmlns=\"http://www.w3.org/2000/svg\" height=\"24px\"viewBox=\"0 0 24 24\"\n",
              "       width=\"24px\">\n",
              "    <path d=\"M0 0h24v24H0V0z\" fill=\"none\"/>\n",
              "    <path d=\"M18.56 5.44l.94 2.06.94-2.06 2.06-.94-2.06-.94-.94-2.06-.94 2.06-2.06.94zm-11 1L8.5 8.5l.94-2.06 2.06-.94-2.06-.94L8.5 2.5l-.94 2.06-2.06.94zm10 10l.94 2.06.94-2.06 2.06-.94-2.06-.94-.94-2.06-.94 2.06-2.06.94z\"/><path d=\"M17.41 7.96l-1.37-1.37c-.4-.4-.92-.59-1.43-.59-.52 0-1.04.2-1.43.59L10.3 9.45l-7.72 7.72c-.78.78-.78 2.05 0 2.83L4 21.41c.39.39.9.59 1.41.59.51 0 1.02-.2 1.41-.59l7.78-7.78 2.81-2.81c.8-.78.8-2.07 0-2.86zM5.41 20L4 18.59l7.72-7.72 1.47 1.35L5.41 20z\"/>\n",
              "  </svg>\n",
              "      </button>\n",
              "      \n",
              "  <style>\n",
              "    .colab-df-container {\n",
              "      display:flex;\n",
              "      flex-wrap:wrap;\n",
              "      gap: 12px;\n",
              "    }\n",
              "\n",
              "    .colab-df-convert {\n",
              "      background-color: #E8F0FE;\n",
              "      border: none;\n",
              "      border-radius: 50%;\n",
              "      cursor: pointer;\n",
              "      display: none;\n",
              "      fill: #1967D2;\n",
              "      height: 32px;\n",
              "      padding: 0 0 0 0;\n",
              "      width: 32px;\n",
              "    }\n",
              "\n",
              "    .colab-df-convert:hover {\n",
              "      background-color: #E2EBFA;\n",
              "      box-shadow: 0px 1px 2px rgba(60, 64, 67, 0.3), 0px 1px 3px 1px rgba(60, 64, 67, 0.15);\n",
              "      fill: #174EA6;\n",
              "    }\n",
              "\n",
              "    [theme=dark] .colab-df-convert {\n",
              "      background-color: #3B4455;\n",
              "      fill: #D2E3FC;\n",
              "    }\n",
              "\n",
              "    [theme=dark] .colab-df-convert:hover {\n",
              "      background-color: #434B5C;\n",
              "      box-shadow: 0px 1px 3px 1px rgba(0, 0, 0, 0.15);\n",
              "      filter: drop-shadow(0px 1px 2px rgba(0, 0, 0, 0.3));\n",
              "      fill: #FFFFFF;\n",
              "    }\n",
              "  </style>\n",
              "\n",
              "      <script>\n",
              "        const buttonEl =\n",
              "          document.querySelector('#df-c705b199-be37-4eb7-86d5-702c85e0e563 button.colab-df-convert');\n",
              "        buttonEl.style.display =\n",
              "          google.colab.kernel.accessAllowed ? 'block' : 'none';\n",
              "\n",
              "        async function convertToInteractive(key) {\n",
              "          const element = document.querySelector('#df-c705b199-be37-4eb7-86d5-702c85e0e563');\n",
              "          const dataTable =\n",
              "            await google.colab.kernel.invokeFunction('convertToInteractive',\n",
              "                                                     [key], {});\n",
              "          if (!dataTable) return;\n",
              "\n",
              "          const docLinkHtml = 'Like what you see? Visit the ' +\n",
              "            '<a target=\"_blank\" href=https://colab.research.google.com/notebooks/data_table.ipynb>data table notebook</a>'\n",
              "            + ' to learn more about interactive tables.';\n",
              "          element.innerHTML = '';\n",
              "          dataTable['output_type'] = 'display_data';\n",
              "          await google.colab.output.renderOutput(dataTable, element);\n",
              "          const docLink = document.createElement('div');\n",
              "          docLink.innerHTML = docLinkHtml;\n",
              "          element.appendChild(docLink);\n",
              "        }\n",
              "      </script>\n",
              "    </div>\n",
              "  </div>\n",
              "  "
            ],
            "text/plain": [
              "  FILE NAME FORMAT  ...                                                URL    TARGET\n",
              "0  NORMAL-1    PNG  ...  https://www.kaggle.com/c/rsna-pneumonia-detect...  Negative\n",
              "1  NORMAL-2    PNG  ...  https://www.kaggle.com/c/rsna-pneumonia-detect...  Negative\n",
              "2  NORMAL-3    PNG  ...  https://www.kaggle.com/c/rsna-pneumonia-detect...  Negative\n",
              "3  NORMAL-4    PNG  ...  https://www.kaggle.com/c/rsna-pneumonia-detect...  Negative\n",
              "4  NORMAL-5    PNG  ...  https://www.kaggle.com/c/rsna-pneumonia-detect...  Negative\n",
              "\n",
              "[5 rows x 5 columns]"
            ]
          },
          "metadata": {},
          "execution_count": 8
        }
      ]
    },
    {
      "cell_type": "code",
      "source": [
        "covid_df['FILE NAME'] = covid_df.apply(lambda x: \"COVID/\" + x['FILE NAME'] + \".\" + str.lower(x['FORMAT']), axis=1)\n",
        "normal_df['FILE NAME'] = normal_df.apply(lambda x: \"Normal/\" + str.capitalize(x['FILE NAME']) + \".\" + str.lower(x['FORMAT']), axis=1)\n",
        "normal_df.head()"
      ],
      "metadata": {
        "execution": {
          "iopub.status.busy": "2022-01-13T05:39:37.209856Z",
          "iopub.execute_input": "2022-01-13T05:39:37.210132Z",
          "iopub.status.idle": "2022-01-13T05:39:37.454566Z",
          "shell.execute_reply.started": "2022-01-13T05:39:37.210099Z",
          "shell.execute_reply": "2022-01-13T05:39:37.453769Z"
        },
        "trusted": true,
        "colab": {
          "base_uri": "https://localhost:8080/",
          "height": 206
        },
        "id": "Wbw_xX5QZg7v",
        "outputId": "d9d86bda-003d-4108-ad51-cb47c024a01b"
      },
      "execution_count": 9,
      "outputs": [
        {
          "output_type": "execute_result",
          "data": {
            "text/html": [
              "\n",
              "  <div id=\"df-106e5ae2-812a-4d7b-b868-1dc5a6169e2b\">\n",
              "    <div class=\"colab-df-container\">\n",
              "      <div>\n",
              "<style scoped>\n",
              "    .dataframe tbody tr th:only-of-type {\n",
              "        vertical-align: middle;\n",
              "    }\n",
              "\n",
              "    .dataframe tbody tr th {\n",
              "        vertical-align: top;\n",
              "    }\n",
              "\n",
              "    .dataframe thead th {\n",
              "        text-align: right;\n",
              "    }\n",
              "</style>\n",
              "<table border=\"1\" class=\"dataframe\">\n",
              "  <thead>\n",
              "    <tr style=\"text-align: right;\">\n",
              "      <th></th>\n",
              "      <th>FILE NAME</th>\n",
              "      <th>FORMAT</th>\n",
              "      <th>SIZE</th>\n",
              "      <th>URL</th>\n",
              "      <th>TARGET</th>\n",
              "    </tr>\n",
              "  </thead>\n",
              "  <tbody>\n",
              "    <tr>\n",
              "      <th>0</th>\n",
              "      <td>Normal/Normal-1.png</td>\n",
              "      <td>PNG</td>\n",
              "      <td>256*256</td>\n",
              "      <td>https://www.kaggle.com/c/rsna-pneumonia-detect...</td>\n",
              "      <td>Negative</td>\n",
              "    </tr>\n",
              "    <tr>\n",
              "      <th>1</th>\n",
              "      <td>Normal/Normal-2.png</td>\n",
              "      <td>PNG</td>\n",
              "      <td>256*256</td>\n",
              "      <td>https://www.kaggle.com/c/rsna-pneumonia-detect...</td>\n",
              "      <td>Negative</td>\n",
              "    </tr>\n",
              "    <tr>\n",
              "      <th>2</th>\n",
              "      <td>Normal/Normal-3.png</td>\n",
              "      <td>PNG</td>\n",
              "      <td>256*256</td>\n",
              "      <td>https://www.kaggle.com/c/rsna-pneumonia-detect...</td>\n",
              "      <td>Negative</td>\n",
              "    </tr>\n",
              "    <tr>\n",
              "      <th>3</th>\n",
              "      <td>Normal/Normal-4.png</td>\n",
              "      <td>PNG</td>\n",
              "      <td>256*256</td>\n",
              "      <td>https://www.kaggle.com/c/rsna-pneumonia-detect...</td>\n",
              "      <td>Negative</td>\n",
              "    </tr>\n",
              "    <tr>\n",
              "      <th>4</th>\n",
              "      <td>Normal/Normal-5.png</td>\n",
              "      <td>PNG</td>\n",
              "      <td>256*256</td>\n",
              "      <td>https://www.kaggle.com/c/rsna-pneumonia-detect...</td>\n",
              "      <td>Negative</td>\n",
              "    </tr>\n",
              "  </tbody>\n",
              "</table>\n",
              "</div>\n",
              "      <button class=\"colab-df-convert\" onclick=\"convertToInteractive('df-106e5ae2-812a-4d7b-b868-1dc5a6169e2b')\"\n",
              "              title=\"Convert this dataframe to an interactive table.\"\n",
              "              style=\"display:none;\">\n",
              "        \n",
              "  <svg xmlns=\"http://www.w3.org/2000/svg\" height=\"24px\"viewBox=\"0 0 24 24\"\n",
              "       width=\"24px\">\n",
              "    <path d=\"M0 0h24v24H0V0z\" fill=\"none\"/>\n",
              "    <path d=\"M18.56 5.44l.94 2.06.94-2.06 2.06-.94-2.06-.94-.94-2.06-.94 2.06-2.06.94zm-11 1L8.5 8.5l.94-2.06 2.06-.94-2.06-.94L8.5 2.5l-.94 2.06-2.06.94zm10 10l.94 2.06.94-2.06 2.06-.94-2.06-.94-.94-2.06-.94 2.06-2.06.94z\"/><path d=\"M17.41 7.96l-1.37-1.37c-.4-.4-.92-.59-1.43-.59-.52 0-1.04.2-1.43.59L10.3 9.45l-7.72 7.72c-.78.78-.78 2.05 0 2.83L4 21.41c.39.39.9.59 1.41.59.51 0 1.02-.2 1.41-.59l7.78-7.78 2.81-2.81c.8-.78.8-2.07 0-2.86zM5.41 20L4 18.59l7.72-7.72 1.47 1.35L5.41 20z\"/>\n",
              "  </svg>\n",
              "      </button>\n",
              "      \n",
              "  <style>\n",
              "    .colab-df-container {\n",
              "      display:flex;\n",
              "      flex-wrap:wrap;\n",
              "      gap: 12px;\n",
              "    }\n",
              "\n",
              "    .colab-df-convert {\n",
              "      background-color: #E8F0FE;\n",
              "      border: none;\n",
              "      border-radius: 50%;\n",
              "      cursor: pointer;\n",
              "      display: none;\n",
              "      fill: #1967D2;\n",
              "      height: 32px;\n",
              "      padding: 0 0 0 0;\n",
              "      width: 32px;\n",
              "    }\n",
              "\n",
              "    .colab-df-convert:hover {\n",
              "      background-color: #E2EBFA;\n",
              "      box-shadow: 0px 1px 2px rgba(60, 64, 67, 0.3), 0px 1px 3px 1px rgba(60, 64, 67, 0.15);\n",
              "      fill: #174EA6;\n",
              "    }\n",
              "\n",
              "    [theme=dark] .colab-df-convert {\n",
              "      background-color: #3B4455;\n",
              "      fill: #D2E3FC;\n",
              "    }\n",
              "\n",
              "    [theme=dark] .colab-df-convert:hover {\n",
              "      background-color: #434B5C;\n",
              "      box-shadow: 0px 1px 3px 1px rgba(0, 0, 0, 0.15);\n",
              "      filter: drop-shadow(0px 1px 2px rgba(0, 0, 0, 0.3));\n",
              "      fill: #FFFFFF;\n",
              "    }\n",
              "  </style>\n",
              "\n",
              "      <script>\n",
              "        const buttonEl =\n",
              "          document.querySelector('#df-106e5ae2-812a-4d7b-b868-1dc5a6169e2b button.colab-df-convert');\n",
              "        buttonEl.style.display =\n",
              "          google.colab.kernel.accessAllowed ? 'block' : 'none';\n",
              "\n",
              "        async function convertToInteractive(key) {\n",
              "          const element = document.querySelector('#df-106e5ae2-812a-4d7b-b868-1dc5a6169e2b');\n",
              "          const dataTable =\n",
              "            await google.colab.kernel.invokeFunction('convertToInteractive',\n",
              "                                                     [key], {});\n",
              "          if (!dataTable) return;\n",
              "\n",
              "          const docLinkHtml = 'Like what you see? Visit the ' +\n",
              "            '<a target=\"_blank\" href=https://colab.research.google.com/notebooks/data_table.ipynb>data table notebook</a>'\n",
              "            + ' to learn more about interactive tables.';\n",
              "          element.innerHTML = '';\n",
              "          dataTable['output_type'] = 'display_data';\n",
              "          await google.colab.output.renderOutput(dataTable, element);\n",
              "          const docLink = document.createElement('div');\n",
              "          docLink.innerHTML = docLinkHtml;\n",
              "          element.appendChild(docLink);\n",
              "        }\n",
              "      </script>\n",
              "    </div>\n",
              "  </div>\n",
              "  "
            ],
            "text/plain": [
              "             FILE NAME  ...    TARGET\n",
              "0  Normal/Normal-1.png  ...  Negative\n",
              "1  Normal/Normal-2.png  ...  Negative\n",
              "2  Normal/Normal-3.png  ...  Negative\n",
              "3  Normal/Normal-4.png  ...  Negative\n",
              "4  Normal/Normal-5.png  ...  Negative\n",
              "\n",
              "[5 rows x 5 columns]"
            ]
          },
          "metadata": {},
          "execution_count": 9
        }
      ]
    },
    {
      "cell_type": "code",
      "source": [
        "df = pd.concat([normal_df[['FILE NAME', 'TARGET']], \n",
        "                covid_df[['FILE NAME','TARGET']]], ignore_index=True)\n",
        "df.head()"
      ],
      "metadata": {
        "execution": {
          "iopub.status.busy": "2022-01-13T05:39:37.456079Z",
          "iopub.execute_input": "2022-01-13T05:39:37.456341Z",
          "iopub.status.idle": "2022-01-13T05:39:37.473351Z",
          "shell.execute_reply.started": "2022-01-13T05:39:37.456306Z",
          "shell.execute_reply": "2022-01-13T05:39:37.472723Z"
        },
        "trusted": true,
        "colab": {
          "base_uri": "https://localhost:8080/",
          "height": 206
        },
        "id": "2CuQun9VZg7x",
        "outputId": "353d6fa6-0ab9-48ca-a171-007a43da67a3"
      },
      "execution_count": 10,
      "outputs": [
        {
          "output_type": "execute_result",
          "data": {
            "text/html": [
              "\n",
              "  <div id=\"df-01c1af36-80c1-4023-b5fd-0f3415dcf733\">\n",
              "    <div class=\"colab-df-container\">\n",
              "      <div>\n",
              "<style scoped>\n",
              "    .dataframe tbody tr th:only-of-type {\n",
              "        vertical-align: middle;\n",
              "    }\n",
              "\n",
              "    .dataframe tbody tr th {\n",
              "        vertical-align: top;\n",
              "    }\n",
              "\n",
              "    .dataframe thead th {\n",
              "        text-align: right;\n",
              "    }\n",
              "</style>\n",
              "<table border=\"1\" class=\"dataframe\">\n",
              "  <thead>\n",
              "    <tr style=\"text-align: right;\">\n",
              "      <th></th>\n",
              "      <th>FILE NAME</th>\n",
              "      <th>TARGET</th>\n",
              "    </tr>\n",
              "  </thead>\n",
              "  <tbody>\n",
              "    <tr>\n",
              "      <th>0</th>\n",
              "      <td>Normal/Normal-1.png</td>\n",
              "      <td>Negative</td>\n",
              "    </tr>\n",
              "    <tr>\n",
              "      <th>1</th>\n",
              "      <td>Normal/Normal-2.png</td>\n",
              "      <td>Negative</td>\n",
              "    </tr>\n",
              "    <tr>\n",
              "      <th>2</th>\n",
              "      <td>Normal/Normal-3.png</td>\n",
              "      <td>Negative</td>\n",
              "    </tr>\n",
              "    <tr>\n",
              "      <th>3</th>\n",
              "      <td>Normal/Normal-4.png</td>\n",
              "      <td>Negative</td>\n",
              "    </tr>\n",
              "    <tr>\n",
              "      <th>4</th>\n",
              "      <td>Normal/Normal-5.png</td>\n",
              "      <td>Negative</td>\n",
              "    </tr>\n",
              "  </tbody>\n",
              "</table>\n",
              "</div>\n",
              "      <button class=\"colab-df-convert\" onclick=\"convertToInteractive('df-01c1af36-80c1-4023-b5fd-0f3415dcf733')\"\n",
              "              title=\"Convert this dataframe to an interactive table.\"\n",
              "              style=\"display:none;\">\n",
              "        \n",
              "  <svg xmlns=\"http://www.w3.org/2000/svg\" height=\"24px\"viewBox=\"0 0 24 24\"\n",
              "       width=\"24px\">\n",
              "    <path d=\"M0 0h24v24H0V0z\" fill=\"none\"/>\n",
              "    <path d=\"M18.56 5.44l.94 2.06.94-2.06 2.06-.94-2.06-.94-.94-2.06-.94 2.06-2.06.94zm-11 1L8.5 8.5l.94-2.06 2.06-.94-2.06-.94L8.5 2.5l-.94 2.06-2.06.94zm10 10l.94 2.06.94-2.06 2.06-.94-2.06-.94-.94-2.06-.94 2.06-2.06.94z\"/><path d=\"M17.41 7.96l-1.37-1.37c-.4-.4-.92-.59-1.43-.59-.52 0-1.04.2-1.43.59L10.3 9.45l-7.72 7.72c-.78.78-.78 2.05 0 2.83L4 21.41c.39.39.9.59 1.41.59.51 0 1.02-.2 1.41-.59l7.78-7.78 2.81-2.81c.8-.78.8-2.07 0-2.86zM5.41 20L4 18.59l7.72-7.72 1.47 1.35L5.41 20z\"/>\n",
              "  </svg>\n",
              "      </button>\n",
              "      \n",
              "  <style>\n",
              "    .colab-df-container {\n",
              "      display:flex;\n",
              "      flex-wrap:wrap;\n",
              "      gap: 12px;\n",
              "    }\n",
              "\n",
              "    .colab-df-convert {\n",
              "      background-color: #E8F0FE;\n",
              "      border: none;\n",
              "      border-radius: 50%;\n",
              "      cursor: pointer;\n",
              "      display: none;\n",
              "      fill: #1967D2;\n",
              "      height: 32px;\n",
              "      padding: 0 0 0 0;\n",
              "      width: 32px;\n",
              "    }\n",
              "\n",
              "    .colab-df-convert:hover {\n",
              "      background-color: #E2EBFA;\n",
              "      box-shadow: 0px 1px 2px rgba(60, 64, 67, 0.3), 0px 1px 3px 1px rgba(60, 64, 67, 0.15);\n",
              "      fill: #174EA6;\n",
              "    }\n",
              "\n",
              "    [theme=dark] .colab-df-convert {\n",
              "      background-color: #3B4455;\n",
              "      fill: #D2E3FC;\n",
              "    }\n",
              "\n",
              "    [theme=dark] .colab-df-convert:hover {\n",
              "      background-color: #434B5C;\n",
              "      box-shadow: 0px 1px 3px 1px rgba(0, 0, 0, 0.15);\n",
              "      filter: drop-shadow(0px 1px 2px rgba(0, 0, 0, 0.3));\n",
              "      fill: #FFFFFF;\n",
              "    }\n",
              "  </style>\n",
              "\n",
              "      <script>\n",
              "        const buttonEl =\n",
              "          document.querySelector('#df-01c1af36-80c1-4023-b5fd-0f3415dcf733 button.colab-df-convert');\n",
              "        buttonEl.style.display =\n",
              "          google.colab.kernel.accessAllowed ? 'block' : 'none';\n",
              "\n",
              "        async function convertToInteractive(key) {\n",
              "          const element = document.querySelector('#df-01c1af36-80c1-4023-b5fd-0f3415dcf733');\n",
              "          const dataTable =\n",
              "            await google.colab.kernel.invokeFunction('convertToInteractive',\n",
              "                                                     [key], {});\n",
              "          if (!dataTable) return;\n",
              "\n",
              "          const docLinkHtml = 'Like what you see? Visit the ' +\n",
              "            '<a target=\"_blank\" href=https://colab.research.google.com/notebooks/data_table.ipynb>data table notebook</a>'\n",
              "            + ' to learn more about interactive tables.';\n",
              "          element.innerHTML = '';\n",
              "          dataTable['output_type'] = 'display_data';\n",
              "          await google.colab.output.renderOutput(dataTable, element);\n",
              "          const docLink = document.createElement('div');\n",
              "          docLink.innerHTML = docLinkHtml;\n",
              "          element.appendChild(docLink);\n",
              "        }\n",
              "      </script>\n",
              "    </div>\n",
              "  </div>\n",
              "  "
            ],
            "text/plain": [
              "             FILE NAME    TARGET\n",
              "0  Normal/Normal-1.png  Negative\n",
              "1  Normal/Normal-2.png  Negative\n",
              "2  Normal/Normal-3.png  Negative\n",
              "3  Normal/Normal-4.png  Negative\n",
              "4  Normal/Normal-5.png  Negative"
            ]
          },
          "metadata": {},
          "execution_count": 10
        }
      ]
    },
    {
      "cell_type": "code",
      "source": [
        "train, test = train_test_split(df, test_size=0.2, stratify=df['TARGET'], random_state=42)\n",
        "print(train.shape)\n",
        "print(test.shape)"
      ],
      "metadata": {
        "execution": {
          "iopub.status.busy": "2022-01-13T05:39:37.474271Z",
          "iopub.execute_input": "2022-01-13T05:39:37.474460Z",
          "iopub.status.idle": "2022-01-13T05:39:37.504991Z",
          "shell.execute_reply.started": "2022-01-13T05:39:37.474437Z",
          "shell.execute_reply": "2022-01-13T05:39:37.504095Z"
        },
        "trusted": true,
        "colab": {
          "base_uri": "https://localhost:8080/"
        },
        "id": "jn6zVslXZg7y",
        "outputId": "7a212f3f-b9ea-4ffa-a17f-5b0f44c07397"
      },
      "execution_count": 11,
      "outputs": [
        {
          "output_type": "stream",
          "name": "stdout",
          "text": [
            "(11046, 2)\n",
            "(2762, 2)\n"
          ]
        }
      ]
    },
    {
      "cell_type": "code",
      "source": [
        "train_df, valid_df = train_test_split(train, test_size=0.2, stratify=train['TARGET'], random_state=42)\n",
        "print(train_df.shape)\n",
        "print(valid_df.shape)"
      ],
      "metadata": {
        "execution": {
          "iopub.status.busy": "2022-01-13T05:39:37.506613Z",
          "iopub.execute_input": "2022-01-13T05:39:37.506879Z",
          "iopub.status.idle": "2022-01-13T05:39:37.534052Z",
          "shell.execute_reply.started": "2022-01-13T05:39:37.506843Z",
          "shell.execute_reply": "2022-01-13T05:39:37.533197Z"
        },
        "trusted": true,
        "colab": {
          "base_uri": "https://localhost:8080/"
        },
        "id": "yfyDCOaaZg70",
        "outputId": "7d487d06-e0b4-4eba-dda1-b7fa57ed589e"
      },
      "execution_count": 12,
      "outputs": [
        {
          "output_type": "stream",
          "name": "stdout",
          "text": [
            "(8836, 2)\n",
            "(2210, 2)\n"
          ]
        }
      ]
    },
    {
      "cell_type": "code",
      "source": [
        "DATA_DIR = \"/content/COVID-19_Radiography_Dataset\"\n",
        "IMAGE_SIZE = (224, 224)\n",
        "\n",
        "non_aug_gen = ImageDataGenerator(rescale=1/255.)\n",
        "aug_gen = ImageDataGenerator(\n",
        "    rescale=1./255,\n",
        "    width_shift_range=0.15,\n",
        "    height_shift_range=0.15,\n",
        "    zoom_range=[0.9, 1.25],\n",
        "    brightness_range=[0.5, 1.5]\n",
        ")\n",
        "\n",
        "aug_train = aug_gen.flow_from_dataframe(\n",
        "    dataframe=train_df,\n",
        "    directory=DATA_DIR,\n",
        "    x_col='FILE NAME',\n",
        "    y_col='TARGET',\n",
        "    target_size=IMAGE_SIZE,\n",
        "    batch_size=32,\n",
        "    class_mode='binary', \n",
        "    color_mode='rgb',\n",
        "    shuffle=True\n",
        ")\n",
        "\n",
        "non_aug_valid = non_aug_gen.flow_from_dataframe(\n",
        "    dataframe=valid_df,\n",
        "    directory=DATA_DIR,\n",
        "    x_col='FILE NAME',\n",
        "    y_col='TARGET',\n",
        "    target_size=IMAGE_SIZE,\n",
        "    batch_size=32,\n",
        "    class_mode='binary', \n",
        "    color_mode='rgb',\n",
        "    shuffle=True\n",
        ")\n",
        "\n",
        "test_valid_gen = non_aug_gen.flow_from_dataframe(\n",
        "    dataframe=valid_df,\n",
        "    directory=DATA_DIR,\n",
        "    x_col='FILE NAME',\n",
        "    y_col='TARGET',\n",
        "    target_size=IMAGE_SIZE,\n",
        "    batch_size=32,\n",
        "    class_mode='binary', \n",
        "    color_mode='rgb',\n",
        "    shuffle=False\n",
        ")\n",
        "\n",
        "test_test_gen = non_aug_gen.flow_from_dataframe(\n",
        "    dataframe=test,\n",
        "    directory=DATA_DIR,\n",
        "    x_col='FILE NAME',\n",
        "    y_col='TARGET',\n",
        "    target_size=IMAGE_SIZE,\n",
        "    batch_size=32,\n",
        "    class_mode='binary', \n",
        "    color_mode='rgb',\n",
        "    shuffle=False\n",
        ")"
      ],
      "metadata": {
        "execution": {
          "iopub.status.busy": "2022-01-13T05:39:37.535708Z",
          "iopub.execute_input": "2022-01-13T05:39:37.536055Z",
          "iopub.status.idle": "2022-01-13T05:40:12.702096Z",
          "shell.execute_reply.started": "2022-01-13T05:39:37.536010Z",
          "shell.execute_reply": "2022-01-13T05:40:12.701219Z"
        },
        "trusted": true,
        "colab": {
          "base_uri": "https://localhost:8080/"
        },
        "id": "5zLV9oiLZg70",
        "outputId": "6e6e15eb-b326-42d9-86da-9c96cbc32ccd"
      },
      "execution_count": 13,
      "outputs": [
        {
          "output_type": "stream",
          "name": "stdout",
          "text": [
            "Found 8836 validated image filenames belonging to 2 classes.\n",
            "Found 2210 validated image filenames belonging to 2 classes.\n",
            "Found 2210 validated image filenames belonging to 2 classes.\n",
            "Found 2762 validated image filenames belonging to 2 classes.\n"
          ]
        }
      ]
    },
    {
      "cell_type": "code",
      "source": [
        "def create_model(model_url, num_classes=1):\n",
        "    \"\"\"Takes a TensorFlow Hub URL and creates a Keras Sequential model with it.\n",
        "\n",
        "    Args:\n",
        "    model_url (str): A TensorFlow Hub feature extraction URL.\n",
        "    num_classes (int): Number of output neurons in output layer,\n",
        "    should be equal to number of target classes, default 10.\n",
        "\n",
        "    Returns:\n",
        "    An uncompiled Keras Sequential model with model_url as feature\n",
        "    extractor layer and Dense output layer with num_classes outputs.\n",
        "    \"\"\"\n",
        "    # Download the pretrained model and save it as a Keras layer\n",
        "    feature_extractor_layer = hub.KerasLayer(model_url,\n",
        "                                          trainable=False, # freeze the underlying patterns\n",
        "                                          name='feature_extraction_layer',\n",
        "                                          input_shape=(224, 224, 3,)) # define the input image shape\n",
        "\n",
        "    # Create our own model\n",
        "    model = tf.keras.Sequential([\n",
        "      feature_extractor_layer, # use the feature extraction layer as the base\n",
        "      layers.BatchNormalization(),\n",
        "      layers.Dense(128),\n",
        "      layers.Activation('elu'),\n",
        "      layers.Dropout(0.2),\n",
        "      layers.BatchNormalization(),\n",
        "      layers.Dense(128),\n",
        "      layers.Activation('elu'),\n",
        "      layers.Dropout(0.2),\n",
        "      layers.Dense(num_classes, activation='sigmoid', name='output_layer') # create our own output layer      \n",
        "    ])\n",
        "\n",
        "    return model"
      ],
      "metadata": {
        "execution": {
          "iopub.status.busy": "2022-01-13T05:40:12.705432Z",
          "iopub.execute_input": "2022-01-13T05:40:12.706259Z",
          "iopub.status.idle": "2022-01-13T05:40:12.715184Z",
          "shell.execute_reply.started": "2022-01-13T05:40:12.706213Z",
          "shell.execute_reply": "2022-01-13T05:40:12.714440Z"
        },
        "trusted": true,
        "id": "Lmsbk0IkZg72"
      },
      "execution_count": 14,
      "outputs": []
    },
    {
      "cell_type": "code",
      "source": [
        "efficientnetv2_url = 'https://tfhub.dev/google/imagenet/efficientnet_v2_imagenet21k_ft1k_b0/feature_vector/2'"
      ],
      "metadata": {
        "execution": {
          "iopub.status.busy": "2022-01-13T05:40:12.716845Z",
          "iopub.execute_input": "2022-01-13T05:40:12.717140Z",
          "iopub.status.idle": "2022-01-13T05:40:12.729192Z",
          "shell.execute_reply.started": "2022-01-13T05:40:12.717103Z",
          "shell.execute_reply": "2022-01-13T05:40:12.728228Z"
        },
        "trusted": true,
        "id": "CM4wzmPIZg74"
      },
      "execution_count": 15,
      "outputs": []
    },
    {
      "cell_type": "code",
      "source": [
        "metrics = [\n",
        "    keras.metrics.TruePositives(name='tp'),\n",
        "    keras.metrics.FalsePositives(name='fp'),\n",
        "    keras.metrics.TrueNegatives(name='tn'),\n",
        "    keras.metrics.FalseNegatives(name='fn'), \n",
        "    'accuracy',\n",
        "    keras.metrics.Precision(name='precision'),\n",
        "    keras.metrics.Recall(name='recall'),\n",
        "    keras.metrics.AUC(name='auc', curve='ROC')\n",
        "]\n",
        "callbacks = [tf.keras.callbacks.EarlyStopping(monitor='val_loss', patience=2, restore_best_weights=True),\n",
        "             tf.keras.callbacks.ModelCheckpoint('model_baseline.h5', save_best_only=True, monitor='val_loss')]"
      ],
      "metadata": {
        "execution": {
          "iopub.status.busy": "2022-01-13T05:40:12.731009Z",
          "iopub.execute_input": "2022-01-13T05:40:12.731655Z",
          "iopub.status.idle": "2022-01-13T05:40:15.458128Z",
          "shell.execute_reply.started": "2022-01-13T05:40:12.731610Z",
          "shell.execute_reply": "2022-01-13T05:40:15.456488Z"
        },
        "trusted": true,
        "id": "ep5MUaOiZg75"
      },
      "execution_count": 16,
      "outputs": []
    },
    {
      "cell_type": "code",
      "source": [
        "# Add reduced LR to callbacks\n",
        "reduce_lr = tf.keras.callbacks.ReduceLROnPlateau(monitor=\"val_loss\",  \n",
        "                                                 factor=0.2, # multiply the learning rate by 0.2 (reduce by 5x)\n",
        "                                                 patience=4,\n",
        "                                                 verbose=1, # print out when learning rate goes down \n",
        "                                                 min_lr=1e-7)\n",
        "checkpoint_eff = tf.keras.callbacks.ModelCheckpoint('model_efficientnet_modif.h5', save_best_only=True, monitor='val_loss')"
      ],
      "metadata": {
        "execution": {
          "iopub.status.busy": "2022-01-13T05:40:15.459835Z",
          "iopub.execute_input": "2022-01-13T05:40:15.460112Z",
          "iopub.status.idle": "2022-01-13T05:40:15.465267Z",
          "shell.execute_reply.started": "2022-01-13T05:40:15.460074Z",
          "shell.execute_reply": "2022-01-13T05:40:15.464556Z"
        },
        "trusted": true,
        "id": "Lc0xyizRZg76"
      },
      "execution_count": 17,
      "outputs": []
    },
    {
      "cell_type": "code",
      "source": [
        "tf.random.set_seed(42)\n",
        "\n",
        "# Build model\n",
        "model_efficientnet = create_model(efficientnetv2_url)\n",
        "\n",
        "# Compile model\n",
        "model_efficientnet.compile(loss='binary_crossentropy',\n",
        "                           optimizer=Adam(),\n",
        "                           metrics=metrics)\n",
        "\n",
        "model_efficientnet.summary()"
      ],
      "metadata": {
        "execution": {
          "iopub.status.busy": "2022-01-13T07:41:29.338992Z",
          "iopub.execute_input": "2022-01-13T07:41:29.339255Z",
          "iopub.status.idle": "2022-01-13T07:41:35.093795Z",
          "shell.execute_reply.started": "2022-01-13T07:41:29.339226Z",
          "shell.execute_reply": "2022-01-13T07:41:35.093012Z"
        },
        "trusted": true,
        "colab": {
          "base_uri": "https://localhost:8080/"
        },
        "id": "eRjl1CJvZg77",
        "outputId": "108bb7f5-7bda-4103-e9e9-cd0d18bcc82f"
      },
      "execution_count": 18,
      "outputs": [
        {
          "output_type": "stream",
          "name": "stdout",
          "text": [
            "Model: \"sequential\"\n",
            "_________________________________________________________________\n",
            " Layer (type)                Output Shape              Param #   \n",
            "=================================================================\n",
            " feature_extraction_layer (K  (None, 1280)             5919312   \n",
            " erasLayer)                                                      \n",
            "                                                                 \n",
            " batch_normalization (BatchN  (None, 1280)             5120      \n",
            " ormalization)                                                   \n",
            "                                                                 \n",
            " dense (Dense)               (None, 128)               163968    \n",
            "                                                                 \n",
            " activation (Activation)     (None, 128)               0         \n",
            "                                                                 \n",
            " dropout (Dropout)           (None, 128)               0         \n",
            "                                                                 \n",
            " batch_normalization_1 (Batc  (None, 128)              512       \n",
            " hNormalization)                                                 \n",
            "                                                                 \n",
            " dense_1 (Dense)             (None, 128)               16512     \n",
            "                                                                 \n",
            " activation_1 (Activation)   (None, 128)               0         \n",
            "                                                                 \n",
            " dropout_1 (Dropout)         (None, 128)               0         \n",
            "                                                                 \n",
            " output_layer (Dense)        (None, 1)                 129       \n",
            "                                                                 \n",
            "=================================================================\n",
            "Total params: 6,105,553\n",
            "Trainable params: 183,425\n",
            "Non-trainable params: 5,922,128\n",
            "_________________________________________________________________\n"
          ]
        }
      ]
    },
    {
      "cell_type": "code",
      "source": [
        "# Train the model\n",
        "history_efficientnet = model_efficientnet.fit(aug_train, epochs=30,\n",
        "                                              validation_data=non_aug_valid,\n",
        "                                              steps_per_epoch=len(aug_train),\n",
        "                                              validation_steps=len(non_aug_valid),\n",
        "                                              callbacks=[reduce_lr, checkpoint_eff])\n",
        "\n",
        "np.save('history_efficientnet_modif.npy', history_efficientnet.history)"
      ],
      "metadata": {
        "execution": {
          "iopub.status.busy": "2022-01-13T07:42:28.525409Z",
          "iopub.execute_input": "2022-01-13T07:42:28.525690Z"
        },
        "trusted": true,
        "colab": {
          "base_uri": "https://localhost:8080/"
        },
        "id": "BuXi_F38Zg77",
        "outputId": "4c98b595-8ec9-4378-e8ff-12ee802ab000"
      },
      "execution_count": 19,
      "outputs": [
        {
          "output_type": "stream",
          "name": "stdout",
          "text": [
            "Epoch 1/30\n",
            "277/277 [==============================] - 146s 469ms/step - loss: 0.2712 - tp: 1813.0000 - fp: 482.0000 - tn: 6040.0000 - fn: 501.0000 - accuracy: 0.8888 - precision: 0.7900 - recall: 0.7835 - auc: 0.9385 - val_loss: 0.1660 - val_tp: 487.0000 - val_fp: 43.0000 - val_tn: 1588.0000 - val_fn: 92.0000 - val_accuracy: 0.9389 - val_precision: 0.9189 - val_recall: 0.8411 - val_auc: 0.9751 - lr: 0.0010\n",
            "Epoch 2/30\n",
            "277/277 [==============================] - 127s 460ms/step - loss: 0.1933 - tp: 1908.0000 - fp: 256.0000 - tn: 6266.0000 - fn: 406.0000 - accuracy: 0.9251 - precision: 0.8817 - recall: 0.8245 - auc: 0.9661 - val_loss: 0.1400 - val_tp: 487.0000 - val_fp: 24.0000 - val_tn: 1607.0000 - val_fn: 92.0000 - val_accuracy: 0.9475 - val_precision: 0.9530 - val_recall: 0.8411 - val_auc: 0.9829 - lr: 0.0010\n",
            "Epoch 3/30\n",
            "277/277 [==============================] - 128s 461ms/step - loss: 0.1795 - tp: 1958.0000 - fp: 264.0000 - tn: 6258.0000 - fn: 356.0000 - accuracy: 0.9298 - precision: 0.8812 - recall: 0.8462 - auc: 0.9712 - val_loss: 0.1249 - val_tp: 516.0000 - val_fp: 34.0000 - val_tn: 1597.0000 - val_fn: 63.0000 - val_accuracy: 0.9561 - val_precision: 0.9382 - val_recall: 0.8912 - val_auc: 0.9862 - lr: 0.0010\n",
            "Epoch 4/30\n",
            "277/277 [==============================] - 128s 461ms/step - loss: 0.1623 - tp: 2001.0000 - fp: 232.0000 - tn: 6290.0000 - fn: 313.0000 - accuracy: 0.9383 - precision: 0.8961 - recall: 0.8647 - auc: 0.9768 - val_loss: 0.1227 - val_tp: 511.0000 - val_fp: 32.0000 - val_tn: 1599.0000 - val_fn: 68.0000 - val_accuracy: 0.9548 - val_precision: 0.9411 - val_recall: 0.8826 - val_auc: 0.9865 - lr: 0.0010\n",
            "Epoch 5/30\n",
            "277/277 [==============================] - 128s 461ms/step - loss: 0.1527 - tp: 2010.0000 - fp: 216.0000 - tn: 6306.0000 - fn: 304.0000 - accuracy: 0.9411 - precision: 0.9030 - recall: 0.8686 - auc: 0.9794 - val_loss: 0.1231 - val_tp: 484.0000 - val_fp: 9.0000 - val_tn: 1622.0000 - val_fn: 95.0000 - val_accuracy: 0.9529 - val_precision: 0.9817 - val_recall: 0.8359 - val_auc: 0.9897 - lr: 0.0010\n",
            "Epoch 6/30\n",
            "277/277 [==============================] - 127s 460ms/step - loss: 0.1397 - tp: 2027.0000 - fp: 184.0000 - tn: 6338.0000 - fn: 287.0000 - accuracy: 0.9467 - precision: 0.9168 - recall: 0.8760 - auc: 0.9820 - val_loss: 0.1014 - val_tp: 523.0000 - val_fp: 22.0000 - val_tn: 1609.0000 - val_fn: 56.0000 - val_accuracy: 0.9647 - val_precision: 0.9596 - val_recall: 0.9033 - val_auc: 0.9907 - lr: 0.0010\n",
            "Epoch 7/30\n",
            "277/277 [==============================] - 127s 460ms/step - loss: 0.1301 - tp: 2070.0000 - fp: 175.0000 - tn: 6347.0000 - fn: 244.0000 - accuracy: 0.9526 - precision: 0.9220 - recall: 0.8946 - auc: 0.9851 - val_loss: 0.1218 - val_tp: 488.0000 - val_fp: 16.0000 - val_tn: 1615.0000 - val_fn: 91.0000 - val_accuracy: 0.9516 - val_precision: 0.9683 - val_recall: 0.8428 - val_auc: 0.9897 - lr: 0.0010\n",
            "Epoch 8/30\n",
            "277/277 [==============================] - 127s 459ms/step - loss: 0.1276 - tp: 2046.0000 - fp: 192.0000 - tn: 6330.0000 - fn: 268.0000 - accuracy: 0.9479 - precision: 0.9142 - recall: 0.8842 - auc: 0.9860 - val_loss: 0.1174 - val_tp: 516.0000 - val_fp: 32.0000 - val_tn: 1599.0000 - val_fn: 63.0000 - val_accuracy: 0.9570 - val_precision: 0.9416 - val_recall: 0.8912 - val_auc: 0.9875 - lr: 0.0010\n",
            "Epoch 9/30\n",
            "277/277 [==============================] - 127s 458ms/step - loss: 0.1230 - tp: 2071.0000 - fp: 175.0000 - tn: 6347.0000 - fn: 243.0000 - accuracy: 0.9527 - precision: 0.9221 - recall: 0.8950 - auc: 0.9861 - val_loss: 0.1211 - val_tp: 495.0000 - val_fp: 19.0000 - val_tn: 1612.0000 - val_fn: 84.0000 - val_accuracy: 0.9534 - val_precision: 0.9630 - val_recall: 0.8549 - val_auc: 0.9879 - lr: 0.0010\n",
            "Epoch 10/30\n",
            "277/277 [==============================] - 127s 459ms/step - loss: 0.1241 - tp: 2073.0000 - fp: 176.0000 - tn: 6346.0000 - fn: 241.0000 - accuracy: 0.9528 - precision: 0.9217 - recall: 0.8959 - auc: 0.9867 - val_loss: 0.0986 - val_tp: 526.0000 - val_fp: 21.0000 - val_tn: 1610.0000 - val_fn: 53.0000 - val_accuracy: 0.9665 - val_precision: 0.9616 - val_recall: 0.9085 - val_auc: 0.9911 - lr: 0.0010\n",
            "Epoch 11/30\n",
            "277/277 [==============================] - 127s 459ms/step - loss: 0.1129 - tp: 2088.0000 - fp: 151.0000 - tn: 6371.0000 - fn: 226.0000 - accuracy: 0.9573 - precision: 0.9326 - recall: 0.9023 - auc: 0.9884 - val_loss: 0.1072 - val_tp: 529.0000 - val_fp: 33.0000 - val_tn: 1598.0000 - val_fn: 50.0000 - val_accuracy: 0.9624 - val_precision: 0.9413 - val_recall: 0.9136 - val_auc: 0.9887 - lr: 0.0010\n",
            "Epoch 12/30\n",
            "277/277 [==============================] - 128s 461ms/step - loss: 0.1013 - tp: 2134.0000 - fp: 156.0000 - tn: 6366.0000 - fn: 180.0000 - accuracy: 0.9620 - precision: 0.9319 - recall: 0.9222 - auc: 0.9908 - val_loss: 0.1063 - val_tp: 524.0000 - val_fp: 30.0000 - val_tn: 1601.0000 - val_fn: 55.0000 - val_accuracy: 0.9615 - val_precision: 0.9458 - val_recall: 0.9050 - val_auc: 0.9890 - lr: 0.0010\n",
            "Epoch 13/30\n",
            "277/277 [==============================] - 127s 460ms/step - loss: 0.1126 - tp: 2100.0000 - fp: 169.0000 - tn: 6353.0000 - fn: 214.0000 - accuracy: 0.9567 - precision: 0.9255 - recall: 0.9075 - auc: 0.9886 - val_loss: 0.1117 - val_tp: 506.0000 - val_fp: 14.0000 - val_tn: 1617.0000 - val_fn: 73.0000 - val_accuracy: 0.9606 - val_precision: 0.9731 - val_recall: 0.8739 - val_auc: 0.9874 - lr: 0.0010\n",
            "Epoch 14/30\n",
            "277/277 [==============================] - ETA: 0s - loss: 0.1129 - tp: 2102.0000 - fp: 148.0000 - tn: 6374.0000 - fn: 212.0000 - accuracy: 0.9593 - precision: 0.9342 - recall: 0.9084 - auc: 0.9881\n",
            "Epoch 00014: ReduceLROnPlateau reducing learning rate to 0.00020000000949949026.\n",
            "277/277 [==============================] - 127s 459ms/step - loss: 0.1129 - tp: 2102.0000 - fp: 148.0000 - tn: 6374.0000 - fn: 212.0000 - accuracy: 0.9593 - precision: 0.9342 - recall: 0.9084 - auc: 0.9881 - val_loss: 0.1024 - val_tp: 521.0000 - val_fp: 22.0000 - val_tn: 1609.0000 - val_fn: 58.0000 - val_accuracy: 0.9638 - val_precision: 0.9595 - val_recall: 0.8998 - val_auc: 0.9905 - lr: 0.0010\n",
            "Epoch 15/30\n",
            "277/277 [==============================] - 127s 458ms/step - loss: 0.0947 - tp: 2132.0000 - fp: 117.0000 - tn: 6405.0000 - fn: 182.0000 - accuracy: 0.9662 - precision: 0.9480 - recall: 0.9213 - auc: 0.9912 - val_loss: 0.0996 - val_tp: 538.0000 - val_fp: 42.0000 - val_tn: 1589.0000 - val_fn: 41.0000 - val_accuracy: 0.9624 - val_precision: 0.9276 - val_recall: 0.9292 - val_auc: 0.9905 - lr: 2.0000e-04\n",
            "Epoch 16/30\n",
            "277/277 [==============================] - 127s 457ms/step - loss: 0.0918 - tp: 2142.0000 - fp: 127.0000 - tn: 6395.0000 - fn: 172.0000 - accuracy: 0.9662 - precision: 0.9440 - recall: 0.9257 - auc: 0.9923 - val_loss: 0.0958 - val_tp: 529.0000 - val_fp: 23.0000 - val_tn: 1608.0000 - val_fn: 50.0000 - val_accuracy: 0.9670 - val_precision: 0.9583 - val_recall: 0.9136 - val_auc: 0.9909 - lr: 2.0000e-04\n",
            "Epoch 17/30\n",
            "277/277 [==============================] - 127s 460ms/step - loss: 0.0937 - tp: 2133.0000 - fp: 126.0000 - tn: 6396.0000 - fn: 181.0000 - accuracy: 0.9653 - precision: 0.9442 - recall: 0.9218 - auc: 0.9919 - val_loss: 0.0887 - val_tp: 524.0000 - val_fp: 15.0000 - val_tn: 1616.0000 - val_fn: 55.0000 - val_accuracy: 0.9683 - val_precision: 0.9722 - val_recall: 0.9050 - val_auc: 0.9921 - lr: 2.0000e-04\n",
            "Epoch 18/30\n",
            "277/277 [==============================] - 127s 460ms/step - loss: 0.0912 - tp: 2135.0000 - fp: 127.0000 - tn: 6395.0000 - fn: 179.0000 - accuracy: 0.9654 - precision: 0.9439 - recall: 0.9226 - auc: 0.9928 - val_loss: 0.0886 - val_tp: 527.0000 - val_fp: 17.0000 - val_tn: 1614.0000 - val_fn: 52.0000 - val_accuracy: 0.9688 - val_precision: 0.9688 - val_recall: 0.9102 - val_auc: 0.9919 - lr: 2.0000e-04\n",
            "Epoch 19/30\n",
            "277/277 [==============================] - 127s 460ms/step - loss: 0.0908 - tp: 2133.0000 - fp: 133.0000 - tn: 6389.0000 - fn: 181.0000 - accuracy: 0.9645 - precision: 0.9413 - recall: 0.9218 - auc: 0.9925 - val_loss: 0.0895 - val_tp: 531.0000 - val_fp: 22.0000 - val_tn: 1609.0000 - val_fn: 48.0000 - val_accuracy: 0.9683 - val_precision: 0.9602 - val_recall: 0.9171 - val_auc: 0.9918 - lr: 2.0000e-04\n",
            "Epoch 20/30\n",
            "277/277 [==============================] - 127s 459ms/step - loss: 0.0812 - tp: 2157.0000 - fp: 120.0000 - tn: 6402.0000 - fn: 157.0000 - accuracy: 0.9687 - precision: 0.9473 - recall: 0.9322 - auc: 0.9945 - val_loss: 0.0873 - val_tp: 528.0000 - val_fp: 17.0000 - val_tn: 1614.0000 - val_fn: 51.0000 - val_accuracy: 0.9692 - val_precision: 0.9688 - val_recall: 0.9119 - val_auc: 0.9919 - lr: 2.0000e-04\n",
            "Epoch 21/30\n",
            "277/277 [==============================] - 128s 461ms/step - loss: 0.0831 - tp: 2157.0000 - fp: 115.0000 - tn: 6407.0000 - fn: 157.0000 - accuracy: 0.9692 - precision: 0.9494 - recall: 0.9322 - auc: 0.9940 - val_loss: 0.0845 - val_tp: 528.0000 - val_fp: 17.0000 - val_tn: 1614.0000 - val_fn: 51.0000 - val_accuracy: 0.9692 - val_precision: 0.9688 - val_recall: 0.9119 - val_auc: 0.9929 - lr: 2.0000e-04\n",
            "Epoch 22/30\n",
            "277/277 [==============================] - 127s 459ms/step - loss: 0.0798 - tp: 2152.0000 - fp: 108.0000 - tn: 6414.0000 - fn: 162.0000 - accuracy: 0.9694 - precision: 0.9522 - recall: 0.9300 - auc: 0.9939 - val_loss: 0.0852 - val_tp: 534.0000 - val_fp: 22.0000 - val_tn: 1609.0000 - val_fn: 45.0000 - val_accuracy: 0.9697 - val_precision: 0.9604 - val_recall: 0.9223 - val_auc: 0.9931 - lr: 2.0000e-04\n",
            "Epoch 23/30\n",
            "277/277 [==============================] - 127s 459ms/step - loss: 0.0843 - tp: 2153.0000 - fp: 118.0000 - tn: 6404.0000 - fn: 161.0000 - accuracy: 0.9684 - precision: 0.9480 - recall: 0.9304 - auc: 0.9933 - val_loss: 0.0813 - val_tp: 534.0000 - val_fp: 19.0000 - val_tn: 1612.0000 - val_fn: 45.0000 - val_accuracy: 0.9710 - val_precision: 0.9656 - val_recall: 0.9223 - val_auc: 0.9930 - lr: 2.0000e-04\n",
            "Epoch 24/30\n",
            "277/277 [==============================] - 127s 460ms/step - loss: 0.0752 - tp: 2181.0000 - fp: 106.0000 - tn: 6416.0000 - fn: 133.0000 - accuracy: 0.9730 - precision: 0.9537 - recall: 0.9425 - auc: 0.9949 - val_loss: 0.0826 - val_tp: 525.0000 - val_fp: 13.0000 - val_tn: 1618.0000 - val_fn: 54.0000 - val_accuracy: 0.9697 - val_precision: 0.9758 - val_recall: 0.9067 - val_auc: 0.9935 - lr: 2.0000e-04\n",
            "Epoch 25/30\n",
            "277/277 [==============================] - 127s 460ms/step - loss: 0.0729 - tp: 2150.0000 - fp: 93.0000 - tn: 6429.0000 - fn: 164.0000 - accuracy: 0.9709 - precision: 0.9585 - recall: 0.9291 - auc: 0.9954 - val_loss: 0.0909 - val_tp: 519.0000 - val_fp: 11.0000 - val_tn: 1620.0000 - val_fn: 60.0000 - val_accuracy: 0.9679 - val_precision: 0.9792 - val_recall: 0.8964 - val_auc: 0.9926 - lr: 2.0000e-04\n",
            "Epoch 26/30\n",
            "277/277 [==============================] - 127s 460ms/step - loss: 0.0697 - tp: 2194.0000 - fp: 102.0000 - tn: 6420.0000 - fn: 120.0000 - accuracy: 0.9749 - precision: 0.9556 - recall: 0.9481 - auc: 0.9952 - val_loss: 0.0800 - val_tp: 534.0000 - val_fp: 13.0000 - val_tn: 1618.0000 - val_fn: 45.0000 - val_accuracy: 0.9738 - val_precision: 0.9762 - val_recall: 0.9223 - val_auc: 0.9928 - lr: 2.0000e-04\n",
            "Epoch 27/30\n",
            "277/277 [==============================] - 128s 461ms/step - loss: 0.0783 - tp: 2166.0000 - fp: 102.0000 - tn: 6420.0000 - fn: 148.0000 - accuracy: 0.9717 - precision: 0.9550 - recall: 0.9360 - auc: 0.9939 - val_loss: 0.0784 - val_tp: 536.0000 - val_fp: 16.0000 - val_tn: 1615.0000 - val_fn: 43.0000 - val_accuracy: 0.9733 - val_precision: 0.9710 - val_recall: 0.9257 - val_auc: 0.9936 - lr: 2.0000e-04\n",
            "Epoch 28/30\n",
            "277/277 [==============================] - 128s 461ms/step - loss: 0.0699 - tp: 2182.0000 - fp: 102.0000 - tn: 6420.0000 - fn: 132.0000 - accuracy: 0.9735 - precision: 0.9553 - recall: 0.9430 - auc: 0.9956 - val_loss: 0.0771 - val_tp: 534.0000 - val_fp: 17.0000 - val_tn: 1614.0000 - val_fn: 45.0000 - val_accuracy: 0.9719 - val_precision: 0.9691 - val_recall: 0.9223 - val_auc: 0.9945 - lr: 2.0000e-04\n",
            "Epoch 29/30\n",
            "277/277 [==============================] - 127s 459ms/step - loss: 0.0770 - tp: 2176.0000 - fp: 115.0000 - tn: 6407.0000 - fn: 138.0000 - accuracy: 0.9714 - precision: 0.9498 - recall: 0.9404 - auc: 0.9947 - val_loss: 0.0774 - val_tp: 540.0000 - val_fp: 17.0000 - val_tn: 1614.0000 - val_fn: 39.0000 - val_accuracy: 0.9747 - val_precision: 0.9695 - val_recall: 0.9326 - val_auc: 0.9936 - lr: 2.0000e-04\n",
            "Epoch 30/30\n",
            "277/277 [==============================] - 127s 458ms/step - loss: 0.0710 - tp: 2188.0000 - fp: 113.0000 - tn: 6409.0000 - fn: 126.0000 - accuracy: 0.9730 - precision: 0.9509 - recall: 0.9455 - auc: 0.9959 - val_loss: 0.0815 - val_tp: 532.0000 - val_fp: 12.0000 - val_tn: 1619.0000 - val_fn: 47.0000 - val_accuracy: 0.9733 - val_precision: 0.9779 - val_recall: 0.9188 - val_auc: 0.9931 - lr: 2.0000e-04\n"
          ]
        }
      ]
    },
    {
      "cell_type": "code",
      "source": [
        "# Plot the validation and training data separately\n",
        "def plot_learning_curves(*histories):\n",
        "    \"\"\"\n",
        "    Returns separate loss curves for training and validation metrics.\n",
        "    \"\"\" \n",
        "    fig = make_subplots(rows=3, cols=1, subplot_titles=('Loss', 'Recall', 'AUC'))\n",
        "    for history in histories:\n",
        "        loss = history[1].history.get('loss')\n",
        "        val_loss = history[1].history.get('val_loss')\n",
        "\n",
        "        auc = history[1].history.get('auc')\n",
        "        val_auc = history[1].history.get('val_auc')\n",
        "\n",
        "        recall = history[1].history.get('recall')\n",
        "        val_recall = history[1].history.get('val_recall')\n",
        "\n",
        "        epochs = np.arange(1, len(history[1].history.get('loss')) + 1)\n",
        "\n",
        "        fig.add_trace(go.Scatter(x=epochs, y=loss, name=history[0] + \" train\"), row=1, col=1)\n",
        "        fig.add_trace(go.Scatter(x=epochs, y=val_loss, name=history[0] + \" val\"), row=1, col=1)\n",
        "        fig.add_trace(go.Scatter(x=epochs, y=recall, name=history[0] + \" train\"), row=2, col=1)\n",
        "        fig.add_trace(go.Scatter(x=epochs, y=val_recall, name=history[0] + \" val\"), row=2, col=1)\n",
        "        fig.add_trace(go.Scatter(x=epochs, y=auc, name=history[0] + \" train\"), row=3, col=1)\n",
        "        fig.add_trace(go.Scatter(x=epochs, y=val_auc, name=history[0] + \"val\"), row=3, col=1)\n",
        "\n",
        "    # Update xaxis properties\n",
        "    fig.update_xaxes(title_text=\"Epochs\", row=1, col=1)\n",
        "    fig.update_xaxes(title_text=\"Epochs\", row=2, col=1)\n",
        "    fig.update_xaxes(title_text=\"Epochs\", row=3, col=1)\n",
        "\n",
        "    # Update yaxis properties\n",
        "    fig.update_yaxes(title_text=\"Loss\", row=1, col=1)\n",
        "    fig.update_yaxes(title_text=\"Recall\", row=2, col=1)\n",
        "    fig.update_yaxes(title_text=\"AUC\", row=3, col=1)\n",
        "\n",
        "    fig.update_layout(title_text=\"Learning Curves\", height=1500)\n",
        "\n",
        "    fig.show()"
      ],
      "metadata": {
        "execution": {
          "iopub.status.busy": "2022-01-13T07:35:07.482160Z",
          "iopub.execute_input": "2022-01-13T07:35:07.482631Z",
          "iopub.status.idle": "2022-01-13T07:35:07.499071Z",
          "shell.execute_reply.started": "2022-01-13T07:35:07.482593Z",
          "shell.execute_reply": "2022-01-13T07:35:07.498322Z"
        },
        "trusted": true,
        "id": "BJlTaLxmZg78"
      },
      "execution_count": 20,
      "outputs": []
    },
    {
      "cell_type": "code",
      "source": [
        "plot_learning_curves(['EfficientNet_Modif', history_efficientnet])"
      ],
      "metadata": {
        "execution": {
          "iopub.status.busy": "2022-01-13T07:35:07.500211Z",
          "iopub.execute_input": "2022-01-13T07:35:07.500624Z",
          "iopub.status.idle": "2022-01-13T07:35:07.794063Z",
          "shell.execute_reply.started": "2022-01-13T07:35:07.500585Z",
          "shell.execute_reply": "2022-01-13T07:35:07.793332Z"
        },
        "trusted": true,
        "colab": {
          "base_uri": "https://localhost:8080/",
          "height": 1000
        },
        "id": "aehu5Pr6Zg79",
        "outputId": "f35db8e7-5be0-451e-d2db-724fa702c32e"
      },
      "execution_count": 21,
      "outputs": [
        {
          "output_type": "display_data",
          "data": {
            "text/html": [
              "<html>\n",
              "<head><meta charset=\"utf-8\" /></head>\n",
              "<body>\n",
              "    <div>\n",
              "            <script src=\"https://cdnjs.cloudflare.com/ajax/libs/mathjax/2.7.5/MathJax.js?config=TeX-AMS-MML_SVG\"></script><script type=\"text/javascript\">if (window.MathJax) {MathJax.Hub.Config({SVG: {font: \"STIX-Web\"}});}</script>\n",
              "                <script type=\"text/javascript\">window.PlotlyConfig = {MathJaxConfig: 'local'};</script>\n",
              "        <script src=\"https://cdn.plot.ly/plotly-latest.min.js\"></script>    \n",
              "            <div id=\"33b1322a-48a8-40a6-a81f-119bab41979d\" class=\"plotly-graph-div\" style=\"height:1500px; width:100%;\"></div>\n",
              "            <script type=\"text/javascript\">\n",
              "                \n",
              "                    window.PLOTLYENV=window.PLOTLYENV || {};\n",
              "                    \n",
              "                if (document.getElementById(\"33b1322a-48a8-40a6-a81f-119bab41979d\")) {\n",
              "                    Plotly.newPlot(\n",
              "                        '33b1322a-48a8-40a6-a81f-119bab41979d',\n",
              "                        [{\"name\": \"EfficientNet_Modif train\", \"type\": \"scatter\", \"x\": [1, 2, 3, 4, 5, 6, 7, 8, 9, 10, 11, 12, 13, 14, 15, 16, 17, 18, 19, 20, 21, 22, 23, 24, 25, 26, 27, 28, 29, 30], \"xaxis\": \"x\", \"y\": [0.27115723490715027, 0.1933257132768631, 0.17946630716323853, 0.16233938932418823, 0.152705579996109, 0.13965947926044464, 0.13009202480316162, 0.12757903337478638, 0.1230001375079155, 0.12405062466859818, 0.11285071074962616, 0.10128866881132126, 0.11263863742351532, 0.11290255934000015, 0.0946546196937561, 0.0917719155550003, 0.09372705966234207, 0.09121792018413544, 0.09083722531795502, 0.08123605698347092, 0.0831427127122879, 0.0797896534204483, 0.08427243679761887, 0.07521861791610718, 0.0729420855641365, 0.06974812597036362, 0.0782969668507576, 0.06990282237529755, 0.0769655853509903, 0.07097901403903961], \"yaxis\": \"y\"}, {\"name\": \"EfficientNet_Modif val\", \"type\": \"scatter\", \"x\": [1, 2, 3, 4, 5, 6, 7, 8, 9, 10, 11, 12, 13, 14, 15, 16, 17, 18, 19, 20, 21, 22, 23, 24, 25, 26, 27, 28, 29, 30], \"xaxis\": \"x\", \"y\": [0.16596326231956482, 0.13996653258800507, 0.12494239211082458, 0.12273605167865753, 0.12312925606966019, 0.1014053151011467, 0.12179812788963318, 0.11739759892225266, 0.12105181068181992, 0.09860139340162277, 0.10721210390329361, 0.10625810921192169, 0.11174285411834717, 0.10243139415979385, 0.09964024275541306, 0.09580357372760773, 0.08865714073181152, 0.08857107162475586, 0.08945032954216003, 0.08733251690864563, 0.08454044163227081, 0.08518389612436295, 0.08129140734672546, 0.08259061723947525, 0.09088120609521866, 0.08003513514995575, 0.07843941450119019, 0.07706919312477112, 0.077427439391613, 0.08151648193597794], \"yaxis\": \"y\"}, {\"name\": \"EfficientNet_Modif train\", \"type\": \"scatter\", \"x\": [1, 2, 3, 4, 5, 6, 7, 8, 9, 10, 11, 12, 13, 14, 15, 16, 17, 18, 19, 20, 21, 22, 23, 24, 25, 26, 27, 28, 29, 30], \"xaxis\": \"x2\", \"y\": [0.7834917902946472, 0.824546217918396, 0.8461538553237915, 0.8647363781929016, 0.8686257600784302, 0.875972330570221, 0.8945549130439758, 0.8841832280158997, 0.8949870467185974, 0.8958513140678406, 0.9023336172103882, 0.9222126007080078, 0.9075194597244263, 0.9083837270736694, 0.9213483333587646, 0.9256698489189148, 0.9217804670333862, 0.9226447939872742, 0.9217804670333862, 0.9321520924568176, 0.9321520924568176, 0.9299913644790649, 0.9304234981536865, 0.9425237774848938, 0.929127037525177, 0.9481417536735535, 0.9360414743423462, 0.9429559111595154, 0.9403629899024963, 0.9455488324165344], \"yaxis\": \"y2\"}, {\"name\": \"EfficientNet_Modif val\", \"type\": \"scatter\", \"x\": [1, 2, 3, 4, 5, 6, 7, 8, 9, 10, 11, 12, 13, 14, 15, 16, 17, 18, 19, 20, 21, 22, 23, 24, 25, 26, 27, 28, 29, 30], \"xaxis\": \"x2\", \"y\": [0.8411053419113159, 0.8411053419113159, 0.8911917209625244, 0.882556140422821, 0.8359240293502808, 0.9032815098762512, 0.8428324460983276, 0.8911917209625244, 0.8549222946166992, 0.9084628820419312, 0.9136441946029663, 0.9050086140632629, 0.8739205598831177, 0.8998273015022278, 0.9291882514953613, 0.9136441946029663, 0.9050086140632629, 0.9101899862289429, 0.9170984625816345, 0.9119170904159546, 0.9119170904159546, 0.9222797751426697, 0.9222797751426697, 0.9067357778549194, 0.8963730335235596, 0.9222797751426697, 0.9257340431213379, 0.9222797751426697, 0.9326424598693848, 0.9188255667686462], \"yaxis\": \"y2\"}, {\"name\": \"EfficientNet_Modif train\", \"type\": \"scatter\", \"x\": [1, 2, 3, 4, 5, 6, 7, 8, 9, 10, 11, 12, 13, 14, 15, 16, 17, 18, 19, 20, 21, 22, 23, 24, 25, 26, 27, 28, 29, 30], \"xaxis\": \"x3\", \"y\": [0.9385287761688232, 0.9660679697990417, 0.9712395668029785, 0.9767975211143494, 0.9793765544891357, 0.9820026755332947, 0.9851366281509399, 0.9860172867774963, 0.9860544204711914, 0.9867066740989685, 0.9884485602378845, 0.9907581806182861, 0.9885849356651306, 0.9881159663200378, 0.9912014007568359, 0.9922928810119629, 0.9919419884681702, 0.9928218722343445, 0.9924750328063965, 0.9944629669189453, 0.9939596056938171, 0.9939402341842651, 0.993317723274231, 0.9948841333389282, 0.995374858379364, 0.995216965675354, 0.9938648343086243, 0.9956400990486145, 0.9946547150611877, 0.995928168296814], \"yaxis\": \"y3\"}, {\"name\": \"EfficientNet_Modifval\", \"type\": \"scatter\", \"x\": [1, 2, 3, 4, 5, 6, 7, 8, 9, 10, 11, 12, 13, 14, 15, 16, 17, 18, 19, 20, 21, 22, 23, 24, 25, 26, 27, 28, 29, 30], \"xaxis\": \"x3\", \"y\": [0.9751442670822144, 0.9828813672065735, 0.9862207174301147, 0.9865325093269348, 0.9896584153175354, 0.9907042980194092, 0.9896721839904785, 0.9875094294548035, 0.9879255890846252, 0.9910514950752258, 0.9887377023696899, 0.9889563918113708, 0.987421989440918, 0.9904681444168091, 0.9905496835708618, 0.9909164905548096, 0.9921131134033203, 0.9918510913848877, 0.9917821884155273, 0.9919414520263672, 0.9929347634315491, 0.9930915832519531, 0.9930406808853149, 0.9934959411621094, 0.9926372170448303, 0.9927641749382019, 0.9935828447341919, 0.9944501519203186, 0.9935712218284607, 0.9931048154830933], \"yaxis\": \"y3\"}],\n",
              "                        {\"annotations\": [{\"font\": {\"size\": 16}, \"showarrow\": false, \"text\": \"Loss\", \"x\": 0.5, \"xanchor\": \"center\", \"xref\": \"paper\", \"y\": 1.0, \"yanchor\": \"bottom\", \"yref\": \"paper\"}, {\"font\": {\"size\": 16}, \"showarrow\": false, \"text\": \"Recall\", \"x\": 0.5, \"xanchor\": \"center\", \"xref\": \"paper\", \"y\": 0.6111111111111112, \"yanchor\": \"bottom\", \"yref\": \"paper\"}, {\"font\": {\"size\": 16}, \"showarrow\": false, \"text\": \"AUC\", \"x\": 0.5, \"xanchor\": \"center\", \"xref\": \"paper\", \"y\": 0.22222222222222224, \"yanchor\": \"bottom\", \"yref\": \"paper\"}], \"height\": 1500, \"template\": {\"data\": {\"bar\": [{\"error_x\": {\"color\": \"#2a3f5f\"}, \"error_y\": {\"color\": \"#2a3f5f\"}, \"marker\": {\"line\": {\"color\": \"#E5ECF6\", \"width\": 0.5}}, \"type\": \"bar\"}], \"barpolar\": [{\"marker\": {\"line\": {\"color\": \"#E5ECF6\", \"width\": 0.5}}, \"type\": \"barpolar\"}], \"carpet\": [{\"aaxis\": {\"endlinecolor\": \"#2a3f5f\", \"gridcolor\": \"white\", \"linecolor\": \"white\", \"minorgridcolor\": \"white\", \"startlinecolor\": \"#2a3f5f\"}, \"baxis\": {\"endlinecolor\": \"#2a3f5f\", \"gridcolor\": \"white\", \"linecolor\": \"white\", \"minorgridcolor\": \"white\", \"startlinecolor\": \"#2a3f5f\"}, \"type\": \"carpet\"}], \"choropleth\": [{\"colorbar\": {\"outlinewidth\": 0, \"ticks\": \"\"}, \"type\": \"choropleth\"}], \"contour\": [{\"colorbar\": {\"outlinewidth\": 0, \"ticks\": \"\"}, \"colorscale\": [[0.0, \"#0d0887\"], [0.1111111111111111, \"#46039f\"], [0.2222222222222222, \"#7201a8\"], [0.3333333333333333, \"#9c179e\"], [0.4444444444444444, \"#bd3786\"], [0.5555555555555556, \"#d8576b\"], [0.6666666666666666, \"#ed7953\"], [0.7777777777777778, \"#fb9f3a\"], [0.8888888888888888, \"#fdca26\"], [1.0, \"#f0f921\"]], \"type\": \"contour\"}], \"contourcarpet\": [{\"colorbar\": {\"outlinewidth\": 0, \"ticks\": \"\"}, \"type\": \"contourcarpet\"}], \"heatmap\": [{\"colorbar\": {\"outlinewidth\": 0, \"ticks\": \"\"}, \"colorscale\": [[0.0, \"#0d0887\"], [0.1111111111111111, \"#46039f\"], [0.2222222222222222, \"#7201a8\"], [0.3333333333333333, \"#9c179e\"], [0.4444444444444444, \"#bd3786\"], [0.5555555555555556, \"#d8576b\"], [0.6666666666666666, \"#ed7953\"], [0.7777777777777778, \"#fb9f3a\"], [0.8888888888888888, \"#fdca26\"], [1.0, \"#f0f921\"]], \"type\": \"heatmap\"}], \"heatmapgl\": [{\"colorbar\": {\"outlinewidth\": 0, \"ticks\": \"\"}, \"colorscale\": [[0.0, \"#0d0887\"], [0.1111111111111111, \"#46039f\"], [0.2222222222222222, \"#7201a8\"], [0.3333333333333333, \"#9c179e\"], [0.4444444444444444, \"#bd3786\"], [0.5555555555555556, \"#d8576b\"], [0.6666666666666666, \"#ed7953\"], [0.7777777777777778, \"#fb9f3a\"], [0.8888888888888888, \"#fdca26\"], [1.0, \"#f0f921\"]], \"type\": \"heatmapgl\"}], \"histogram\": [{\"marker\": {\"colorbar\": {\"outlinewidth\": 0, \"ticks\": \"\"}}, \"type\": \"histogram\"}], \"histogram2d\": [{\"colorbar\": {\"outlinewidth\": 0, \"ticks\": \"\"}, \"colorscale\": [[0.0, \"#0d0887\"], [0.1111111111111111, \"#46039f\"], [0.2222222222222222, \"#7201a8\"], [0.3333333333333333, \"#9c179e\"], [0.4444444444444444, \"#bd3786\"], [0.5555555555555556, \"#d8576b\"], [0.6666666666666666, \"#ed7953\"], [0.7777777777777778, \"#fb9f3a\"], [0.8888888888888888, \"#fdca26\"], [1.0, \"#f0f921\"]], \"type\": \"histogram2d\"}], \"histogram2dcontour\": [{\"colorbar\": {\"outlinewidth\": 0, \"ticks\": \"\"}, \"colorscale\": [[0.0, \"#0d0887\"], [0.1111111111111111, \"#46039f\"], [0.2222222222222222, \"#7201a8\"], [0.3333333333333333, \"#9c179e\"], [0.4444444444444444, \"#bd3786\"], [0.5555555555555556, \"#d8576b\"], [0.6666666666666666, \"#ed7953\"], [0.7777777777777778, \"#fb9f3a\"], [0.8888888888888888, \"#fdca26\"], [1.0, \"#f0f921\"]], \"type\": \"histogram2dcontour\"}], \"mesh3d\": [{\"colorbar\": {\"outlinewidth\": 0, \"ticks\": \"\"}, \"type\": \"mesh3d\"}], \"parcoords\": [{\"line\": {\"colorbar\": {\"outlinewidth\": 0, \"ticks\": \"\"}}, \"type\": \"parcoords\"}], \"pie\": [{\"automargin\": true, \"type\": \"pie\"}], \"scatter\": [{\"marker\": {\"colorbar\": {\"outlinewidth\": 0, \"ticks\": \"\"}}, \"type\": \"scatter\"}], \"scatter3d\": [{\"line\": {\"colorbar\": {\"outlinewidth\": 0, \"ticks\": \"\"}}, \"marker\": {\"colorbar\": {\"outlinewidth\": 0, \"ticks\": \"\"}}, \"type\": \"scatter3d\"}], \"scattercarpet\": [{\"marker\": {\"colorbar\": {\"outlinewidth\": 0, \"ticks\": \"\"}}, \"type\": \"scattercarpet\"}], \"scattergeo\": [{\"marker\": {\"colorbar\": {\"outlinewidth\": 0, \"ticks\": \"\"}}, \"type\": \"scattergeo\"}], \"scattergl\": [{\"marker\": {\"colorbar\": {\"outlinewidth\": 0, \"ticks\": \"\"}}, \"type\": \"scattergl\"}], \"scattermapbox\": [{\"marker\": {\"colorbar\": {\"outlinewidth\": 0, \"ticks\": \"\"}}, \"type\": \"scattermapbox\"}], \"scatterpolar\": [{\"marker\": {\"colorbar\": {\"outlinewidth\": 0, \"ticks\": \"\"}}, \"type\": \"scatterpolar\"}], \"scatterpolargl\": [{\"marker\": {\"colorbar\": {\"outlinewidth\": 0, \"ticks\": \"\"}}, \"type\": \"scatterpolargl\"}], \"scatterternary\": [{\"marker\": {\"colorbar\": {\"outlinewidth\": 0, \"ticks\": \"\"}}, \"type\": \"scatterternary\"}], \"surface\": [{\"colorbar\": {\"outlinewidth\": 0, \"ticks\": \"\"}, \"colorscale\": [[0.0, \"#0d0887\"], [0.1111111111111111, \"#46039f\"], [0.2222222222222222, \"#7201a8\"], [0.3333333333333333, \"#9c179e\"], [0.4444444444444444, \"#bd3786\"], [0.5555555555555556, \"#d8576b\"], [0.6666666666666666, \"#ed7953\"], [0.7777777777777778, \"#fb9f3a\"], [0.8888888888888888, \"#fdca26\"], [1.0, \"#f0f921\"]], \"type\": \"surface\"}], \"table\": [{\"cells\": {\"fill\": {\"color\": \"#EBF0F8\"}, \"line\": {\"color\": \"white\"}}, \"header\": {\"fill\": {\"color\": \"#C8D4E3\"}, \"line\": {\"color\": \"white\"}}, \"type\": \"table\"}]}, \"layout\": {\"annotationdefaults\": {\"arrowcolor\": \"#2a3f5f\", \"arrowhead\": 0, \"arrowwidth\": 1}, \"coloraxis\": {\"colorbar\": {\"outlinewidth\": 0, \"ticks\": \"\"}}, \"colorscale\": {\"diverging\": [[0, \"#8e0152\"], [0.1, \"#c51b7d\"], [0.2, \"#de77ae\"], [0.3, \"#f1b6da\"], [0.4, \"#fde0ef\"], [0.5, \"#f7f7f7\"], [0.6, \"#e6f5d0\"], [0.7, \"#b8e186\"], [0.8, \"#7fbc41\"], [0.9, \"#4d9221\"], [1, \"#276419\"]], \"sequential\": [[0.0, \"#0d0887\"], [0.1111111111111111, \"#46039f\"], [0.2222222222222222, \"#7201a8\"], [0.3333333333333333, \"#9c179e\"], [0.4444444444444444, \"#bd3786\"], [0.5555555555555556, \"#d8576b\"], [0.6666666666666666, \"#ed7953\"], [0.7777777777777778, \"#fb9f3a\"], [0.8888888888888888, \"#fdca26\"], [1.0, \"#f0f921\"]], \"sequentialminus\": [[0.0, \"#0d0887\"], [0.1111111111111111, \"#46039f\"], [0.2222222222222222, \"#7201a8\"], [0.3333333333333333, \"#9c179e\"], [0.4444444444444444, \"#bd3786\"], [0.5555555555555556, \"#d8576b\"], [0.6666666666666666, \"#ed7953\"], [0.7777777777777778, \"#fb9f3a\"], [0.8888888888888888, \"#fdca26\"], [1.0, \"#f0f921\"]]}, \"colorway\": [\"#636efa\", \"#EF553B\", \"#00cc96\", \"#ab63fa\", \"#FFA15A\", \"#19d3f3\", \"#FF6692\", \"#B6E880\", \"#FF97FF\", \"#FECB52\"], \"font\": {\"color\": \"#2a3f5f\"}, \"geo\": {\"bgcolor\": \"white\", \"lakecolor\": \"white\", \"landcolor\": \"#E5ECF6\", \"showlakes\": true, \"showland\": true, \"subunitcolor\": \"white\"}, \"hoverlabel\": {\"align\": \"left\"}, \"hovermode\": \"closest\", \"mapbox\": {\"style\": \"light\"}, \"paper_bgcolor\": \"white\", \"plot_bgcolor\": \"#E5ECF6\", \"polar\": {\"angularaxis\": {\"gridcolor\": \"white\", \"linecolor\": \"white\", \"ticks\": \"\"}, \"bgcolor\": \"#E5ECF6\", \"radialaxis\": {\"gridcolor\": \"white\", \"linecolor\": \"white\", \"ticks\": \"\"}}, \"scene\": {\"xaxis\": {\"backgroundcolor\": \"#E5ECF6\", \"gridcolor\": \"white\", \"gridwidth\": 2, \"linecolor\": \"white\", \"showbackground\": true, \"ticks\": \"\", \"zerolinecolor\": \"white\"}, \"yaxis\": {\"backgroundcolor\": \"#E5ECF6\", \"gridcolor\": \"white\", \"gridwidth\": 2, \"linecolor\": \"white\", \"showbackground\": true, \"ticks\": \"\", \"zerolinecolor\": \"white\"}, \"zaxis\": {\"backgroundcolor\": \"#E5ECF6\", \"gridcolor\": \"white\", \"gridwidth\": 2, \"linecolor\": \"white\", \"showbackground\": true, \"ticks\": \"\", \"zerolinecolor\": \"white\"}}, \"shapedefaults\": {\"line\": {\"color\": \"#2a3f5f\"}}, \"ternary\": {\"aaxis\": {\"gridcolor\": \"white\", \"linecolor\": \"white\", \"ticks\": \"\"}, \"baxis\": {\"gridcolor\": \"white\", \"linecolor\": \"white\", \"ticks\": \"\"}, \"bgcolor\": \"#E5ECF6\", \"caxis\": {\"gridcolor\": \"white\", \"linecolor\": \"white\", \"ticks\": \"\"}}, \"title\": {\"x\": 0.05}, \"xaxis\": {\"automargin\": true, \"gridcolor\": \"white\", \"linecolor\": \"white\", \"ticks\": \"\", \"title\": {\"standoff\": 15}, \"zerolinecolor\": \"white\", \"zerolinewidth\": 2}, \"yaxis\": {\"automargin\": true, \"gridcolor\": \"white\", \"linecolor\": \"white\", \"ticks\": \"\", \"title\": {\"standoff\": 15}, \"zerolinecolor\": \"white\", \"zerolinewidth\": 2}}}, \"title\": {\"text\": \"Learning Curves\"}, \"xaxis\": {\"anchor\": \"y\", \"domain\": [0.0, 1.0], \"title\": {\"text\": \"Epochs\"}}, \"xaxis2\": {\"anchor\": \"y2\", \"domain\": [0.0, 1.0], \"title\": {\"text\": \"Epochs\"}}, \"xaxis3\": {\"anchor\": \"y3\", \"domain\": [0.0, 1.0], \"title\": {\"text\": \"Epochs\"}}, \"yaxis\": {\"anchor\": \"x\", \"domain\": [0.7777777777777778, 1.0], \"title\": {\"text\": \"Loss\"}}, \"yaxis2\": {\"anchor\": \"x2\", \"domain\": [0.3888888888888889, 0.6111111111111112], \"title\": {\"text\": \"Recall\"}}, \"yaxis3\": {\"anchor\": \"x3\", \"domain\": [0.0, 0.22222222222222224], \"title\": {\"text\": \"AUC\"}}},\n",
              "                        {\"responsive\": true}\n",
              "                    ).then(function(){\n",
              "                            \n",
              "var gd = document.getElementById('33b1322a-48a8-40a6-a81f-119bab41979d');\n",
              "var x = new MutationObserver(function (mutations, observer) {{\n",
              "        var display = window.getComputedStyle(gd).display;\n",
              "        if (!display || display === 'none') {{\n",
              "            console.log([gd, 'removed!']);\n",
              "            Plotly.purge(gd);\n",
              "            observer.disconnect();\n",
              "        }}\n",
              "}});\n",
              "\n",
              "// Listen for the removal of the full notebook cells\n",
              "var notebookContainer = gd.closest('#notebook-container');\n",
              "if (notebookContainer) {{\n",
              "    x.observe(notebookContainer, {childList: true});\n",
              "}}\n",
              "\n",
              "// Listen for the clearing of the current output cell\n",
              "var outputEl = gd.closest('.output');\n",
              "if (outputEl) {{\n",
              "    x.observe(outputEl, {childList: true});\n",
              "}}\n",
              "\n",
              "                        })\n",
              "                };\n",
              "                \n",
              "            </script>\n",
              "        </div>\n",
              "</body>\n",
              "</html>"
            ]
          },
          "metadata": {}
        }
      ]
    },
    {
      "cell_type": "code",
      "source": [
        "def plot_roc_curve(*datas):\n",
        "    fig = go.Figure()\n",
        "    for data in datas:\n",
        "        name = data[0]\n",
        "        y_true = data[1]\n",
        "        pred = data[2]\n",
        "\n",
        "        fpr, tpr, _ = roc_curve(y_true, pred)\n",
        "        fig.add_trace(go.Scatter(x=fpr, y=tpr, name=name))\n",
        "\n",
        "    fig.update_yaxes(title_text=\"TPR\")\n",
        "    fig.update_xaxes(title_text=\"FPR\")\n",
        "    fig.update_layout(title_text=\"ROC Curve\")\n",
        "    fig.show()"
      ],
      "metadata": {
        "execution": {
          "iopub.status.busy": "2022-01-13T07:35:07.795242Z",
          "iopub.execute_input": "2022-01-13T07:35:07.797679Z",
          "iopub.status.idle": "2022-01-13T07:35:07.803839Z",
          "shell.execute_reply.started": "2022-01-13T07:35:07.797636Z",
          "shell.execute_reply": "2022-01-13T07:35:07.802907Z"
        },
        "trusted": true,
        "id": "SYMmClSAZg79"
      },
      "execution_count": 22,
      "outputs": []
    },
    {
      "cell_type": "code",
      "source": [
        "def evaluate_model(y_true, pred, threshold=0.5):\n",
        "    pred_new = [1 if i > threshold else 0 for i in pred]\n",
        "\n",
        "    # Print classification report\n",
        "    print('===== Classification Report ======')\n",
        "    print(classification_report(y_true, pred_new))\n",
        "    print()\n",
        "\n",
        "    # Print confusion matrix\n",
        "    data = {\n",
        "        'y_Actual': y_true,\n",
        "        'y_Predicted': pred_new\n",
        "    }\n",
        "\n",
        "    df = pd.DataFrame(data, columns=['y_Actual','y_Predicted'])\n",
        "    confusion_matrix = pd.crosstab(df['y_Actual'], df['y_Predicted'], rownames=['Actual'], colnames=['Predicted'])\n",
        "\n",
        "    plt.title(\"Confusion Matrix\")\n",
        "    sn.heatmap(confusion_matrix, annot=True)\n",
        "    plt.show()\n",
        "\n",
        "    # Print other metrics\n",
        "    print('===== Other Metrics =====')\n",
        "    roc_auc = keras.metrics.AUC(curve='ROC')\n",
        "    roc_auc.update_state(y_true, pred)\n",
        "    print(f\"ROC_AUC: {roc_auc.result().numpy()}\")"
      ],
      "metadata": {
        "execution": {
          "iopub.status.busy": "2022-01-13T07:35:07.805049Z",
          "iopub.execute_input": "2022-01-13T07:35:07.805302Z",
          "iopub.status.idle": "2022-01-13T07:35:07.817816Z",
          "shell.execute_reply.started": "2022-01-13T07:35:07.805256Z",
          "shell.execute_reply": "2022-01-13T07:35:07.817057Z"
        },
        "trusted": true,
        "id": "-Ip3vUisZg7-"
      },
      "execution_count": 63,
      "outputs": []
    },
    {
      "cell_type": "code",
      "source": [
        "test_valid_gen.reset()\n",
        "pred_valid = model_efficientnet.predict(test_valid_gen)\n",
        "\n",
        "y_valid = [0 if x == 'Negative' else 1 for x in valid_df['TARGET']]\n",
        "\n",
        "plot_roc_curve(['EfficientNetV2-B0', y_valid, pred_valid])"
      ],
      "metadata": {
        "execution": {
          "iopub.status.busy": "2022-01-13T07:35:07.819209Z",
          "iopub.execute_input": "2022-01-13T07:35:07.819704Z",
          "iopub.status.idle": "2022-01-13T07:35:32.462648Z",
          "shell.execute_reply.started": "2022-01-13T07:35:07.819667Z",
          "shell.execute_reply": "2022-01-13T07:35:32.461948Z"
        },
        "trusted": true,
        "colab": {
          "base_uri": "https://localhost:8080/",
          "height": 542
        },
        "id": "52EhIw5DZg7-",
        "outputId": "922d1704-ce7b-49fd-94fc-e0173c70c7c2"
      },
      "execution_count": 45,
      "outputs": [
        {
          "output_type": "display_data",
          "data": {
            "text/html": [
              "<html>\n",
              "<head><meta charset=\"utf-8\" /></head>\n",
              "<body>\n",
              "    <div>\n",
              "            <script src=\"https://cdnjs.cloudflare.com/ajax/libs/mathjax/2.7.5/MathJax.js?config=TeX-AMS-MML_SVG\"></script><script type=\"text/javascript\">if (window.MathJax) {MathJax.Hub.Config({SVG: {font: \"STIX-Web\"}});}</script>\n",
              "                <script type=\"text/javascript\">window.PlotlyConfig = {MathJaxConfig: 'local'};</script>\n",
              "        <script src=\"https://cdn.plot.ly/plotly-latest.min.js\"></script>    \n",
              "            <div id=\"62ab0d03-342f-42ad-9d76-3fcee83d4c57\" class=\"plotly-graph-div\" style=\"height:525px; width:100%;\"></div>\n",
              "            <script type=\"text/javascript\">\n",
              "                \n",
              "                    window.PLOTLYENV=window.PLOTLYENV || {};\n",
              "                    \n",
              "                if (document.getElementById(\"62ab0d03-342f-42ad-9d76-3fcee83d4c57\")) {\n",
              "                    Plotly.newPlot(\n",
              "                        '62ab0d03-342f-42ad-9d76-3fcee83d4c57',\n",
              "                        [{\"name\": \"EfficientNetV2-B0\", \"type\": \"scatter\", \"x\": [0.0, 0.0, 0.0, 0.0, 0.0, 0.0, 0.0, 0.0, 0.0, 0.0, 0.0, 0.0, 0.0006131207847946045, 0.0006131207847946045, 0.001226241569589209, 0.001226241569589209, 0.0018393623543838135, 0.0018393623543838135, 0.002452483139178418, 0.002452483139178418, 0.0030656039239730227, 0.0030656039239730227, 0.003678724708767627, 0.003678724708767627, 0.004291845493562232, 0.004291845493562232, 0.004904966278356836, 0.004904966278356836, 0.0061312078479460455, 0.0061312078479460455, 0.007357449417535254, 0.007357449417535254, 0.00797057020232986, 0.00797057020232986, 0.008583690987124463, 0.008583690987124463, 0.009196811771919068, 0.009196811771919068, 0.009809932556713672, 0.009809932556713672, 0.011036174126302882, 0.011036174126302882, 0.011649294911097487, 0.011649294911097487, 0.015328019619865114, 0.015328019619865114, 0.017167381974248927, 0.017167381974248927, 0.018393623543838136, 0.018393623543838136, 0.01900674432863274, 0.01900674432863274, 0.022685469037400367, 0.022685469037400367, 0.03126916002452483, 0.03126916002452483, 0.03372164316370325, 0.03372164316370325, 0.03923973022685469, 0.03923973022685469, 0.04414469650521153, 0.04414469650521153, 0.04782342121397915, 0.04782342121397915, 0.05947271612507664, 0.05947271612507664, 0.06069895769466585, 0.06069895769466585, 0.07541385652973635, 0.07541385652973635, 0.07725321888412018, 0.07725321888412018, 0.07909258123850399, 0.07909258123850399, 0.0809319435928878, 0.0809319435928878, 0.08461066830165542, 0.08461066830165542, 0.08522378908645004, 0.08522378908645004, 0.08583690987124463, 0.08583690987124463, 0.09932556713672594, 0.09932556713672594, 0.10545677498467199, 0.10545677498467199, 0.11894543225015328, 0.11894543225015328, 0.14285714285714285, 0.14285714285714285, 0.16799509503372165, 0.16799509503372165, 0.17657878602084612, 0.17657878602084612, 0.18025751072961374, 0.18025751072961374, 0.20294297976701411, 0.20294297976701411, 0.23543838136112813, 0.23543838136112813, 0.49908031882280807, 0.49908031882280807, 1.0], \"y\": [0.0, 0.0017271157167530224, 0.008635578583765112, 0.039723661485319514, 0.04317789291882556, 0.11226252158894647, 0.1157167530224525, 0.19861830742659758, 0.20207253886010362, 0.3747841105354059, 0.37823834196891193, 0.7305699481865285, 0.7305699481865285, 0.7616580310880829, 0.7616580310880829, 0.7944732297063903, 0.7944732297063903, 0.8601036269430051, 0.8601036269430051, 0.8652849740932642, 0.8652849740932642, 0.8670120898100173, 0.8670120898100173, 0.8756476683937824, 0.8756476683937824, 0.8808290155440415, 0.8808290155440415, 0.8877374784110535, 0.8877374784110535, 0.9032815198618307, 0.9032815198618307, 0.9205526770293609, 0.9205526770293609, 0.92573402417962, 0.92573402417962, 0.9309153713298791, 0.9309153713298791, 0.9326424870466321, 0.9326424870466321, 0.9343696027633851, 0.9343696027633851, 0.9360967184801382, 0.9360967184801382, 0.9430051813471503, 0.9430051813471503, 0.9447322970639033, 0.9447322970639033, 0.9481865284974094, 0.9481865284974094, 0.9499136442141624, 0.9499136442141624, 0.9516407599309153, 0.9516407599309153, 0.9533678756476683, 0.9533678756476683, 0.9585492227979274, 0.9585492227979274, 0.9620034542314335, 0.9620034542314335, 0.9637305699481865, 0.9637305699481865, 0.9654576856649395, 0.9654576856649395, 0.9671848013816926, 0.9671848013816926, 0.9689119170984456, 0.9689119170984456, 0.9706390328151986, 0.9706390328151986, 0.9723661485319517, 0.9723661485319517, 0.9740932642487047, 0.9740932642487047, 0.9758203799654577, 0.9758203799654577, 0.9775474956822107, 0.9775474956822107, 0.9792746113989638, 0.9792746113989638, 0.9810017271157168, 0.9810017271157168, 0.9827288428324698, 0.9827288428324698, 0.9844559585492227, 0.9844559585492227, 0.9861830742659758, 0.9861830742659758, 0.9879101899827288, 0.9879101899827288, 0.9896373056994818, 0.9896373056994818, 0.9913644214162349, 0.9913644214162349, 0.9930915371329879, 0.9930915371329879, 0.9948186528497409, 0.9948186528497409, 0.9965457685664939, 0.9965457685664939, 0.998272884283247, 0.998272884283247, 1.0, 1.0]}],\n",
              "                        {\"template\": {\"data\": {\"bar\": [{\"error_x\": {\"color\": \"#2a3f5f\"}, \"error_y\": {\"color\": \"#2a3f5f\"}, \"marker\": {\"line\": {\"color\": \"#E5ECF6\", \"width\": 0.5}}, \"type\": \"bar\"}], \"barpolar\": [{\"marker\": {\"line\": {\"color\": \"#E5ECF6\", \"width\": 0.5}}, \"type\": \"barpolar\"}], \"carpet\": [{\"aaxis\": {\"endlinecolor\": \"#2a3f5f\", \"gridcolor\": \"white\", \"linecolor\": \"white\", \"minorgridcolor\": \"white\", \"startlinecolor\": \"#2a3f5f\"}, \"baxis\": {\"endlinecolor\": \"#2a3f5f\", \"gridcolor\": \"white\", \"linecolor\": \"white\", \"minorgridcolor\": \"white\", \"startlinecolor\": \"#2a3f5f\"}, \"type\": \"carpet\"}], \"choropleth\": [{\"colorbar\": {\"outlinewidth\": 0, \"ticks\": \"\"}, \"type\": \"choropleth\"}], \"contour\": [{\"colorbar\": {\"outlinewidth\": 0, \"ticks\": \"\"}, \"colorscale\": [[0.0, \"#0d0887\"], [0.1111111111111111, \"#46039f\"], [0.2222222222222222, \"#7201a8\"], [0.3333333333333333, \"#9c179e\"], [0.4444444444444444, \"#bd3786\"], [0.5555555555555556, \"#d8576b\"], [0.6666666666666666, \"#ed7953\"], [0.7777777777777778, \"#fb9f3a\"], [0.8888888888888888, \"#fdca26\"], [1.0, \"#f0f921\"]], \"type\": \"contour\"}], \"contourcarpet\": [{\"colorbar\": {\"outlinewidth\": 0, \"ticks\": \"\"}, \"type\": \"contourcarpet\"}], \"heatmap\": [{\"colorbar\": {\"outlinewidth\": 0, \"ticks\": \"\"}, \"colorscale\": [[0.0, \"#0d0887\"], [0.1111111111111111, \"#46039f\"], [0.2222222222222222, \"#7201a8\"], [0.3333333333333333, \"#9c179e\"], [0.4444444444444444, \"#bd3786\"], [0.5555555555555556, \"#d8576b\"], [0.6666666666666666, \"#ed7953\"], [0.7777777777777778, \"#fb9f3a\"], [0.8888888888888888, \"#fdca26\"], [1.0, \"#f0f921\"]], \"type\": \"heatmap\"}], \"heatmapgl\": [{\"colorbar\": {\"outlinewidth\": 0, \"ticks\": \"\"}, \"colorscale\": [[0.0, \"#0d0887\"], [0.1111111111111111, \"#46039f\"], [0.2222222222222222, \"#7201a8\"], [0.3333333333333333, \"#9c179e\"], [0.4444444444444444, \"#bd3786\"], [0.5555555555555556, \"#d8576b\"], [0.6666666666666666, \"#ed7953\"], [0.7777777777777778, \"#fb9f3a\"], [0.8888888888888888, \"#fdca26\"], [1.0, \"#f0f921\"]], \"type\": \"heatmapgl\"}], \"histogram\": [{\"marker\": {\"colorbar\": {\"outlinewidth\": 0, \"ticks\": \"\"}}, \"type\": \"histogram\"}], \"histogram2d\": [{\"colorbar\": {\"outlinewidth\": 0, \"ticks\": \"\"}, \"colorscale\": [[0.0, \"#0d0887\"], [0.1111111111111111, \"#46039f\"], [0.2222222222222222, \"#7201a8\"], [0.3333333333333333, \"#9c179e\"], [0.4444444444444444, \"#bd3786\"], [0.5555555555555556, \"#d8576b\"], [0.6666666666666666, \"#ed7953\"], [0.7777777777777778, \"#fb9f3a\"], [0.8888888888888888, \"#fdca26\"], [1.0, \"#f0f921\"]], \"type\": \"histogram2d\"}], \"histogram2dcontour\": [{\"colorbar\": {\"outlinewidth\": 0, \"ticks\": \"\"}, \"colorscale\": [[0.0, \"#0d0887\"], [0.1111111111111111, \"#46039f\"], [0.2222222222222222, \"#7201a8\"], [0.3333333333333333, \"#9c179e\"], [0.4444444444444444, \"#bd3786\"], [0.5555555555555556, \"#d8576b\"], [0.6666666666666666, \"#ed7953\"], [0.7777777777777778, \"#fb9f3a\"], [0.8888888888888888, \"#fdca26\"], [1.0, \"#f0f921\"]], \"type\": \"histogram2dcontour\"}], \"mesh3d\": [{\"colorbar\": {\"outlinewidth\": 0, \"ticks\": \"\"}, \"type\": \"mesh3d\"}], \"parcoords\": [{\"line\": {\"colorbar\": {\"outlinewidth\": 0, \"ticks\": \"\"}}, \"type\": \"parcoords\"}], \"pie\": [{\"automargin\": true, \"type\": \"pie\"}], \"scatter\": [{\"marker\": {\"colorbar\": {\"outlinewidth\": 0, \"ticks\": \"\"}}, \"type\": \"scatter\"}], \"scatter3d\": [{\"line\": {\"colorbar\": {\"outlinewidth\": 0, \"ticks\": \"\"}}, \"marker\": {\"colorbar\": {\"outlinewidth\": 0, \"ticks\": \"\"}}, \"type\": \"scatter3d\"}], \"scattercarpet\": [{\"marker\": {\"colorbar\": {\"outlinewidth\": 0, \"ticks\": \"\"}}, \"type\": \"scattercarpet\"}], \"scattergeo\": [{\"marker\": {\"colorbar\": {\"outlinewidth\": 0, \"ticks\": \"\"}}, \"type\": \"scattergeo\"}], \"scattergl\": [{\"marker\": {\"colorbar\": {\"outlinewidth\": 0, \"ticks\": \"\"}}, \"type\": \"scattergl\"}], \"scattermapbox\": [{\"marker\": {\"colorbar\": {\"outlinewidth\": 0, \"ticks\": \"\"}}, \"type\": \"scattermapbox\"}], \"scatterpolar\": [{\"marker\": {\"colorbar\": {\"outlinewidth\": 0, \"ticks\": \"\"}}, \"type\": \"scatterpolar\"}], \"scatterpolargl\": [{\"marker\": {\"colorbar\": {\"outlinewidth\": 0, \"ticks\": \"\"}}, \"type\": \"scatterpolargl\"}], \"scatterternary\": [{\"marker\": {\"colorbar\": {\"outlinewidth\": 0, \"ticks\": \"\"}}, \"type\": \"scatterternary\"}], \"surface\": [{\"colorbar\": {\"outlinewidth\": 0, \"ticks\": \"\"}, \"colorscale\": [[0.0, \"#0d0887\"], [0.1111111111111111, \"#46039f\"], [0.2222222222222222, \"#7201a8\"], [0.3333333333333333, \"#9c179e\"], [0.4444444444444444, \"#bd3786\"], [0.5555555555555556, \"#d8576b\"], [0.6666666666666666, \"#ed7953\"], [0.7777777777777778, \"#fb9f3a\"], [0.8888888888888888, \"#fdca26\"], [1.0, \"#f0f921\"]], \"type\": \"surface\"}], \"table\": [{\"cells\": {\"fill\": {\"color\": \"#EBF0F8\"}, \"line\": {\"color\": \"white\"}}, \"header\": {\"fill\": {\"color\": \"#C8D4E3\"}, \"line\": {\"color\": \"white\"}}, \"type\": \"table\"}]}, \"layout\": {\"annotationdefaults\": {\"arrowcolor\": \"#2a3f5f\", \"arrowhead\": 0, \"arrowwidth\": 1}, \"coloraxis\": {\"colorbar\": {\"outlinewidth\": 0, \"ticks\": \"\"}}, \"colorscale\": {\"diverging\": [[0, \"#8e0152\"], [0.1, \"#c51b7d\"], [0.2, \"#de77ae\"], [0.3, \"#f1b6da\"], [0.4, \"#fde0ef\"], [0.5, \"#f7f7f7\"], [0.6, \"#e6f5d0\"], [0.7, \"#b8e186\"], [0.8, \"#7fbc41\"], [0.9, \"#4d9221\"], [1, \"#276419\"]], \"sequential\": [[0.0, \"#0d0887\"], [0.1111111111111111, \"#46039f\"], [0.2222222222222222, \"#7201a8\"], [0.3333333333333333, \"#9c179e\"], [0.4444444444444444, \"#bd3786\"], [0.5555555555555556, \"#d8576b\"], [0.6666666666666666, \"#ed7953\"], [0.7777777777777778, \"#fb9f3a\"], [0.8888888888888888, \"#fdca26\"], [1.0, \"#f0f921\"]], \"sequentialminus\": [[0.0, \"#0d0887\"], [0.1111111111111111, \"#46039f\"], [0.2222222222222222, \"#7201a8\"], [0.3333333333333333, \"#9c179e\"], [0.4444444444444444, \"#bd3786\"], [0.5555555555555556, \"#d8576b\"], [0.6666666666666666, \"#ed7953\"], [0.7777777777777778, \"#fb9f3a\"], [0.8888888888888888, \"#fdca26\"], [1.0, \"#f0f921\"]]}, \"colorway\": [\"#636efa\", \"#EF553B\", \"#00cc96\", \"#ab63fa\", \"#FFA15A\", \"#19d3f3\", \"#FF6692\", \"#B6E880\", \"#FF97FF\", \"#FECB52\"], \"font\": {\"color\": \"#2a3f5f\"}, \"geo\": {\"bgcolor\": \"white\", \"lakecolor\": \"white\", \"landcolor\": \"#E5ECF6\", \"showlakes\": true, \"showland\": true, \"subunitcolor\": \"white\"}, \"hoverlabel\": {\"align\": \"left\"}, \"hovermode\": \"closest\", \"mapbox\": {\"style\": \"light\"}, \"paper_bgcolor\": \"white\", \"plot_bgcolor\": \"#E5ECF6\", \"polar\": {\"angularaxis\": {\"gridcolor\": \"white\", \"linecolor\": \"white\", \"ticks\": \"\"}, \"bgcolor\": \"#E5ECF6\", \"radialaxis\": {\"gridcolor\": \"white\", \"linecolor\": \"white\", \"ticks\": \"\"}}, \"scene\": {\"xaxis\": {\"backgroundcolor\": \"#E5ECF6\", \"gridcolor\": \"white\", \"gridwidth\": 2, \"linecolor\": \"white\", \"showbackground\": true, \"ticks\": \"\", \"zerolinecolor\": \"white\"}, \"yaxis\": {\"backgroundcolor\": \"#E5ECF6\", \"gridcolor\": \"white\", \"gridwidth\": 2, \"linecolor\": \"white\", \"showbackground\": true, \"ticks\": \"\", \"zerolinecolor\": \"white\"}, \"zaxis\": {\"backgroundcolor\": \"#E5ECF6\", \"gridcolor\": \"white\", \"gridwidth\": 2, \"linecolor\": \"white\", \"showbackground\": true, \"ticks\": \"\", \"zerolinecolor\": \"white\"}}, \"shapedefaults\": {\"line\": {\"color\": \"#2a3f5f\"}}, \"ternary\": {\"aaxis\": {\"gridcolor\": \"white\", \"linecolor\": \"white\", \"ticks\": \"\"}, \"baxis\": {\"gridcolor\": \"white\", \"linecolor\": \"white\", \"ticks\": \"\"}, \"bgcolor\": \"#E5ECF6\", \"caxis\": {\"gridcolor\": \"white\", \"linecolor\": \"white\", \"ticks\": \"\"}}, \"title\": {\"x\": 0.05}, \"xaxis\": {\"automargin\": true, \"gridcolor\": \"white\", \"linecolor\": \"white\", \"ticks\": \"\", \"title\": {\"standoff\": 15}, \"zerolinecolor\": \"white\", \"zerolinewidth\": 2}, \"yaxis\": {\"automargin\": true, \"gridcolor\": \"white\", \"linecolor\": \"white\", \"ticks\": \"\", \"title\": {\"standoff\": 15}, \"zerolinecolor\": \"white\", \"zerolinewidth\": 2}}}, \"title\": {\"text\": \"ROC Curve\"}, \"xaxis\": {\"title\": {\"text\": \"FPR\"}}, \"yaxis\": {\"title\": {\"text\": \"TPR\"}}},\n",
              "                        {\"responsive\": true}\n",
              "                    ).then(function(){\n",
              "                            \n",
              "var gd = document.getElementById('62ab0d03-342f-42ad-9d76-3fcee83d4c57');\n",
              "var x = new MutationObserver(function (mutations, observer) {{\n",
              "        var display = window.getComputedStyle(gd).display;\n",
              "        if (!display || display === 'none') {{\n",
              "            console.log([gd, 'removed!']);\n",
              "            Plotly.purge(gd);\n",
              "            observer.disconnect();\n",
              "        }}\n",
              "}});\n",
              "\n",
              "// Listen for the removal of the full notebook cells\n",
              "var notebookContainer = gd.closest('#notebook-container');\n",
              "if (notebookContainer) {{\n",
              "    x.observe(notebookContainer, {childList: true});\n",
              "}}\n",
              "\n",
              "// Listen for the clearing of the current output cell\n",
              "var outputEl = gd.closest('.output');\n",
              "if (outputEl) {{\n",
              "    x.observe(outputEl, {childList: true});\n",
              "}}\n",
              "\n",
              "                        })\n",
              "                };\n",
              "                \n",
              "            </script>\n",
              "        </div>\n",
              "</body>\n",
              "</html>"
            ]
          },
          "metadata": {}
        }
      ]
    },
    {
      "cell_type": "code",
      "source": [
        "# on validation data\n",
        "evaluate_model(y_valid, pred_valid, threshold=0.2)"
      ],
      "metadata": {
        "execution": {
          "iopub.status.busy": "2022-01-13T07:40:58.193072Z",
          "iopub.execute_input": "2022-01-13T07:40:58.193844Z",
          "iopub.status.idle": "2022-01-13T07:40:58.233248Z",
          "shell.execute_reply.started": "2022-01-13T07:40:58.193792Z",
          "shell.execute_reply": "2022-01-13T07:40:58.232457Z"
        },
        "trusted": true,
        "colab": {
          "base_uri": "https://localhost:8080/",
          "height": 521
        },
        "id": "M0lQYaM-Zg7_",
        "outputId": "a542068e-5a82-4ae2-ea9a-3d4855f3dc6e"
      },
      "execution_count": 64,
      "outputs": [
        {
          "output_type": "stream",
          "name": "stdout",
          "text": [
            "===== Classification Report ======\n",
            "              precision    recall  f1-score   support\n",
            "\n",
            "           0       0.98      0.98      0.98      1631\n",
            "           1       0.93      0.95      0.94       579\n",
            "\n",
            "    accuracy                           0.97      2210\n",
            "   macro avg       0.96      0.96      0.96      2210\n",
            "weighted avg       0.97      0.97      0.97      2210\n",
            "\n",
            "\n"
          ]
        },
        {
          "output_type": "display_data",
          "data": {
            "image/png": "[encoded data removed]",
            "text/plain": [
              "<Figure size 432x288 with 2 Axes>"
            ]
          },
          "metadata": {
            "needs_background": "light"
          }
        },
        {
          "output_type": "stream",
          "name": "stdout",
          "text": [
            "===== Other Metrics =====\n",
            "ROC_AUC: 0.9931048154830933\n"
          ]
        }
      ]
    },
    {
      "cell_type": "code",
      "source": [
        "test_test_gen.reset()\n",
        "pred_test = model_efficientnet.predict(test_test_gen)\n",
        "\n",
        "y_test = [0 if x == 'Negative' else 1 for x in test['TARGET']]"
      ],
      "metadata": {
        "id": "hIhGAK_OIxLa"
      },
      "execution_count": 47,
      "outputs": []
    },
    {
      "cell_type": "code",
      "source": [
        "# on test data\n",
        "evaluate_model(y_test, pred_test, threshold=0.2)"
      ],
      "metadata": {
        "colab": {
          "base_uri": "https://localhost:8080/",
          "height": 521
        },
        "id": "SJIO2cl_I3Ni",
        "outputId": "c79ba3af-2b31-429c-b81c-8e4bc7134527"
      },
      "execution_count": 66,
      "outputs": [
        {
          "output_type": "stream",
          "name": "stdout",
          "text": [
            "===== Classification Report ======\n",
            "              precision    recall  f1-score   support\n",
            "\n",
            "           0       0.98      0.97      0.98      2039\n",
            "           1       0.92      0.94      0.93       723\n",
            "\n",
            "    accuracy                           0.96      2762\n",
            "   macro avg       0.95      0.96      0.95      2762\n",
            "weighted avg       0.96      0.96      0.96      2762\n",
            "\n",
            "\n"
          ]
        },
        {
          "output_type": "display_data",
          "data": {
            "image/png": "[encoded data removed]",
            "text/plain": [
              "<Figure size 432x288 with 2 Axes>"
            ]
          },
          "metadata": {
            "needs_background": "light"
          }
        },
        {
          "output_type": "stream",
          "name": "stdout",
          "text": [
            "===== Other Metrics =====\n",
            "ROC_AUC: 0.9916638731956482\n"
          ]
        }
      ]
    }
  ]
}