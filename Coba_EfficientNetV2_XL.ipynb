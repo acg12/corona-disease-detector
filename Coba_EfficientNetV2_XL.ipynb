{
  "nbformat": 4,
  "nbformat_minor": 0,
  "metadata": {
    "colab": {
      "name": "Coba EfficientNetV2-XL.ipynb",
      "provenance": [],
      "collapsed_sections": []
    },
    "kernelspec": {
      "name": "python3",
      "display_name": "Python 3"
    },
    "language_info": {
      "name": "python"
    },
    "accelerator": "GPU"
  },
  "cells": [
    {
      "cell_type": "code",
      "metadata": {
        "execution": {
          "iopub.status.busy": "2021-10-25T04:14:30.289324Z",
          "iopub.execute_input": "2021-10-25T04:14:30.289878Z",
          "iopub.status.idle": "2021-10-25T04:14:39.480719Z",
          "shell.execute_reply.started": "2021-10-25T04:14:30.28984Z",
          "shell.execute_reply": "2021-10-25T04:14:39.479824Z"
        },
        "trusted": true,
        "id": "ePxe06HF4kBG",
        "colab": {
          "base_uri": "https://localhost:8080/"
        },
        "outputId": "8da511f8-db07-4471-e322-d33886b806c6"
      },
      "source": [
        "!pip install openpyxl\n",
        "!pip install kaggle"
      ],
      "execution_count": 1,
      "outputs": [
        {
          "output_type": "stream",
          "name": "stdout",
          "text": [
            "Requirement already satisfied: openpyxl in /usr/local/lib/python3.7/dist-packages (2.5.9)\n",
            "Requirement already satisfied: et-xmlfile in /usr/local/lib/python3.7/dist-packages (from openpyxl) (1.1.0)\n",
            "Requirement already satisfied: jdcal in /usr/local/lib/python3.7/dist-packages (from openpyxl) (1.4.1)\n",
            "Requirement already satisfied: kaggle in /usr/local/lib/python3.7/dist-packages (1.5.12)\n",
            "Requirement already satisfied: python-slugify in /usr/local/lib/python3.7/dist-packages (from kaggle) (5.0.2)\n",
            "Requirement already satisfied: six>=1.10 in /usr/local/lib/python3.7/dist-packages (from kaggle) (1.15.0)\n",
            "Requirement already satisfied: python-dateutil in /usr/local/lib/python3.7/dist-packages (from kaggle) (2.8.2)\n",
            "Requirement already satisfied: requests in /usr/local/lib/python3.7/dist-packages (from kaggle) (2.23.0)\n",
            "Requirement already satisfied: certifi in /usr/local/lib/python3.7/dist-packages (from kaggle) (2021.10.8)\n",
            "Requirement already satisfied: urllib3 in /usr/local/lib/python3.7/dist-packages (from kaggle) (1.24.3)\n",
            "Requirement already satisfied: tqdm in /usr/local/lib/python3.7/dist-packages (from kaggle) (4.62.3)\n",
            "Requirement already satisfied: text-unidecode>=1.3 in /usr/local/lib/python3.7/dist-packages (from python-slugify->kaggle) (1.3)\n",
            "Requirement already satisfied: chardet<4,>=3.0.2 in /usr/local/lib/python3.7/dist-packages (from requests->kaggle) (3.0.4)\n",
            "Requirement already satisfied: idna<3,>=2.5 in /usr/local/lib/python3.7/dist-packages (from requests->kaggle) (2.10)\n"
          ]
        }
      ]
    },
    {
      "cell_type": "code",
      "metadata": {
        "id": "png93YD65PJH",
        "colab": {
          "base_uri": "https://localhost:8080/"
        },
        "outputId": "7eb7a561-6bc5-42e4-e397-5b83a84e6f29"
      },
      "source": [
        "!rm -r ~/.kaggle\n",
        "!mkdir ~/.kaggle\n",
        "!mv ./kaggle.json ~/.kaggle/\n",
        "!chmod 600 ~/.kaggle/kaggle.json"
      ],
      "execution_count": 2,
      "outputs": [
        {
          "output_type": "stream",
          "name": "stdout",
          "text": [
            "rm: cannot remove '/root/.kaggle': No such file or directory\n"
          ]
        }
      ]
    },
    {
      "cell_type": "code",
      "metadata": {
        "colab": {
          "base_uri": "https://localhost:8080/"
        },
        "id": "e8u8SEqQ5y1T",
        "outputId": "a74dfad2-d6da-4ea7-eac7-df200e9fa70d"
      },
      "source": [
        "!kaggle datasets download -d tawsifurrahman/covid19-radiography-database"
      ],
      "execution_count": 3,
      "outputs": [
        {
          "output_type": "stream",
          "name": "stdout",
          "text": [
            "Downloading covid19-radiography-database.zip to /content\n",
            " 98% 732M/745M [00:05<00:00, 168MB/s]\n",
            "100% 745M/745M [00:05<00:00, 151MB/s]\n"
          ]
        }
      ]
    },
    {
      "cell_type": "code",
      "metadata": {
        "id": "ikLFtdyU5_IG"
      },
      "source": [
        "!unzip -q /content/covid19-radiography-database.zip"
      ],
      "execution_count": 4,
      "outputs": []
    },
    {
      "cell_type": "code",
      "metadata": {
        "_uuid": "8f2839f25d086af736a60e9eeb907d3b93b6e0e5",
        "_cell_guid": "b1076dfc-b9ad-4769-8c92-a6c4dae69d19",
        "execution": {
          "iopub.status.busy": "2021-10-25T04:14:46.654052Z",
          "iopub.execute_input": "2021-10-25T04:14:46.654538Z",
          "iopub.status.idle": "2021-10-25T04:14:52.57009Z",
          "shell.execute_reply.started": "2021-10-25T04:14:46.654501Z",
          "shell.execute_reply": "2021-10-25T04:14:52.569325Z"
        },
        "trusted": true,
        "id": "YDSzlAMV4kBA"
      },
      "source": [
        "import numpy as np # linear algebra\n",
        "import pandas as pd # data processing, CSV file I/O (e.g. pd.read_csv)\n",
        "\n",
        "from sklearn.model_selection import train_test_split\n",
        "\n",
        "# For visualizing images\n",
        "import matplotlib.pyplot as plt\n",
        "import seaborn as sns\n",
        "import matplotlib.image as mpimg\n",
        "import random\n",
        "from plotly.subplots import make_subplots\n",
        "import plotly.graph_objects as go\n",
        "\n",
        "# For augmenting data\n",
        "from tensorflow.keras.preprocessing.image import ImageDataGenerator\n",
        "\n",
        "# For modelling\n",
        "import tensorflow as tf\n",
        "from tensorflow import keras\n",
        "from tensorflow.keras.optimizers import Adam\n",
        "from tensorflow.keras.layers import Dense, Flatten, Conv2D, MaxPool2D, Activation\n",
        "from tensorflow.keras import Sequential, layers\n",
        "import tensorflow_hub as hub\n",
        "from sklearn.model_selection import StratifiedKFold\n",
        "from tensorflow.keras.models import load_model\n",
        "\n",
        "# For evaluation\n",
        "from sklearn.metrics import classification_report, confusion_matrix, roc_curve\n",
        "\n",
        "import os"
      ],
      "execution_count": 22,
      "outputs": []
    },
    {
      "cell_type": "code",
      "metadata": {
        "execution": {
          "iopub.status.busy": "2021-10-25T04:14:52.571572Z",
          "iopub.execute_input": "2021-10-25T04:14:52.571834Z",
          "iopub.status.idle": "2021-10-25T04:14:54.00422Z",
          "shell.execute_reply.started": "2021-10-25T04:14:52.571801Z",
          "shell.execute_reply": "2021-10-25T04:14:54.003412Z"
        },
        "trusted": true,
        "id": "fqJUpd3w4kBI"
      },
      "source": [
        "covid_df = pd.read_excel(\"/content/COVID-19_Radiography_Dataset/COVID.metadata.xlsx\")\n",
        "normal_df = pd.read_excel(\"/content/COVID-19_Radiography_Dataset/Normal.metadata.xlsx\")"
      ],
      "execution_count": 6,
      "outputs": []
    },
    {
      "cell_type": "code",
      "metadata": {
        "execution": {
          "iopub.status.busy": "2021-10-25T04:14:54.006033Z",
          "iopub.execute_input": "2021-10-25T04:14:54.006335Z",
          "iopub.status.idle": "2021-10-25T04:14:54.031482Z",
          "shell.execute_reply.started": "2021-10-25T04:14:54.006283Z",
          "shell.execute_reply": "2021-10-25T04:14:54.030694Z"
        },
        "trusted": true,
        "colab": {
          "base_uri": "https://localhost:8080/",
          "height": 206
        },
        "id": "_lcGjNN84kBI",
        "outputId": "585e1928-67d9-47a3-ef92-0f1cb080adbd"
      },
      "source": [
        "covid_df['TARGET'] = 'Positive'\n",
        "normal_df['TARGET'] = 'Negative'\n",
        "normal_df.head()"
      ],
      "execution_count": 7,
      "outputs": [
        {
          "output_type": "execute_result",
          "data": {
            "text/html": [
              "<div>\n",
              "<style scoped>\n",
              "    .dataframe tbody tr th:only-of-type {\n",
              "        vertical-align: middle;\n",
              "    }\n",
              "\n",
              "    .dataframe tbody tr th {\n",
              "        vertical-align: top;\n",
              "    }\n",
              "\n",
              "    .dataframe thead th {\n",
              "        text-align: right;\n",
              "    }\n",
              "</style>\n",
              "<table border=\"1\" class=\"dataframe\">\n",
              "  <thead>\n",
              "    <tr style=\"text-align: right;\">\n",
              "      <th></th>\n",
              "      <th>FILE NAME</th>\n",
              "      <th>FORMAT</th>\n",
              "      <th>SIZE</th>\n",
              "      <th>URL</th>\n",
              "      <th>TARGET</th>\n",
              "    </tr>\n",
              "  </thead>\n",
              "  <tbody>\n",
              "    <tr>\n",
              "      <th>0</th>\n",
              "      <td>NORMAL-1</td>\n",
              "      <td>PNG</td>\n",
              "      <td>256*256</td>\n",
              "      <td>https://www.kaggle.com/c/rsna-pneumonia-detect...</td>\n",
              "      <td>Negative</td>\n",
              "    </tr>\n",
              "    <tr>\n",
              "      <th>1</th>\n",
              "      <td>NORMAL-2</td>\n",
              "      <td>PNG</td>\n",
              "      <td>256*256</td>\n",
              "      <td>https://www.kaggle.com/c/rsna-pneumonia-detect...</td>\n",
              "      <td>Negative</td>\n",
              "    </tr>\n",
              "    <tr>\n",
              "      <th>2</th>\n",
              "      <td>NORMAL-3</td>\n",
              "      <td>PNG</td>\n",
              "      <td>256*256</td>\n",
              "      <td>https://www.kaggle.com/c/rsna-pneumonia-detect...</td>\n",
              "      <td>Negative</td>\n",
              "    </tr>\n",
              "    <tr>\n",
              "      <th>3</th>\n",
              "      <td>NORMAL-4</td>\n",
              "      <td>PNG</td>\n",
              "      <td>256*256</td>\n",
              "      <td>https://www.kaggle.com/c/rsna-pneumonia-detect...</td>\n",
              "      <td>Negative</td>\n",
              "    </tr>\n",
              "    <tr>\n",
              "      <th>4</th>\n",
              "      <td>NORMAL-5</td>\n",
              "      <td>PNG</td>\n",
              "      <td>256*256</td>\n",
              "      <td>https://www.kaggle.com/c/rsna-pneumonia-detect...</td>\n",
              "      <td>Negative</td>\n",
              "    </tr>\n",
              "  </tbody>\n",
              "</table>\n",
              "</div>"
            ],
            "text/plain": [
              "  FILE NAME FORMAT  ...                                                URL    TARGET\n",
              "0  NORMAL-1    PNG  ...  https://www.kaggle.com/c/rsna-pneumonia-detect...  Negative\n",
              "1  NORMAL-2    PNG  ...  https://www.kaggle.com/c/rsna-pneumonia-detect...  Negative\n",
              "2  NORMAL-3    PNG  ...  https://www.kaggle.com/c/rsna-pneumonia-detect...  Negative\n",
              "3  NORMAL-4    PNG  ...  https://www.kaggle.com/c/rsna-pneumonia-detect...  Negative\n",
              "4  NORMAL-5    PNG  ...  https://www.kaggle.com/c/rsna-pneumonia-detect...  Negative\n",
              "\n",
              "[5 rows x 5 columns]"
            ]
          },
          "metadata": {},
          "execution_count": 7
        }
      ]
    },
    {
      "cell_type": "code",
      "metadata": {
        "execution": {
          "iopub.status.busy": "2021-10-25T04:14:58.372259Z",
          "iopub.execute_input": "2021-10-25T04:14:58.372855Z",
          "iopub.status.idle": "2021-10-25T04:14:58.626048Z",
          "shell.execute_reply.started": "2021-10-25T04:14:58.372814Z",
          "shell.execute_reply": "2021-10-25T04:14:58.625361Z"
        },
        "trusted": true,
        "colab": {
          "base_uri": "https://localhost:8080/",
          "height": 206
        },
        "id": "VAcoK2x84kBJ",
        "outputId": "a348d114-5cce-44e7-f7bc-f5c01ec2406e"
      },
      "source": [
        "covid_df['FILE NAME'] = covid_df.apply(lambda x: \"COVID/\" + x['FILE NAME'] + \".\" + str.lower(x['FORMAT']), axis=1)\n",
        "normal_df['FILE NAME'] = normal_df.apply(lambda x: \"Normal/\" + str.capitalize(x['FILE NAME']) + \".\" + str.lower(x['FORMAT']), axis=1)\n",
        "normal_df.head()"
      ],
      "execution_count": 8,
      "outputs": [
        {
          "output_type": "execute_result",
          "data": {
            "text/html": [
              "<div>\n",
              "<style scoped>\n",
              "    .dataframe tbody tr th:only-of-type {\n",
              "        vertical-align: middle;\n",
              "    }\n",
              "\n",
              "    .dataframe tbody tr th {\n",
              "        vertical-align: top;\n",
              "    }\n",
              "\n",
              "    .dataframe thead th {\n",
              "        text-align: right;\n",
              "    }\n",
              "</style>\n",
              "<table border=\"1\" class=\"dataframe\">\n",
              "  <thead>\n",
              "    <tr style=\"text-align: right;\">\n",
              "      <th></th>\n",
              "      <th>FILE NAME</th>\n",
              "      <th>FORMAT</th>\n",
              "      <th>SIZE</th>\n",
              "      <th>URL</th>\n",
              "      <th>TARGET</th>\n",
              "    </tr>\n",
              "  </thead>\n",
              "  <tbody>\n",
              "    <tr>\n",
              "      <th>0</th>\n",
              "      <td>Normal/Normal-1.png</td>\n",
              "      <td>PNG</td>\n",
              "      <td>256*256</td>\n",
              "      <td>https://www.kaggle.com/c/rsna-pneumonia-detect...</td>\n",
              "      <td>Negative</td>\n",
              "    </tr>\n",
              "    <tr>\n",
              "      <th>1</th>\n",
              "      <td>Normal/Normal-2.png</td>\n",
              "      <td>PNG</td>\n",
              "      <td>256*256</td>\n",
              "      <td>https://www.kaggle.com/c/rsna-pneumonia-detect...</td>\n",
              "      <td>Negative</td>\n",
              "    </tr>\n",
              "    <tr>\n",
              "      <th>2</th>\n",
              "      <td>Normal/Normal-3.png</td>\n",
              "      <td>PNG</td>\n",
              "      <td>256*256</td>\n",
              "      <td>https://www.kaggle.com/c/rsna-pneumonia-detect...</td>\n",
              "      <td>Negative</td>\n",
              "    </tr>\n",
              "    <tr>\n",
              "      <th>3</th>\n",
              "      <td>Normal/Normal-4.png</td>\n",
              "      <td>PNG</td>\n",
              "      <td>256*256</td>\n",
              "      <td>https://www.kaggle.com/c/rsna-pneumonia-detect...</td>\n",
              "      <td>Negative</td>\n",
              "    </tr>\n",
              "    <tr>\n",
              "      <th>4</th>\n",
              "      <td>Normal/Normal-5.png</td>\n",
              "      <td>PNG</td>\n",
              "      <td>256*256</td>\n",
              "      <td>https://www.kaggle.com/c/rsna-pneumonia-detect...</td>\n",
              "      <td>Negative</td>\n",
              "    </tr>\n",
              "  </tbody>\n",
              "</table>\n",
              "</div>"
            ],
            "text/plain": [
              "             FILE NAME  ...    TARGET\n",
              "0  Normal/Normal-1.png  ...  Negative\n",
              "1  Normal/Normal-2.png  ...  Negative\n",
              "2  Normal/Normal-3.png  ...  Negative\n",
              "3  Normal/Normal-4.png  ...  Negative\n",
              "4  Normal/Normal-5.png  ...  Negative\n",
              "\n",
              "[5 rows x 5 columns]"
            ]
          },
          "metadata": {},
          "execution_count": 8
        }
      ]
    },
    {
      "cell_type": "code",
      "metadata": {
        "execution": {
          "iopub.status.busy": "2021-10-25T04:15:02.170356Z",
          "iopub.execute_input": "2021-10-25T04:15:02.171005Z",
          "iopub.status.idle": "2021-10-25T04:15:02.185733Z",
          "shell.execute_reply.started": "2021-10-25T04:15:02.170962Z",
          "shell.execute_reply": "2021-10-25T04:15:02.184975Z"
        },
        "trusted": true,
        "colab": {
          "base_uri": "https://localhost:8080/",
          "height": 206
        },
        "id": "DdcqYfgU4kBK",
        "outputId": "00702901-3d35-4719-f759-1fbb6b82a5db"
      },
      "source": [
        "df = pd.concat([normal_df[['FILE NAME', 'TARGET']], \n",
        "                covid_df[['FILE NAME','TARGET']]], ignore_index=True)\n",
        "df.head()"
      ],
      "execution_count": 9,
      "outputs": [
        {
          "output_type": "execute_result",
          "data": {
            "text/html": [
              "<div>\n",
              "<style scoped>\n",
              "    .dataframe tbody tr th:only-of-type {\n",
              "        vertical-align: middle;\n",
              "    }\n",
              "\n",
              "    .dataframe tbody tr th {\n",
              "        vertical-align: top;\n",
              "    }\n",
              "\n",
              "    .dataframe thead th {\n",
              "        text-align: right;\n",
              "    }\n",
              "</style>\n",
              "<table border=\"1\" class=\"dataframe\">\n",
              "  <thead>\n",
              "    <tr style=\"text-align: right;\">\n",
              "      <th></th>\n",
              "      <th>FILE NAME</th>\n",
              "      <th>TARGET</th>\n",
              "    </tr>\n",
              "  </thead>\n",
              "  <tbody>\n",
              "    <tr>\n",
              "      <th>0</th>\n",
              "      <td>Normal/Normal-1.png</td>\n",
              "      <td>Negative</td>\n",
              "    </tr>\n",
              "    <tr>\n",
              "      <th>1</th>\n",
              "      <td>Normal/Normal-2.png</td>\n",
              "      <td>Negative</td>\n",
              "    </tr>\n",
              "    <tr>\n",
              "      <th>2</th>\n",
              "      <td>Normal/Normal-3.png</td>\n",
              "      <td>Negative</td>\n",
              "    </tr>\n",
              "    <tr>\n",
              "      <th>3</th>\n",
              "      <td>Normal/Normal-4.png</td>\n",
              "      <td>Negative</td>\n",
              "    </tr>\n",
              "    <tr>\n",
              "      <th>4</th>\n",
              "      <td>Normal/Normal-5.png</td>\n",
              "      <td>Negative</td>\n",
              "    </tr>\n",
              "  </tbody>\n",
              "</table>\n",
              "</div>"
            ],
            "text/plain": [
              "             FILE NAME    TARGET\n",
              "0  Normal/Normal-1.png  Negative\n",
              "1  Normal/Normal-2.png  Negative\n",
              "2  Normal/Normal-3.png  Negative\n",
              "3  Normal/Normal-4.png  Negative\n",
              "4  Normal/Normal-5.png  Negative"
            ]
          },
          "metadata": {},
          "execution_count": 9
        }
      ]
    },
    {
      "cell_type": "code",
      "metadata": {
        "execution": {
          "iopub.status.busy": "2021-10-25T04:15:03.966429Z",
          "iopub.execute_input": "2021-10-25T04:15:03.966974Z",
          "iopub.status.idle": "2021-10-25T04:15:03.99673Z",
          "shell.execute_reply.started": "2021-10-25T04:15:03.966936Z",
          "shell.execute_reply": "2021-10-25T04:15:03.995976Z"
        },
        "trusted": true,
        "colab": {
          "base_uri": "https://localhost:8080/"
        },
        "id": "HHorZqv24kBL",
        "outputId": "ca236d0f-62f7-4c28-96e6-a792f6ab2dd5"
      },
      "source": [
        "train, test = train_test_split(df, test_size=0.2, stratify=df['TARGET'], random_state=42)\n",
        "print(train.shape)\n",
        "print(test.shape)"
      ],
      "execution_count": 10,
      "outputs": [
        {
          "output_type": "stream",
          "name": "stdout",
          "text": [
            "(11046, 2)\n",
            "(2762, 2)\n"
          ]
        }
      ]
    },
    {
      "cell_type": "code",
      "metadata": {
        "execution": {
          "iopub.status.busy": "2021-10-25T04:15:05.772597Z",
          "iopub.execute_input": "2021-10-25T04:15:05.773386Z",
          "iopub.status.idle": "2021-10-25T04:15:05.796834Z",
          "shell.execute_reply.started": "2021-10-25T04:15:05.773332Z",
          "shell.execute_reply": "2021-10-25T04:15:05.796102Z"
        },
        "trusted": true,
        "colab": {
          "base_uri": "https://localhost:8080/"
        },
        "id": "z-zNiSs_4kBN",
        "outputId": "acc3781a-85ba-4827-f04f-c45da7b1fe5f"
      },
      "source": [
        "train_df, valid_df = train_test_split(train, test_size=0.2, stratify=train['TARGET'], random_state=42)\n",
        "print(train_df.shape)\n",
        "print(valid_df.shape)"
      ],
      "execution_count": 11,
      "outputs": [
        {
          "output_type": "stream",
          "name": "stdout",
          "text": [
            "(8836, 2)\n",
            "(2210, 2)\n"
          ]
        }
      ]
    },
    {
      "cell_type": "code",
      "metadata": {
        "execution": {
          "iopub.status.busy": "2021-10-25T04:15:12.196233Z",
          "iopub.execute_input": "2021-10-25T04:15:12.196575Z",
          "iopub.status.idle": "2021-10-25T04:15:24.702844Z",
          "shell.execute_reply.started": "2021-10-25T04:15:12.196537Z",
          "shell.execute_reply": "2021-10-25T04:15:24.702092Z"
        },
        "trusted": true,
        "colab": {
          "base_uri": "https://localhost:8080/"
        },
        "id": "fyb3W_jl4kBO",
        "outputId": "bb1438f2-3ed9-4d83-fb51-6064ec8b7687"
      },
      "source": [
        "DATA_DIR = \"/content/COVID-19_Radiography_Dataset\"\n",
        "IMAGE_SIZE = (512, 512)\n",
        "\n",
        "non_aug_gen = ImageDataGenerator(rescale=1/255.)\n",
        "aug_gen = ImageDataGenerator(\n",
        "    rescale=1./255,\n",
        "    width_shift_range=0.15,\n",
        "    height_shift_range=0.15,\n",
        "    zoom_range=[0.9, 1.25],\n",
        "    brightness_range=[0.5, 1.5]\n",
        ")\n",
        "\n",
        "aug_train = aug_gen.flow_from_dataframe(\n",
        "    dataframe=train_df,\n",
        "    directory=DATA_DIR,\n",
        "    x_col='FILE NAME',\n",
        "    y_col='TARGET',\n",
        "    target_size=IMAGE_SIZE,\n",
        "    batch_size=32,\n",
        "    class_mode='binary', \n",
        "    color_mode='rgb',\n",
        "    shuffle=True\n",
        ")\n",
        "\n",
        "non_aug_valid = non_aug_gen.flow_from_dataframe(\n",
        "    dataframe=valid_df,\n",
        "    directory=DATA_DIR,\n",
        "    x_col='FILE NAME',\n",
        "    y_col='TARGET',\n",
        "    target_size=IMAGE_SIZE,\n",
        "    batch_size=32,\n",
        "    class_mode='binary', \n",
        "    color_mode='rgb',\n",
        "    shuffle=True\n",
        ")\n",
        "\n",
        "test_valid_gen = non_aug_gen.flow_from_dataframe(\n",
        "    dataframe=valid_df,\n",
        "    directory=DATA_DIR,\n",
        "    x_col='FILE NAME',\n",
        "    y_col='TARGET',\n",
        "    target_size=IMAGE_SIZE,\n",
        "    batch_size=32,\n",
        "    class_mode='binary', \n",
        "    color_mode='rgb',\n",
        "    shuffle=False\n",
        ")\n",
        "\n",
        "test_test_gen = non_aug_gen.flow_from_dataframe(\n",
        "    dataframe=test,\n",
        "    directory=DATA_DIR,\n",
        "    x_col='FILE NAME',\n",
        "    y_col='TARGET',\n",
        "    target_size=IMAGE_SIZE,\n",
        "    batch_size=32,\n",
        "    class_mode='binary', \n",
        "    color_mode='rgb',\n",
        "    shuffle=False\n",
        ")"
      ],
      "execution_count": 12,
      "outputs": [
        {
          "output_type": "stream",
          "name": "stdout",
          "text": [
            "Found 8836 validated image filenames belonging to 2 classes.\n",
            "Found 2210 validated image filenames belonging to 2 classes.\n",
            "Found 2210 validated image filenames belonging to 2 classes.\n",
            "Found 2762 validated image filenames belonging to 2 classes.\n"
          ]
        }
      ]
    },
    {
      "cell_type": "code",
      "metadata": {
        "execution": {
          "iopub.status.busy": "2021-10-25T04:48:36.326775Z",
          "iopub.execute_input": "2021-10-25T04:48:36.327311Z",
          "iopub.status.idle": "2021-10-25T04:48:36.331779Z",
          "shell.execute_reply.started": "2021-10-25T04:48:36.327259Z",
          "shell.execute_reply": "2021-10-25T04:48:36.331067Z"
        },
        "trusted": true,
        "id": "cAm62Uci4kBR",
        "colab": {
          "base_uri": "https://localhost:8080/"
        },
        "outputId": "8708bb89-39d9-4a89-bc61-fe45c773a0e1"
      },
      "source": [
        "# Add reduced LR to callbacks\n",
        "reduce_lr = tf.keras.callbacks.ReduceLROnPlateau(monitor=\"val_loss\",  \n",
        "                                                 factor=0.2, # multiply the learning rate by 0.2 (reduce by 5x)\n",
        "                                                 patience=4,\n",
        "                                                 verbose=1, # print out when learning rate goes down \n",
        "                                                 min_lr=1e-7)\n",
        "\n",
        "checkpoint = tf.keras.callbacks.ModelCheckpoint('model_.h5', save_best_only=True, monitor='val_loss', mode=min)"
      ],
      "execution_count": 13,
      "outputs": [
        {
          "output_type": "stream",
          "name": "stdout",
          "text": [
            "WARNING:tensorflow:ModelCheckpoint mode <built-in function min> is unknown, fallback to auto mode.\n"
          ]
        }
      ]
    },
    {
      "cell_type": "markdown",
      "source": [
        "# EfficientNetV2-XL"
      ],
      "metadata": {
        "id": "WNsY4fUijrGH"
      }
    },
    {
      "cell_type": "code",
      "source": [
        "efficientnet_url = 'https://tfhub.dev/google/imagenet/efficientnet_v2_imagenet21k_ft1k_xl/feature_vector/2'"
      ],
      "metadata": {
        "id": "Oz_HOPKAjtDk"
      },
      "execution_count": 14,
      "outputs": []
    },
    {
      "cell_type": "code",
      "metadata": {
        "execution": {
          "iopub.status.busy": "2021-10-25T04:31:24.860049Z",
          "iopub.execute_input": "2021-10-25T04:31:24.860652Z",
          "iopub.status.idle": "2021-10-25T04:31:24.870773Z",
          "shell.execute_reply.started": "2021-10-25T04:31:24.860607Z",
          "shell.execute_reply": "2021-10-25T04:31:24.870028Z"
        },
        "trusted": true,
        "id": "SsjeEcAu4kBQ"
      },
      "source": [
        "def create_model(model_url, num_classes=1):\n",
        "    \"\"\"Takes a TensorFlow Hub URL and creates a Keras Sequential model with it.\n",
        "\n",
        "    Args:\n",
        "    model_url (str): A TensorFlow Hub feature extraction URL.\n",
        "    num_classes (int): Number of output neurons in output layer,\n",
        "    should be equal to number of target classes, default 10.\n",
        "\n",
        "    Returns:\n",
        "    An uncompiled Keras Sequential model with model_url as feature\n",
        "    extractor layer and Dense output layer with num_classes outputs.\n",
        "    \"\"\"\n",
        "    # Download the pretrained model and save it as a Keras layer\n",
        "    feature_extractor_layer = hub.KerasLayer(model_url,\n",
        "                                          trainable=False, # freeze the underlying patterns\n",
        "                                          name='feature_extraction_layer',\n",
        "                                          input_shape=(512, 512, 3,)) # define the input image shape\n",
        "\n",
        "    # Create our own model\n",
        "    model = tf.keras.Sequential([\n",
        "    feature_extractor_layer, # use the feature extraction layer as the base\n",
        "    layers.Dense(num_classes, activation='sigmoid', name='output_layer') # create our own output layer      \n",
        "    ])\n",
        "\n",
        "    return model"
      ],
      "execution_count": 15,
      "outputs": []
    },
    {
      "cell_type": "code",
      "source": [
        "tf.random.set_seed(42)\n",
        "\n",
        "metrics = [\n",
        "    keras.metrics.TruePositives(name='tp'),\n",
        "    keras.metrics.FalsePositives(name='fp'),\n",
        "    keras.metrics.TrueNegatives(name='tn'),\n",
        "    keras.metrics.FalseNegatives(name='fn'), \n",
        "    'accuracy',\n",
        "    keras.metrics.Precision(name='precision'),\n",
        "    keras.metrics.Recall(name='recall'),\n",
        "    keras.metrics.AUC(name='auc', curve='ROC')\n",
        "]\n",
        "\n",
        "# Build model\n",
        "model_efficientnet = create_model(efficientnet_url)\n",
        "\n",
        "# Compile model\n",
        "model_efficientnet.compile(loss='binary_crossentropy',\n",
        "                           optimizer=Adam(),\n",
        "                           metrics=metrics)"
      ],
      "metadata": {
        "id": "SbB5IklNj41l"
      },
      "execution_count": 16,
      "outputs": []
    },
    {
      "cell_type": "code",
      "source": [
        "model_efficientnet.summary()"
      ],
      "metadata": {
        "colab": {
          "base_uri": "https://localhost:8080/"
        },
        "id": "6sqZh23blFUa",
        "outputId": "749b8594-8d4d-4f34-e680-12271fff733f"
      },
      "execution_count": 17,
      "outputs": [
        {
          "output_type": "stream",
          "name": "stdout",
          "text": [
            "Model: \"sequential\"\n",
            "_________________________________________________________________\n",
            " Layer (type)                Output Shape              Param #   \n",
            "=================================================================\n",
            " feature_extraction_layer (K  (None, 1280)             207615832 \n",
            " erasLayer)                                                      \n",
            "                                                                 \n",
            " output_layer (Dense)        (None, 1)                 1281      \n",
            "                                                                 \n",
            "=================================================================\n",
            "Total params: 207,617,113\n",
            "Trainable params: 1,281\n",
            "Non-trainable params: 207,615,832\n",
            "_________________________________________________________________\n"
          ]
        }
      ]
    },
    {
      "cell_type": "code",
      "source": [
        "# Train the model\n",
        "history_efficientnet = model_efficientnet.fit(aug_train, epochs=3,\n",
        "                                              validation_data=non_aug_valid,\n",
        "                                              steps_per_epoch=len(aug_train),\n",
        "                                              validation_steps=len(non_aug_valid),\n",
        "                                              callbacks=[reduce_lr, checkpoint])\n",
        "\n",
        "np.save('history_efficientnet.npy', history_efficientnet.history)"
      ],
      "metadata": {
        "colab": {
          "base_uri": "https://localhost:8080/"
        },
        "id": "Cv9-ZygCkVAQ",
        "outputId": "c9c4909f-c693-429d-8209-ca219038c2c8"
      },
      "execution_count": 19,
      "outputs": [
        {
          "output_type": "stream",
          "name": "stdout",
          "text": [
            "Epoch 1/3\n",
            "277/277 [==============================] - 1924s 7s/step - loss: 0.3378 - tp: 1278.0000 - fp: 202.0000 - tn: 6320.0000 - fn: 1036.0000 - accuracy: 0.8599 - precision: 0.8635 - recall: 0.5523 - auc: 0.9117 - val_loss: 0.2450 - val_tp: 368.0000 - val_fp: 23.0000 - val_tn: 1608.0000 - val_fn: 211.0000 - val_accuracy: 0.8941 - val_precision: 0.9412 - val_recall: 0.6356 - val_auc: 0.9637 - lr: 0.0010\n",
            "Epoch 2/3\n",
            "277/277 [==============================] - 1898s 7s/step - loss: 0.2442 - tp: 1669.0000 - fp: 184.0000 - tn: 6338.0000 - fn: 645.0000 - accuracy: 0.9062 - precision: 0.9007 - recall: 0.7213 - auc: 0.9545 - val_loss: 0.2104 - val_tp: 396.0000 - val_fp: 14.0000 - val_tn: 1617.0000 - val_fn: 183.0000 - val_accuracy: 0.9109 - val_precision: 0.9659 - val_recall: 0.6839 - val_auc: 0.9750 - lr: 0.0010\n",
            "Epoch 3/3\n",
            "277/277 [==============================] - 1880s 7s/step - loss: 0.2105 - tp: 1774.0000 - fp: 168.0000 - tn: 6354.0000 - fn: 540.0000 - accuracy: 0.9199 - precision: 0.9135 - recall: 0.7666 - auc: 0.9671 - val_loss: 0.1781 - val_tp: 459.0000 - val_fp: 24.0000 - val_tn: 1607.0000 - val_fn: 120.0000 - val_accuracy: 0.9348 - val_precision: 0.9503 - val_recall: 0.7927 - val_auc: 0.9784 - lr: 0.0010\n"
          ]
        }
      ]
    },
    {
      "cell_type": "markdown",
      "source": [
        "# Coba load history file & model file"
      ],
      "metadata": {
        "id": "hJaBAORLK7oC"
      }
    },
    {
      "cell_type": "code",
      "source": [
        "history_test = np.load('history_efficientnet.npy', allow_pickle='TRUE').item()\n",
        "history_test"
      ],
      "metadata": {
        "colab": {
          "base_uri": "https://localhost:8080/"
        },
        "id": "3ia-AR8gKu0s",
        "outputId": "9328954b-4191-4a9e-9cac-5fafb6385460"
      },
      "execution_count": 25,
      "outputs": [
        {
          "output_type": "execute_result",
          "data": {
            "text/plain": [
              "{'accuracy': [0.8598913550376892, 0.9061792492866516, 0.9198732376098633],\n",
              " 'auc': [0.9117060303688049, 0.9545187950134277, 0.9670813679695129],\n",
              " 'fn': [1036.0, 645.0, 540.0],\n",
              " 'fp': [202.0, 184.0, 168.0],\n",
              " 'loss': [0.3377688527107239, 0.24416062235832214, 0.21054047346115112],\n",
              " 'lr': [0.001, 0.001, 0.001],\n",
              " 'precision': [0.8635135293006897, 0.9007015824317932, 0.9134912490844727],\n",
              " 'recall': [0.5522903800010681, 0.7212618589401245, 0.7666378617286682],\n",
              " 'tn': [6320.0, 6338.0, 6354.0],\n",
              " 'tp': [1278.0, 1669.0, 1774.0],\n",
              " 'val_accuracy': [0.8941176533699036, 0.9108597040176392, 0.9348416328430176],\n",
              " 'val_auc': [0.9636924266815186, 0.9749817252159119, 0.9783760905265808],\n",
              " 'val_fn': [211.0, 183.0, 120.0],\n",
              " 'val_fp': [23.0, 14.0, 24.0],\n",
              " 'val_loss': [0.24498014152050018, 0.21038883924484253, 0.17811089754104614],\n",
              " 'val_precision': [0.9411764740943909, 0.9658536314964294, 0.9503105878829956],\n",
              " 'val_recall': [0.6355785727500916, 0.6839378476142883, 0.7927461266517639],\n",
              " 'val_tn': [1608.0, 1617.0, 1607.0],\n",
              " 'val_tp': [368.0, 396.0, 459.0]}"
            ]
          },
          "metadata": {},
          "execution_count": 25
        }
      ]
    },
    {
      "cell_type": "code",
      "source": [
        "model_test = load_model('model_.h5', compile=False, custom_objects={'KerasLayer': hub.KerasLayer})\n",
        "model_test.predict(test_test_gen)"
      ],
      "metadata": {
        "colab": {
          "base_uri": "https://localhost:8080/"
        },
        "id": "NPNXvBS3CL3A",
        "outputId": "87b6d1b6-b5d4-44c9-ae5a-b5d6e57f91a9"
      },
      "execution_count": 23,
      "outputs": [
        {
          "output_type": "execute_result",
          "data": {
            "text/plain": [
              "array([[0.32656237],\n",
              "       [0.17349021],\n",
              "       [0.06400581],\n",
              "       ...,\n",
              "       [0.01621835],\n",
              "       [0.2652475 ],\n",
              "       [0.01887699]], dtype=float32)"
            ]
          },
          "metadata": {},
          "execution_count": 23
        }
      ]
    }
  ]
}